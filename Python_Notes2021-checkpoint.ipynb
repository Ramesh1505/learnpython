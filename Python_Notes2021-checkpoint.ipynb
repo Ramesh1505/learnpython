{
 "cells": [
  {
   "cell_type": "code",
   "execution_count": 7,
   "metadata": {},
   "outputs": [
    {
     "name": "stdout",
     "output_type": "stream",
     "text": [
      "1\n",
      "2\n",
      "3\n"
     ]
    }
   ],
   "source": [
    "# Iter and next \n",
    "num = [1,2,3]\n",
    "\n",
    "i_nums = iter(nums)\n",
    "\n",
    "print(next(i_nums))\n",
    "print(next(i_nums))\n",
    "print(next(i_nums))"
   ]
  },
  {
   "cell_type": "code",
   "execution_count": 7,
   "metadata": {
    "scrolled": true
   },
   "outputs": [
    {
     "name": "stdout",
     "output_type": "stream",
     "text": [
      "['__doc__', '__loader__', '__name__', '__package__', '__spec__', 'acos', 'acosh', 'asin', 'asinh', 'atan', 'atan2', 'atanh', 'ceil', 'comb', 'copysign', 'cos', 'cosh', 'degrees', 'dist', 'e', 'erf', 'erfc', 'exp', 'expm1', 'fabs', 'factorial', 'floor', 'fmod', 'frexp', 'fsum', 'gamma', 'gcd', 'hypot', 'inf', 'isclose', 'isfinite', 'isinf', 'isnan', 'isqrt', 'lcm', 'ldexp', 'lgamma', 'log', 'log10', 'log1p', 'log2', 'modf', 'nan', 'nextafter', 'perm', 'pi', 'pow', 'prod', 'radians', 'remainder', 'sin', 'sinh', 'sqrt', 'tan', 'tanh', 'tau', 'trunc', 'ulp']\n"
     ]
    }
   ],
   "source": [
    "import math            # Imports the math module\n",
    "everything = dir(math) # Sets everything to a list of things from math\n",
    "print(everything)       # Prints 'em all!"
   ]
  },
  {
   "cell_type": "code",
   "execution_count": 12,
   "metadata": {},
   "outputs": [
    {
     "name": "stdout",
     "output_type": "stream",
     "text": [
      "True\n",
      "True\n",
      "False\n"
     ]
    }
   ],
   "source": [
    "## to check its a word : isalpha() \n",
    "Name = \"Ramesh\"\n",
    "print(Name.isalpha())\n",
    "\n",
    "x = '9943'\n",
    "print(x.isalnum())\n",
    "print(x.isalpha())"
   ]
  },
  {
   "cell_type": "code",
   "execution_count": 14,
   "metadata": {},
   "outputs": [
    {
     "name": "stdout",
     "output_type": "stream",
     "text": [
      "10\n",
      "-10\n",
      "10\n"
     ]
    },
    {
     "data": {
      "text/plain": [
       "10"
      ]
     },
     "execution_count": 14,
     "metadata": {},
     "output_type": "execute_result"
    }
   ],
   "source": [
    "def biggest_number(*args):     # to pass many argument\n",
    "    print(max(args))\n",
    "    return max(args)\n",
    "    \n",
    "def smallest_number(*args):\n",
    "    print(min(args))\n",
    "    return min(args)\n",
    "\n",
    "def distance_from_zero(arg):\n",
    "    print(abs(arg))\n",
    "    return abs(arg)\n",
    "\n",
    "biggest_number(-10, -5, 5, 10)\n",
    "smallest_number(-10, -5, 5, 10)\n",
    "distance_from_zero(-10)"
   ]
  },
  {
   "cell_type": "code",
   "execution_count": null,
   "metadata": {},
   "outputs": [],
   "source": [
    "# usage of map and print the output in same line\n",
    "import itertools\n",
    "\n",
    "# A = [1, 2]\n",
    "# B = [3, 4]\n",
    "A = map(int, input().split())    ## take the input and map into integer\n",
    "B = map(int, input().split())\n",
    "result = itertools.product(A,B)\n",
    "\n",
    "for item in result:\n",
    "    print(item, end=\" \") # print the output in the same line separated with comma, by default end will have '\\n' i.e., end ='\\n'"
   ]
  },
  {
   "cell_type": "code",
   "execution_count": 1,
   "metadata": {},
   "outputs": [
    {
     "name": "stdout",
     "output_type": "stream",
     "text": [
      "RAMESH 2\n",
      "RA\n",
      "RM\n",
      "RE\n",
      "RS\n",
      "RH\n",
      "AR\n",
      "AM\n",
      "AE\n",
      "AS\n",
      "AH\n",
      "MR\n",
      "MA\n",
      "ME\n",
      "MS\n",
      "MH\n",
      "ER\n",
      "EA\n",
      "EM\n",
      "ES\n",
      "EH\n",
      "SR\n",
      "SA\n",
      "SM\n",
      "SE\n",
      "SH\n",
      "HR\n",
      "HA\n",
      "HM\n",
      "HE\n",
      "HS\n"
     ]
    }
   ],
   "source": [
    "import itertools\n",
    "\n",
    "S,k = input().split()\n",
    "# print(k)\n",
    "result = itertools.permutations(S,int(k))\n",
    "\n",
    "for item in result:\n",
    "    print(\"\".join(item))"
   ]
  },
  {
   "cell_type": "code",
   "execution_count": 1,
   "metadata": {},
   "outputs": [
    {
     "name": "stdout",
     "output_type": "stream",
     "text": [
      "5454b6511ee3cb44c46a5\n",
      "95022524-91a1-b1058b169e97\n"
     ]
    }
   ],
   "source": [
    "## regEx basics\n",
    "import re\n",
    "path = \"GET /sdc/v2/common/token?access_token=5454b6511ee3cb44c46a5&device_id=urn:uuid:95022524-91a1-b1058b169e97 HTTP/1.1\"\n",
    "\n",
    "pattern = re.search(r\"(\\w*)access_token=(\\w+)&device_id=urn:uuid:(.*) HTTP\\/1.1\", path)\n",
    "\n",
    "print(pattern.group(2))\n",
    "print(pattern.group(3))"
   ]
  },
  {
   "cell_type": "code",
   "execution_count": 6,
   "metadata": {},
   "outputs": [
    {
     "name": "stdout",
     "output_type": "stream",
     "text": [
      "Your choices are:\n",
      "1 pizza\n",
      "2 pasta\n",
      "3 salad\n",
      "4 nachos\n"
     ]
    }
   ],
   "source": [
    "\"\"\" enumerate works by supplying a corresponding index to each element in the list \n",
    "that you pass it. Each time you go through the loop, index will be one greater, \n",
    "and item will be the next item in the sequence. It's very similar to using a normal for\n",
    " loop with a list, except this gives us an easy way to count how many items we've seen \n",
    " so far. \"\"\"\n",
    " \n",
    "choices = ['pizza', 'pasta', 'salad', 'nachos']\n",
    "\n",
    "print('Your choices are:')\n",
    "for index, item in enumerate(choices):   # enumerate prints with index. \n",
    "    print(index+1, item)\n",
    "\n",
    "# Each time you go through the loop, index will be one greater, \n",
    "# and item will be the next item in the sequence"
   ]
  },
  {
   "cell_type": "code",
   "execution_count": 1,
   "metadata": {},
   "outputs": [
    {
     "name": "stdout",
     "output_type": "stream",
     "text": [
      "1\n",
      "2.3\n",
      "8\n",
      "9\n"
     ]
    }
   ],
   "source": [
    "''' Python provides a general purpose HOP, map\n",
    "simple form - a unary function and a collection of suitable arguments.\n",
    "\n",
    "map(function, sequence)\n",
    "for example: map(abs, [-1, -2.3, 8, -9])\n",
    "\n",
    "It produces an 'iterable' ...so we need to walk down it. '''\n",
    "\n",
    "for i in map(abs, [-1, -2.3, 8, -9]):\n",
    "    print(i)"
   ]
  },
  {
   "cell_type": "markdown",
   "metadata": {},
   "source": [
    "# import os"
   ]
  },
  {
   "cell_type": "code",
   "execution_count": 1,
   "metadata": {},
   "outputs": [
    {
     "data": {
      "text/plain": [
       "environ{'ALLUSERSPROFILE': 'C:\\\\ProgramData',\n",
       "        'APPDATA': 'C:\\\\Users\\\\rsundaram\\\\AppData\\\\Roaming',\n",
       "        'COMMONPROGRAMFILES': 'C:\\\\Program Files\\\\Common Files',\n",
       "        'COMMONPROGRAMFILES(X86)': 'C:\\\\Program Files (x86)\\\\Common Files',\n",
       "        'COMMONPROGRAMW6432': 'C:\\\\Program Files\\\\Common Files',\n",
       "        'COMPUTERNAME': 'IN-PF29JNM5',\n",
       "        'COMSPEC': 'C:\\\\windows\\\\system32\\\\cmd.exe',\n",
       "        'DRIVERDATA': 'C:\\\\Windows\\\\System32\\\\Drivers\\\\DriverData',\n",
       "        'FPS_BROWSER_APP_PROFILE_STRING': 'Internet Explorer',\n",
       "        'FPS_BROWSER_USER_PROFILE_STRING': 'Default',\n",
       "        'HOMEDRIVE': 'C:',\n",
       "        'HOMEPATH': '\\\\Users\\\\rsundaram',\n",
       "        'LOCALAPPDATA': 'C:\\\\Users\\\\rsundaram\\\\AppData\\\\Local',\n",
       "        'LOGONSERVER': '\\\\\\\\US-DLS-DC01',\n",
       "        'NUMBER_OF_PROCESSORS': '8',\n",
       "        'ONEDRIVE': 'D:\\\\OneDrive - Mavenir Ltd',\n",
       "        'ONEDRIVECOMMERCIAL': 'D:\\\\OneDrive - Mavenir Ltd',\n",
       "        'OS': 'Windows_NT',\n",
       "        'PATH': 'C:\\\\Program Files (x86)\\\\Common Files\\\\NetSarang;C:\\\\windows\\\\system32;C:\\\\windows;C:\\\\windows\\\\System32\\\\Wbem;C:\\\\windows\\\\System32\\\\WindowsPowerShell\\\\v1.0\\\\;C:\\\\windows\\\\System32\\\\OpenSSH\\\\;C:\\\\Program Files\\\\Intel\\\\WiFi\\\\bin\\\\;C:\\\\Program Files\\\\Common Files\\\\Intel\\\\WirelessCommon\\\\;C:\\\\Program Files\\\\PuTTY\\\\;C:\\\\Program Files (x86)\\\\Symantec\\\\VIP Access Client\\\\;C:\\\\Program Files\\\\dotnet\\\\;C:\\\\Users\\\\rsundaram\\\\AppData\\\\Local\\\\Microsoft\\\\WindowsApps;C:\\\\Program Files\\\\JetBrains\\\\PyCharm Community Edition 2020.3\\\\bin;\"C:\\\\Users\\\\rsundaram\\\\AppData\\\\Local\\\\Programs\\\\Python\\\\Python39;C:\\\\Users\\\\rsundaram\\\\AppData\\\\Local\\\\Programs\\\\Python\\\\Python39\\\\Scripts\";C:\\\\Users\\\\rsundaram\\\\AppData\\\\Local\\\\Programs\\\\Python\\\\Python39\\\\Scripts;C:\\\\Users\\\\rsundaram\\\\AppData\\\\Local\\\\Programs\\\\Microsoft VS Code\\\\bin',\n",
       "        'PATHEXT': '.COM;.EXE;.BAT;.CMD;.VBS;.VBE;.JS;.JSE;.WSF;.WSH;.MSC',\n",
       "        'PROCESSOR_ARCHITECTURE': 'AMD64',\n",
       "        'PROCESSOR_IDENTIFIER': 'AMD64 Family 23 Model 24 Stepping 1, AuthenticAMD',\n",
       "        'PROCESSOR_LEVEL': '23',\n",
       "        'PROCESSOR_REVISION': '1801',\n",
       "        'PROGRAMDATA': 'C:\\\\ProgramData',\n",
       "        'PROGRAMFILES': 'C:\\\\Program Files',\n",
       "        'PROGRAMFILES(X86)': 'C:\\\\Program Files (x86)',\n",
       "        'PROGRAMW6432': 'C:\\\\Program Files',\n",
       "        'PROMPT': '$P$G',\n",
       "        'PSMODULEPATH': 'C:\\\\Program Files\\\\WindowsPowerShell\\\\Modules;C:\\\\windows\\\\system32\\\\WindowsPowerShell\\\\v1.0\\\\Modules',\n",
       "        'PUBLIC': 'C:\\\\Users\\\\Public',\n",
       "        'PYCHARM COMMUNITY EDITION': 'C:\\\\Program Files\\\\JetBrains\\\\PyCharm Community Edition 2020.3\\\\bin;',\n",
       "        'SESSIONNAME': 'Console',\n",
       "        'SYSTEMDRIVE': 'C:',\n",
       "        'SYSTEMROOT': 'C:\\\\windows',\n",
       "        'TEMP': 'C:\\\\Users\\\\RSUNDA~1\\\\AppData\\\\Local\\\\Temp',\n",
       "        'TMP': 'C:\\\\Users\\\\RSUNDA~1\\\\AppData\\\\Local\\\\Temp',\n",
       "        'USERDNSDOMAIN': 'INTINFRA.COM',\n",
       "        'USERDOMAIN': 'INTINFRA',\n",
       "        'USERDOMAIN_ROAMINGPROFILE': 'INTINFRA',\n",
       "        'USERNAME': 'rsundaram',\n",
       "        'USERPROFILE': 'C:\\\\Users\\\\rsundaram',\n",
       "        'VBOX_MSI_INSTALL_PATH': 'C:\\\\Program Files\\\\Oracle\\\\VirtualBox\\\\',\n",
       "        'WINDIR': 'C:\\\\windows',\n",
       "        'JPY_INTERRUPT_EVENT': '2876',\n",
       "        'IPY_INTERRUPT_EVENT': '2876',\n",
       "        'JPY_PARENT_PID': '2628',\n",
       "        'TERM': 'xterm-color',\n",
       "        'CLICOLOR': '1',\n",
       "        'PAGER': 'cat',\n",
       "        'GIT_PAGER': 'cat',\n",
       "        'MPLBACKEND': 'module://ipykernel.pylab.backend_inline'}"
      ]
     },
     "execution_count": 1,
     "metadata": {},
     "output_type": "execute_result"
    }
   ],
   "source": [
    "# https://python101.pythonlibrary.org/chapter16_os.html\n",
    "import os\n",
    "os.environ"
   ]
  },
  {
   "cell_type": "code",
   "execution_count": 2,
   "metadata": {},
   "outputs": [
    {
     "data": {
      "text/plain": [
       "'C:\\\\Users\\\\RSUNDA~1\\\\AppData\\\\Local\\\\Temp'"
      ]
     },
     "execution_count": 2,
     "metadata": {},
     "output_type": "execute_result"
    }
   ],
   "source": [
    "os.environ[\"TMP\"]"
   ]
  },
  {
   "cell_type": "code",
   "execution_count": 5,
   "metadata": {},
   "outputs": [
    {
     "data": {
      "text/plain": [
       "'C:\\\\Users\\\\RSUNDA~1\\\\AppData\\\\Local\\\\Temp'"
      ]
     },
     "execution_count": 5,
     "metadata": {},
     "output_type": "execute_result"
    }
   ],
   "source": [
    "os.getenv(\"TMP\")"
   ]
  },
  {
   "cell_type": "code",
   "execution_count": 6,
   "metadata": {},
   "outputs": [],
   "source": [
    "os.getenv(\"Chumma\")\n",
    "\n",
    "## No error returned\n",
    "\n",
    "\"\"\"\n",
    "The benefit of using os.getenv() instead of the os.environ dictionary is that if you happen to try to access an environmental \n",
    "variable that doesn’t exist, the getenv function will just return None.\n",
    "If you did the same thing with os.environ, you would receive an error. \"\"\"\n"
   ]
  },
  {
   "cell_type": "code",
   "execution_count": 7,
   "metadata": {},
   "outputs": [
    {
     "ename": "TypeError",
     "evalue": "'_Environ' object is not callable",
     "output_type": "error",
     "traceback": [
      "\u001b[1;31m---------------------------------------------------------------------------\u001b[0m",
      "\u001b[1;31mTypeError\u001b[0m                                 Traceback (most recent call last)",
      "\u001b[1;32m<ipython-input-7-90626eb0af8f>\u001b[0m in \u001b[0;36m<module>\u001b[1;34m\u001b[0m\n\u001b[1;32m----> 1\u001b[1;33m \u001b[0mos\u001b[0m\u001b[1;33m.\u001b[0m\u001b[0menviron\u001b[0m\u001b[1;33m(\u001b[0m\u001b[1;34m\"Chumma\"\u001b[0m\u001b[1;33m)\u001b[0m\u001b[1;33m\u001b[0m\u001b[1;33m\u001b[0m\u001b[0m\n\u001b[0m",
      "\u001b[1;31mTypeError\u001b[0m: '_Environ' object is not callable"
     ]
    }
   ],
   "source": [
    "os.environ(\"Chumma\")"
   ]
  },
  {
   "cell_type": "code",
   "execution_count": 9,
   "metadata": {},
   "outputs": [
    {
     "data": {
      "text/plain": [
       "'D:\\\\Miscellaneous'"
      ]
     },
     "execution_count": 9,
     "metadata": {},
     "output_type": "execute_result"
    }
   ],
   "source": [
    "os.getcwd()"
   ]
  },
  {
   "cell_type": "code",
   "execution_count": 13,
   "metadata": {},
   "outputs": [
    {
     "data": {
      "text/plain": [
       "<function nt.getcwd()>"
      ]
     },
     "execution_count": 13,
     "metadata": {},
     "output_type": "execute_result"
    }
   ],
   "source": [
    "os.chdir(r\"D:\\sw-ramesh\")\n",
    "os.getcwd"
   ]
  },
  {
   "cell_type": "code",
   "execution_count": 15,
   "metadata": {},
   "outputs": [
    {
     "data": {
      "text/plain": [
       "'D:\\\\sw-ramesh'"
      ]
     },
     "execution_count": 15,
     "metadata": {},
     "output_type": "execute_result"
    }
   ],
   "source": [
    "os.getcwd()"
   ]
  },
  {
   "cell_type": "code",
   "execution_count": 16,
   "metadata": {},
   "outputs": [],
   "source": [
    "os.chdir(r\"C:\\Users\\rsundaram\\Desktop\\temp-folder\")\n",
    "os.mkdir(\"new-folder-create\")"
   ]
  },
  {
   "cell_type": "code",
   "execution_count": 18,
   "metadata": {},
   "outputs": [],
   "source": [
    "\"\"\"The os.makedirs() function will create all the intermediate folders in a path if they don’t already exist. \n",
    "Basically this means that you can create a path that has nested folders in it. \n",
    "Let’s look at an example:\"\"\"\n",
    "\n",
    "path = r\"C:\\Users\\rsundaram\\Desktop\\temp-folder\\pytest\\2021\\12\\08\\11\"\n",
    "os.makedirs(path)\n",
    "\n",
    "# folder got created - C:\\Users\\rsundaram\\Desktop\\temp-folder\\pytest\\2021\\12\\08\\11"
   ]
  },
  {
   "cell_type": "code",
   "execution_count": null,
   "metadata": {},
   "outputs": [],
   "source": [
    "\"\"\"\n",
    "os.remove() and os.rmdir() - The os.remove() and os.rmdir() functions are used for deleting files and directories respectively.\n",
    "\n",
    "os.removedirs() which can remove nested empty directories recursively.\n",
    "\n",
    "os.rename(src, dst) - ex: os.rename(\"test.txt\", \"pytest.txt\")\n",
    "\n",
    "os.startfile() - method allows us to “start” a file with its associated program. In other words, we can open a file with it’s associated program, just like when you double-click a PDF and it opens in Adobe Reader. Let’s give it a try!\n",
    ">>> os.startfile(r'C:\\Users\\mike\\Documents\\labels.pdf')\n",
    "\"\"\""
   ]
  },
  {
   "cell_type": "code",
   "execution_count": 21,
   "metadata": {},
   "outputs": [
    {
     "name": "stdout",
     "output_type": "stream",
     "text": [
      "C:\\Users\\rsundaram\\Desktop\\temp-folder\n",
      "C:\\Users\\rsundaram\\Desktop\\temp-folder\\new-folder-create\n",
      "C:\\Users\\rsundaram\\Desktop\\temp-folder\\pytest\n",
      "C:\\Users\\rsundaram\\Desktop\\temp-folder\\pytest\\2021\n",
      "C:\\Users\\rsundaram\\Desktop\\temp-folder\\pytest\\2021\\12\n",
      "C:\\Users\\rsundaram\\Desktop\\temp-folder\\pytest\\2021\\12\\08\n",
      "C:\\Users\\rsundaram\\Desktop\\temp-folder\\pytest\\2021\\12\\08\\11\n"
     ]
    }
   ],
   "source": [
    "# os.walk\n",
    "\n",
    "path = r\"C:\\Users\\rsundaram\\Desktop\\temp-folder\"\n",
    "\n",
    "for root, dirs, files in os.walk(path):\n",
    "    print(root)"
   ]
  },
  {
   "cell_type": "code",
   "execution_count": null,
   "metadata": {},
   "outputs": [],
   "source": [
    "''' Program to find number of files in the given directory....Asked in plivo'''\n",
    "import os\n",
    "count = 0\n",
    "path = r'C:\\Users\\rsundaram\\Desktop\\pcaps'\n",
    "for files in os.walk(path):\n",
    "    for item in files[-1]:\n",
    "        # print(item)\n",
    "        if item.split('.')[-1] == \"pcap\":\n",
    "            # print(item)\n",
    "            count += 1\n",
    "print('Total number of pcap files in the given directory :', count)"
   ]
  },
  {
   "cell_type": "code",
   "execution_count": 23,
   "metadata": {},
   "outputs": [
    {
     "name": "stdout",
     "output_type": "stream",
     "text": [
      "C:\\Users\\rsundaram\\Desktop\\temp-folder\n",
      "new-folder-create\n",
      "pytest\n",
      "C:\\Users\\rsundaram\\Desktop\\temp-folder\\new-folder-create\n",
      "C:\\Users\\rsundaram\\Desktop\\temp-folder\\pytest\n",
      "2021\n",
      "C:\\Users\\rsundaram\\Desktop\\temp-folder\\pytest\\2021\n",
      "12\n",
      "C:\\Users\\rsundaram\\Desktop\\temp-folder\\pytest\\2021\\12\n",
      "08\n",
      "C:\\Users\\rsundaram\\Desktop\\temp-folder\\pytest\\2021\\12\\08\n",
      "11\n",
      "C:\\Users\\rsundaram\\Desktop\\temp-folder\\pytest\\2021\\12\\08\\11\n",
      "logfile.txt.txt\n"
     ]
    }
   ],
   "source": [
    "path = r\"C:\\Users\\rsundaram\\Desktop\\temp-folder\"\n",
    "\n",
    "for root, dirs, files in os.walk(path):\n",
    "    print(root)\n",
    "    for _dir in dirs:\n",
    "        print(_dir)\n",
    "    for _file in files:\n",
    "        print(_file)"
   ]
  },
  {
   "cell_type": "code",
   "execution_count": 25,
   "metadata": {},
   "outputs": [
    {
     "data": {
      "text/plain": [
       "'logfile.txt.txt'"
      ]
     },
     "execution_count": 25,
     "metadata": {},
     "output_type": "execute_result"
    }
   ],
   "source": [
    "# The basename function will return just the filename of a path.\n",
    "os.path.basename(r'C:\\Users\\rsundaram\\Desktop\\temp-folder\\pytest\\2021\\12\\08\\11\\logfile.txt.txt')"
   ]
  },
  {
   "cell_type": "code",
   "execution_count": 26,
   "metadata": {},
   "outputs": [
    {
     "data": {
      "text/plain": [
       "'C:\\\\Users\\\\rsundaram\\\\Desktop\\\\temp-folder\\\\pytest\\\\2021\\\\12\\\\08\\\\11'"
      ]
     },
     "execution_count": 26,
     "metadata": {},
     "output_type": "execute_result"
    }
   ],
   "source": [
    "\"\"\"The dirname function will return just the directory portion of the path. \n",
    "It’s easier to understand if we take a look at some code \"\"\"\n",
    "\n",
    "os.path.dirname(r'C:\\Users\\rsundaram\\Desktop\\temp-folder\\pytest\\2021\\12\\08\\11\\logfile.txt.txt')\n",
    "\n",
    "\"\"\"In this example, we just get the directory path back. \n",
    "This is also useful when you want to store other files next to the file you’re processing, like the aforementioned log file.\n",
    "\"\"\""
   ]
  },
  {
   "cell_type": "code",
   "execution_count": 27,
   "metadata": {},
   "outputs": [
    {
     "data": {
      "text/plain": [
       "False"
      ]
     },
     "execution_count": 27,
     "metadata": {},
     "output_type": "execute_result"
    }
   ],
   "source": [
    "# The exists function will tell you if a path exists or not. All you have to do is pass it a path.\n",
    "os.path.exists(r'C:\\Python27\\Tools\\pynche\\fake.py')\n"
   ]
  },
  {
   "cell_type": "code",
   "execution_count": 29,
   "metadata": {},
   "outputs": [
    {
     "name": "stdout",
     "output_type": "stream",
     "text": [
      "C:\\Users\\rsundaram\\Desktop\\temp-folder\\pytest\\2021\\12\\08\\11\n",
      "logfile.txt.txt\n"
     ]
    }
   ],
   "source": [
    "# os.path.split  - splitting the directory and path separately\n",
    "dirname, fname = os.path.split(r'C:\\Users\\rsundaram\\Desktop\\temp-folder\\pytest\\2021\\12\\08\\11\\logfile.txt.txt')\n",
    "print(dirname)\n",
    "print(fname)"
   ]
  },
  {
   "cell_type": "code",
   "execution_count": 7,
   "metadata": {},
   "outputs": [
    {
     "name": "stdout",
     "output_type": "stream",
     "text": [
      "abaabaabaa\n",
      "7\n"
     ]
    }
   ],
   "source": [
    "s = 'aba'\n",
    "n = 10\n",
    "\n",
    "temp = (n // len(s))*s + s[:n%len(s)]\n",
    "print(temp)\n",
    "\n",
    "count = temp.count('a')\n",
    "print(count)\n"
   ]
  },
  {
   "cell_type": "code",
   "execution_count": 3,
   "metadata": {},
   "outputs": [
    {
     "data": {
      "text/plain": [
       "[4, 5, 1, 2, 3]"
      ]
     },
     "execution_count": 3,
     "metadata": {},
     "output_type": "execute_result"
    }
   ],
   "source": [
    "# Array rotation samples\n",
    "arr = [1,2,3,4,5]\n",
    "i = 3\n",
    "arr[i:] + arr[:i]"
   ]
  },
  {
   "cell_type": "code",
   "execution_count": 2,
   "metadata": {},
   "outputs": [
    {
     "name": "stdout",
     "output_type": "stream",
     "text": [
      "4 3\n"
     ]
    }
   ],
   "source": [
    "# swap 2 numbers \n",
    "x = 3\n",
    "y = 4\n",
    "\n",
    "x = x ^ y\n",
    "y = x ^ y\n",
    "x = x ^ y\n",
    "\n",
    "print(x,y)"
   ]
  },
  {
   "cell_type": "code",
   "execution_count": 16,
   "metadata": {},
   "outputs": [
    {
     "name": "stdout",
     "output_type": "stream",
     "text": [
      "[1, 3, 3, 4, 5]\n",
      "[1, 3, 3, 3, 5]\n",
      "[1, 3, 3, 3, 5]\n",
      "count: 3\n"
     ]
    }
   ],
   "source": [
    "a = [2,1,5,3,4]\n",
    "b = [1,2,3,4,5]\n",
    "\n",
    "\n",
    "count = 0\n",
    "\n",
    "def do_swap(x,y):\n",
    "    x = x ^ y\n",
    "    y = x ^ y\n",
    "    x = x ^ y\n",
    "    return x,y\n",
    "   \n",
    "for i in range(len(b)-1):\n",
    "    if b[-i] != a[-i]:\n",
    "        x = a.index(b[i])\n",
    "        do_swap(b[i],b[x])\n",
    "        b[i] = x\n",
    "        b[x] = y\n",
    "        print(b)\n",
    "        count +=(x-i)\n",
    "\n",
    "print('count:', count)"
   ]
  },
  {
   "cell_type": "code",
   "execution_count": 3,
   "metadata": {},
   "outputs": [
    {
     "name": "stdout",
     "output_type": "stream",
     "text": [
      "5 4\n"
     ]
    }
   ],
   "source": [
    "x = 4\n",
    "y = 5\n",
    "\n",
    "x,y = y,x\n",
    "print(x,y)"
   ]
  },
  {
   "cell_type": "code",
   "execution_count": 4,
   "metadata": {},
   "outputs": [
    {
     "name": "stdout",
     "output_type": "stream",
     "text": [
      "[0, 1, 2, 3, 4, 5, 6, 7]\n"
     ]
    }
   ],
   "source": [
    "q = [1,2,3,4,5,6,7,8]\n",
    "q = [i-1 for i in q] \n",
    "\n",
    "print(q)"
   ]
  },
  {
   "cell_type": "code",
   "execution_count": 26,
   "metadata": {},
   "outputs": [
    {
     "name": "stdout",
     "output_type": "stream",
     "text": [
      "[2, 3, 1, 4]\n",
      "[2, 1, 3, 4]\n",
      "[2, 1, 3, 4]\n",
      "[2, 1, 3, 4]\n",
      "[1, 2, 3, 4]\n",
      "[1, 2, 3, 4]\n",
      "[1, 2, 3, 4]\n",
      "[1, 2, 3, 4]\n",
      "3\n"
     ]
    }
   ],
   "source": [
    "arr = [4,3,1,2]\n",
    "count = 0\n",
    "\n",
    "arr1 = sorted(arr)\n",
    "# print(arr1)\n",
    "\n",
    "while(arr != arr1):\n",
    "    for i,v in enumerate(arr):\n",
    "        if arr[i] != arr1[i]:\n",
    "            count += 1\n",
    "            arr[i],arr[arr1.index(v)] = arr[arr1.index(v)],arr[i]\n",
    "            \n",
    "        print(arr)\n",
    "    \n",
    "\n",
    "print(count)"
   ]
  },
  {
   "cell_type": "code",
   "execution_count": 21,
   "metadata": {},
   "outputs": [
    {
     "name": "stdout",
     "output_type": "stream",
     "text": [
      "0\n"
     ]
    }
   ],
   "source": [
    "arr = [4,3,1,2]\n",
    "\n",
    "print(arr.index(4))"
   ]
  },
  {
   "cell_type": "code",
   "execution_count": 32,
   "metadata": {},
   "outputs": [
    {
     "name": "stdout",
     "output_type": "stream",
     "text": [
      "[1, 2, 3, 4]\n"
     ]
    }
   ],
   "source": [
    "arr = [4,3,1,2]\n",
    "arr.sort()\n",
    "print(arr)"
   ]
  },
  {
   "cell_type": "markdown",
   "metadata": {},
   "source": [
    "# File Handling Basics"
   ]
  },
  {
   "cell_type": "code",
   "execution_count": 66,
   "metadata": {},
   "outputs": [
    {
     "name": "stdout",
     "output_type": "stream",
     "text": [
      "[['1-Jan', 27.0], ['2-Jan', 31.0], ['3-Jan', 23.0], ['4-Jan', 34.0], ['5-Jan', 37.0], ['6-Jan', 38.0], ['7-Jan', 29.0], ['8-Jan', 30.0], ['9-Jan', 35.0], ['10-Jan', 30.0]]\n"
     ]
    }
   ],
   "source": [
    "tempList = []\n",
    "with open(r'D:\\OneDrive - Mavenir Ltd\\Learning-Training\\scripting\\Sept23\\nyc_weather.csv', 'r') as fp:\n",
    "    for line in fp:\n",
    "        tokens = line.split(',')\n",
    "        day = tokens[0]\n",
    "        temperature = float(tokens[1])\n",
    "        tempList.append([day,temperature])\n",
    "\n",
    "print(tempList)"
   ]
  },
  {
   "cell_type": "code",
   "execution_count": 8,
   "metadata": {},
   "outputs": [],
   "source": [
    "L = [\"Geeks\\n\", \"for\\n\", \"Geeks\\n\"]\n",
    " \n",
    " \n",
    "# Writing to file\n",
    "with open(r\"D:\\OneDrive - Mavenir Ltd\\Learning-Training\\scripting\\myfile.txt\", \"a\") as fp:\n",
    "    fp.writelines(L)"
   ]
  },
  {
   "cell_type": "code",
   "execution_count": 16,
   "metadata": {},
   "outputs": [
    {
     "name": "stdout",
     "output_type": "stream",
     "text": [
      "Geeks\n",
      "for\n",
      "Geeks\n",
      "Geeks\n",
      "for\n",
      "Geeks\n",
      "Geeks\n",
      "for\n",
      "Geeks\n"
     ]
    }
   ],
   "source": [
    "with open(r\"D:\\OneDrive - Mavenir Ltd\\Learning-Training\\scripting\\myfile.txt\", \"r\") as fp:\n",
    "    data = fp.readlines()\n",
    "\n",
    "for line in data:\n",
    "    print(line,end='')"
   ]
  },
  {
   "cell_type": "code",
   "execution_count": 17,
   "metadata": {},
   "outputs": [
    {
     "name": "stdout",
     "output_type": "stream",
     "text": [
      "['Geeks']\n",
      "['for']\n",
      "['Geeks']\n",
      "['Geeks']\n",
      "['for']\n",
      "['Geeks']\n",
      "['Geeks']\n",
      "['for']\n",
      "['Geeks']\n"
     ]
    }
   ],
   "source": [
    "with open(r\"D:\\OneDrive - Mavenir Ltd\\Learning-Training\\scripting\\myfile.txt\", \"r\") as fp:\n",
    "    data = fp.readlines()\n",
    "    \n",
    "    for line in data:\n",
    "        word = line.split()\n",
    "        print(word)"
   ]
  },
  {
   "cell_type": "markdown",
   "metadata": {},
   "source": [
    "# HashMap - Dictionaries in Python - Hash Tables\n",
    "\n",
    "Reference: https://www.youtube.com/watch?v=ea8BRGxGmlA&ab_channel=codebasics"
   ]
  },
  {
   "cell_type": "code",
   "execution_count": 3,
   "metadata": {},
   "outputs": [
    {
     "name": "stdout",
     "output_type": "stream",
     "text": [
      "97\n"
     ]
    }
   ],
   "source": [
    "t = ord('a')  # to find ASCII value\n",
    "print(t)"
   ]
  },
  {
   "cell_type": "code",
   "execution_count": 16,
   "metadata": {},
   "outputs": [
    {
     "data": {
      "text/plain": [
       "130"
      ]
     },
     "execution_count": 16,
     "metadata": {},
     "output_type": "execute_result"
    }
   ],
   "source": [
    "############################## Hash Tables - Basic-1 ###############################\n",
    "class HashTables():\n",
    "    def __init__(self):\n",
    "        self.MAX = 100\n",
    "        self.arr = [None for i in range(self.MAX)]  # create the arr with MAX number of indexes with value None\n",
    "        \n",
    "    def hash_get(self,key):\n",
    "        h = 0\n",
    "        for char in key:\n",
    "            h += ord(char)\n",
    "        return (h%100)\n",
    "    \n",
    "    def add_hash(self,key,value):\n",
    "        h = self.hash_get(key) # to identify the key(index)\n",
    "        self.arr[h] = value\n",
    "        \n",
    "    def get_value(self,key):\n",
    "        h = self.hash_get(key)\n",
    "        return self.arr[h]\n",
    "    \n",
    "t = HashTables()\n",
    "t.hash_get('march 9')  # to identify the index key\n",
    "t.add_hash('march 9',130)\n",
    "\n",
    "\n",
    "t.get_value('march 9')"
   ]
  },
  {
   "cell_type": "code",
   "execution_count": 23,
   "metadata": {},
   "outputs": [
    {
     "data": {
      "text/plain": [
       "130"
      ]
     },
     "execution_count": 23,
     "metadata": {},
     "output_type": "execute_result"
    }
   ],
   "source": [
    "############################## Hash Tables - Basic-2 ###############################\n",
    "class HashTables():\n",
    "    def __init__(self):\n",
    "        self.MAX = 100\n",
    "        self.arr = [None for i in range(self.MAX)]  # create the arr with MAX number of indexes\n",
    "        \n",
    "    def hash_get(self,key):   # !!! - using this hash function, we are finding appropriate index\n",
    "        h = 0\n",
    "        for char in key:\n",
    "            h += ord(char)\n",
    "        return (h%100)\n",
    "    \n",
    "    def __setitem__(self,key,value):    # we can use like this ...predefined functions\n",
    "        h = self.hash_get(key) # to identify the key(index)\n",
    "        self.arr[h] = value\n",
    "        \n",
    "    def __getitem__(self,key):\n",
    "        h = self.hash_get(key)\n",
    "        return self.arr[h]\n",
    "    \n",
    "t = HashTables()\n",
    "t.hash_get('march 9')  # to identify the index key\n",
    "\n",
    "t['march 9'] = 130 # t.add_hash('march 9',130)\n",
    "t['march 9'] # t.get_value('march 9')"
   ]
  },
  {
   "cell_type": "code",
   "execution_count": 56,
   "metadata": {},
   "outputs": [],
   "source": [
    "## https://www.youtube.com/watch?v=54iv1si4YCM&list=PLeo1K3hjS3uu_n_a__MI_KktGTLYopZ12&ab_channel=codebasics\n",
    "############################## Hash Tables - Collision Handling (Chaining ....) ###############################\n",
    "class HashTables():\n",
    "    def __init__(self):\n",
    "        self.MAX = 10\n",
    "        self.arr = [[] for i in range(self.MAX)]  # create the arr with MAX number of indexes\n",
    "        \n",
    "    def hash_get(self,key):   # !!! - using this hash function, we are finding appropriate index\n",
    "        h = 0\n",
    "        for char in key:\n",
    "            h += ord(char)    ## ord function returns unicode from a given character\n",
    "        return (h%10)\n",
    "    \n",
    "    def __setitem__(self,key,value):    # we can use like this ...predefined functions\n",
    "        h = self.hash_get(key) # to identify the key(index)\n",
    "        found = False        \n",
    "        for index,element in enumerate(self.arr[h]):  # If the key is already present, replace with the new value)\n",
    "            if len(element) == 2 and element[0] == key:\n",
    "                self.arr[h][index] = (key,value)\n",
    "                found = True\n",
    "                break\n",
    "        if not found:                               # If the key is not present, Just append the (key,value)\n",
    "            self.arr[h].append((key,value))\n",
    "        \n",
    "    def __getitem__(self,key):\n",
    "        h = self.hash_get(key)\n",
    "        for element in self.arr[h]:\n",
    "            if element[0] == key:\n",
    "                return element[1]\n",
    "            \n",
    "    def __delitem__(self,key):\n",
    "        h = self.hash_get(key)\n",
    "        for index, element in enumerate(self.arr[h]):\n",
    "            if element[0] == key:\n",
    "                del self.arr[h][index]             \n",
    "        "
   ]
  },
  {
   "cell_type": "code",
   "execution_count": 57,
   "metadata": {},
   "outputs": [],
   "source": [
    "t = HashTables()\n",
    "t['march 6'] = 120\n",
    "t['march 6'] = 78\n",
    "t['march 8'] = 67\n",
    "t['march 9'] = 4\n",
    "t['march 17'] = 459\n"
   ]
  },
  {
   "cell_type": "code",
   "execution_count": 58,
   "metadata": {},
   "outputs": [
    {
     "data": {
      "text/plain": [
       "78"
      ]
     },
     "execution_count": 58,
     "metadata": {},
     "output_type": "execute_result"
    }
   ],
   "source": [
    "t['march 6']"
   ]
  },
  {
   "cell_type": "code",
   "execution_count": 59,
   "metadata": {},
   "outputs": [
    {
     "data": {
      "text/plain": [
       "[[],\n",
       " [('march 8', 67)],\n",
       " [('march 9', 4)],\n",
       " [],\n",
       " [],\n",
       " [],\n",
       " [],\n",
       " [],\n",
       " [],\n",
       " [('march 6', 78), ('march 17', 459)]]"
      ]
     },
     "execution_count": 59,
     "metadata": {},
     "output_type": "execute_result"
    }
   ],
   "source": [
    "t.arr"
   ]
  },
  {
   "cell_type": "code",
   "execution_count": 60,
   "metadata": {},
   "outputs": [
    {
     "data": {
      "text/plain": [
       "[[],\n",
       " [('march 8', 67)],\n",
       " [('march 9', 4)],\n",
       " [],\n",
       " [],\n",
       " [],\n",
       " [],\n",
       " [],\n",
       " [],\n",
       " [('march 6', 78)]]"
      ]
     },
     "execution_count": 60,
     "metadata": {},
     "output_type": "execute_result"
    }
   ],
   "source": [
    "del t['march 17']\n",
    "t.arr"
   ]
  },
  {
   "cell_type": "code",
   "execution_count": 80,
   "metadata": {},
   "outputs": [
    {
     "name": "stdout",
     "output_type": "stream",
     "text": [
      "[[('6-Jan', 38.0)], [('7-Jan', 29.0)], [('8-Jan', 30.0)], [('9-Jan', 35.0), ('10-Jan', 30.0)], [], [('1-Jan', 27.0)], [('2-Jan', 31.0)], [('3-Jan', 23.0)], [('4-Jan', 34.0)], [('5-Jan', 37.0)]]\n"
     ]
    }
   ],
   "source": [
    "\"\"\" nyc_weather.csv contains new york city weather for first few days in the month of January. \n",
    "\n",
    "Write a program that can answer following,\n",
    "1) What was the average temperature in first week of Jan ?\n",
    "2) What was the maximum temperature in first 10 days of Jan ?\n",
    "\n",
    "Figure out data structure that is best for this problem \"\"\"\n",
    "\n",
    "class HashTables():\n",
    "    def __init__(self):\n",
    "        self.MAX = 10\n",
    "        self.arr = [[] for i in range(self.MAX)]\n",
    "\n",
    "    def hash_get(self,key):\n",
    "        h = 0\n",
    "        for char in key:\n",
    "            h += ord(char)\n",
    "        return (h % 10)\n",
    "\n",
    "    def __setitem__(self, key, value):\n",
    "        h = self.hash_get(key)\n",
    "        found = False\n",
    "        for index,element in enumerate(self.arr[h]):\n",
    "            if len(element) == 0 and element[0] == key:\n",
    "                self.arr[h][index] = (key, value)\n",
    "                found = True\n",
    "                break\n",
    "        if not found:\n",
    "            self.arr[h].append((key,value))\n",
    "\n",
    "\n",
    "\n",
    "if __name__ == '__main__':\n",
    "    t = HashTables()\n",
    "    # tempList = []\n",
    "    with open(r'D:\\OneDrive - Mavenir Ltd\\Learning-Training\\scripting\\Sept23\\nyc_weather.csv', 'r') as fp:\n",
    "        for line in fp:\n",
    "            tokens = line.split(',')\n",
    "            # day = tokens[0]\n",
    "            # temperature = float(tokens[1])\n",
    "            # tempList.append([day,temperature])\n",
    "            t[tokens[0]] = float(tokens[1])\n",
    "\n",
    "    print(t.arr)"
   ]
  },
  {
   "cell_type": "code",
   "execution_count": 85,
   "metadata": {},
   "outputs": [],
   "source": [
    "\"\"\" https://github.com/codebasics/data-structures-algorithms-python/blob/master/data_structures/4_HashTable_2_Collisions/4_hash_table_exercise.md\n",
    "nyc_weather.csv contains new york city weather for first few days in the month of January. \n",
    "\n",
    "Write a program that can answer following,\n",
    "1) What was the average temperature in first week of Jan ?\n",
    "2) What was the maximum temperature in first 10 days of Jan ?\n",
    "\n",
    "Figure out data structure that is best for this problem \"\"\"\n",
    "\n",
    "tempDict = {}\n",
    "with open(r'D:\\OneDrive - Mavenir Ltd\\Learning-Training\\scripting\\Sept23\\nyc_weather.csv', 'r') as fp:\n",
    "    for line in fp:\n",
    "        tokens = line.split(',')\n",
    "        try:\n",
    "            tempDict[tokens[0]] = int(tokens[1])\n",
    "        except:\n",
    "            print(\"not a proper temperature entries\")\n",
    "        \n",
    "\n",
    "            "
   ]
  },
  {
   "cell_type": "code",
   "execution_count": 86,
   "metadata": {},
   "outputs": [
    {
     "data": {
      "text/plain": [
       "{'1-Jan': 27,\n",
       " '2-Jan': 31,\n",
       " '3-Jan': 23,\n",
       " '4-Jan': 34,\n",
       " '5-Jan': 37,\n",
       " '6-Jan': 38,\n",
       " '7-Jan': 29,\n",
       " '8-Jan': 30,\n",
       " '9-Jan': 35,\n",
       " '10-Jan': 30}"
      ]
     },
     "execution_count": 86,
     "metadata": {},
     "output_type": "execute_result"
    }
   ],
   "source": [
    "tempDict"
   ]
  },
  {
   "cell_type": "code",
   "execution_count": 96,
   "metadata": {},
   "outputs": [
    {
     "name": "stdout",
     "output_type": "stream",
     "text": [
      "{'Two': 2, 'roads': 2, 'diverged': 2, 'in': 3, 'a': 3, 'yellow': 1, 'wood,\\n': 1, 'And': 6, 'sorry': 1, 'I': 8, 'could': 1, 'not': 1, 'travel': 1, 'both\\n': 1, 'be': 2, 'one': 3, 'traveler,': 1, 'long': 1, 'stood\\n': 1, 'looked': 1, 'down': 1, 'as': 5, 'far': 1, 'could\\n': 1, 'To': 1, 'where': 1, 'it': 2, 'bent': 1, 'the': 8, 'undergrowth;\\n': 1, '\\n': 3, 'Then': 1, 'took': 2, 'other,': 1, 'just': 1, 'fair,\\n': 1, 'having': 1, 'perhaps': 1, 'better': 1, 'claim,\\n': 1, 'Because': 1, 'was': 1, 'grassy': 1, 'and': 3, 'wanted': 1, 'wear;\\n': 1, 'Though': 1, 'for': 2, 'that': 3, 'passing': 1, 'there\\n': 1, 'Had': 1, 'worn': 1, 'them': 1, 'really': 1, 'about': 1, 'same,\\n': 1, 'both': 1, 'morning': 1, 'equally': 1, 'lay\\n': 1, 'In': 1, 'leaves': 1, 'no': 1, 'step': 1, 'had': 1, 'trodden': 1, 'black.\\n': 1, 'Oh,': 1, 'kept': 1, 'first': 1, 'another': 1, 'day!\\n': 1, 'Yet': 1, 'knowing': 1, 'how': 1, 'way': 1, 'leads': 1, 'on': 1, 'to': 1, 'way,\\n': 1, 'doubted': 1, 'if': 1, 'should': 1, 'ever': 1, 'come': 1, 'back.\\n': 1, 'shall': 1, 'telling': 1, 'this': 1, 'with': 1, 'sigh\\n': 1, 'Somewhere': 1, 'ages': 2, 'hence:\\n': 1, 'wood,': 1, 'Iâ€”\\n': 1, 'less': 1, 'traveled': 1, 'by,\\n': 1, 'has': 1, 'made': 1, 'all': 1, 'difference.': 1}\n"
     ]
    }
   ],
   "source": [
    "\"\"\"\n",
    "poem.txt Contains famous poem \"Road not taken\" by poet Robert Frost. \n",
    "You have to read this file in python and print every word and its count as show below. \n",
    "Think about the best data structure that you can use to solve this problem and figure out why you selected that specific data \n",
    "structure.\n",
    "\"\"\"\n",
    "\n",
    "poemDict = {}\n",
    "count = 0\n",
    "with open(r'D:\\OneDrive - Mavenir Ltd\\Learning-Training\\scripting\\Sept23\\poem.txt', 'r') as fp:\n",
    "    for line in fp:\n",
    "        tokens = line.split(' ')\n",
    "\n",
    "        for char in tokens:\n",
    "            if char not in poemDict.keys():\n",
    "                # count = 1\n",
    "                poemDict[char] = 1\n",
    "            else:\n",
    "                count = poemDict[char] + 1\n",
    "                poemDict[char] = count\n",
    "\n",
    "print(poemDict)\n",
    "            \n",
    "            "
   ]
  },
  {
   "cell_type": "code",
   "execution_count": null,
   "metadata": {},
   "outputs": [],
   "source": [
    "######################## Hash Tables - Collision Handling (linear probing ....) - NOT completed ############################\n",
    "class HashTables():\n",
    "    def __init__(self):\n",
    "        self.MAX = 10\n",
    "        self.arr = [None for i in range(self.MAX)]  # create the arr with MAX number of indexes\n",
    "        \n",
    "    def hash_get(self,key):   # !!! - using this hash function, we are finding appropriate index\n",
    "        h = 0\n",
    "        for char in key:\n",
    "            h += ord(char)    ## ord function returns unicode from a given character\n",
    "        return (h%10)\n",
    "    \n",
    "    def __setitem__(self,key,value):    # we can use like this ...predefined functions\n",
    "        h = self.hash_get(key) # to identify the key(index)\n",
    "        if self.arr[h] != None:\n",
    "            self.arr[h] = value        \n",
    "        else if h < 9 :\n",
    "            self.arr[h+1]       \n",
    "    \n",
    "    def __getitem__(self,key):\n",
    "        h = self.hash_get(key)\n",
    "        return self.arr[h]\n",
    "\n",
    "            \n",
    "    def __delitem__(self,key):\n",
    "        h = self.hash_get(key)\n",
    "        del self.arr[h][index]    "
   ]
  },
  {
   "cell_type": "code",
   "execution_count": 3,
   "metadata": {},
   "outputs": [
    {
     "name": "stdout",
     "output_type": "stream",
     "text": [
      "True\n"
     ]
    }
   ],
   "source": [
    "from collections import defaultdict\n",
    "\n",
    "# magazine = \"ive got a lovely bunch of coconuts\".split(' ')\n",
    "# note = \"ive got some coconuts\".split(' ')\n",
    "\n",
    "magazine = \"give me one grand today night\"\n",
    "note = \"give one grand today\"\n",
    "\n",
    "d = defaultdict(int)\n",
    "\n",
    "def ransom_note(magazine, note):\n",
    "    for word in note:\n",
    "        if word in magazine:\n",
    "            d[word] += 1\n",
    "        else:\n",
    "            return(False)\n",
    "    return(True)\n",
    "\n",
    "\n",
    "print(ransom_note(magazine, note))"
   ]
  },
  {
   "cell_type": "markdown",
   "metadata": {},
   "source": [
    "# Default dict"
   ]
  },
  {
   "cell_type": "code",
   "execution_count": 7,
   "metadata": {},
   "outputs": [
    {
     "name": "stdout",
     "output_type": "stream",
     "text": [
      "defaultdict(<class 'int'>, {\"Let's\": 1, 'focus': 1, 'on': 1, 'what': 1, 'you': 1, 'need': 3, '!': 1})\n"
     ]
    }
   ],
   "source": [
    "from collections import defaultdict\n",
    "\n",
    "myWord = \"Let's focus on what you need need need !\".split(' ')\n",
    "\n",
    "d = defaultdict(int)\n",
    "\n",
    "for word in myWord:\n",
    "    d[word] += 1\n",
    "    \n",
    "print(d)"
   ]
  },
  {
   "cell_type": "code",
   "execution_count": 18,
   "metadata": {},
   "outputs": [
    {
     "name": "stdout",
     "output_type": "stream",
     "text": [
      "a\n",
      "ab\n",
      "abb\n"
     ]
    }
   ],
   "source": [
    "myString = \"abba\"\n",
    "\n",
    "l = len(myString)\n",
    "j = 1\n",
    "for i in range(len(myString)-1):\n",
    "    while(j<l):\n",
    "        print(myString[i:j])\n",
    "        j += 1\n",
    "    i += 1"
   ]
  },
  {
   "cell_type": "markdown",
   "metadata": {},
   "source": [
    "# collections - Counter\n"
   ]
  },
  {
   "cell_type": "code",
   "execution_count": 2,
   "metadata": {},
   "outputs": [
    {
     "name": "stdout",
     "output_type": "stream",
     "text": [
      "Counter({'a': 2, 'R': 1, 'm': 1, 'e': 1, 's': 1, 'h': 1})\n",
      "Ra\n",
      "am\n",
      "me\n",
      "es\n",
      "sh\n",
      "Ram\n",
      "ame\n",
      "mes\n",
      "esh\n",
      "Rame\n",
      "ames\n",
      "mesh\n",
      "Rames\n",
      "amesh\n",
      "Ramesh\n"
     ]
    }
   ],
   "source": [
    "from collections import Counter\n",
    "\n",
    "s = \"Ramesh\"\n",
    "dict = Counter(s)\n",
    "\n",
    "print(dict)\n",
    "\n",
    "for i in range(2, len(s)):\n",
    "    sb = s[0:i]\n",
    "    print(sb)\n",
    "    l = len(sb)\n",
    "    \n",
    "    for j in range(1, len(s)+1):\n",
    "        if j+l < len(s):\n",
    "            print(s[j:j+l])\n"
   ]
  },
  {
   "cell_type": "markdown",
   "metadata": {},
   "source": [
    "# import bisect"
   ]
  },
  {
   "cell_type": "code",
   "execution_count": 41,
   "metadata": {},
   "outputs": [
    {
     "name": "stdout",
     "output_type": "stream",
     "text": [
      "4\n"
     ]
    }
   ],
   "source": [
    "import bisect \n",
    "li = [1, 3, 4, 4, 4, 6, 7]\n",
    "\n",
    "#print (bisect.bisect(li, 4))\n",
    "x = li[bisect.bisect_left(li,4)]\n",
    "print(x)"
   ]
  },
  {
   "cell_type": "code",
   "execution_count": 28,
   "metadata": {},
   "outputs": [
    {
     "data": {
      "text/plain": [
       "1"
      ]
     },
     "execution_count": 28,
     "metadata": {},
     "output_type": "execute_result"
    }
   ],
   "source": [
    "5%2\n",
    "\n"
   ]
  },
  {
   "cell_type": "code",
   "execution_count": 31,
   "metadata": {},
   "outputs": [
    {
     "name": "stdout",
     "output_type": "stream",
     "text": [
      "2\n",
      "aa\n",
      "aa\n"
     ]
    }
   ],
   "source": [
    "word = \"aadaa\"\n",
    "\n",
    "mid = len(word)//2\n",
    "print(mid)\n",
    "print(word[:mid])\n",
    "print(word[mid+1:])"
   ]
  },
  {
   "cell_type": "code",
   "execution_count": 37,
   "metadata": {},
   "outputs": [
    {
     "name": "stdout",
     "output_type": "stream",
     "text": [
      "HNHAN\n",
      "HNHAN\n",
      "HNHA\n",
      "HNH\n",
      "HN\n",
      "H\n",
      "H\n"
     ]
    }
   ],
   "source": [
    "s1 = \"SHINCHAN\"\n",
    "s2 = \"NOHARAAA\"\n",
    "\n",
    "for char in s1:\n",
    "    if char not in s2:\n",
    "#         print(char)\n",
    "        s1 = s1.replace(char, '')\n",
    "#         s1 = s1.translate({ord(char): None})\n",
    "\n",
    "for char in s2:\n",
    "    if char not in s1:\n",
    "        s2 = s2.replace(char, '')\n",
    "        \n",
    "# print(s1)\n",
    "# print(s2)\n",
    "\n",
    "x = min(s1,s2)\n",
    "y = max(s1,s2)\n",
    "# print(x)\n",
    "# print(y)\n",
    "\n",
    "print(x)\n",
    "temp = 1\n",
    "pos= 0\n",
    "# for i in range(len(x),1):\n",
    "#     print(i)\n",
    "#     print(x[pos:i])\n",
    "#     pos += 1\n",
    "#     i -=1\n",
    "toggle = 0\n",
    "for i in range(0,len(x)):\n",
    "    if toggle == 1:\n",
    "        break\n",
    "    for j in range(5,0,-1):\n",
    "        print(x[i:j])\n",
    "        if x[i:j] in y:\n",
    "            print(x[i:j])\n",
    "            toggle = 1\n",
    "            break\n",
    "             "
   ]
  },
  {
   "cell_type": "code",
   "execution_count": 42,
   "metadata": {},
   "outputs": [
    {
     "name": "stdout",
     "output_type": "stream",
     "text": [
      "HNHAN\n",
      "HNHA NHAN\n",
      "HNH NHA HAN\n",
      "HN NH HA AN\n"
     ]
    }
   ],
   "source": [
    "W = \"HNHAN\"\n",
    "\n",
    "print(W[0:5])\n",
    "print(W[0:4],W[1:5])\n",
    "print(W[0:3],W[1:4],W[2:5])\n",
    "print(W[0:2],W[1:3],W[2:4],W[3:5])\n",
    "\n"
   ]
  },
  {
   "cell_type": "code",
   "execution_count": 1,
   "metadata": {},
   "outputs": [
    {
     "name": "stdout",
     "output_type": "stream",
     "text": [
      "HNHAN\n",
      "NHA\n",
      "H\n",
      "\n",
      "\n"
     ]
    }
   ],
   "source": [
    "W = \"HNHAN\"\n",
    "length = len(W)\n",
    "i = 0\n",
    "\n",
    "for j in range(length,0,-1):    \n",
    "    print(W[i:j])\n",
    "    #j -= 1\n",
    "    i += 1\n",
    "    \n",
    "    "
   ]
  },
  {
   "cell_type": "code",
   "execution_count": 2,
   "metadata": {},
   "outputs": [
    {
     "name": "stdout",
     "output_type": "stream",
     "text": [
      "('python', ['awesome', 'language'])\n",
      "('something-else', ['not relevant'])\n"
     ]
    }
   ],
   "source": [
    "from collections import defaultdict\n",
    "d = defaultdict(list)\n",
    "d['python'].append(\"awesome\")\n",
    "d['something-else'].append(\"not relevant\")\n",
    "d['python'].append(\"language\")\n",
    "for i in d.items():\n",
    "    print(i)"
   ]
  },
  {
   "cell_type": "code",
   "execution_count": null,
   "metadata": {},
   "outputs": [],
   "source": [
    "m,n = map(int,input().split())\n",
    "\n",
    "for i in range(m):\n",
    "    print(i)"
   ]
  },
  {
   "cell_type": "markdown",
   "metadata": {},
   "source": [
    "# Default Dict"
   ]
  },
  {
   "cell_type": "code",
   "execution_count": null,
   "metadata": {},
   "outputs": [],
   "source": [
    "from collections import defaultdict\n",
    "d = defaultdict(list)\n",
    "\n",
    "m,n = map(int, input().split())\n",
    "\n",
    "for i in range(m):\n",
    "    a = input()\n",
    "    d[a].append(i+1)\n",
    "    \n",
    "print(d)"
   ]
  },
  {
   "cell_type": "code",
   "execution_count": null,
   "metadata": {},
   "outputs": [],
   "source": [
    "4 1\n",
    "a\n",
    "b\n",
    "c\n",
    "v\n",
    "g\n",
    "h\n"
   ]
  },
  {
   "cell_type": "code",
   "execution_count": 3,
   "metadata": {},
   "outputs": [
    {
     "name": "stdout",
     "output_type": "stream",
     "text": [
      "['7', '7', '9', '9', '4', '3']\n"
     ]
    }
   ],
   "source": [
    "text = \"7R7a9m9e4s3h\"\n",
    "num = []\n",
    "\n",
    "for char in text:\n",
    "    if char.isnumeric():\n",
    "        num.append(char)\n",
    "\n",
    "print(num)  "
   ]
  },
  {
   "cell_type": "code",
   "execution_count": 2,
   "metadata": {},
   "outputs": [
    {
     "name": "stdout",
     "output_type": "stream",
     "text": [
      "[1, 3, 5, 7, 9]\n"
     ]
    }
   ],
   "source": [
    "x = [i for i in range(10) if i%2 !=0]\n",
    "print(x)"
   ]
  },
  {
   "cell_type": "code",
   "execution_count": 5,
   "metadata": {},
   "outputs": [
    {
     "name": "stdout",
     "output_type": "stream",
     "text": [
      "779943\n"
     ]
    }
   ],
   "source": [
    "# to extract only digits in the string\n",
    "text = \"7R7a9m9e4s3h\"\n",
    "# num = []\n",
    "\n",
    "for char in text:\n",
    "    num = \"\".join([char for char in text if char.isdigit()])\n",
    "\n",
    "\n",
    "print(num)  "
   ]
  },
  {
   "cell_type": "code",
   "execution_count": 7,
   "metadata": {},
   "outputs": [
    {
     "name": "stdout",
     "output_type": "stream",
     "text": [
      "[1, 2, 3, 4]\n"
     ]
    }
   ],
   "source": [
    "myList = [1,1,2,3,3,4,4]\n",
    "mySet = set(myList)\n",
    "\n",
    "print(list(mySet))"
   ]
  },
  {
   "cell_type": "code",
   "execution_count": 13,
   "metadata": {},
   "outputs": [
    {
     "name": "stdout",
     "output_type": "stream",
     "text": [
      "1\n"
     ]
    }
   ],
   "source": [
    "print(1%2)\n"
   ]
  },
  {
   "cell_type": "code",
   "execution_count": 2,
   "metadata": {},
   "outputs": [
    {
     "name": "stdout",
     "output_type": "stream",
     "text": [
      "Code mentor Python Developer\n"
     ]
    }
   ],
   "source": [
    "a = [\"Code\", \"mentor\", \"Python\", \"Developer\"]\n",
    "print(\" \".join(a))"
   ]
  },
  {
   "cell_type": "code",
   "execution_count": 6,
   "metadata": {},
   "outputs": [
    {
     "name": "stdout",
     "output_type": "stream",
     "text": [
      "1 2 3 4\n",
      "<map object at 0x00000221B9AAC940>\n"
     ]
    }
   ],
   "source": [
    "result = map(lambda x:int(x) ,input().split())\n",
    "\n",
    "print(result)\n"
   ]
  },
  {
   "cell_type": "markdown",
   "metadata": {},
   "source": [
    "# Lambda Function with List Comprehension"
   ]
  },
  {
   "cell_type": "code",
   "execution_count": 9,
   "metadata": {},
   "outputs": [
    {
     "name": "stdout",
     "output_type": "stream",
     "text": [
      "10\n",
      "20\n",
      "30\n",
      "40\n",
      "50\n",
      "60\n",
      "70\n",
      "80\n",
      "90\n",
      "100\n"
     ]
    }
   ],
   "source": [
    "tables = [lambda x=x: x*10 for x in range(1, 11)]\n",
    "\n",
    "\n",
    "for table in tables:\n",
    "\tprint(table())   ### We have to call  like this /// remember it \n",
    "\n",
    "# tables = [x*10 for x in range(1,11)]\n",
    "# print(tables)"
   ]
  },
  {
   "cell_type": "markdown",
   "metadata": {},
   "source": [
    "# Lambda Function with if-else"
   ]
  },
  {
   "cell_type": "code",
   "execution_count": 10,
   "metadata": {},
   "outputs": [
    {
     "name": "stdout",
     "output_type": "stream",
     "text": [
      "2\n"
     ]
    }
   ],
   "source": [
    "Max = lambda a, b : a if a > b else b\n",
    "'''\n",
    "Note:\n",
    "Here we have to remember like this - \"lambda input: actual work\"\n",
    "\n",
    "input is a,b\n",
    "Actual work is \"a if a > b else b\"\n",
    "\n",
    "\n",
    "'''\n",
    "print(Max(1,2))  # It has to be called like this"
   ]
  },
  {
   "cell_type": "code",
   "execution_count": 2,
   "metadata": {},
   "outputs": [
    {
     "name": "stdout",
     "output_type": "stream",
     "text": [
      "<generator object <lambda>.<locals>.<genexpr> at 0x000001B1C2F06C80>\n"
     ]
    }
   ],
   "source": [
    "List = [[2,3,4],[1, 4, 16, 64],[3, 6, 9, 12]]\n",
    " \n",
    "# Sort each sublist\n",
    "sortList = lambda x: (sorted(i) for i in x)\n",
    "\n",
    "print(sortList(List))"
   ]
  },
  {
   "cell_type": "code",
   "execution_count": 5,
   "metadata": {},
   "outputs": [
    {
     "name": "stdout",
     "output_type": "stream",
     "text": [
      "0.333333\n"
     ]
    }
   ],
   "source": [
    "print(round(2/6,6))"
   ]
  },
  {
   "cell_type": "code",
   "execution_count": 8,
   "metadata": {},
   "outputs": [
    {
     "name": "stdout",
     "output_type": "stream",
     "text": [
      "Negative numbers in the list:  -10 -21 -4 -66\n"
     ]
    }
   ],
   "source": [
    "list1 = [-10, -21, -4, 45, -66, 93]\n",
    "  \n",
    "# using list comprehension\n",
    "neg_nos = [num for num in list1 if num < 0]\n",
    "  \n",
    "print(\"Negative numbers in the list: \", *neg_nos)"
   ]
  },
  {
   "cell_type": "code",
   "execution_count": 1,
   "metadata": {},
   "outputs": [
    {
     "name": "stdout",
     "output_type": "stream",
     "text": [
      "[1, 2, 3, 4]\n"
     ]
    }
   ],
   "source": [
    "arr = [1,2,3,4,5]\n",
    "\n",
    "arr.remove(max(arr))\n",
    "print(arr)"
   ]
  },
  {
   "cell_type": "code",
   "execution_count": 10,
   "metadata": {},
   "outputs": [
    {
     "name": "stdout",
     "output_type": "stream",
     "text": [
      "PM\n"
     ]
    }
   ],
   "source": [
    "s = '07:05:45PM'\n",
    "print(s[-2:])"
   ]
  },
  {
   "cell_type": "code",
   "execution_count": 1,
   "metadata": {},
   "outputs": [
    {
     "name": "stderr",
     "output_type": "stream",
     "text": [
      "WARNING:root:This is a warning message\n",
      "ERROR:root:This is an error message\n",
      "CRITICAL:root:This is a critical message\n"
     ]
    }
   ],
   "source": [
    "import logging\n",
    "\n",
    "logging.debug('This is a debug message')\n",
    "logging.info('This is an info message')\n",
    "logging.warning('This is a warning message')\n",
    "logging.error('This is an error message')\n",
    "logging.critical('This is a critical message')"
   ]
  },
  {
   "cell_type": "code",
   "execution_count": 2,
   "metadata": {},
   "outputs": [
    {
     "name": "stdout",
     "output_type": "stream",
     "text": [
      "1\n"
     ]
    }
   ],
   "source": [
    "n = '12345'\n",
    "print(n[0])"
   ]
  },
  {
   "cell_type": "code",
   "execution_count": 6,
   "metadata": {},
   "outputs": [
    {
     "name": "stdout",
     "output_type": "stream",
     "text": [
      "GeeksProgrammingAlgorithmArticle\n",
      "Geeks Programming Algorithm Article\n",
      "Geeks---Programming---Algorithm---Article\n",
      "Geeks, Programming, Algorithm, Article\n"
     ]
    }
   ],
   "source": [
    "geek = ['Geeks', 'Programming', 'Algorithm', 'Article']\n",
    "\n",
    "print(''.join(geek))\n",
    "print(' '.join(geek))\n",
    "print('---'.join(geek))\n",
    "print(', '.join(geek))\n"
   ]
  },
  {
   "cell_type": "markdown",
   "metadata": {},
   "source": [
    "# zip "
   ]
  },
  {
   "cell_type": "code",
   "execution_count": 9,
   "metadata": {},
   "outputs": [
    {
     "name": "stdout",
     "output_type": "stream",
     "text": [
      "1 Ramesh\n",
      "3 Kishore\n",
      "5 Usha\n",
      "7 Srija\n"
     ]
    }
   ],
   "source": [
    "list1 = [1, 3, 5, 7]\n",
    "list2 = ['Ramesh', 'Kishore', 'Usha', 'Srija']\n",
    "\n",
    "for a,b in zip(list1, list2):\n",
    "    print(a,b)"
   ]
  },
  {
   "cell_type": "markdown",
   "metadata": {},
   "source": [
    "# Add 2 lists using lamda and map"
   ]
  },
  {
   "cell_type": "code",
   "execution_count": 13,
   "metadata": {},
   "outputs": [
    {
     "name": "stdout",
     "output_type": "stream",
     "text": [
      "[3, 6, 9, 11, 13]\n"
     ]
    }
   ],
   "source": [
    "list1 = [1,2,3,4,5]\n",
    "list2 = [2,4,6,7,8]\n",
    "\n",
    "list3 = map(lambda x,y:x+y, list1, list2)\n",
    "\n",
    "# print(type(list3))\n",
    "\n",
    "print(list(list3))"
   ]
  },
  {
   "cell_type": "code",
   "execution_count": 14,
   "metadata": {},
   "outputs": [
    {
     "name": "stdout",
     "output_type": "stream",
     "text": [
      "[['s', 'a', 't'], ['b', 'a', 't'], ['c', 'a', 't'], ['m', 'a', 't']]\n"
     ]
    }
   ],
   "source": [
    "l = ['sat', 'bat', 'cat', 'mat']\n",
    "\n",
    "test = list(map(list,l))\n",
    "print(test)"
   ]
  },
  {
   "cell_type": "code",
   "execution_count": null,
   "metadata": {},
   "outputs": [],
   "source": []
  }
 ],
 "metadata": {
  "kernelspec": {
   "display_name": "Python 3",
   "language": "python",
   "name": "python3"
  },
  "language_info": {
   "codemirror_mode": {
    "name": "ipython",
    "version": 3
   },
   "file_extension": ".py",
   "mimetype": "text/x-python",
   "name": "python",
   "nbconvert_exporter": "python",
   "pygments_lexer": "ipython3",
   "version": "3.10.11"
  }
 },
 "nbformat": 4,
 "nbformat_minor": 4
}
