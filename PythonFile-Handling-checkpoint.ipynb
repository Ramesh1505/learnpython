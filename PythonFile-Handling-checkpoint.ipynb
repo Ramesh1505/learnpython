{
 "cells": [
  {
   "cell_type": "code",
   "execution_count": 17,
   "id": "03ef8cc3",
   "metadata": {},
   "outputs": [
    {
     "name": "stdout",
     "output_type": "stream",
     "text": [
      "Hello, world!\n",
      "Welcome to Python file handling.\n"
     ]
    }
   ],
   "source": [
    "# with open(r\"D:\\Docs\\scripting\\Python101\\textFile1.txt\", \"r\") as fp:\n",
    "#     data = fp.readlines()\n",
    "    \n",
    "#     for line in data:\n",
    "#         print(line)\n",
    "\n",
    "#         # print(line)\n",
    "#         # word = line.split()\n",
    "#         # print(word)\n",
    "\n",
    "with open(r\"D:\\Docs\\scripting\\Python101\\textFile1.txt\", 'r') as fp:\n",
    "    for line in fp:\n",
    "        print(line.strip())  # .strip() removes the newline character"
   ]
  },
  {
   "cell_type": "code",
   "execution_count": 21,
   "id": "f1e3e719",
   "metadata": {},
   "outputs": [],
   "source": [
    "lines = [\"Python is great!\", \"File handling is essential.\", \"Happy coding!\"]\n",
    "\n",
    "with open(r\"D:\\Docs\\scripting\\Python101\\textFile2.txt\", \"w\") as fp:\n",
    "    for _string in lines:\n",
    "        fp.write(_string + '\\n')"
   ]
  },
  {
   "cell_type": "code",
   "execution_count": 22,
   "id": "652beed7",
   "metadata": {},
   "outputs": [],
   "source": [
    "with open(r\"D:\\Docs\\scripting\\Python101\\textFile1.txt\", 'r') as source:\n",
    "    with open(r\"D:\\Docs\\scripting\\Python101\\textFile3.txt\", 'w') as destination:\n",
    "        for line in source:\n",
    "            destination.write(line)\n",
    "    "
   ]
  },
  {
   "cell_type": "code",
   "execution_count": 26,
   "id": "d21e3c33",
   "metadata": {},
   "outputs": [
    {
     "name": "stdout",
     "output_type": "stream",
     "text": [
      "Python is great!\n",
      "File handling is essential.\n",
      "Happy coding!\n",
      "\n",
      "This is an additional line.\n",
      "This is an additional line.This is an additional line.\n",
      "This is an additional line.\n"
     ]
    }
   ],
   "source": [
    "text_to_append = \"\\nThis is an additional line.\"\n",
    "\n",
    "with open(r\"D:\\Docs\\scripting\\Python101\\textFile1.txt\", 'a') as fp:\n",
    "    fp.write(text_to_append)\n",
    "\n",
    "\n",
    "with open(r\"D:\\Docs\\scripting\\Python101\\textFile1.txt\", 'r') as fp:\n",
    "    for line in fp:\n",
    "        print(line.strip())\n"
   ]
  },
  {
   "cell_type": "code",
   "execution_count": 36,
   "id": "d6c8024d",
   "metadata": {},
   "outputs": [
    {
     "name": "stdout",
     "output_type": "stream",
     "text": [
      "10\n"
     ]
    }
   ],
   "source": [
    "import re\n",
    "word_to_count = \"is\"\n",
    "\n",
    "\n",
    "with open(r\"D:\\Docs\\scripting\\Python101\\textFile1.txt\", 'r') as fp:\n",
    "    data = fp.read()\n",
    "\n",
    "    result = re.findall(word_to_count,data)\n",
    "\n",
    "\n",
    "print(len(result))"
   ]
  }
 ],
 "metadata": {
  "kernelspec": {
   "display_name": "Python 3",
   "language": "python",
   "name": "python3"
  },
  "language_info": {
   "codemirror_mode": {
    "name": "ipython",
    "version": 3
   },
   "file_extension": ".py",
   "mimetype": "text/x-python",
   "name": "python",
   "nbconvert_exporter": "python",
   "pygments_lexer": "ipython3",
   "version": "3.10.11"
  }
 },
 "nbformat": 4,
 "nbformat_minor": 5
}
