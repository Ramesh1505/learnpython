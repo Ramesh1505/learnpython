{
 "cells": [
  {
   "cell_type": "code",
   "execution_count": 3,
   "metadata": {},
   "outputs": [
    {
     "name": "stdout",
     "output_type": "stream",
     "text": [
      "97\n"
     ]
    }
   ],
   "source": [
    "t = ord('a')  # to find ASCII value\n",
    "print(t)"
   ]
  },
  {
   "cell_type": "code",
   "execution_count": 16,
   "metadata": {},
   "outputs": [
    {
     "data": {
      "text/plain": [
       "130"
      ]
     },
     "execution_count": 16,
     "metadata": {},
     "output_type": "execute_result"
    }
   ],
   "source": [
    "############################## Hash Tables - Basic-1 ###############################\n",
    "class HashTables():\n",
    "    def __init__(self):\n",
    "        self.MAX = 100\n",
    "        self.arr = [None for i in range(self.MAX)]  # create the arr with MAX number of indexes with value None\n",
    "        \n",
    "    def hash_get(self,key):\n",
    "        h = 0\n",
    "        for char in key:\n",
    "            h += ord(char)\n",
    "        return (h%100)\n",
    "    \n",
    "    def add_hash(self,key,value):\n",
    "        h = self.hash_get(key) # to identify the key(index)\n",
    "        self.arr[h] = value\n",
    "        \n",
    "    def get_value(self,key):\n",
    "        h = self.hash_get(key)\n",
    "        return self.arr[h]\n",
    "    \n",
    "t = HashTables()\n",
    "t.hash_get('march 9')  # to identify the index key\n",
    "t.add_hash('march 9',130)\n",
    "\n",
    "\n",
    "t.get_value('march 9')"
   ]
  },
  {
   "cell_type": "code",
   "execution_count": 23,
   "metadata": {},
   "outputs": [
    {
     "data": {
      "text/plain": [
       "130"
      ]
     },
     "execution_count": 23,
     "metadata": {},
     "output_type": "execute_result"
    }
   ],
   "source": [
    "############################## Hash Tables - Basic-2 ###############################\n",
    "class HashTables():\n",
    "    def __init__(self):\n",
    "        self.MAX = 100\n",
    "        self.arr = [None for i in range(self.MAX)]  # create the arr with MAX number of indexes\n",
    "        \n",
    "    def hash_get(self,key):   # !!! - using this hash function, we are finding appropriate index\n",
    "        h = 0\n",
    "        for char in key:\n",
    "            h += ord(char)\n",
    "        return (h%100)\n",
    "    \n",
    "    def __setitem__(self,key,value):    # we can use like this ...predefined functions\n",
    "        h = self.hash_get(key) # to identify the key(index)\n",
    "        self.arr[h] = value\n",
    "        \n",
    "    def __getitem__(self,key):\n",
    "        h = self.hash_get(key)\n",
    "        return self.arr[h]\n",
    "    \n",
    "t = HashTables()\n",
    "t.hash_get('march 9')  # to identify the index key\n",
    "\n",
    "t['march 9'] = 130 # t.add_hash('march 9',130)\n",
    "t['march 9'] # t.get_value('march 9')"
   ]
  },
  {
   "cell_type": "code",
   "execution_count": 56,
   "metadata": {},
   "outputs": [],
   "source": [
    "## https://www.youtube.com/watch?v=54iv1si4YCM&list=PLeo1K3hjS3uu_n_a__MI_KktGTLYopZ12&ab_channel=codebasics\n",
    "############################## Hash Tables - Collision Handling (Chaining ....) ###############################\n",
    "class HashTables():\n",
    "    def __init__(self):\n",
    "        self.MAX = 10\n",
    "        self.arr = [[] for i in range(self.MAX)]  # create the arr with MAX number of indexes\n",
    "        \n",
    "    def hash_get(self,key):   # !!! - using this hash function, we are finding appropriate index\n",
    "        h = 0\n",
    "        for char in key:\n",
    "            h += ord(char)    ## ord function returns unicode from a given character\n",
    "        return (h%10)\n",
    "    \n",
    "    def __setitem__(self,key,value):    # we can use like this ...predefined functions\n",
    "        h = self.hash_get(key) # to identify the key(index)\n",
    "        found = False        \n",
    "        for index,element in enumerate(self.arr[h]):  # If the key is already present, replace with the new value)\n",
    "            if len(element) == 2 and element[0] == key:\n",
    "                self.arr[h][index] = (key,value)\n",
    "                found = True\n",
    "                break\n",
    "        if not found:                               # If the key is not present, Just append the (key,value)\n",
    "            self.arr[h].append((key,value))\n",
    "        \n",
    "    def __getitem__(self,key):\n",
    "        h = self.hash_get(key)\n",
    "        for element in self.arr[h]:\n",
    "            if element[0] == key:\n",
    "                return element[1]\n",
    "            \n",
    "    def __delitem__(self,key):\n",
    "        h = self.hash_get(key)\n",
    "        for index, element in enumerate(self.arr[h]):\n",
    "            if element[0] == key:\n",
    "                del self.arr[h][index]             \n",
    "        "
   ]
  },
  {
   "cell_type": "code",
   "execution_count": 57,
   "metadata": {},
   "outputs": [],
   "source": [
    "t = HashTables()\n",
    "t['march 6'] = 120\n",
    "t['march 6'] = 78\n",
    "t['march 8'] = 67\n",
    "t['march 9'] = 4\n",
    "t['march 17'] = 459\n"
   ]
  },
  {
   "cell_type": "code",
   "execution_count": 58,
   "metadata": {},
   "outputs": [
    {
     "data": {
      "text/plain": [
       "78"
      ]
     },
     "execution_count": 58,
     "metadata": {},
     "output_type": "execute_result"
    }
   ],
   "source": [
    "t['march 6']"
   ]
  },
  {
   "cell_type": "code",
   "execution_count": 59,
   "metadata": {},
   "outputs": [
    {
     "data": {
      "text/plain": [
       "[[],\n",
       " [('march 8', 67)],\n",
       " [('march 9', 4)],\n",
       " [],\n",
       " [],\n",
       " [],\n",
       " [],\n",
       " [],\n",
       " [],\n",
       " [('march 6', 78), ('march 17', 459)]]"
      ]
     },
     "execution_count": 59,
     "metadata": {},
     "output_type": "execute_result"
    }
   ],
   "source": [
    "t.arr"
   ]
  },
  {
   "cell_type": "code",
   "execution_count": 60,
   "metadata": {},
   "outputs": [
    {
     "data": {
      "text/plain": [
       "[[],\n",
       " [('march 8', 67)],\n",
       " [('march 9', 4)],\n",
       " [],\n",
       " [],\n",
       " [],\n",
       " [],\n",
       " [],\n",
       " [],\n",
       " [('march 6', 78)]]"
      ]
     },
     "execution_count": 60,
     "metadata": {},
     "output_type": "execute_result"
    }
   ],
   "source": [
    "del t['march 17']\n",
    "t.arr"
   ]
  },
  {
   "cell_type": "code",
   "execution_count": 80,
   "metadata": {},
   "outputs": [
    {
     "name": "stdout",
     "output_type": "stream",
     "text": [
      "[[('6-Jan', 38.0)], [('7-Jan', 29.0)], [('8-Jan', 30.0)], [('9-Jan', 35.0), ('10-Jan', 30.0)], [], [('1-Jan', 27.0)], [('2-Jan', 31.0)], [('3-Jan', 23.0)], [('4-Jan', 34.0)], [('5-Jan', 37.0)]]\n"
     ]
    }
   ],
   "source": [
    "\"\"\" nyc_weather.csv contains new york city weather for first few days in the month of January. \n",
    "\n",
    "Write a program that can answer following,\n",
    "1) What was the average temperature in first week of Jan ?\n",
    "2) What was the maximum temperature in first 10 days of Jan ?\n",
    "\n",
    "Figure out data structure that is best for this problem \"\"\"\n",
    "\n",
    "class HashTables():\n",
    "    def __init__(self):\n",
    "        self.MAX = 10\n",
    "        self.arr = [[] for i in range(self.MAX)]\n",
    "\n",
    "    def hash_get(self,key):\n",
    "        h = 0\n",
    "        for char in key:\n",
    "            h += ord(char)\n",
    "        return (h % 10)\n",
    "\n",
    "    def __setitem__(self, key, value):\n",
    "        h = self.hash_get(key)\n",
    "        found = False\n",
    "        for index,element in enumerate(self.arr[h]):\n",
    "            if len(element) == 0 and element[0] == key:\n",
    "                self.arr[h][index] = (key, value)\n",
    "                found = True\n",
    "                break\n",
    "        if not found:\n",
    "            self.arr[h].append((key,value))\n",
    "\n",
    "\n",
    "\n",
    "if __name__ == '__main__':\n",
    "    t = HashTables()\n",
    "    # tempList = []\n",
    "    with open(r'D:\\OneDrive - Mavenir Ltd\\Learning-Training\\scripting\\Sept23\\nyc_weather.csv', 'r') as fp:\n",
    "        for line in fp:\n",
    "            tokens = line.split(',')\n",
    "            # day = tokens[0]\n",
    "            # temperature = float(tokens[1])\n",
    "            # tempList.append([day,temperature])\n",
    "            t[tokens[0]] = float(tokens[1])\n",
    "\n",
    "    print(t.arr)"
   ]
  },
  {
   "cell_type": "code",
   "execution_count": 85,
   "metadata": {},
   "outputs": [],
   "source": [
    "\"\"\" https://github.com/codebasics/data-structures-algorithms-python/blob/master/data_structures/4_HashTable_2_Collisions/4_hash_table_exercise.md\n",
    "nyc_weather.csv contains new york city weather for first few days in the month of January. \n",
    "\n",
    "Write a program that can answer following,\n",
    "1) What was the average temperature in first week of Jan ?\n",
    "2) What was the maximum temperature in first 10 days of Jan ?\n",
    "\n",
    "Figure out data structure that is best for this problem \"\"\"\n",
    "\n",
    "tempDict = {}\n",
    "with open(r'D:\\OneDrive - Mavenir Ltd\\Learning-Training\\scripting\\Sept23\\nyc_weather.csv', 'r') as fp:\n",
    "    for line in fp:\n",
    "        tokens = line.split(',')\n",
    "        try:\n",
    "            tempDict[tokens[0]] = int(tokens[1])\n",
    "        except:\n",
    "            print(\"not a proper temperature entries\")\n",
    "        \n",
    "\n",
    "            "
   ]
  },
  {
   "cell_type": "code",
   "execution_count": 86,
   "metadata": {},
   "outputs": [
    {
     "data": {
      "text/plain": [
       "{'1-Jan': 27,\n",
       " '2-Jan': 31,\n",
       " '3-Jan': 23,\n",
       " '4-Jan': 34,\n",
       " '5-Jan': 37,\n",
       " '6-Jan': 38,\n",
       " '7-Jan': 29,\n",
       " '8-Jan': 30,\n",
       " '9-Jan': 35,\n",
       " '10-Jan': 30}"
      ]
     },
     "execution_count": 86,
     "metadata": {},
     "output_type": "execute_result"
    }
   ],
   "source": [
    "tempDict"
   ]
  },
  {
   "cell_type": "code",
   "execution_count": 96,
   "metadata": {},
   "outputs": [
    {
     "name": "stdout",
     "output_type": "stream",
     "text": [
      "{'Two': 2, 'roads': 2, 'diverged': 2, 'in': 3, 'a': 3, 'yellow': 1, 'wood,\\n': 1, 'And': 6, 'sorry': 1, 'I': 8, 'could': 1, 'not': 1, 'travel': 1, 'both\\n': 1, 'be': 2, 'one': 3, 'traveler,': 1, 'long': 1, 'stood\\n': 1, 'looked': 1, 'down': 1, 'as': 5, 'far': 1, 'could\\n': 1, 'To': 1, 'where': 1, 'it': 2, 'bent': 1, 'the': 8, 'undergrowth;\\n': 1, '\\n': 3, 'Then': 1, 'took': 2, 'other,': 1, 'just': 1, 'fair,\\n': 1, 'having': 1, 'perhaps': 1, 'better': 1, 'claim,\\n': 1, 'Because': 1, 'was': 1, 'grassy': 1, 'and': 3, 'wanted': 1, 'wear;\\n': 1, 'Though': 1, 'for': 2, 'that': 3, 'passing': 1, 'there\\n': 1, 'Had': 1, 'worn': 1, 'them': 1, 'really': 1, 'about': 1, 'same,\\n': 1, 'both': 1, 'morning': 1, 'equally': 1, 'lay\\n': 1, 'In': 1, 'leaves': 1, 'no': 1, 'step': 1, 'had': 1, 'trodden': 1, 'black.\\n': 1, 'Oh,': 1, 'kept': 1, 'first': 1, 'another': 1, 'day!\\n': 1, 'Yet': 1, 'knowing': 1, 'how': 1, 'way': 1, 'leads': 1, 'on': 1, 'to': 1, 'way,\\n': 1, 'doubted': 1, 'if': 1, 'should': 1, 'ever': 1, 'come': 1, 'back.\\n': 1, 'shall': 1, 'telling': 1, 'this': 1, 'with': 1, 'sigh\\n': 1, 'Somewhere': 1, 'ages': 2, 'hence:\\n': 1, 'wood,': 1, 'Iâ€”\\n': 1, 'less': 1, 'traveled': 1, 'by,\\n': 1, 'has': 1, 'made': 1, 'all': 1, 'difference.': 1}\n"
     ]
    }
   ],
   "source": [
    "\"\"\"\n",
    "poem.txt Contains famous poem \"Road not taken\" by poet Robert Frost. \n",
    "You have to read this file in python and print every word and its count as show below. \n",
    "Think about the best data structure that you can use to solve this problem and figure out why you selected that specific data \n",
    "structure.\n",
    "\"\"\"\n",
    "\n",
    "poemDict = {}\n",
    "count = 0\n",
    "with open(r'D:\\OneDrive - Mavenir Ltd\\Learning-Training\\scripting\\Sept23\\poem.txt', 'r') as fp:\n",
    "    for line in fp:\n",
    "        tokens = line.split(' ')\n",
    "\n",
    "        for char in tokens:\n",
    "            if char not in poemDict.keys():\n",
    "                # count = 1\n",
    "                poemDict[char] = 1\n",
    "            else:\n",
    "                count = poemDict[char] + 1\n",
    "                poemDict[char] = count\n",
    "\n",
    "print(poemDict)\n",
    "            \n",
    "            "
   ]
  },
  {
   "cell_type": "code",
   "execution_count": null,
   "metadata": {},
   "outputs": [],
   "source": [
    "######################## Hash Tables - Collision Handling (linear probing ....) - NOT completed ############################\n",
    "class HashTables():\n",
    "    def __init__(self):\n",
    "        self.MAX = 10\n",
    "        self.arr = [None for i in range(self.MAX)]  # create the arr with MAX number of indexes\n",
    "        \n",
    "    def hash_get(self,key):   # !!! - using this hash function, we are finding appropriate index\n",
    "        h = 0\n",
    "        for char in key:\n",
    "            h += ord(char)    ## ord function returns unicode from a given character\n",
    "        return (h%10)\n",
    "    \n",
    "    def __setitem__(self,key,value):    # we can use like this ...predefined functions\n",
    "        h = self.hash_get(key) # to identify the key(index)\n",
    "        if self.arr[h] != None:\n",
    "            self.arr[h] = value        \n",
    "        else if h < 9 :\n",
    "            self.arr[h+1]       \n",
    "    \n",
    "    def __getitem__(self,key):\n",
    "        h = self.hash_get(key)\n",
    "        return self.arr[h]\n",
    "\n",
    "            \n",
    "    def __delitem__(self,key):\n",
    "        h = self.hash_get(key)\n",
    "        del self.arr[h][index]    "
   ]
  },
  {
   "cell_type": "code",
   "execution_count": 3,
   "metadata": {},
   "outputs": [
    {
     "name": "stdout",
     "output_type": "stream",
     "text": [
      "True\n"
     ]
    }
   ],
   "source": [
    "from collections import defaultdict\n",
    "\n",
    "# magazine = \"ive got a lovely bunch of coconuts\".split(' ')\n",
    "# note = \"ive got some coconuts\".split(' ')\n",
    "\n",
    "magazine = \"give me one grand today night\"\n",
    "note = \"give one grand today\"\n",
    "\n",
    "d = defaultdict(int)\n",
    "\n",
    "def ransom_note(magazine, note):\n",
    "    for word in note:\n",
    "        if word in magazine:\n",
    "            d[word] += 1\n",
    "        else:\n",
    "            return(False)\n",
    "    return(True)\n",
    "\n",
    "\n",
    "print(ransom_note(magazine, note))"
   ]
  }
 ],
 "metadata": {
  "kernelspec": {
   "display_name": "Python 3",
   "language": "python",
   "name": "python3"
  },
  "language_info": {
   "codemirror_mode": {
    "name": "ipython",
    "version": 3
   },
   "file_extension": ".py",
   "mimetype": "text/x-python",
   "name": "python",
   "nbconvert_exporter": "python",
   "pygments_lexer": "ipython3",
   "version": "3.10.11"
  }
 },
 "nbformat": 4,
 "nbformat_minor": 4
}
