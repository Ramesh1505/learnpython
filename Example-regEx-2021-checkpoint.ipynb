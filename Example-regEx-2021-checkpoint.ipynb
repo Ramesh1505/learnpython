{
 "cells": [
  {
   "cell_type": "code",
   "execution_count": null,
   "id": "774673e2-1575-4c86-87d3-978969548a17",
   "metadata": {},
   "outputs": [],
   "source": [
    "'''\n",
    "\\w - Matches any single letter, number or under_score\n",
    "\\W - Matches any character not part of \\w\n",
    "\\d - Matches decimal digits 0-9\n",
    ".  - Matcheds any single character except new line character\n",
    "\\. - To match dot with dot only use '\\'\n",
    "^  - Start of the string\n",
    "$  - End of the string\n",
    "\n",
    "\n",
    "'''"
   ]
  },
  {
   "cell_type": "code",
   "execution_count": 1,
   "id": "655b7adf-a452-4d4f-98c1-1d3db0a354c8",
   "metadata": {},
   "outputs": [
    {
     "name": "stdout",
     "output_type": "stream",
     "text": [
      "['is', 'is', 'is']\n"
     ]
    }
   ],
   "source": [
    "import re\n",
    "\n",
    "# findall\n",
    "text=\"This is a python and it is @ easy to learn\"\n",
    "my_pat=\"is\"\n",
    "print(re.findall(my_pat,text))\n"
   ]
  },
  {
   "cell_type": "code",
   "execution_count": 3,
   "id": "d94c0762-3c38-4caf-b594-0c18d55bb98a",
   "metadata": {},
   "outputs": [
    {
     "name": "stdout",
     "output_type": "stream",
     "text": [
      "['is', 'is', 'it', 'is']\n"
     ]
    }
   ],
   "source": [
    "my_pat = \"i[st]\"\n",
    "print(re.findall(my_pat,text))"
   ]
  },
  {
   "cell_type": "code",
   "execution_count": 3,
   "id": "139f4987-a5e1-4171-a452-6c459fa37ed9",
   "metadata": {},
   "outputs": [
    {
     "name": "stdout",
     "output_type": "stream",
     "text": [
      "['s', 's', 'a', 'a', 's', '@', 'a', 's', 'a']\n"
     ]
    }
   ],
   "source": [
    "my_pat = \"[@as]\"\n",
    "print(re.findall(my_pat,text))"
   ]
  },
  {
   "cell_type": "code",
   "execution_count": 4,
   "id": "8da79d68-0a65-4750-b130-82ed1c889507",
   "metadata": {},
   "outputs": [
    {
     "name": "stdout",
     "output_type": "stream",
     "text": [
      "['h', 'i', 'i', 'a', 'y', 'h', 'a', 'd', 'i', 'i', 'a', 'y', 'l', 'a']\n"
     ]
    }
   ],
   "source": [
    "my_pat = \"[a-dh-lx-z]\"\n",
    "print(re.findall(my_pat,text))"
   ]
  },
  {
   "cell_type": "code",
   "execution_count": 5,
   "id": "aae648e5-1609-41f8-934c-fbfec41f6b71",
   "metadata": {},
   "outputs": [
    {
     "name": "stdout",
     "output_type": "stream",
     "text": [
      "['a', 'a', 'd', 'a', 'a']\n"
     ]
    }
   ],
   "source": [
    "my_pat = \"[a-d]\"\n",
    "print(re.findall(my_pat,text))"
   ]
  },
  {
   "cell_type": "code",
   "execution_count": 6,
   "id": "3d5a2c04-cca4-4cf4-b00a-853463020714",
   "metadata": {},
   "outputs": [
    {
     "name": "stdout",
     "output_type": "stream",
     "text": [
      "['a', 'a', 'd', 'a', 'a']\n"
     ]
    }
   ],
   "source": [
    "my_pat = \"[abcd]\"\n",
    "print(re.findall(my_pat,text))"
   ]
  },
  {
   "cell_type": "code",
   "execution_count": 6,
   "id": "ce7b5551-060b-45ef-9e81-1bf94e77b00d",
   "metadata": {},
   "outputs": [
    {
     "name": "stdout",
     "output_type": "stream",
     "text": [
      "['T', 'h', 'i', 's', 'i', 's', 'a', 'p', 'y', 't', 'h', 'o', 'n', 'a', 'n', 'd', 'i', 't', 'i', 's', 'e', 'a', 's', 'y', 't', 'o', 'l', 'e', 'a', 'r', 'n', 'O', '_', '_', 'O', 'T']\n"
     ]
    }
   ],
   "source": [
    "# \\w - Matches any single letter, number or under_score\n",
    "text=\"This is a python and it is @ easy to learn O__ OT\"\n",
    "my_pat = \"\\w\"\n",
    "print(re.findall(my_pat,text))"
   ]
  },
  {
   "cell_type": "code",
   "execution_count": 10,
   "id": "574a95cc-d02b-478c-b416-003111e64991",
   "metadata": {},
   "outputs": [
    {
     "name": "stdout",
     "output_type": "stream",
     "text": [
      "['Thi', 'pyt', 'hon', 'and', 'eas', 'lea', 'O__']\n"
     ]
    }
   ],
   "source": [
    "text=\"This is a python and it is @ easy to learn O__ OT\"\n",
    "my_pat = \"\\w\\w\\w\"\n",
    "print(re.findall(my_pat,text))"
   ]
  },
  {
   "cell_type": "code",
   "execution_count": 12,
   "id": "e26ff344-acac-495b-9cec-86ba2811736d",
   "metadata": {},
   "outputs": [
    {
     "name": "stdout",
     "output_type": "stream",
     "text": [
      "[' ', ' ', ' ', ' ', ' ', ' ', ' ', '@', ' ', ' ', ' ', ' ', ' ', ' ', ')', '(', '*', '-', '-']\n"
     ]
    }
   ],
   "source": [
    "text=\"This is a python and it is @ easy to learn O__ OT )Ra(m*e-s-h\"\n",
    "my_pat = \"\\W\"\n",
    "print(re.findall(my_pat,text))"
   ]
  },
  {
   "cell_type": "code",
   "execution_count": 15,
   "id": "91d0f108-9aa4-4b0f-a735-80b9b0555cc5",
   "metadata": {},
   "outputs": [
    {
     "name": "stdout",
     "output_type": "stream",
     "text": [
      "['2', '6', '9', '9', '3', '8']\n",
      "['python2', 'python3']\n",
      "['99']\n"
     ]
    }
   ],
   "source": [
    "text=\"This is a python2 and it is @ easy 6 to 99 python3 learn 8 O__ OT )Ra(m*e-s-h\"\n",
    "my_pat = \"\\d\"\n",
    "my_pat1 = \"python\\d\"\n",
    "my_pat2 = \"\\d\\d\"\n",
    "print(re.findall(my_pat,text))\n",
    "print(re.findall(my_pat1,text))\n",
    "print(re.findall(my_pat2,text))"
   ]
  },
  {
   "cell_type": "code",
   "execution_count": 20,
   "id": "8a612f57-44d9-4ce8-adb7-164c1dbd7e54",
   "metadata": {},
   "outputs": [
    {
     "name": "stdout",
     "output_type": "stream",
     "text": [
      "['T', 'h', 'i', 's', ' ', 'i', 's', ' ', 'a', ' ', 'p', 'y', 't', 'h', 'o', 'n', '2', ' ', 'a', 'n', 'd', ' ', 'i', 't', ' ', 'i', 's', ' ', '@', ' ', 'e', 'a', 's', 'y', ' ', '6', ' ', 't', 'o', ' ', '9', '9', ' ', 'p', 'y', 't', 'h', 'o', 'n', '3', ' ', 'l', 'e', 'a', 'r', 'n', ' ', '8', ' ', 'O', '_', '_', ' ', 'O', 'T', ' ', ')', 'R', 'a', '(', 'm', '*', 'e', '-', 's', '-', 'h']\n",
      "['Thi', 's i', 's a', ' py', 'tho', 'n2 ', 'and', ' it', ' is', ' @ ', 'eas', 'y 6', ' to', ' 99', ' py', 'tho', 'n3 ', 'lea', 'rn ', '8 O', '__ ', 'OT ', ')Ra', '(m*', 'e-s']\n"
     ]
    }
   ],
   "source": [
    "my_pat = \".\"\n",
    "print(re.findall(my_pat,text))\n",
    "\n",
    "my_pat = \"...\"\n",
    "print(re.findall(my_pat,text))"
   ]
  },
  {
   "cell_type": "code",
   "execution_count": 22,
   "id": "aedd0027-3657-422d-a2f9-b183869caeb0",
   "metadata": {},
   "outputs": [
    {
     "name": "stdout",
     "output_type": "stream",
     "text": [
      "['.', '.']\n"
     ]
    }
   ],
   "source": [
    "text=\"This is a python2 and it is @ easy 6.9 to 99.8 python3 learn 8 O__ OT )Ra(m*e-s-h\"\n",
    "my_pat = \"\\.\"\n",
    "print(re.findall(my_pat,text))"
   ]
  },
  {
   "cell_type": "code",
   "execution_count": 29,
   "id": "e57fbd84-9714-4698-be34-bbdb0d9a51f9",
   "metadata": {},
   "outputs": [
    {
     "name": "stdout",
     "output_type": "stream",
     "text": [
      "['172.169.329.109']\n"
     ]
    }
   ],
   "source": [
    "text = \"This is my ip of a db server: 172.169.329.109 23415656565656\"\n",
    "my_pat = \"\\d\\d\\d\\.\\d\\d\\d\\.\\d\\d\\d\\.\\d\\d\\d\"\n",
    "\n",
    "print(re.findall(my_pat,text))\n"
   ]
  },
  {
   "cell_type": "code",
   "execution_count": 32,
   "id": "e6decc03-85a2-427c-8c84-1dd941dc3c4d",
   "metadata": {},
   "outputs": [
    {
     "name": "stdout",
     "output_type": "stream",
     "text": [
      "['it']\n"
     ]
    }
   ],
   "source": [
    "import re\n",
    "text = 'it is a python and it is easy to learn'\n",
    "my_pat = '^i[ts]'\n",
    "print(re.findall(my_pat,text))"
   ]
  },
  {
   "cell_type": "code",
   "execution_count": 33,
   "id": "0482249e-2f14-42fa-a1a4-f43d3c1400bb",
   "metadata": {},
   "outputs": [
    {
     "name": "stdout",
     "output_type": "stream",
     "text": [
      "['learn']\n"
     ]
    }
   ],
   "source": [
    "import re\n",
    "text = 'it is a python and learn it is easy to learn'\n",
    "my_pat = 'learn$'\n",
    "print(re.findall(my_pat,text))"
   ]
  },
  {
   "cell_type": "code",
   "execution_count": 7,
   "id": "cfab91c4-fc01-4bc3-9489-93ff2aba69ed",
   "metadata": {},
   "outputs": [
    {
     "name": "stdout",
     "output_type": "stream",
     "text": [
      "GeeksforGeeks: A computer science portals for geeks\n"
     ]
    }
   ],
   "source": [
    "import re\n",
    " \n",
    "s = 'GeeksforGeeks: A computer science portal for geeks'\n",
    " \n",
    "match = re.search(r'portal', s)\n",
    "\n",
    "print(match.string)"
   ]
  },
  {
   "cell_type": "markdown",
   "id": "f31305e6",
   "metadata": {},
   "source": [
    "# re.compile"
   ]
  },
  {
   "cell_type": "code",
   "execution_count": 5,
   "id": "7e29fafb",
   "metadata": {},
   "outputs": [
    {
     "name": "stdout",
     "output_type": "stream",
     "text": [
      "['1', '1', '4', '1', '8', '8', '6']\n",
      "['11', '4', '1886']\n",
      "['H', 'e', 's', 'a', 'i', 'd', 'i', 'n', 's', 'o', 'm', 'e', '_', 'l', 'a', 'n', 'g']\n",
      "['I', 'went', 'to', 'him', 'at', '11', 'A', 'M', 'he', 'said', 'in', 'some_language']\n",
      "[' ', ' ', '*', '*', '*', ' ', ' ', '.']\n"
     ]
    }
   ],
   "source": [
    "import re\n",
    " \n",
    "# \\d is equivalent to [0-9].\n",
    "p = re.compile('\\d')\n",
    "print(p.findall(\"I went to him at 11 A.M. on 4th July 1886\"))\n",
    " \n",
    "# \\d+ will match a group on [0-9], group\n",
    "# of one or greater size\n",
    "p = re.compile('\\d+')\n",
    "print(p.findall(\"I went to him at 11 A.M. on 4th July 1886\"))\n",
    "\n",
    "# \\w is equivalent to [a-zA-Z0-9_].\n",
    "p = re.compile('\\w')\n",
    "print(p.findall(\"He said * in some_lang.\"))\n",
    " \n",
    "# \\w+ matches to group of alphanumeric character.\n",
    "p = re.compile('\\w+')\n",
    "print(p.findall(\"I went to him at 11 A.M., he \\\n",
    "said *** in some_language.\"))\n",
    " \n",
    "# \\W matches to non alphanumeric characters.\n",
    "p = re.compile('\\W')\n",
    "print(p.findall(\"he said *** in some_language.\"))"
   ]
  },
  {
   "cell_type": "markdown",
   "id": "74dbf0bb",
   "metadata": {},
   "source": [
    "# re.split"
   ]
  },
  {
   "cell_type": "code",
   "execution_count": 8,
   "id": "3942b937",
   "metadata": {},
   "outputs": [
    {
     "name": "stdout",
     "output_type": "stream",
     "text": [
      "['On ', 'th Jan 2016, at 11:02 AM']\n"
     ]
    }
   ],
   "source": [
    "import re\n",
    " \n",
    "# Splitting will occurs only once, at\n",
    "# '12', returned list will have length 2\n",
    "print(re.split('\\d+', 'On 12th Jan 2016, at 11:02 AM', 1))\n",
    " \n"
   ]
  },
  {
   "cell_type": "code",
   "execution_count": 11,
   "id": "33fa7197",
   "metadata": {},
   "outputs": [
    {
     "name": "stdout",
     "output_type": "stream",
     "text": [
      "['', 'y, Boy oh boy, come here']\n",
      "['A', 'y, Boy oh ', 'oy, ', 'om', ' h', 'r', '']\n"
     ]
    }
   ],
   "source": [
    "# 'Boy' and 'boy' will be treated same when\n",
    "# flags = re.IGNORECASE\n",
    "print(re.split('[a-f]+', 'Aey, Boy oh boy, come here', 1,flags=re.IGNORECASE))\n",
    "print(re.split('[a-f]+', 'Aey, Boy oh boy, come here'))"
   ]
  },
  {
   "cell_type": "markdown",
   "id": "a6917579",
   "metadata": {},
   "source": [
    "# re.sub"
   ]
  },
  {
   "cell_type": "code",
   "execution_count": 8,
   "id": "bf6174fd",
   "metadata": {},
   "outputs": [
    {
     "name": "stdout",
     "output_type": "stream",
     "text": [
      "S~*ject has ~*er booked already\n",
      "S~*ject has Uber booked already\n",
      "S~*ject has Uber booked already\n",
      "Baked Beans & Spam\n"
     ]
    }
   ],
   "source": [
    "import re\n",
    " \n",
    "# Regular Expression pattern 'ub' matches the\n",
    "# string at \"Subject\" and \"Uber\". As the CASE\n",
    "# has been ignored, using Flag, 'ub' should\n",
    "# match twice with the string Upon matching,\n",
    "# 'ub' is replaced by '~*' in \"Subject\", and\n",
    "# in \"Uber\", 'Ub' is replaced.\n",
    "print(re.sub('ub', '~*', 'Subject has Uber booked already',\n",
    "             flags=re.IGNORECASE))\n",
    " \n",
    "# Consider the Case Sensitivity, 'Ub' in\n",
    "# \"Uber\", will not be replaced.\n",
    "print(re.sub('ub', '~*', 'Subject has Uber booked already'))\n",
    " \n",
    "# As count has been given value 1, the maximum\n",
    "# times replacement occurs is 1\n",
    "print(re.sub('ub', '~*', 'Subject has Uber booked already',\n",
    "             count=1, flags=re.IGNORECASE))\n",
    " \n",
    "# 'r' before the pattern denotes RE, \\s is for\n",
    "# start and end of a String.\n",
    "print(re.sub(r'\\sAND\\s', ' & ', 'Baked Beans And Spam',\n",
    "             flags=re.IGNORECASE))"
   ]
  },
  {
   "cell_type": "code",
   "execution_count": 32,
   "id": "7df4d25e",
   "metadata": {},
   "outputs": [
    {
     "name": "stdout",
     "output_type": "stream",
     "text": [
      "True\n"
     ]
    }
   ],
   "source": [
    "''' Some more examples....'''\n",
    "\n",
    "import re\n",
    "myString = \"Hello World!\"\n",
    "\n",
    "pattern = r\"^H.*!$\"\n",
    "\n",
    "result = re.match(pattern,myString)\n",
    "\n",
    "print(bool(result))\n",
    "\n"
   ]
  },
  {
   "cell_type": "code",
   "execution_count": 21,
   "id": "9de63d6a",
   "metadata": {},
   "outputs": [
    {
     "name": "stdout",
     "output_type": "stream",
     "text": [
      "['123', '456']\n"
     ]
    }
   ],
   "source": [
    "import re\n",
    "text = \"abc123xyz456def\"\n",
    "pattern = r\"\\d+\"\n",
    "result = re.findall(pattern, text)\n",
    "print(result)  # Output: ['123', '456']\n"
   ]
  },
  {
   "cell_type": "code",
   "execution_count": 24,
   "id": "e62a11e2",
   "metadata": {},
   "outputs": [
    {
     "name": "stdout",
     "output_type": "stream",
     "text": [
      "True\n"
     ]
    }
   ],
   "source": [
    "import re\n",
    "email = \"example@test.com\"\n",
    "\n",
    "pattern = r\"^[a-zA-Z0-9$%._+-]+@[a-zA-Z0-9.-]+\\.[a-zA-Z]{2,}$\"\n",
    "# pattern = r\"^[a-zA-Z0-9._%+-]+@[a-zA-Z0-9.-]+\\.[a-zA-Z]{2,}$\"\n",
    "\n",
    "print(bool(re.match(pattern, email)))"
   ]
  },
  {
   "cell_type": "code",
   "execution_count": 27,
   "id": "2e160701",
   "metadata": {},
   "outputs": [
    {
     "name": "stdout",
     "output_type": "stream",
     "text": [
      "True\n"
     ]
    }
   ],
   "source": [
    "import re\n",
    "phone = \"987-123-4567\"\n",
    "pattern = r\"^\\d{3}-\\d{3}-\\d{4}$\"\n",
    "result = bool(re.match(pattern, phone))\n",
    "print(result)  # Output: True\n"
   ]
  },
  {
   "cell_type": "code",
   "execution_count": 31,
   "id": "3ffe3d95",
   "metadata": {},
   "outputs": [
    {
     "name": "stdout",
     "output_type": "stream",
     "text": [
      "[]\n",
      "True\n"
     ]
    }
   ],
   "source": [
    "import re\n",
    "password = \"Pass@123\"\n",
    "\n",
    "pattern = r\"^(?=.*[a-z])(?=.*[A-Z])(?=.*[0-9])(?=.*[!@#$%&*-_])[A-Za-z\\d!@#$%&*-_]{8,}\"\n",
    "\n",
    "print(bool(re.match(pattern,password)))"
   ]
  },
  {
   "cell_type": "code",
   "execution_count": 33,
   "id": "e067ee22",
   "metadata": {},
   "outputs": [
    {
     "name": "stdout",
     "output_type": "stream",
     "text": [
      "['https://example.com', 'http://test.org']\n"
     ]
    }
   ],
   "source": [
    "import re\n",
    "text = \"Visit https://example.com or http://test.org\"\n",
    "pattern = r\"https?://[^\\s]+\"\n",
    "result = re.findall(pattern, text)\n",
    "print(result)  # Output: ['https://example.com', 'http://test.org']\n"
   ]
  },
  {
   "cell_type": "code",
   "execution_count": 34,
   "id": "52de1586",
   "metadata": {},
   "outputs": [
    {
     "name": "stdout",
     "output_type": "stream",
     "text": [
      "['2023-01-01', '2024/02/02']\n"
     ]
    }
   ],
   "source": [
    "import re\n",
    "text = \"We met on 2023-01-01 and again on 2024/02/02\"\n",
    "pattern = r\"\\d{4}[-/]\\d{2}[-/]\\d{2}\"\n",
    "result = re.findall(pattern, text)\n",
    "print(result)  # Output: ['2023-01-01', '2024/02/02']\n"
   ]
  },
  {
   "cell_type": "code",
   "execution_count": 41,
   "id": "4f7d6b8b",
   "metadata": {},
   "outputs": [
    {
     "name": "stdout",
     "output_type": "stream",
     "text": [
      "['over', 'la_y', 'kiso']\n"
     ]
    }
   ],
   "source": [
    "import re\n",
    "text = \"The quick brown fox jumps over the la_y dog kiso\"\n",
    "pattern = r\"\\b\\w{4}\\b\"\n",
    "result = re.findall(pattern, text)\n",
    "print(result)  # Output: ['quick', 'jumps', 'over', 'lazy']\n"
   ]
  },
  {
   "cell_type": "code",
   "execution_count": 42,
   "id": "a0fa99bf",
   "metadata": {},
   "outputs": [
    {
     "name": "stdout",
     "output_type": "stream",
     "text": [
      "This is a test\n"
     ]
    }
   ],
   "source": [
    "import re\n",
    "text = \"This   is  a   test\"\n",
    "result = re.sub(r\"\\s+\", \" \", text)\n",
    "print(result)  # Output: \"This is a test\"\n"
   ]
  },
  {
   "cell_type": "code",
   "execution_count": 46,
   "id": "20074b2b",
   "metadata": {},
   "outputs": [
    {
     "name": "stdout",
     "output_type": "stream",
     "text": [
      "['@twitter', '#Python']\n"
     ]
    }
   ],
   "source": [
    "import re\n",
    "text = \"Follow us on @twitter and #Python\"\n",
    "pattern = r\"[@#]\\w+\"\n",
    "# pattern = r\"\\b[@#]\\w+\\b\"\n",
    "result = re.findall(pattern, text)\n",
    "print(result)  # Output: ['@twitter', '#Python']\n"
   ]
  }
 ],
 "metadata": {
  "kernelspec": {
   "display_name": "Python 3",
   "language": "python",
   "name": "python3"
  },
  "language_info": {
   "codemirror_mode": {
    "name": "ipython",
    "version": 3
   },
   "file_extension": ".py",
   "mimetype": "text/x-python",
   "name": "python",
   "nbconvert_exporter": "python",
   "pygments_lexer": "ipython3",
   "version": "3.10.11"
  }
 },
 "nbformat": 4,
 "nbformat_minor": 5
}
