{
 "cells": [
  {
   "cell_type": "markdown",
   "id": "b6861b45",
   "metadata": {},
   "source": [
    "# Basics(Strings,list,etc.,)"
   ]
  },
  {
   "cell_type": "code",
   "execution_count": 1,
   "id": "9bfb3888",
   "metadata": {},
   "outputs": [
    {
     "name": "stdout",
     "output_type": "stream",
     "text": [
      "[60000]\n"
     ]
    }
   ],
   "source": [
    "''' 1. Given two integer numbers return their product only if the product is greater than 1000, else return their sum.'''\n",
    "x = 200\n",
    "y = 300\n",
    "result = [x*y if x*y > 1000 else x+y]\n",
    "\n",
    "print(result)"
   ]
  },
  {
   "cell_type": "code",
   "execution_count": 11,
   "id": "c78414d2",
   "metadata": {},
   "outputs": [
    {
     "name": "stdout",
     "output_type": "stream",
     "text": [
      "RmsRj\n",
      "R\n",
      "m\n",
      "s\n",
      "R\n",
      "j\n",
      "RmsRj\n"
     ]
    }
   ],
   "source": [
    "'''2. Write a program to accept a string from the user and display characters that are present at an even index number.'''\n",
    "str1 = input()\n",
    "\n",
    "print(str1[::2])\n",
    "newString = \"\"\n",
    "\n",
    "for char in str1[::2]:\n",
    "    print(char)\n",
    "\n",
    "for char in str1[::2]:\n",
    "    newString += char\n",
    "\n",
    "print(newString)\n"
   ]
  },
  {
   "cell_type": "code",
   "execution_count": 14,
   "id": "eec7b30d",
   "metadata": {},
   "outputs": [
    {
     "name": "stdout",
     "output_type": "stream",
     "text": [
      "3\n"
     ]
    }
   ],
   "source": [
    "'''3. Write a program to find how many times substring “Emma” appears in the given string.'''\n",
    "\n",
    "str_x = \"Emma is good developer. Emma is a writer. Emma \"\n",
    "\n",
    "count = str_x.count(\"Emma\")\n",
    "\n",
    "print(count)"
   ]
  },
  {
   "cell_type": "code",
   "execution_count": 12,
   "id": "3f85af81",
   "metadata": {},
   "outputs": [
    {
     "name": "stdout",
     "output_type": "stream",
     "text": [
      "[10, 20, 55]\n"
     ]
    }
   ],
   "source": [
    "'''4. Display numbers divisible by 5 from a list'''\n",
    "\n",
    "_list = [10, 20, 33, 46, 55]\n",
    "\n",
    "result = [x for x in _list if x%5 == 0 ]\n",
    "print(result)"
   ]
  },
  {
   "cell_type": "code",
   "execution_count": 15,
   "id": "2e3bb4ec",
   "metadata": {},
   "outputs": [
    {
     "name": "stdout",
     "output_type": "stream",
     "text": [
      "1 \n",
      "\n",
      "2 2 \n",
      "\n",
      "3 3 3 \n",
      "\n",
      "4 4 4 4 \n",
      "\n",
      "5 5 5 5 5 \n",
      "\n",
      "6 6 6 6 6 6 \n",
      "\n",
      "7 7 7 7 7 7 7 \n",
      "\n"
     ]
    }
   ],
   "source": [
    "'''5. Print the following pattern'''\n",
    "''' \n",
    "1 \n",
    "2 2 \n",
    "3 3 3 \n",
    "4 4 4 4 \n",
    "5 5 5 5 5\n",
    "'''\n",
    "\n",
    "n = int(input(\"Enter number: \"))\n",
    "\n",
    "for i in range(1,n+1):\n",
    "    for j in range(i):\n",
    "        print(i, end=\" \")\n",
    "    print(\"\\n\")"
   ]
  },
  {
   "cell_type": "code",
   "execution_count": 22,
   "id": "6c062892",
   "metadata": {},
   "outputs": [
    {
     "name": "stdout",
     "output_type": "stream",
     "text": [
      "[25, 35, 40, 60, 90]\n"
     ]
    }
   ],
   "source": [
    "''' 6.\n",
    "Given a two list of numbers, write a program to create a new list such that the new list should contain odd numbers \n",
    "from the first list and even numbers from the second list.\n",
    "'''\n",
    "\n",
    "list1 = [10, 20, 25, 30, 35]\n",
    "list2 = [40, 45, 60, 75, 90]\n",
    "\n",
    "list3 = [x for x in list1 if x%2 !=0] + [x for x in list2 if x%2 ==0]\n",
    "\n",
    "print(list3)"
   ]
  },
  {
   "cell_type": "code",
   "execution_count": 25,
   "id": "5f9fa34a",
   "metadata": {},
   "outputs": [
    {
     "name": "stdout",
     "output_type": "stream",
     "text": [
      "Enter num:7536\n",
      "6 3 5 7\n"
     ]
    }
   ],
   "source": [
    "'''7. Write a Program to extract each digit from an integer in the reverse order.\n",
    "For example, If the given int is 7536, the output shall be “6 3 5 7“, with a space separating the digits.\n",
    "'''\n",
    "\n",
    "x = input(\"Enter num:\")\n",
    "\n",
    "print(' '.join(x[::-1]))\n",
    "\n"
   ]
  },
  {
   "cell_type": "code",
   "execution_count": 16,
   "id": "472f3932",
   "metadata": {},
   "outputs": [
    {
     "name": "stdout",
     "output_type": "stream",
     "text": [
      "1 2 3 4 5 6 7 8 9 10  \n",
      "2 4 6 8 10 12 14 16 18 20  \n",
      "3 6 9 12 15 18 21 24 27 30  \n",
      "4 8 12 16 20 24 28 32 36 40  \n",
      "5 10 15 20 25 30 35 40 45 50  \n",
      "6 12 18 24 30 36 42 48 54 60  \n",
      "7 14 21 28 35 42 49 56 63 70  \n",
      "8 16 24 32 40 48 56 64 72 80  \n",
      "9 18 27 36 45 54 63 72 81 90  \n",
      "10 20 30 40 50 60 70 80 90 100  \n"
     ]
    }
   ],
   "source": [
    "'''8. ##Print multiplication table form 1 to 10'''\n",
    "\n",
    "for i in range(1,11):\n",
    "    for j in range(1,11):\n",
    "        print(j*i, end= \" \")\n",
    "    print(' ')\n",
    "        "
   ]
  },
  {
   "cell_type": "code",
   "execution_count": 31,
   "id": "cac4209e",
   "metadata": {},
   "outputs": [
    {
     "name": "stdout",
     "output_type": "stream",
     "text": [
      "* * * * * \t\t\n",
      "* * * * \t\t\n",
      "* * * \t\t\n",
      "* * \t\t\n",
      "* \t\t\n",
      "\t\t\n"
     ]
    }
   ],
   "source": [
    "'''9. Print downward Half-Pyramid Pattern with Star (asterisk)'''\n",
    "for i in range(6, 0, -1):\n",
    "    for j in range(0, i - 1):\n",
    "        print(\"*\", end=' ')\n",
    "    print(\"\\t\\t\")"
   ]
  },
  {
   "cell_type": "code",
   "execution_count": 17,
   "id": "a6afc827",
   "metadata": {},
   "outputs": [
    {
     "name": "stdout",
     "output_type": "stream",
     "text": [
      "1 \t\t\n",
      "1 2 \t\t\n",
      "1 2 3 \t\t\n",
      "1 2 3 4 \t\t\n",
      "1 2 3 4 5 \t\t\n"
     ]
    }
   ],
   "source": [
    "'''10.\n",
    "Write a program to print the following number pattern using a loop.\n",
    "\n",
    "1 \n",
    "1 2 \n",
    "1 2 3 \n",
    "1 2 3 4 \n",
    "1 2 3 4 5\n",
    "'''\n",
    "\n",
    "n = 5\n",
    "\n",
    "for i in range(1,n+1):\n",
    "    for num in range(1,i+1):\n",
    "        print(num, end=' ')\n",
    "    print('\\t\\t')\n",
    "        \n"
   ]
  },
  {
   "cell_type": "code",
   "execution_count": 20,
   "id": "4648171f",
   "metadata": {},
   "outputs": [
    {
     "name": "stdout",
     "output_type": "stream",
     "text": [
      "Enter number:10\n",
      "55\n"
     ]
    }
   ],
   "source": [
    "''' 11.\n",
    "Calculate the sum of all numbers from 1 to a given number\n",
    "Write a program to accept a number from a user and calculate the sum of all numbers from 1 to a given number\n",
    "'''\n",
    "\n",
    "num = int(input(\"Enter number:\"))\n",
    "\n",
    "sum = 0\n",
    "\n",
    "for i in range(1,num+1):\n",
    "    sum += i\n",
    "    \n",
    "print(sum)"
   ]
  },
  {
   "cell_type": "code",
   "execution_count": 20,
   "id": "347369f7",
   "metadata": {},
   "outputs": [
    {
     "name": "stdout",
     "output_type": "stream",
     "text": [
      "7 * 1 =  7\n",
      "7 * 2 =  14\n",
      "7 * 3 =  21\n",
      "7 * 4 =  28\n",
      "7 * 5 =  35\n",
      "7 * 6 =  42\n",
      "7 * 7 =  49\n",
      "7 * 8 =  56\n",
      "7 * 9 =  63\n",
      "7 * 10 =  70\n",
      "\t\t\t\n"
     ]
    }
   ],
   "source": [
    "''' 12.\n",
    "Write a program to print multiplication table of a given number\n",
    "'''\n",
    "\n",
    "num = int(input(\"Enter number:\"))\n",
    "\n",
    "for i in range(1,11):\n",
    "    print(f\"{num} * {i} =  {num*i}\", end='\\n')\n",
    "print('\\t\\t\\t')\n"
   ]
  },
  {
   "cell_type": "code",
   "execution_count": 28,
   "id": "03455bb8",
   "metadata": {},
   "outputs": [
    {
     "name": "stdout",
     "output_type": "stream",
     "text": [
      "5 4 3 2 1 \t\t\n",
      "4 3 2 1 \t\t\n",
      "3 2 1 \t\t\n",
      "2 1 \t\t\n",
      "1 \t\t\n"
     ]
    }
   ],
   "source": [
    "''' 13.\n",
    "Write a program to use for loop to print the following reverse number pattern\n",
    "\n",
    "5 4 3 2 1 \n",
    "4 3 2 1 \n",
    "3 2 1 \n",
    "2 1 \n",
    "1\n",
    "'''\n",
    "n = 5\n",
    "\n",
    "for i in range(5,0,-1):\n",
    "    for j in range(i,0,-1):\n",
    "        print(j, end=' ')\n",
    "    print('\\t\\t')\n",
    "        "
   ]
  },
  {
   "cell_type": "code",
   "execution_count": 3,
   "id": "872390d5",
   "metadata": {},
   "outputs": [
    {
     "name": "stdout",
     "output_type": "stream",
     "text": [
      "29\n",
      "31\n",
      "37\n",
      "41\n",
      "43\n",
      "47\n"
     ]
    }
   ],
   "source": [
    "'''14. Write a program to display all prime numbers within a range'''\n",
    "\n",
    "start = 25\n",
    "end = 50\n",
    "\n",
    "for num in range(start, end+1):\n",
    "    if num > 1:  # all prime numbers are greater than 1 \n",
    "        for i in range(2,int(num/2)):\n",
    "            if num % i == 0:\n",
    "                break\n",
    "        else:\n",
    "            print(num)"
   ]
  },
  {
   "cell_type": "code",
   "execution_count": 34,
   "id": "d8716bb1",
   "metadata": {},
   "outputs": [
    {
     "name": "stdout",
     "output_type": "stream",
     "text": [
      "0 1 1 2 3 5 8 13 21 34 "
     ]
    }
   ],
   "source": [
    "''' 15. Display Fibonacci series up to 10 terms '''\n",
    "\n",
    "num1, num2 = 0,1\n",
    "\n",
    "for i in range(1, 11):\n",
    "    print(num1, end=\" \")\n",
    "    result = num1+num2\n",
    "    \n",
    "    num1 = num2\n",
    "    num2 = result"
   ]
  },
  {
   "cell_type": "code",
   "execution_count": 20,
   "id": "c623373e",
   "metadata": {},
   "outputs": [
    {
     "name": "stdout",
     "output_type": "stream",
     "text": [
      "Enter number:0\n",
      "1\n"
     ]
    }
   ],
   "source": [
    "''' 16. Find the factorial of a given number'''\n",
    "\n",
    "num = int(input('Enter number:'))\n",
    "sum = 1\n",
    "\n",
    "for i in range(num,1,-1):\n",
    "    sum *= i\n",
    "    \n",
    "print(sum)"
   ]
  },
  {
   "cell_type": "code",
   "execution_count": 1,
   "id": "228a1130",
   "metadata": {},
   "outputs": [
    {
     "name": "stdout",
     "output_type": "stream",
     "text": [
      "1\n"
     ]
    }
   ],
   "source": [
    "''' 17. Find the factorial of a given number using recursive'''\n",
    "\n",
    "n = 0\n",
    "\n",
    "def factorial(num):\n",
    "    if num == 1 or num == 0:\n",
    "        return 1\n",
    "    return (num * factorial(num-1))\n",
    "\n",
    "\n",
    "x = factorial(n)\n",
    "print(x)"
   ]
  },
  {
   "cell_type": "code",
   "execution_count": 2,
   "id": "9fb3caa8",
   "metadata": {},
   "outputs": [
    {
     "name": "stdout",
     "output_type": "stream",
     "text": [
      "24690\n"
     ]
    }
   ],
   "source": [
    "'''18. Find the sum of the series upto n terms\n",
    "Write a program to calculate the sum of series up to n term. \n",
    "For example, if n =5 the series will become 2 + 22 + 222 + 2222 + 22222 = 24690'''\n",
    "\n",
    "temp = ''\n",
    "n = 5\n",
    "sum = 0\n",
    "\n",
    "for i in range(1,n+1):\n",
    "    temp += '2'\n",
    "    sum += int(temp)\n",
    "    \n",
    "print(sum)\n",
    "    \n",
    "\n"
   ]
  },
  {
   "cell_type": "code",
   "execution_count": 21,
   "id": "a87c94fe",
   "metadata": {},
   "outputs": [
    {
     "name": "stdout",
     "output_type": "stream",
     "text": [
      "55\n"
     ]
    }
   ],
   "source": [
    "''' 19.\n",
    "Write a program to create a recursive function to calculate the sum of numbers from 0 to 10.\n",
    "'''\n",
    "\n",
    "def SumOfNum(num):\n",
    "    if num:\n",
    "        return num + SumOfNum(num-1)\n",
    "    else:\n",
    "        return 0\n",
    "\n",
    "res = SumOfNum(10)\n",
    "print(res)\n",
    "    "
   ]
  },
  {
   "cell_type": "code",
   "execution_count": 43,
   "id": "e3b418c9",
   "metadata": {},
   "outputs": [
    {
     "name": "stdout",
     "output_type": "stream",
     "text": [
      "Jms\n"
     ]
    }
   ],
   "source": [
    "'''20.\n",
    "Write a program to create a new string made of an input string’s first, middle, and last character.\n",
    "'''\n",
    "\n",
    "str1 = \"James\"\n",
    "\n",
    "x = len(str1)//2 \n",
    "\n",
    "new_word = str1[0] + str1[x] + str1[-1]\n",
    "\n",
    "print(new_word)"
   ]
  },
  {
   "cell_type": "code",
   "execution_count": 44,
   "id": "33b4fc52",
   "metadata": {},
   "outputs": [
    {
     "name": "stdout",
     "output_type": "stream",
     "text": [
      "Original String is JhonDipPeta\n",
      "Middle three chars are: Dip\n",
      "Original String is JaSonAy\n",
      "Middle three chars are: Son\n"
     ]
    }
   ],
   "source": [
    "'''21.\n",
    "Write a program to create a new string made of the middle three characters of an input string.\n",
    "'''\n",
    "def get_middle_three_chars(str1):\n",
    "    print(\"Original String is\", str1)\n",
    "\n",
    "    # first get middle index number\n",
    "    mi = int(len(str1) / 2)\n",
    "\n",
    "    # use string slicing to get result characters\n",
    "    res = str1[mi - 1:mi + 2]\n",
    "    print(\"Middle three chars are:\", res)\n",
    "\n",
    "get_middle_three_chars(\"JhonDipPeta\")\n",
    "get_middle_three_chars(\"JaSonAy\")"
   ]
  },
  {
   "cell_type": "code",
   "execution_count": 50,
   "id": "c1e2be7e",
   "metadata": {},
   "outputs": [
    {
     "name": "stdout",
     "output_type": "stream",
     "text": [
      "False\n"
     ]
    }
   ],
   "source": [
    "'''22.\n",
    "Write a program to check if two strings are balanced. \n",
    "For example, strings s1 and s2 are balanced if all the characters in the s1 are present in s2. \n",
    "The character’s position doesn’t matter.\n",
    "'''\n",
    "s1 = \"Yn\"\n",
    "s2 = \"PYnative\"\n",
    "\n",
    "s1 = \"Ynf\"\n",
    "s2 = \"PYnative\"\n",
    "\n",
    "if s1 in s2:\n",
    "    print('True')\n",
    "else:\n",
    "    print('False')"
   ]
  },
  {
   "cell_type": "code",
   "execution_count": 52,
   "id": "69b3c0d4",
   "metadata": {},
   "outputs": [
    {
     "name": "stdout",
     "output_type": "stream",
     "text": [
      "Counter({'p': 2, 'A': 1, 'l': 1, 'e': 1, 'a': 1})\n"
     ]
    }
   ],
   "source": [
    "'''23. Write a program to count occurrences of all characters within a string'''\n",
    "\n",
    "from collections import Counter\n",
    "\n",
    "str1 = \"Applea\"\n",
    "\n",
    "myDict = Counter(str1)\n",
    "\n",
    "print(myDict)"
   ]
  },
  {
   "cell_type": "code",
   "execution_count": 53,
   "id": "a3b5366a",
   "metadata": {},
   "outputs": [
    {
     "name": "stdout",
     "output_type": "stream",
     "text": [
      "2510\n"
     ]
    }
   ],
   "source": [
    "'''24.  Removal all characters from a string except integers'''\n",
    "\n",
    "str1 = 'I am 25 years and 10 months old'\n",
    "\n",
    "newString = \"\".join([char for char in str1 if char.isdigit()])\n",
    "print(newString)"
   ]
  },
  {
   "cell_type": "code",
   "execution_count": 57,
   "id": "5cf71b7b",
   "metadata": {},
   "outputs": [
    {
     "name": "stdout",
     "output_type": "stream",
     "text": [
      "[11, 45, 8]\n"
     ]
    }
   ],
   "source": [
    "'''25. Slice list into 3 equal chunks and reverse each chunk '''\n",
    "\n",
    "sample_list = [11, 45, 8, 23, 14, 12, 78, 45, 89]\n",
    "\n",
    "print(sample_list[slice(0,3)])"
   ]
  },
  {
   "cell_type": "code",
   "execution_count": null,
   "id": "f479792b",
   "metadata": {},
   "outputs": [
    {
     "name": "stdout",
     "output_type": "stream",
     "text": [
      "4a3b2c3a\n"
     ]
    }
   ],
   "source": [
    "myStr = \"aaaabbbccaaa\"\n",
    "count = 1\n",
    "for i in range(len(myStr)-1):\n",
    "    if myStr[i] == myStr[i+1]:\n",
    "        count += 1\n",
    "    else:\n",
    "        print(str(count)+ myStr[i], end='')\n",
    "        count = 1\n",
    "print(str(count)+ myStr[-1])\n",
    "        "
   ]
  },
  {
   "cell_type": "code",
   "execution_count": null,
   "id": "bcee3fc0",
   "metadata": {},
   "outputs": [
    {
     "name": "stdout",
     "output_type": "stream",
     "text": [
      "['an', 'cased', 'example', 'hello', 'is', 'letters', 'this', 'with']\n"
     ]
    }
   ],
   "source": [
    "'''Program to sort alphabetically the words form a string provided by the user.'''\n",
    "\n",
    "_str = \"Hello this Is an Example With cased letters\"\n",
    "\n",
    "_str = _str.casefold()\n",
    "\n",
    "myList = _str.split()\n",
    "\n",
    "myList.sort()\n",
    "\n",
    "print(myList)"
   ]
  },
  {
   "cell_type": "markdown",
   "id": "547125e6",
   "metadata": {},
   "source": [
    "# datetime"
   ]
  },
  {
   "cell_type": "code",
   "execution_count": 22,
   "id": "6fb9a310",
   "metadata": {},
   "outputs": [
    {
     "name": "stdout",
     "output_type": "stream",
     "text": [
      "2025-01-02 19:07:57.721271\n",
      "19:07:57.721271\n"
     ]
    }
   ],
   "source": [
    "import datetime\n",
    "\n",
    "print(datetime.datetime.now())\n",
    "\n",
    "print(datetime.datetime.now().time())"
   ]
  },
  {
   "cell_type": "code",
   "execution_count": 68,
   "id": "e5199945",
   "metadata": {},
   "outputs": [
    {
     "name": "stdout",
     "output_type": "stream",
     "text": [
      "2022-04-17\n",
      "Current year: 2022\n",
      "Current month: 4\n",
      "Current day: 17\n"
     ]
    }
   ],
   "source": [
    "''' DATE TIME exercises..........'''\n",
    "\n",
    "from datetime import date\n",
    "\n",
    "today = date.today() #'''Get Current Date'''\n",
    "print(today)\n",
    "\n",
    "print(\"Current year:\", today.year)\n",
    "print(\"Current month:\", today.month)\n",
    "print(\"Current day:\", today.day)\n"
   ]
  },
  {
   "cell_type": "markdown",
   "id": "f4fba57e",
   "metadata": {},
   "source": [
    "# Dictionaries"
   ]
  },
  {
   "cell_type": "code",
   "execution_count": 6,
   "id": "1b0b324d",
   "metadata": {},
   "outputs": [
    {
     "name": "stdout",
     "output_type": "stream",
     "text": [
      "Counter({'r': 1, 'a': 1, 'm': 1, 'e': 1, 's': 1, 'h': 1})\n",
      "a 1\n",
      "e 1\n"
     ]
    }
   ],
   "source": [
    "''' Program to count the number of each vowel in a string.'''\n",
    "'Method1'\n",
    "from collections import Counter\n",
    "\n",
    "_str = \"ramesh\"\n",
    "\n",
    "myDict = Counter(_str)\n",
    "print(myDict)\n",
    "\n",
    "for item in myDict.keys():\n",
    "    if item in 'aeiou':\n",
    "        print(item, myDict[item])        "
   ]
  },
  {
   "cell_type": "code",
   "execution_count": 9,
   "id": "a0ae1cdc",
   "metadata": {},
   "outputs": [
    {
     "name": "stdout",
     "output_type": "stream",
     "text": [
      "{'a': 2, 'e': 5, 'i': 3, 'o': 5, 'u': 3}\n"
     ]
    }
   ],
   "source": [
    "''' Program to count the number of each vowel in a string.'''\n",
    "'Method2'\n",
    "\n",
    "vowels = 'aeiou'\n",
    "ip_str = 'Hello, have you tried our tutorial section yet?'\n",
    "\n",
    "ip_str = ip_str.casefold()\n",
    "\n",
    "\n",
    "myDict = {}.fromkeys(vowels,0)\n",
    "\n",
    "for char in ip_str:\n",
    "    if char in myDict:\n",
    "        myDict[char] += 1\n",
    "\n",
    "print(myDict)"
   ]
  },
  {
   "cell_type": "code",
   "execution_count": 4,
   "id": "ee4127e3",
   "metadata": {},
   "outputs": [
    {
     "name": "stdout",
     "output_type": "stream",
     "text": [
      "\n",
      "1ffge3r6jj883ff0033gggramesh3\n"
     ]
    }
   ],
   "source": [
    "''' program to remove integers from string'''\n",
    "\n",
    "_str = \"1ffge3r6jj883ff0033gggramesh3\"\n",
    "_newStr = \"\"\n",
    "\n",
    "for item in _str:\n",
    "    if not item.isdigit:\n",
    "        _newStr += item\n",
    "\n",
    "print(_newStr)\n",
    "print(_str)\n",
    "    "
   ]
  },
  {
   "cell_type": "code",
   "execution_count": 10,
   "id": "61697d29",
   "metadata": {},
   "outputs": [
    {
     "name": "stdout",
     "output_type": "stream",
     "text": [
      "Enter item to check: 0\n",
      "occurances:  0\n"
     ]
    }
   ],
   "source": [
    "''' Count occurrences of an element in a list'''\n",
    "\n",
    "lst = [15, 6, 7, 10, 12, 20, 10, 28, 10]\n",
    "count = 0\n",
    "\n",
    "try:\n",
    "    x = int(input('Enter item to check: '))\n",
    "    for i in lst:\n",
    "        if i == x:\n",
    "            count += 1\n",
    "    print('occurances: ', count)\n",
    "except:\n",
    "    print('its not an integer!!!') "
   ]
  },
  {
   "cell_type": "code",
   "execution_count": 13,
   "id": "c3198108",
   "metadata": {},
   "outputs": [
    {
     "name": "stdout",
     "output_type": "stream",
     "text": [
      "[-20, 20, 60, 30]\n"
     ]
    }
   ],
   "source": [
    "'''Program to print duplicates from a list of integers'''\n",
    "list1 = [10, 20, 30, 20, 20, 30, 40, 50, -20, 60, 60, -20, -20]\n",
    "\n",
    "uniqueList = list(set(list1))\n",
    "\n",
    "newList = []\n",
    "\n",
    "for item in uniqueList:\n",
    "    if list1.count(item) > 1:\n",
    "        newList.append(item)\n",
    "\n",
    "\n",
    "print(newList)"
   ]
  },
  {
   "cell_type": "code",
   "execution_count": 18,
   "id": "a2a2e203",
   "metadata": {},
   "outputs": [
    {
     "name": "stdout",
     "output_type": "stream",
     "text": [
      "Enter number to reverse: 3456789\n",
      "reversed number is : 9876543\n"
     ]
    }
   ],
   "source": [
    "''' Program to reverse an integer '''\n",
    "\n",
    "try:\n",
    "    num = int(input('Enter number to reverse: '))\n",
    "    reverse = 0\n",
    "\n",
    "    while num!=0:\n",
    "        reverse = reverse*10 + num%10\n",
    "        num = num//10\n",
    "\n",
    "    print(\"reversed number is :\", reverse)\n",
    "except:\n",
    "    print(\"please enter only numbers!!!\")"
   ]
  },
  {
   "cell_type": "code",
   "execution_count": 24,
   "id": "848bb950",
   "metadata": {},
   "outputs": [
    {
     "name": "stdout",
     "output_type": "stream",
     "text": [
      "343\n",
      "559\n",
      "684\n",
      "684\n",
      "Its Not an Armstrong number....\n"
     ]
    }
   ],
   "source": [
    "''' To check Armstrong number....'''\n",
    "\n",
    "num = int(input('Enter number : '))\n",
    "\n",
    "num1 = num\n",
    "newNum = 0\n",
    "while num1 > 0:\n",
    "    temp = num1%10\n",
    "    newNum += (temp**3)\n",
    "    print(newNum)\n",
    "    num1 = num1//10\n",
    "\n",
    "print(newNum)\n",
    "if newNum == num:\n",
    "    print('Its an Armstrong number....')\n",
    "else:\n",
    "    print('Its Not an Armstrong number....')\n",
    "    \n",
    "    "
   ]
  },
  {
   "cell_type": "code",
   "execution_count": 31,
   "id": "10f0101b",
   "metadata": {},
   "outputs": [
    {
     "name": "stdout",
     "output_type": "stream",
     "text": [
      "Its a prime number\n"
     ]
    }
   ],
   "source": [
    "''' To check prime number'''\n",
    "\n",
    "num = int(input('Enter number : '))\n",
    "\n",
    "temp = 0\n",
    "\n",
    "for i in range(2,(num//2)+1):\n",
    "    if num % i == 0:\n",
    "        temp = 1\n",
    "        print(i)\n",
    "        break\n",
    "\n",
    "if temp == 1 or num <2:\n",
    "    print('Its not a prime number')\n",
    "else:\n",
    "    print('Its a prime number')\n",
    "        \n",
    "\n",
    "        \n",
    "            "
   ]
  },
  {
   "cell_type": "code",
   "execution_count": 1,
   "id": "42f66069",
   "metadata": {},
   "outputs": [
    {
     "name": "stdout",
     "output_type": "stream",
     "text": [
      "please give a number for fibonacci series : 10\n",
      "0\n",
      "1\n",
      "1\n",
      "2\n",
      "3\n",
      "5\n",
      "8\n",
      "13\n",
      "21\n",
      "34\n"
     ]
    }
   ],
   "source": [
    "'''fibonacci series'''\n",
    "first,second=0,1\n",
    "n = int(input(\"please give a number for fibonacci series : \"))\n",
    "\n",
    "for i in range(n):\n",
    "    if i <= 1:\n",
    "        result = i\n",
    "    else:\n",
    "        result = first+second\n",
    "        first = second\n",
    "        second = result\n",
    "    print(result)"
   ]
  },
  {
   "cell_type": "code",
   "execution_count": 32,
   "id": "744bc3ed",
   "metadata": {},
   "outputs": [
    {
     "name": "stdout",
     "output_type": "stream",
     "text": [
      "fibonacci series are : \n",
      "0 1 1 2 3 5 8 13 21 34 "
     ]
    }
   ],
   "source": [
    "'''fibonacci series using recursive method'''\n",
    "\n",
    "# first,second=0,1\n",
    "n = int(input(\"please give a number for fibonacci series : \"))\n",
    "def fibonacci(num):\n",
    "    if num == 0:\n",
    "        return 0\n",
    "    elif num == 1:\n",
    "        return 1\n",
    "    else:\n",
    "        return fibonacci(num-1)+fibonacci(num-2)\n",
    "print(\"fibonacci series are : \")\n",
    "for i in range(0,n):\n",
    "    print(fibonacci(i), end=\" \")"
   ]
  },
  {
   "cell_type": "code",
   "execution_count": 12,
   "id": "cc59efa3",
   "metadata": {},
   "outputs": [
    {
     "name": "stdout",
     "output_type": "stream",
     "text": [
      "Enter number : 123321\n",
      "its palindrome\n"
     ]
    }
   ],
   "source": [
    "'''Palindrom using Iterative method'''\n",
    "\n",
    "num = int(input('Enter number : '))\n",
    "newNum= 0\n",
    "num1 = num\n",
    "\n",
    "while num1 > 0:\n",
    "    y = num1 % 10\n",
    "    newNum = newNum*10 + y\n",
    "    num1 = num1//10\n",
    "\n",
    "if newNum == num:\n",
    "    print('its palindrome')\n",
    "else:\n",
    "    print('its not palindrome')"
   ]
  },
  {
   "cell_type": "code",
   "execution_count": 13,
   "id": "c817e4df",
   "metadata": {},
   "outputs": [
    {
     "name": "stdout",
     "output_type": "stream",
     "text": [
      "Enter number : 123321\n",
      "its palindrome\n"
     ]
    }
   ],
   "source": [
    "'''Palindrom using Recursive method'''\n",
    "\n",
    "num = int(input('Enter number : '))\n",
    "\n",
    "def reverse(n):\n",
    "    if n < 10:\n",
    "        return n\n",
    "    else:\n",
    "        return int(str(n%10) + str(reverse(n//10)))\n",
    "\n",
    "if num == reverse(num):\n",
    "    print('its palindrome')\n",
    "else:\n",
    "    print('its not palindrome')"
   ]
  },
  {
   "cell_type": "code",
   "execution_count": 1,
   "id": "c014bf01",
   "metadata": {},
   "outputs": [
    {
     "name": "stdout",
     "output_type": "stream",
     "text": [
      "Enter number : 1234\n",
      "Sum of digits in 1234 is 10\n"
     ]
    }
   ],
   "source": [
    "''' sum of digits using recursion '''\n",
    "num = int(input('Enter number : '))\n",
    "\n",
    "\n",
    "def sum_of_digit(n):\n",
    "    if n == 0:\n",
    "        return 0\n",
    "    return (n % 10 + sum_of_digit(int(n / 10)))\n",
    "\n",
    "result = sum_of_digit(num)\n",
    "print(\"Sum of digits in\", num, \"is\", result)"
   ]
  },
  {
   "cell_type": "code",
   "execution_count": 5,
   "id": "9dd6ca66",
   "metadata": {},
   "outputs": [
    {
     "name": "stdout",
     "output_type": "stream",
     "text": [
      "Rmesh\n"
     ]
    }
   ],
   "source": [
    "'''Remove given character from string....'''\n",
    "\n",
    "myString = \"Ramesh\"\n",
    "char = 'a'\n",
    "\n",
    "myString = myString.replace(char, '')\n",
    "\n",
    "print(myString)"
   ]
  },
  {
   "cell_type": "code",
   "execution_count": 9,
   "id": "0394978e",
   "metadata": {},
   "outputs": [
    {
     "name": "stdout",
     "output_type": "stream",
     "text": [
      "72\n"
     ]
    }
   ],
   "source": [
    "''' Count the numbers in the string...'''\n",
    "\n",
    "myString = 'abc1def234fgt7890m12ghty5h6h7h8h9'\n",
    "\n",
    "Sum = 0\n",
    "\n",
    "for item in myString:\n",
    "    if item.isdigit():\n",
    "        Sum += int(item)\n",
    "        \n",
    "print(Sum)"
   ]
  },
  {
   "cell_type": "code",
   "execution_count": 12,
   "id": "10ca0369",
   "metadata": {},
   "outputs": [
    {
     "name": "stdout",
     "output_type": "stream",
     "text": [
      "Rmsh\n"
     ]
    }
   ],
   "source": [
    "''' program to delete the vowels in a string'''\n",
    "\n",
    "myString = 'RAmesh'\n",
    "\n",
    "myVowels = 'aeiouAEIOU'\n",
    "\n",
    "newString = ''\n",
    "\n",
    "for char in myString:\n",
    "    if char not in myVowels:\n",
    "        newString += char\n",
    "\n",
    "print(newString)"
   ]
  },
  {
   "cell_type": "code",
   "execution_count": 13,
   "id": "1d1b41a7",
   "metadata": {},
   "outputs": [
    {
     "name": "stdout",
     "output_type": "stream",
     "text": [
      "5 8\n"
     ]
    }
   ],
   "source": [
    "''' program to count the vowels and consonents in a string'''\n",
    "\n",
    "myString = 'RAmesh34Kishore'\n",
    "\n",
    "myVowels = 'aeiouAEIOU'\n",
    "\n",
    "VowelsCount, ConsonentCount = 0,0\n",
    "\n",
    "for char in myString:\n",
    "    if char.isalpha():\n",
    "        if char in myVowels:\n",
    "            VowelsCount += 1\n",
    "        else:\n",
    "            ConsonentCount += 1\n",
    "\n",
    "print(VowelsCount,ConsonentCount)       \n",
    "        \n"
   ]
  },
  {
   "cell_type": "code",
   "execution_count": 20,
   "id": "b02b18d8",
   "metadata": {},
   "outputs": [
    {
     "name": "stdout",
     "output_type": "stream",
     "text": [
      "Counter({'e': 2, 's': 2, 'h': 2, 'R': 1, 'A': 1, 'm': 1, '3': 1, '4': 1, 'K': 1, 'i': 1, 'o': 1, 'r': 1})\n",
      "dict_values([1, 1, 1, 2, 2, 2, 1, 1, 1, 1, 1, 1])\n",
      "2\n",
      "e\n",
      "s\n",
      "h\n"
     ]
    }
   ],
   "source": [
    "''' program to print the highest frequency characters...'''\n",
    "\n",
    "from collections import Counter\n",
    "\n",
    "myString = 'RAmesh34Kishore'\n",
    "\n",
    "myDict = Counter(myString)\n",
    "\n",
    "print(myDict)\n",
    "print(myDict.values())\n",
    "print(max(myDict.values()))\n",
    "max_ = max(myDict.values())\n",
    "\n",
    "for key in myDict:\n",
    "    if myDict[key] == max_:\n",
    "        print(key)\n"
   ]
  },
  {
   "cell_type": "code",
   "execution_count": 22,
   "id": "0b09188d",
   "metadata": {},
   "outputs": [
    {
     "name": "stdout",
     "output_type": "stream",
     "text": [
      "s\n"
     ]
    }
   ],
   "source": [
    "''' program to print the dict keys of maximum value'''\n",
    "newDict = {'e': 2, 's': 20, 'h': 2, 'R': 1, 'A': 1, 'm': 1, '3': 1, '4': 1, 'K': 1, 'i': 1, 'o': 1, 'r': 1}\n",
    "\n",
    "result = max(newDict, key=newDict.get)\n",
    "print(result)"
   ]
  },
  {
   "cell_type": "code",
   "execution_count": 35,
   "id": "e74b29cf",
   "metadata": {},
   "outputs": [
    {
     "name": "stdout",
     "output_type": "stream",
     "text": [
      "R-mesh34Kishore\n"
     ]
    }
   ],
   "source": [
    "''' Program to replace the 1st occurance of vowel wiuth '-' .  '''\n",
    "\n",
    "myString = 'RAmesh34Kishore'\n",
    "\n",
    "Vowels = 'aeiouAEIOU'\n",
    "\n",
    "for char in myString:\n",
    "    if char in Vowels:\n",
    "        myString = myString.replace(char,'-',1)\n",
    "        break\n",
    "\n",
    "print(myString)"
   ]
  },
  {
   "cell_type": "code",
   "execution_count": 25,
   "id": "3bed6a7d",
   "metadata": {},
   "outputs": [
    {
     "name": "stdout",
     "output_type": "stream",
     "text": [
      "R A m e s h 3 4 K i s h o r e\n"
     ]
    }
   ],
   "source": [
    "''' program to seperate characters in a string'''\n",
    "\n",
    "myString = 'RAmesh34Kishore'\n",
    "\n",
    "print(\" \".join(myString))"
   ]
  },
  {
   "cell_type": "code",
   "execution_count": 26,
   "id": "5c1a928d",
   "metadata": {},
   "outputs": [
    {
     "name": "stdout",
     "output_type": "stream",
     "text": [
      "RAmesh34KishoreGood\n"
     ]
    }
   ],
   "source": [
    "''' program to remove blank spaces in a string'''\n",
    "\n",
    "myString = 'RAmesh 34 Kishore Good '\n",
    "\n",
    "myString = myString.replace(' ', '')\n",
    "print(myString)"
   ]
  },
  {
   "cell_type": "code",
   "execution_count": 36,
   "id": "9187e651",
   "metadata": {},
   "outputs": [
    {
     "name": "stdout",
     "output_type": "stream",
     "text": [
      "RAmhiKore 34dGs\n"
     ]
    }
   ],
   "source": [
    "''' program to remove repeated characters in a string'''\n",
    "\n",
    "myString = 'RAmesh 34 Kishore Good '\n",
    "\n",
    "print(\"\".join(set(myString)))"
   ]
  },
  {
   "cell_type": "code",
   "execution_count": 30,
   "id": "2c5bf761",
   "metadata": {},
   "outputs": [
    {
     "name": "stdout",
     "output_type": "stream",
     "text": [
      "11\n"
     ]
    }
   ],
   "source": [
    "''' program to calculate sum of integers in a string....'''\n",
    "\n",
    "myString = 'RAmesh 34 Kishore Good4 '\n",
    "\n",
    "Numbers = ['1','2','3','4','5','6','7','8','9']\n",
    "Sum = 0\n",
    "\n",
    "for char in myString:\n",
    "    if char in Numbers:\n",
    "        Sum += int(char)\n",
    "\n",
    "print(Sum)\n",
    "        "
   ]
  },
  {
   "cell_type": "code",
   "execution_count": 34,
   "id": "837088a8",
   "metadata": {},
   "outputs": [
    {
     "name": "stdout",
     "output_type": "stream",
     "text": [
      "R A m e s h 3 G d "
     ]
    }
   ],
   "source": [
    "''' program to print all non-repeating characters in a string\" '''\n",
    "\n",
    "myString = 'RAmesh 34 Good4 '\n",
    "\n",
    "for char in myString:\n",
    "    if myString.count(char) == 1:\n",
    "        print(char, end=\" \")"
   ]
  },
  {
   "cell_type": "code",
   "execution_count": 39,
   "id": "a2626465",
   "metadata": {},
   "outputs": [
    {
     "name": "stdout",
     "output_type": "stream",
     "text": [
      "1\n",
      "3\n",
      "66\n"
     ]
    }
   ],
   "source": [
    "''' program to find the duplicates in an array...'''\n",
    "\n",
    "from collections import Counter\n",
    "myArr = [1,1,3,4,5,66,66,7,3]\n",
    "\n",
    "myDict = Counter(myArr)\n",
    "\n",
    "for item in myDict:\n",
    "    if myDict[item] > 1:\n",
    "        print(item)\n"
   ]
  },
  {
   "cell_type": "code",
   "execution_count": 41,
   "id": "81ed6654",
   "metadata": {},
   "outputs": [
    {
     "name": "stdout",
     "output_type": "stream",
     "text": [
      "1\n",
      "3\n",
      "66\n"
     ]
    }
   ],
   "source": [
    "''' METHOD2(without Counter module) --- program to find the duplicates in an array...'''\n",
    "\n",
    "myArr = [1,1,3,4,5,66,66,7,3]\n",
    "myDict = {}\n",
    "\n",
    "\n",
    "for item in myArr:\n",
    "    if item in myDict:\n",
    "        myDict[item] += 1\n",
    "    else:\n",
    "        myDict[item] = 1\n",
    "\n",
    "for item in myDict:\n",
    "    if myDict[item] > 1:\n",
    "        print(item)"
   ]
  },
  {
   "cell_type": "code",
   "execution_count": 45,
   "id": "188fc00c",
   "metadata": {},
   "outputs": [
    {
     "name": "stdout",
     "output_type": "stream",
     "text": [
      "Pairs  [1, 2] Index : 0\n",
      "Pairs  [3, 0] Index : 2\n",
      "Pairs  [1, 1, 1] Index : 3\n"
     ]
    }
   ],
   "source": [
    "''' Program to find all pairs of integers(with index) whose sum is equal to given number'''\n",
    "\n",
    "myArr = [[1,2],[4,5,6],[3,0],[1,1,1]]\n",
    "Num = 3\n",
    "\n",
    "for index,item in enumerate(myArr):\n",
    "    if sum(item) == Num:\n",
    "        print('Pairs ',item, 'Index :', index)"
   ]
  },
  {
   "cell_type": "code",
   "execution_count": 46,
   "id": "a05f3641",
   "metadata": {},
   "outputs": [
    {
     "name": "stdout",
     "output_type": "stream",
     "text": [
      "789\n"
     ]
    }
   ],
   "source": [
    "''' Program to find the 2nd highest number in an array'''\n",
    "\n",
    "myArr = [1,67,223,6,789,122,67,99999]\n",
    "\n",
    "myArr = sorted(myArr)\n",
    "\n",
    "print(myArr[-2])"
   ]
  },
  {
   "cell_type": "code",
   "execution_count": 49,
   "id": "c8e848b5",
   "metadata": {},
   "outputs": [
    {
     "name": "stdout",
     "output_type": "stream",
     "text": [
      "789\n"
     ]
    }
   ],
   "source": [
    "''' METHOD2: ---Program to find the 2nd highest number in an array'''\n",
    "\n",
    "myArr = [1,67,223,6,789,122,67,99999]\n",
    "\n",
    "myArr.remove(max(myArr))\n",
    "\n",
    "print(max(myArr))"
   ]
  },
  {
   "cell_type": "code",
   "execution_count": 43,
   "id": "dedd2c9d",
   "metadata": {},
   "outputs": [
    {
     "name": "stdout",
     "output_type": "stream",
     "text": [
      "[789, 99999]\n"
     ]
    }
   ],
   "source": [
    "''' Program to find top two maximum number in an array'''\n",
    "\n",
    "myArr = [1,67,223,6,789,122,67,99999]\n",
    "\n",
    "myArr = sorted(myArr)\n",
    "# myArr.sort()\n",
    "\n",
    "print(myArr[-2:])"
   ]
  },
  {
   "cell_type": "code",
   "execution_count": 60,
   "id": "7d7c3bf1",
   "metadata": {},
   "outputs": [
    {
     "name": "stdout",
     "output_type": "stream",
     "text": [
      "[1, 497, 67, 223, 6, 789, 122, 67, 99999]\n"
     ]
    }
   ],
   "source": [
    "''' Program to find insert element at a given location in an array'''\n",
    "myArr = [1,67,223,6,789,122,67,99999]\n",
    "\n",
    "myArr.insert(1,497)\n",
    "\n",
    "print(myArr)"
   ]
  },
  {
   "cell_type": "code",
   "execution_count": 61,
   "id": "55d59db6",
   "metadata": {},
   "outputs": [
    {
     "name": "stdout",
     "output_type": "stream",
     "text": [
      "[1, 67, 223, 6, 789, 122, 67]\n"
     ]
    }
   ],
   "source": [
    "''' Program to delete an element at end of an array'''\n",
    "myArr = [1,67,223,6,789,122,67,99999]\n",
    "\n",
    "print(myArr[:-1])"
   ]
  },
  {
   "cell_type": "code",
   "execution_count": 46,
   "id": "7ba6f9b7",
   "metadata": {},
   "outputs": [
    {
     "name": "stdout",
     "output_type": "stream",
     "text": [
      "9\n",
      "45\n"
     ]
    }
   ],
   "source": [
    "'''Program to find highest frequency element in an array'''\n",
    "\n",
    "myArr = [1,67,223,6,789,122,67,9,3,9,45,45,45,45,2,9,2,9,9,45]\n",
    "\n",
    "myDict = {}\n",
    "\n",
    "for num in myArr:\n",
    "    if num in myDict:\n",
    "        myDict[num] +=1\n",
    "    else:\n",
    "        myDict[num] = 1\n",
    "\n",
    "val = max(myDict.values())\n",
    "\n",
    "# for key, value in myDict.items():\n",
    "#     if value == val:\n",
    "#         print(key)\n",
    "\n",
    "for key in myDict:\n",
    "    if myDict[key] == val:\n",
    "        print(key)"
   ]
  }
 ],
 "metadata": {
  "kernelspec": {
   "display_name": "Python 3",
   "language": "python",
   "name": "python3"
  },
  "language_info": {
   "codemirror_mode": {
    "name": "ipython",
    "version": 3
   },
   "file_extension": ".py",
   "mimetype": "text/x-python",
   "name": "python",
   "nbconvert_exporter": "python",
   "pygments_lexer": "ipython3",
   "version": "3.10.11"
  }
 },
 "nbformat": 4,
 "nbformat_minor": 5
}
