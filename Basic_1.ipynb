{
 "cells": [
  {
   "cell_type": "markdown",
   "id": "b6861b45",
   "metadata": {},
   "source": [
    "# Basics(Strings,list,etc.,)"
   ]
  },
  {
   "cell_type": "code",
   "execution_count": 6,
   "id": "9bfb3888",
   "metadata": {},
   "outputs": [
    {
     "name": "stdout",
     "output_type": "stream",
     "text": [
      "[402]\n"
     ]
    }
   ],
   "source": [
    "''' 1. Given two integer numbers return their product only if the product is greater than 1000, else return their sum.'''\n",
    "x = 2\n",
    "y = 400\n",
    "result = [x*y if x*y > 1000 else x+y]\n",
    "\n",
    "print(result)"
   ]
  },
  {
   "cell_type": "code",
   "execution_count": 7,
   "id": "c78414d2",
   "metadata": {},
   "outputs": [
    {
     "name": "stdout",
     "output_type": "stream",
     "text": [
      "\n",
      "\n"
     ]
    }
   ],
   "source": [
    "'''2. Write a program to accept a string from the user and display characters that are present at an even index number.'''\n",
    "str1 = input()\n",
    "\n",
    "print(str1[::2])\n",
    "newString = \"\"\n",
    "\n",
    "for char in str1[::2]:\n",
    "    print(char)\n",
    "\n",
    "for char in str1[::2]:\n",
    "    newString += char\n",
    "\n",
    "print(newString)\n"
   ]
  },
  {
   "cell_type": "code",
   "execution_count": 8,
   "id": "eec7b30d",
   "metadata": {},
   "outputs": [
    {
     "name": "stdout",
     "output_type": "stream",
     "text": [
      "3\n"
     ]
    }
   ],
   "source": [
    "'''3. Write a program to find how many times substring “Emma” appears in the given string.'''\n",
    "\n",
    "str_x = \"Emma is good developer. Emma is a writer. Emma \"\n",
    "\n",
    "count = str_x.count(\"Emma\")\n",
    "\n",
    "print(count)"
   ]
  },
  {
   "cell_type": "code",
   "execution_count": 2,
   "id": "3f85af81",
   "metadata": {},
   "outputs": [
    {
     "name": "stdout",
     "output_type": "stream",
     "text": [
      "[10, 20, 55]\n"
     ]
    }
   ],
   "source": [
    "'''4. Display numbers divisible by 5 from a list'''\n",
    "\n",
    "_list = [10, 20, 33, 46, 55]\n",
    "\n",
    "result = [x for x in _list if x%5 == 0 ]\n",
    "print(result)"
   ]
  },
  {
   "cell_type": "code",
   "execution_count": null,
   "id": "2e3bb4ec",
   "metadata": {},
   "outputs": [
    {
     "name": "stdout",
     "output_type": "stream",
     "text": [
      "1 \n",
      "2 2 \n",
      "3 3 3 \n",
      "4 4 4 4 \n",
      "5 5 5 5 5 \n"
     ]
    }
   ],
   "source": [
    "'''5. Print the following pattern\n",
    "\n",
    "1 \n",
    "2 2 \n",
    "3 3 3 \n",
    "4 4 4 4 \n",
    "5 5 5 5 5\n",
    "'''\n",
    "n = int(input(\"Enter number: \"))\n",
    "\n",
    "for i in range(1,n+1):\n",
    "    for j in range(i):\n",
    "        print(i, end=\" \")\n",
    "    print() # for printing new line"
   ]
  },
  {
   "cell_type": "code",
   "execution_count": null,
   "id": "6c062892",
   "metadata": {},
   "outputs": [
    {
     "name": "stdout",
     "output_type": "stream",
     "text": [
      "[25, 35, 40, 60, 90]\n"
     ]
    }
   ],
   "source": [
    "''' 6.\n",
    "Given a two list of numbers, write a program to create a new list such that the new list should contain odd numbers \n",
    "from the first list and even numbers from the second list.\n",
    "'''\n",
    "\n",
    "list1 = [10, 20, 25, 30, 35]\n",
    "list2 = [40, 45, 60, 75, 90]\n",
    "\n",
    "list3 = [x for x in list1 if x%2 !=0] + [x for x in list2 if x%2 ==0]\n",
    "\n",
    "print(list3)"
   ]
  },
  {
   "cell_type": "code",
   "execution_count": null,
   "id": "5f9fa34a",
   "metadata": {},
   "outputs": [
    {
     "name": "stdout",
     "output_type": "stream",
     "text": [
      "q\n"
     ]
    }
   ],
   "source": [
    "'''7. Write a Program to extract each digit from an integer in the reverse order.\n",
    "For example, If the given int is 7536, the output shall be “6 3 5 7“, with a space separating the digits.\n",
    "'''\n",
    "\n",
    "x = input(\"Enter num:\")\n",
    "\n",
    "print(' '.join(x[::-1]))\n",
    "\n"
   ]
  },
  {
   "cell_type": "code",
   "execution_count": null,
   "id": "472f3932",
   "metadata": {},
   "outputs": [
    {
     "name": "stdout",
     "output_type": "stream",
     "text": [
      "1 2 3 4 5 6 7 8 9 10  \n",
      "2 4 6 8 10 12 14 16 18 20  \n",
      "3 6 9 12 15 18 21 24 27 30  \n",
      "4 8 12 16 20 24 28 32 36 40  \n",
      "5 10 15 20 25 30 35 40 45 50  \n",
      "6 12 18 24 30 36 42 48 54 60  \n",
      "7 14 21 28 35 42 49 56 63 70  \n",
      "8 16 24 32 40 48 56 64 72 80  \n",
      "9 18 27 36 45 54 63 72 81 90  \n",
      "10 20 30 40 50 60 70 80 90 100  \n"
     ]
    }
   ],
   "source": [
    "'''8. ##Print multiplication table form 1 to 10'''\n",
    "\n",
    "for i in range(1,11):\n",
    "    for j in range(1,11):\n",
    "        print(j*i, end= \" \")\n",
    "    print(' ')\n",
    "        "
   ]
  },
  {
   "cell_type": "code",
   "execution_count": null,
   "id": "cac4209e",
   "metadata": {},
   "outputs": [
    {
     "name": "stdout",
     "output_type": "stream",
     "text": [
      "* * * * * \t\t\n",
      "* * * * \t\t\n",
      "* * * \t\t\n",
      "* * \t\t\n",
      "* \t\t\n",
      "\t\t\n"
     ]
    }
   ],
   "source": [
    "'''9. Print downward Half-Pyramid Pattern with Star (asterisk)'''\n",
    "for i in range(6, 0, -1):\n",
    "    for j in range(0, i - 1):\n",
    "        print(\"*\", end=' ')\n",
    "    print(\"\\t\\t\")"
   ]
  },
  {
   "cell_type": "code",
   "execution_count": null,
   "id": "a6afc827",
   "metadata": {},
   "outputs": [
    {
     "name": "stdout",
     "output_type": "stream",
     "text": [
      "1 \t\t\n",
      "1 2 \t\t\n",
      "1 2 3 \t\t\n",
      "1 2 3 4 \t\t\n",
      "1 2 3 4 5 \t\t\n"
     ]
    }
   ],
   "source": [
    "'''10.\n",
    "Write a program to print the following number pattern using a loop.\n",
    "\n",
    "1 \n",
    "1 2 \n",
    "1 2 3 \n",
    "1 2 3 4 \n",
    "1 2 3 4 5\n",
    "'''\n",
    "\n",
    "n = 5\n",
    "\n",
    "for i in range(1,n+1):\n",
    "    for num in range(1,i+1):\n",
    "        print(num, end=' ')\n",
    "    print('\\t\\t')\n",
    "        \n"
   ]
  },
  {
   "cell_type": "code",
   "execution_count": null,
   "id": "4648171f",
   "metadata": {},
   "outputs": [
    {
     "name": "stdout",
     "output_type": "stream",
     "text": [
      "15\n"
     ]
    }
   ],
   "source": [
    "''' 11.\n",
    "Calculate the sum of all numbers from 1 to a given number\n",
    "Write a program to accept a number from a user and calculate the sum of all numbers from 1 to a given number\n",
    "'''\n",
    "\n",
    "num = int(input(\"Enter number:\"))\n",
    "\n",
    "sum = 0\n",
    "\n",
    "for i in range(1,num+1):\n",
    "    sum += i\n",
    "    \n",
    "print(sum)"
   ]
  },
  {
   "cell_type": "code",
   "execution_count": null,
   "id": "347369f7",
   "metadata": {},
   "outputs": [
    {
     "name": "stdout",
     "output_type": "stream",
     "text": [
      "8 * 1 =  8\n",
      "8 * 2 =  16\n",
      "8 * 3 =  24\n",
      "8 * 4 =  32\n",
      "8 * 5 =  40\n",
      "8 * 6 =  48\n",
      "8 * 7 =  56\n",
      "8 * 8 =  64\n",
      "8 * 9 =  72\n",
      "8 * 10 =  80\n",
      "\t\t\t\n"
     ]
    }
   ],
   "source": [
    "''' 12.\n",
    "Write a program to print multiplication table of a given number\n",
    "'''\n",
    "\n",
    "num = int(input(\"Enter number:\"))\n",
    "\n",
    "for i in range(1,11):\n",
    "    print(f\"{num} * {i} =  {num*i}\", end='\\n')\n",
    "print('\\t\\t\\t')\n"
   ]
  },
  {
   "cell_type": "code",
   "execution_count": null,
   "id": "03455bb8",
   "metadata": {},
   "outputs": [
    {
     "name": "stdout",
     "output_type": "stream",
     "text": [
      "5 4 3 2 1 \t\t\n",
      "4 3 2 1 \t\t\n",
      "3 2 1 \t\t\n",
      "2 1 \t\t\n",
      "1 \t\t\n"
     ]
    }
   ],
   "source": [
    "''' 13.\n",
    "Write a program to use for loop to print the following reverse number pattern\n",
    "\n",
    "5 4 3 2 1 \n",
    "4 3 2 1 \n",
    "3 2 1 \n",
    "2 1 \n",
    "1\n",
    "'''\n",
    "n = 5\n",
    "\n",
    "for i in range(5,0,-1):\n",
    "    for j in range(i,0,-1):\n",
    "        print(j, end=' ')\n",
    "    print('\\t\\t')\n",
    "        "
   ]
  },
  {
   "cell_type": "code",
   "execution_count": null,
   "id": "872390d5",
   "metadata": {},
   "outputs": [
    {
     "name": "stdout",
     "output_type": "stream",
     "text": [
      "29\n",
      "31\n",
      "37\n",
      "41\n",
      "43\n",
      "47\n"
     ]
    }
   ],
   "source": [
    "'''14. Write a program to display all prime numbers within a range'''\n",
    "\n",
    "start = 25\n",
    "end = 50\n",
    "\n",
    "for num in range(start, end+1):\n",
    "    if num > 1:  # all prime numbers are greater than 1 \n",
    "        for i in range(2,int(num/2)):\n",
    "            if num % i == 0:\n",
    "                break\n",
    "        else:\n",
    "            print(num)"
   ]
  },
  {
   "cell_type": "code",
   "execution_count": 6,
   "id": "d8716bb1",
   "metadata": {},
   "outputs": [
    {
     "name": "stdout",
     "output_type": "stream",
     "text": [
      "0 1 1 2 3 5 8 13 21 34 "
     ]
    }
   ],
   "source": [
    "''' 15. Display Fibonacci series up to 10 terms '''\n",
    "\n",
    "num1, num2 = 0,1\n",
    "\n",
    "for i in range(1, 11):\n",
    "    print(num1, end=\" \")\n",
    "    result = num1+num2\n",
    "    \n",
    "    num1 = num2\n",
    "    num2 = result"
   ]
  },
  {
   "cell_type": "code",
   "execution_count": null,
   "id": "23d74593",
   "metadata": {},
   "outputs": [
    {
     "name": "stdout",
     "output_type": "stream",
     "text": [
      "First 5 Fibonacci numbers: [0, 1, 1, 2, 3]\n"
     ]
    }
   ],
   "source": [
    "''' 15a. Fibonacci series '''\n",
    "\n",
    "def generate_fibonacci(n):\n",
    "    \"\"\"Generate first n terms of Fibonacci series\"\"\"\n",
    "    if n == 1:\n",
    "        return [0]\n",
    "    elif n == 2:\n",
    "        return [0, 1]\n",
    "    \n",
    "    fibonacci_list = [0, 1]\n",
    "    for _ in range(2, n):\n",
    "        fibonacci_list.append(fibonacci_list[-1] + fibonacci_list[-2])\n",
    "    return fibonacci_list\n",
    "\n",
    "# Main program\n",
    "try:\n",
    "    user_input = input(\"Enter the nth term to find fibonacci series: \")\n",
    "    n = int(user_input)\n",
    "    \n",
    "    if n <= 0:\n",
    "        print(\"Enter a positive integer\")\n",
    "    else:\n",
    "        result = generate_fibonacci(n)\n",
    "        print(f\"First {n} Fibonacci numbers: {result}\")\n",
    "        \n",
    "except ValueError:\n",
    "    print(\"Enter only integer...\")"
   ]
  },
  {
   "cell_type": "code",
   "execution_count": null,
   "id": "c623373e",
   "metadata": {},
   "outputs": [
    {
     "name": "stdout",
     "output_type": "stream",
     "text": [
      "Enter number:0\n",
      "1\n"
     ]
    }
   ],
   "source": [
    "''' 16. Find the factorial of a given number'''\n",
    "\n",
    "num = int(input('Enter number:'))\n",
    "sum = 1\n",
    "\n",
    "for i in range(num,1,-1):\n",
    "    sum *= i\n",
    "    \n",
    "print(sum)"
   ]
  },
  {
   "cell_type": "code",
   "execution_count": null,
   "id": "ee9ad3fd",
   "metadata": {},
   "outputs": [
    {
     "name": "stdout",
     "output_type": "stream",
     "text": [
      "factorial of the given number is : 40320\n",
      "GoodBye\n"
     ]
    }
   ],
   "source": [
    "''' 16a. Find the factorial of a given number'''\n",
    "while True:\n",
    "    user_input = input(\"Enter the number to find the factorial : \").strip()\n",
    "\n",
    "    if user_input.lower() in ['exit', 'q', 'quit']:\n",
    "        print(\"GoodBye\")\n",
    "        break\n",
    "\n",
    "    try:\n",
    "        number = int(user_input)\n",
    "        if number < 0:\n",
    "            print(\"Factorial can not be find for negative numbers\")\n",
    "        elif number == 0 or number == 1:\n",
    "            print(\"Factoral of the given number is 1\")\n",
    "        else:\n",
    "            factorial = 1\n",
    "            for i in range(1, number+1):\n",
    "                factorial *= i\n",
    "            print(f\"factorial of the given number is : {factorial}\")\n",
    "    except ValueError:\n",
    "        print(\"Enter only numbers\")  "
   ]
  },
  {
   "cell_type": "code",
   "execution_count": null,
   "id": "228a1130",
   "metadata": {},
   "outputs": [
    {
     "name": "stdout",
     "output_type": "stream",
     "text": [
      "24\n"
     ]
    }
   ],
   "source": [
    "''' 17. Find the factorial of a given number using recursive'''\n",
    "\n",
    "n = 4\n",
    "\n",
    "def factorial(num):\n",
    "    if num == 1 or num == 0:\n",
    "        return 1\n",
    "    return (num * factorial(num-1))\n",
    "\n",
    "\n",
    "x = factorial(n)\n",
    "print(x)"
   ]
  },
  {
   "cell_type": "code",
   "execution_count": null,
   "id": "e346ef5f",
   "metadata": {},
   "outputs": [
    {
     "name": "stdout",
     "output_type": "stream",
     "text": [
      "factorial of the given number is : 6\n",
      "Enter only numbers\n",
      "GoodBye\n"
     ]
    }
   ],
   "source": [
    "''' 17a. Find the factorial of a given number using recursive'''\n",
    "\n",
    "while True:\n",
    "    user_input = input(\"Enter the number to find the factorial : \").strip()\n",
    "\n",
    "    if user_input.lower() in ['exit', 'q', 'quit']:\n",
    "        print(\"GoodBye\")\n",
    "        break\n",
    "\n",
    "    def facto(n):\n",
    "        if n == 0 or n == 1:  # Base case\n",
    "            return 1\n",
    "        return n * facto(n-1)\n",
    "\n",
    "    try:\n",
    "        number = int(user_input)\n",
    "        if number < 0:\n",
    "            print(\"Factorial can not be find for negative numbers\")\n",
    "        elif number == 0 or number == 1:\n",
    "            print(\"Factoral of the given number is 1\")\n",
    "        else:\n",
    "            factorial = facto(number)\n",
    "            print(f\"factorial of the given number is : {factorial}\")\n",
    "    except ValueError:\n",
    "        print(\"Enter only numbers\")  "
   ]
  },
  {
   "cell_type": "code",
   "execution_count": null,
   "id": "9fb3caa8",
   "metadata": {},
   "outputs": [
    {
     "name": "stdout",
     "output_type": "stream",
     "text": [
      "24690\n"
     ]
    }
   ],
   "source": [
    "'''18. Find the sum of the series upto n terms\n",
    "Write a program to calculate the sum of series up to n term. \n",
    "For example, if n =5 the series will become 2 + 22 + 222 + 2222 + 22222 = 24690'''\n",
    "\n",
    "temp = ''\n",
    "n = 5\n",
    "sum = 0\n",
    "\n",
    "for i in range(1,n+1):\n",
    "    temp += '2'\n",
    "    sum += int(temp)\n",
    "    \n",
    "print(sum)\n",
    "    \n",
    "\n"
   ]
  },
  {
   "cell_type": "code",
   "execution_count": null,
   "id": "a87c94fe",
   "metadata": {},
   "outputs": [
    {
     "name": "stdout",
     "output_type": "stream",
     "text": [
      "55\n"
     ]
    }
   ],
   "source": [
    "''' 19.\n",
    "Write a program to create a recursive function to calculate the sum of numbers from 0 to 10.\n",
    "'''\n",
    "\n",
    "def SumOfNum(num):\n",
    "    if num:\n",
    "        return num + SumOfNum(num-1)\n",
    "    else:\n",
    "        return 0\n",
    "\n",
    "res = SumOfNum(10)\n",
    "print(res)\n",
    "    "
   ]
  },
  {
   "cell_type": "code",
   "execution_count": null,
   "id": "e3b418c9",
   "metadata": {},
   "outputs": [
    {
     "name": "stdout",
     "output_type": "stream",
     "text": [
      "Jms\n"
     ]
    }
   ],
   "source": [
    "'''20.\n",
    "Write a program to create a new string made of an input string’s first, middle, and last character.\n",
    "'''\n",
    "\n",
    "str1 = \"James\"\n",
    "\n",
    "x = len(str1)//2 \n",
    "\n",
    "new_word = str1[0] + str1[x] + str1[-1]\n",
    "\n",
    "print(new_word)"
   ]
  },
  {
   "cell_type": "code",
   "execution_count": null,
   "id": "33b4fc52",
   "metadata": {},
   "outputs": [
    {
     "name": "stdout",
     "output_type": "stream",
     "text": [
      "Original String is JhonDipPeta\n",
      "Middle three chars are: Dip\n",
      "Original String is JaSonAy\n",
      "Middle three chars are: Son\n"
     ]
    }
   ],
   "source": [
    "'''21.\n",
    "Write a program to create a new string made of the middle three characters of an input string.\n",
    "'''\n",
    "def get_middle_three_chars(str1):\n",
    "    print(\"Original String is\", str1)\n",
    "\n",
    "    # first get middle index number\n",
    "    mi = int(len(str1) / 2)\n",
    "\n",
    "    # use string slicing to get result characters\n",
    "    res = str1[mi - 1:mi + 2]\n",
    "    print(\"Middle three chars are:\", res)\n",
    "\n",
    "get_middle_three_chars(\"JhonDipPeta\")\n",
    "get_middle_three_chars(\"JaSonAy\")"
   ]
  },
  {
   "cell_type": "code",
   "execution_count": null,
   "id": "c1e2be7e",
   "metadata": {},
   "outputs": [
    {
     "name": "stdout",
     "output_type": "stream",
     "text": [
      "False\n"
     ]
    }
   ],
   "source": [
    "'''22.\n",
    "Write a program to check if two strings are balanced. \n",
    "For example, strings s1 and s2 are balanced if all the characters in the s1 are present in s2. \n",
    "The character’s position doesn’t matter.\n",
    "'''\n",
    "s1 = \"Yn\"\n",
    "s2 = \"PYnative\"\n",
    "\n",
    "s1 = \"Ynf\"\n",
    "s2 = \"PYnative\"\n",
    "\n",
    "if s1 in s2:\n",
    "    print('True')\n",
    "else:\n",
    "    print('False')"
   ]
  },
  {
   "cell_type": "code",
   "execution_count": null,
   "id": "69b3c0d4",
   "metadata": {},
   "outputs": [
    {
     "name": "stdout",
     "output_type": "stream",
     "text": [
      "Counter({'p': 2, 'A': 1, 'l': 1, 'e': 1, 'a': 1})\n"
     ]
    }
   ],
   "source": [
    "'''23. Write a program to count occurrences of all characters within a string'''\n",
    "\n",
    "from collections import Counter\n",
    "\n",
    "str1 = \"Applea\"\n",
    "\n",
    "myDict = Counter(str1)\n",
    "\n",
    "print(myDict)"
   ]
  },
  {
   "cell_type": "code",
   "execution_count": null,
   "id": "591e9c56",
   "metadata": {},
   "outputs": [
    {
     "name": "stdout",
     "output_type": "stream",
     "text": [
      "{'a': 2, 'p': 2, 'l': 1, 'e': 1, '1': 1}\n"
     ]
    }
   ],
   "source": [
    "'''23a. Write a program to count occurrences of all characters within a string - Without any import library'''\n",
    "\n",
    "str1 = \"Applea\"\n",
    "_str1 = str1.lower()\n",
    "\n",
    "char_count = {}\n",
    "\n",
    "for char in _str1:\n",
    "    char_count[char] = char_count.get(char,0)+ 1\n",
    "\n",
    "print(char_count)"
   ]
  },
  {
   "cell_type": "code",
   "execution_count": null,
   "id": "a3b5366a",
   "metadata": {},
   "outputs": [
    {
     "name": "stdout",
     "output_type": "stream",
     "text": [
      "2510\n"
     ]
    }
   ],
   "source": [
    "'''24.  Removal all characters from a string except integers'''\n",
    "\n",
    "str1 = 'I am 25 years and 10 months old'\n",
    "\n",
    "newString = \"\".join([char for char in str1 if char.isdigit()])\n",
    "print(newString)"
   ]
  },
  {
   "cell_type": "code",
   "execution_count": null,
   "id": "5cf71b7b",
   "metadata": {},
   "outputs": [
    {
     "name": "stdout",
     "output_type": "stream",
     "text": [
      "[11, 45, 8]\n"
     ]
    }
   ],
   "source": [
    "'''25. Slice list into 3 equal chunks and reverse each chunk '''\n",
    "\n",
    "sample_list = [11, 45, 8, 23, 14, 12, 78, 45, 89]\n",
    "\n",
    "print(sample_list[slice(0,3)])"
   ]
  },
  {
   "cell_type": "code",
   "execution_count": null,
   "id": "f479792b",
   "metadata": {},
   "outputs": [
    {
     "name": "stdout",
     "output_type": "stream",
     "text": [
      "4a3b2c"
     ]
    }
   ],
   "source": [
    "'''26. Program to find the number of characters  '''\n",
    "myStr = \"aaaabbbccaaa\"\n",
    "count = 1\n",
    "for i in range(len(myStr)-1):\n",
    "    if myStr[i] == myStr[i+1]:\n",
    "        count += 1\n",
    "    else:\n",
    "        print(str(count)+ myStr[i], end='')\n",
    "        count = 1\n",
    "print(str(count)+ myStr[-1])\n",
    "        "
   ]
  },
  {
   "cell_type": "code",
   "execution_count": null,
   "id": "bcee3fc0",
   "metadata": {},
   "outputs": [
    {
     "name": "stdout",
     "output_type": "stream",
     "text": [
      "hello this is an example with cased letters\n",
      "['an', 'cased', 'example', 'hello', 'is', 'letters', 'this', 'with']\n"
     ]
    }
   ],
   "source": [
    "'''27. Program to sort alphabetically the words form a string provided by the user.'''\n",
    "\n",
    "_str = \"Hello this Is an Example With cased letters\"\n",
    "\n",
    "_str = _str.casefold()\n",
    "print(_str)\n",
    "\n",
    "myList = _str.split()\n",
    "\n",
    "myList.sort()\n",
    "\n",
    "print(myList)"
   ]
  },
  {
   "cell_type": "code",
   "execution_count": null,
   "id": "62fe89fe",
   "metadata": {},
   "outputs": [
    {
     "name": "stdout",
     "output_type": "stream",
     "text": [
      "ffgerjjffgggramesh\n",
      "1ffge3r6jj883ff0033gggramesh3\n"
     ]
    }
   ],
   "source": [
    "''' 28. program to remove integers from string'''\n",
    "\n",
    "_str = \"1ffge3r6jj883ff0033gggramesh3\"\n",
    "_newStr = \"\"\n",
    "\n",
    "for item in _str:\n",
    "    if not item.isdigit():\n",
    "        _newStr += item\n",
    "\n",
    "print(_newStr)\n",
    "print(_str)\n",
    "    "
   ]
  },
  {
   "cell_type": "code",
   "execution_count": null,
   "id": "b6154279",
   "metadata": {},
   "outputs": [
    {
     "name": "stdout",
     "output_type": "stream",
     "text": [
      "its not an integer!!!\n"
     ]
    }
   ],
   "source": [
    "''' 29. Count occurrences of an element in a list'''\n",
    "\n",
    "lst = [15, 6, 7, 10, 12, 20, 10, 28, 10]\n",
    "count = 0\n",
    "\n",
    "try:\n",
    "    x = int(input('Enter item to check: '))\n",
    "    for i in lst:\n",
    "        if i == x:\n",
    "            count += 1\n",
    "    print('occurances: ', count)\n",
    "except ValueError:\n",
    "    print('its not an integer!!!') "
   ]
  },
  {
   "cell_type": "code",
   "execution_count": null,
   "id": "c3198108",
   "metadata": {},
   "outputs": [
    {
     "name": "stdout",
     "output_type": "stream",
     "text": [
      "[-20, 20, 60, 30]\n"
     ]
    }
   ],
   "source": [
    "'''30. Program to print duplicates from a list of integers'''\n",
    "list1 = [10, 20, 30, 20, 20, 30, 40, 50, -20, 60, 60, -20, -20]\n",
    "\n",
    "uniqueList = list(set(list1))\n",
    "\n",
    "newList = []\n",
    "\n",
    "for item in uniqueList:\n",
    "    if list1.count(item) > 1:\n",
    "        newList.append(item)\n",
    "\n",
    "\n",
    "print(newList)"
   ]
  },
  {
   "cell_type": "code",
   "execution_count": null,
   "id": "a2a2e203",
   "metadata": {},
   "outputs": [
    {
     "name": "stdout",
     "output_type": "stream",
     "text": [
      "reversed number is : 36854\n"
     ]
    }
   ],
   "source": [
    "''' 31. Program to reverse an integer '''\n",
    "\n",
    "try:\n",
    "    num = int(input('Enter number to reverse: '))\n",
    "    reverse = 0\n",
    "\n",
    "    while num!=0:\n",
    "        reverse = reverse*10 + num%10\n",
    "        num = num//10\n",
    "\n",
    "    print(\"reversed number is :\", reverse)\n",
    "except:\n",
    "    print(\"please enter only numbers!!!\")"
   ]
  },
  {
   "cell_type": "code",
   "execution_count": null,
   "id": "848bb950",
   "metadata": {},
   "outputs": [
    {
     "name": "stdout",
     "output_type": "stream",
     "text": [
      "64\n",
      "189\n",
      "253\n",
      "253\n",
      "Its Not an Armstrong number....\n"
     ]
    }
   ],
   "source": [
    "''' 32. To check Armstrong number....'''\n",
    "\n",
    "num = int(input('Enter number : '))\n",
    "\n",
    "num1 = num\n",
    "newNum = 0\n",
    "while num1 > 0:\n",
    "    temp = num1%10\n",
    "    newNum += (temp**3)\n",
    "    print(newNum)\n",
    "    num1 = num1//10\n",
    "\n",
    "print(newNum)\n",
    "if newNum == num:\n",
    "    print('Its an Armstrong number....')\n",
    "else:\n",
    "    print('Its Not an Armstrong number....')\n",
    "    \n",
    "    "
   ]
  },
  {
   "cell_type": "code",
   "execution_count": 14,
   "id": "10f0101b",
   "metadata": {},
   "outputs": [
    {
     "name": "stdout",
     "output_type": "stream",
     "text": [
      "2\n",
      "Its not a prime number\n",
      "2\n"
     ]
    }
   ],
   "source": [
    "''' 33. To check prime number'''\n",
    "\n",
    "num = int(input('Enter number : '))\n",
    "\n",
    "temp = 0\n",
    "\n",
    "for i in range(2,(num//2)+1):\n",
    "    if num % i == 0:\n",
    "        temp = 1\n",
    "        print(i)\n",
    "        break\n",
    "\n",
    "if temp == 1 or num <2:\n",
    "    print('Its not a prime number')\n",
    "    print(i)\n",
    "else:\n",
    "    print('Its a prime number')\n",
    "        \n",
    "\n",
    "        \n",
    "            "
   ]
  },
  {
   "cell_type": "code",
   "execution_count": null,
   "id": "ba72c036",
   "metadata": {},
   "outputs": [],
   "source": [
    "''' 33a. To check prime number'''\n",
    "\n",
    "input_num = input(\"Enter the number to check Prime : \").strip()\n",
    "\n",
    "def _checkPrime(input_num):\n",
    "    try:\n",
    "        num = int(input_num)\n",
    "        if num <=1:\n",
    "            return False\n",
    "        checkLimit = num//2\n",
    "        for i in range(2, checkLimit+1):\n",
    "            if num % i == 0:\n",
    "                print(\"NOT a prime number \")\n",
    "                return False\n",
    "        return True\n",
    "    except ValueError:\n",
    "        print(\"Enter only Integers!\")\n",
    "\n",
    "result = _checkPrime(input_num)\n",
    "\n",
    "if result:\n",
    "    print(\"Its a prime number!\")"
   ]
  },
  {
   "cell_type": "code",
   "execution_count": 15,
   "id": "42f66069",
   "metadata": {},
   "outputs": [
    {
     "name": "stdout",
     "output_type": "stream",
     "text": [
      "0\n",
      "1\n",
      "1\n",
      "2\n",
      "3\n"
     ]
    }
   ],
   "source": [
    "''' 34. fibonacci series'''\n",
    "first,second=0,1\n",
    "n = int(input(\"please give a number for fibonacci series : \"))\n",
    "\n",
    "for i in range(n):\n",
    "    if i <= 1:\n",
    "        result = i\n",
    "    else:\n",
    "        result = first+second\n",
    "        first = second\n",
    "        second = result\n",
    "    print(result)"
   ]
  },
  {
   "cell_type": "code",
   "execution_count": 16,
   "id": "744bc3ed",
   "metadata": {},
   "outputs": [
    {
     "name": "stdout",
     "output_type": "stream",
     "text": [
      "fibonacci series are : \n",
      "0 1 1 2 3 5 "
     ]
    }
   ],
   "source": [
    "'''35. fibonacci series using recursive method'''\n",
    "\n",
    "# first,second=0,1\n",
    "n = int(input(\"please give a number for fibonacci series : \"))\n",
    "def fibonacci(num):\n",
    "    if num == 0:\n",
    "        return 0\n",
    "    elif num == 1:\n",
    "        return 1\n",
    "    else:\n",
    "        return fibonacci(num-1)+fibonacci(num-2)\n",
    "print(\"fibonacci series are : \")\n",
    "for i in range(0,n):\n",
    "    print(fibonacci(i), end=\" \")"
   ]
  },
  {
   "cell_type": "code",
   "execution_count": null,
   "id": "cc59efa3",
   "metadata": {},
   "outputs": [
    {
     "name": "stdout",
     "output_type": "stream",
     "text": [
      "Enter number : 123321\n",
      "its palindrome\n"
     ]
    }
   ],
   "source": [
    "'''36. Palindrom using Iterative method'''\n",
    "\n",
    "num = int(input('Enter number : '))\n",
    "newNum= 0\n",
    "num1 = num\n",
    "\n",
    "while num1 > 0:\n",
    "    y = num1 % 10\n",
    "    newNum = newNum*10 + y\n",
    "    num1 = num1//10\n",
    "\n",
    "if newNum == num:\n",
    "    print('its palindrome')\n",
    "else:\n",
    "    print('its not palindrome')"
   ]
  },
  {
   "cell_type": "code",
   "execution_count": null,
   "id": "c817e4df",
   "metadata": {},
   "outputs": [
    {
     "name": "stdout",
     "output_type": "stream",
     "text": [
      "its not palindrome\n"
     ]
    }
   ],
   "source": [
    "'''37. Palindrom using Recursive method'''\n",
    "\n",
    "num = int(input('Enter number : '))\n",
    "\n",
    "def reverse(n):\n",
    "    if n < 10:\n",
    "        return n\n",
    "    else:\n",
    "        return int(str(n%10) + str(reverse(n//10)))\n",
    "\n",
    "if num == reverse(num):\n",
    "    print('its palindrome')\n",
    "else:\n",
    "    print('its not palindrome')"
   ]
  },
  {
   "cell_type": "code",
   "execution_count": null,
   "id": "b6270db2",
   "metadata": {},
   "outputs": [
    {
     "name": "stdout",
     "output_type": "stream",
     "text": [
      "Its a palindrome\n",
      "GoodBye! \n"
     ]
    }
   ],
   "source": [
    "'''37a. Palindrom using Recursive method'''\n",
    "while True:\n",
    "    user_input = input(\"Enter the string to find palindrome : \").strip()\n",
    "    \n",
    "\n",
    "    if user_input.lower() in ['exit', 'quit', 'q']:\n",
    "        print(\"GoodBye! \")\n",
    "        break\n",
    "    \n",
    "    user_input = user_input.lower()\n",
    "    \n",
    "    checkLimit = len(user_input)//2\n",
    "    upLimit = len(user_input)\n",
    "\n",
    "    for i in range(checkLimit):\n",
    "        upLimit -= 1\n",
    "        if user_input[i] != user_input[upLimit]:\n",
    "            print(\"Its not a palindrome\")\n",
    "            break        \n",
    "    else:\n",
    "        print(\"Its a palindrome\")\n",
    "\n",
    "    # another way to check palindrome\n",
    "    # if user_input == user_input[::-1]:\n",
    "    #     print(\"Its a palindrome\")\n",
    "    # else:\n",
    "    #     print(\"Its not a palindrome\")"
   ]
  },
  {
   "cell_type": "code",
   "execution_count": 22,
   "id": "c014bf01",
   "metadata": {},
   "outputs": [
    {
     "name": "stdout",
     "output_type": "stream",
     "text": [
      "Sum of digits in 67 is 13\n"
     ]
    }
   ],
   "source": [
    "''' 38. sum of digits using recursion '''\n",
    "num = int(input('Enter number : '))\n",
    "\n",
    "\n",
    "def sum_of_digit(n):\n",
    "    if n == 0:\n",
    "        return 0\n",
    "    return (n % 10 + sum_of_digit(int(n / 10)))\n",
    "\n",
    "result = sum_of_digit(num)\n",
    "print(\"Sum of digits in\", num, \"is\", result)\n"
   ]
  },
  {
   "cell_type": "code",
   "execution_count": null,
   "id": "9dd6ca66",
   "metadata": {},
   "outputs": [
    {
     "name": "stdout",
     "output_type": "stream",
     "text": [
      "Rmesh\n"
     ]
    }
   ],
   "source": [
    "'''39. Remove given character from string....'''\n",
    "\n",
    "myString = \"Ramesh\"\n",
    "char = 'a'\n",
    "\n",
    "myString = myString.replace(char, '')\n",
    "\n",
    "print(myString)"
   ]
  },
  {
   "cell_type": "code",
   "execution_count": null,
   "id": "ade35da1",
   "metadata": {},
   "outputs": [
    {
     "name": "stdout",
     "output_type": "stream",
     "text": [
      "Rmesh\n"
     ]
    }
   ],
   "source": [
    "'''39a. Remove given character from string....'''\n",
    "\n",
    "myString = \"Raaamesha\"\n",
    "char = 'a'\n",
    "newString = \"\"\n",
    "\n",
    "\n",
    "for i in myString:\n",
    "    if i != char:\n",
    "        newString += i \n",
    "\n",
    "print(newString)"
   ]
  },
  {
   "cell_type": "code",
   "execution_count": null,
   "id": "0394978e",
   "metadata": {},
   "outputs": [
    {
     "name": "stdout",
     "output_type": "stream",
     "text": [
      "72\n"
     ]
    }
   ],
   "source": [
    "''' 40. Count the numbers in the string...'''\n",
    "\n",
    "myString = 'abc1def234fgt7890m12ghty5h6h7h8h9'\n",
    "\n",
    "Sum = 0\n",
    "\n",
    "for item in myString:\n",
    "    if item.isdigit():\n",
    "        Sum += int(item)\n",
    "        \n",
    "print(Sum)"
   ]
  },
  {
   "cell_type": "code",
   "execution_count": null,
   "id": "10ca0369",
   "metadata": {},
   "outputs": [
    {
     "name": "stdout",
     "output_type": "stream",
     "text": [
      "Rmsh\n"
     ]
    }
   ],
   "source": [
    "''' 41. program to delete the vowels in a string'''\n",
    "\n",
    "myString = 'RAmesh'\n",
    "\n",
    "myVowels = 'aeiouAEIOU'\n",
    "\n",
    "newString = ''\n",
    "\n",
    "for char in myString:\n",
    "    if char not in myVowels:\n",
    "        newString += char\n",
    "\n",
    "print(newString)"
   ]
  },
  {
   "cell_type": "code",
   "execution_count": null,
   "id": "1d1b41a7",
   "metadata": {},
   "outputs": [
    {
     "name": "stdout",
     "output_type": "stream",
     "text": [
      "5 8\n"
     ]
    }
   ],
   "source": [
    "''' 42. program to count the vowels and consonents in a string'''\n",
    "\n",
    "myString = 'RAmesh34Kishore'\n",
    "\n",
    "myVowels = 'aeiouAEIOU'\n",
    "\n",
    "VowelsCount, ConsonentCount = 0,0\n",
    "\n",
    "for char in myString:\n",
    "    if char.isalpha():\n",
    "        if char in myVowels:\n",
    "            VowelsCount += 1\n",
    "        else:\n",
    "            ConsonentCount += 1\n",
    "\n",
    "print(VowelsCount,ConsonentCount)       \n",
    "        \n"
   ]
  },
  {
   "cell_type": "code",
   "execution_count": 25,
   "id": "e74b29cf",
   "metadata": {},
   "outputs": [
    {
     "name": "stdout",
     "output_type": "stream",
     "text": [
      "R-mesh34Kishore\n"
     ]
    }
   ],
   "source": [
    "''' 43. Program to replace the 1st occurance of vowel with '-'     '''\n",
    "\n",
    "myString = 'RAmesh34Kishore'\n",
    "\n",
    "Vowels = 'aeiouAEIOU'\n",
    "\n",
    "for char in myString:\n",
    "    if char in Vowels:\n",
    "        myString = myString.replace(char,'-')\n",
    "        break\n",
    "\n",
    "print(myString)"
   ]
  },
  {
   "cell_type": "code",
   "execution_count": null,
   "id": "3bed6a7d",
   "metadata": {},
   "outputs": [
    {
     "name": "stdout",
     "output_type": "stream",
     "text": [
      "R A m e s h 3 4 K i s h o r e\n"
     ]
    }
   ],
   "source": [
    "''' 44. program to seperate characters in a string'''\n",
    "\n",
    "myString = 'RAmesh34Kishore'\n",
    "\n",
    "print(\" \".join(myString))"
   ]
  },
  {
   "cell_type": "code",
   "execution_count": 27,
   "id": "5c1a928d",
   "metadata": {},
   "outputs": [
    {
     "name": "stdout",
     "output_type": "stream",
     "text": [
      "RAmesh34KishoreGood\n"
     ]
    }
   ],
   "source": [
    "''' 45. program to remove blank spaces in a string'''\n",
    "\n",
    "myString = 'RAmesh   34 Kishore Good '\n",
    "\n",
    "myString = myString.replace(' ', '')\n",
    "print(myString)"
   ]
  },
  {
   "cell_type": "code",
   "execution_count": null,
   "id": "9187e651",
   "metadata": {},
   "outputs": [
    {
     "name": "stdout",
     "output_type": "stream",
     "text": [
      "{'h', 'G', 'e', 'K', '4', 'o', 'r', '3', 's', 'd', 'm', 'A', 'i', ' ', 'R'}\n",
      "hGeK4or3sdmAi R\n"
     ]
    }
   ],
   "source": [
    "''' 46. program to remove repeated characters in a string'''\n",
    "\n",
    "myString = 'RAmesh 34 Kishore Good '\n",
    "print(set(myString))\n",
    "\n",
    "print(\"\".join(set(myString)))"
   ]
  },
  {
   "cell_type": "code",
   "execution_count": 32,
   "id": "2c5bf761",
   "metadata": {},
   "outputs": [
    {
     "name": "stdout",
     "output_type": "stream",
     "text": [
      "12\n"
     ]
    }
   ],
   "source": [
    "''' 47. program to calculate sum of integers in a string....'''\n",
    "\n",
    "myString = 'RAmesh 44 Kishore Good4 '\n",
    "\n",
    "Numbers = ['1','2','3','4','5','6','7','8','9']\n",
    "Sum = 0\n",
    "\n",
    "for char in myString:\n",
    "    # print(char)\n",
    "    if char.isdigit():\n",
    "        Sum += int(char)\n",
    "\n",
    "print(Sum)\n",
    "        "
   ]
  },
  {
   "cell_type": "code",
   "execution_count": 35,
   "id": "837088a8",
   "metadata": {},
   "outputs": [
    {
     "name": "stdout",
     "output_type": "stream",
     "text": [
      "R A m e s h 3 G d "
     ]
    }
   ],
   "source": [
    "''' 48. program to print all non-repeating characters in a string\" '''\n",
    "\n",
    "myString = 'RAmesh 34 Good4 '\n",
    "\n",
    "\n",
    "for char in myString:\n",
    "    if myString.count(char) == 1:\n",
    "        print(char, end=\" \")"
   ]
  },
  {
   "cell_type": "code",
   "execution_count": null,
   "id": "a2626465",
   "metadata": {},
   "outputs": [
    {
     "name": "stdout",
     "output_type": "stream",
     "text": [
      "1\n",
      "3\n",
      "66\n"
     ]
    }
   ],
   "source": [
    "''' 49. program to find the duplicates in an array...'''\n",
    "\n",
    "from collections import Counter\n",
    "myArr = [1,1,3,4,5,66,66,7,3]\n",
    "\n",
    "myDict = Counter(myArr)\n",
    "\n",
    "for item in myDict:\n",
    "    if myDict[item] > 1:\n",
    "        print(item)\n"
   ]
  },
  {
   "cell_type": "code",
   "execution_count": null,
   "id": "81ed6654",
   "metadata": {},
   "outputs": [
    {
     "name": "stdout",
     "output_type": "stream",
     "text": [
      "1\n",
      "3\n",
      "66\n"
     ]
    }
   ],
   "source": [
    "''' 50. METHOD2(without Counter module) --- program to find the duplicates in an array...'''\n",
    "\n",
    "myArr = [1,1,3,4,5,66,66,7,3]\n",
    "myDict = {}\n",
    "\n",
    "\n",
    "for item in myArr:\n",
    "    if item in myDict:\n",
    "        myDict[item] += 1\n",
    "    else:\n",
    "        myDict[item] = 1\n",
    "\n",
    "for item in myDict:\n",
    "    if myDict[item] > 1:\n",
    "        print(item)"
   ]
  },
  {
   "cell_type": "code",
   "execution_count": null,
   "id": "188fc00c",
   "metadata": {},
   "outputs": [
    {
     "name": "stdout",
     "output_type": "stream",
     "text": [
      "Pairs  [1, 2] Index : 0\n",
      "Pairs  [3, 0] Index : 2\n",
      "Pairs  [1, 1, 1] Index : 3\n"
     ]
    }
   ],
   "source": [
    "''' 51. Program to find all pairs of integers(with index) whose sum is equal to given number'''\n",
    "\n",
    "myArr = [[1,2],[4,5,6],[3,0],[1,1,1]]\n",
    "Num = 3\n",
    "\n",
    "for index,item in enumerate(myArr):\n",
    "    if sum(item) == Num:\n",
    "        print('Pairs ',item, 'Index :', index)"
   ]
  },
  {
   "cell_type": "code",
   "execution_count": null,
   "id": "a05f3641",
   "metadata": {},
   "outputs": [
    {
     "name": "stdout",
     "output_type": "stream",
     "text": [
      "789\n"
     ]
    }
   ],
   "source": [
    "''' 52. Program to find the 2nd highest number in an array'''\n",
    "\n",
    "myArr = [1,67,223,6,789,122,67,99999]\n",
    "\n",
    "myArr = sorted(myArr)\n",
    "\n",
    "print(myArr[-2])"
   ]
  },
  {
   "cell_type": "code",
   "execution_count": null,
   "id": "c8e848b5",
   "metadata": {},
   "outputs": [
    {
     "name": "stdout",
     "output_type": "stream",
     "text": [
      "789\n"
     ]
    }
   ],
   "source": [
    "''' 53. METHOD2: ---Program to find the 2nd highest number in an array'''\n",
    "\n",
    "myArr = [1,67,223,6,789,122,67,99999]\n",
    "\n",
    "myArr.remove(max(myArr))\n",
    "\n",
    "print(max(myArr))"
   ]
  },
  {
   "cell_type": "code",
   "execution_count": null,
   "id": "67040cb5",
   "metadata": {},
   "outputs": [
    {
     "name": "stdout",
     "output_type": "stream",
     "text": [
      "Largest: 100, Second Largest: 9\n"
     ]
    }
   ],
   "source": [
    "''' 53a. METHOD3: ---Program to find the 1st and 2nd highest number in an array'''\n",
    "\n",
    "def find_largest_elements_fixed(myList):\n",
    "    if len(myList) < 2:\n",
    "        return \"Need at least 2 elements\"\n",
    "    \n",
    "    largest = second_largest = float('-inf')\n",
    "    \n",
    "    for num in myList:\n",
    "        if num > largest:\n",
    "            second_largest = largest\n",
    "            largest = num\n",
    "        elif num > second_largest and num != largest:\n",
    "            second_largest = num\n",
    "    \n",
    "    if second_largest == float('-inf'):\n",
    "        return largest, None  # or \"No second largest element\"\n",
    "    return largest, second_largest\n",
    "\n",
    "''' Summary:\n",
    "Initialization to 0 fails for negative numbers.\n",
    "Fix: Use float('-inf') for initialization.\n",
    "Optional: Handle the case where there is no second largest. ''' \n",
    "\n",
    "myList = [8,9,2,9,9,2,100]\n",
    "largest, second_largest = find_largest_elements_fixed(myList)\n",
    "print(f\"Largest: {largest}, Second Largest: {second_largest}\")"
   ]
  },
  {
   "cell_type": "code",
   "execution_count": null,
   "id": "dedd2c9d",
   "metadata": {},
   "outputs": [
    {
     "name": "stdout",
     "output_type": "stream",
     "text": [
      "[789, 99999]\n"
     ]
    }
   ],
   "source": [
    "''' 54. Program to find top two maximum number in an array'''\n",
    "\n",
    "myArr = [1,67,223,6,789,122,67,99999]\n",
    "\n",
    "myArr = sorted(myArr)\n",
    "# myArr.sort()\n",
    "\n",
    "print(myArr[-2:])"
   ]
  },
  {
   "cell_type": "code",
   "execution_count": null,
   "id": "7d7c3bf1",
   "metadata": {},
   "outputs": [
    {
     "name": "stdout",
     "output_type": "stream",
     "text": [
      "[1, 497, 67, 223, 6, 789, 122, 67, 99999]\n"
     ]
    }
   ],
   "source": [
    "''' 55. Program to find insert element at a given location in an array'''\n",
    "myArr = [1,67,223,6,789,122,67,99999]\n",
    "\n",
    "myArr.insert(1,497)\n",
    "\n",
    "print(myArr)"
   ]
  },
  {
   "cell_type": "code",
   "execution_count": null,
   "id": "55d59db6",
   "metadata": {},
   "outputs": [
    {
     "name": "stdout",
     "output_type": "stream",
     "text": [
      "[1, 67, 223, 6, 789, 122, 67]\n"
     ]
    }
   ],
   "source": [
    "''' 56. Program to delete an element at end of an array'''\n",
    "myArr = [1,67,223,6,789,122,67,99999]\n",
    "\n",
    "print(myArr[:-1])"
   ]
  },
  {
   "cell_type": "code",
   "execution_count": null,
   "id": "f71740d8",
   "metadata": {},
   "outputs": [
    {
     "name": "stdout",
     "output_type": "stream",
     "text": [
      "True\n",
      "True\n",
      "False\n"
     ]
    }
   ],
   "source": [
    "''' 57. to check its a word : isalpha()  '''\n",
    "Name = \"Ramesh\"\n",
    "print(Name.isalpha())\n",
    "\n",
    "x = '9943'\n",
    "print(x.isalnum())\n",
    "print(x.isalpha())"
   ]
  },
  {
   "cell_type": "code",
   "execution_count": null,
   "id": "5c730c88",
   "metadata": {},
   "outputs": [
    {
     "data": {
      "text/plain": [
       "[4, 5, 1, 2, 3]"
      ]
     },
     "execution_count": 75,
     "metadata": {},
     "output_type": "execute_result"
    }
   ],
   "source": [
    "'''58. Array rotation samples '''\n",
    "arr = [1,2,3,4,5]\n",
    "i = 3\n",
    "arr[i:] + arr[:i]"
   ]
  },
  {
   "cell_type": "code",
   "execution_count": null,
   "id": "16346a53",
   "metadata": {},
   "outputs": [
    {
     "name": "stdout",
     "output_type": "stream",
     "text": [
      "4 3\n"
     ]
    }
   ],
   "source": [
    "''' 59.  swap 2 numbers '''\n",
    "x = 3\n",
    "y = 4\n",
    "\n",
    "x = x ^ y\n",
    "y = x ^ y\n",
    "x = x ^ y\n",
    "\n",
    "print(x,y)"
   ]
  },
  {
   "cell_type": "code",
   "execution_count": null,
   "id": "f9ab8c94",
   "metadata": {},
   "outputs": [
    {
     "name": "stdout",
     "output_type": "stream",
     "text": [
      "5 4\n"
     ]
    }
   ],
   "source": [
    "''' 60. another way '''\n",
    "x = 4\n",
    "y = 5\n",
    "\n",
    "x,y = y,x\n",
    "print(x,y)"
   ]
  },
  {
   "cell_type": "code",
   "execution_count": null,
   "id": "20fe7f33",
   "metadata": {},
   "outputs": [
    {
     "name": "stdout",
     "output_type": "stream",
     "text": [
      "[0, 1, 2, 3, 4, 5, 6, 7]\n"
     ]
    }
   ],
   "source": [
    "''' 61.  Array element modify '''\n",
    "q = [1,2,3,4,5,6,7,8]\n",
    "q = [i-1 for i in q] \n",
    "\n",
    "print(q)"
   ]
  },
  {
   "cell_type": "code",
   "execution_count": null,
   "id": "3f0896e8",
   "metadata": {},
   "outputs": [
    {
     "name": "stdout",
     "output_type": "stream",
     "text": [
      "0\n"
     ]
    }
   ],
   "source": [
    "''' 62. to find the array index '''\n",
    "arr = [4,3,1,2]\n",
    "\n",
    "print(arr.index(4))"
   ]
  },
  {
   "cell_type": "code",
   "execution_count": null,
   "id": "4af6b21b",
   "metadata": {},
   "outputs": [
    {
     "name": "stdout",
     "output_type": "stream",
     "text": [
      "[1, 2, 3, 4]\n"
     ]
    }
   ],
   "source": [
    "''' 63. sorting the array '''\n",
    "arr = [4,3,1,2]\n",
    "arr.sort()\n",
    "print(arr)"
   ]
  },
  {
   "cell_type": "code",
   "execution_count": null,
   "id": "879c6a37",
   "metadata": {},
   "outputs": [
    {
     "name": "stdout",
     "output_type": "stream",
     "text": [
      "779943\n"
     ]
    }
   ],
   "source": [
    "''' 64. # to extract only digits in the string '''\n",
    "text = \"7R7a9m9e4s3h\"\n",
    "# num = []\n",
    "\n",
    "for char in text:\n",
    "    num = \"\".join([char for char in text if char.isdigit()])\n",
    "\n",
    "\n",
    "print(num)  "
   ]
  },
  {
   "cell_type": "code",
   "execution_count": null,
   "id": "f05253b9",
   "metadata": {},
   "outputs": [
    {
     "name": "stdout",
     "output_type": "stream",
     "text": [
      "[1, 2, 3, 4]\n"
     ]
    }
   ],
   "source": [
    "''' 65. set & list '''\n",
    "myList = [1,1,2,3,3,4,4]\n",
    "mySet = set(myList)\n",
    "\n",
    "print(list(mySet))"
   ]
  },
  {
   "cell_type": "code",
   "execution_count": null,
   "id": "67a12e1d",
   "metadata": {},
   "outputs": [
    {
     "name": "stdout",
     "output_type": "stream",
     "text": [
      "Code mentor Python Developer\n"
     ]
    }
   ],
   "source": [
    "''' 66. list & string '''\n",
    "a = [\"Code\", \"mentor\", \"Python\", \"Developer\"]\n",
    "print(\" \".join(a))"
   ]
  },
  {
   "cell_type": "code",
   "execution_count": null,
   "id": "db866814",
   "metadata": {},
   "outputs": [
    {
     "name": "stdout",
     "output_type": "stream",
     "text": [
      "[1, 2, 3, 4]\n"
     ]
    }
   ],
   "source": [
    "''' 67. array  '''\n",
    "arr = [1,2,3,4,5]\n",
    "\n",
    "arr.remove(max(arr))\n",
    "print(arr)"
   ]
  },
  {
   "cell_type": "code",
   "execution_count": null,
   "id": "69d04c1f",
   "metadata": {},
   "outputs": [
    {
     "name": "stdout",
     "output_type": "stream",
     "text": [
      "GeeksProgrammingAlgorithmArticle\n",
      "Geeks Programming Algorithm Article\n",
      "Geeks---Programming---Algorithm---Article\n",
      "Geeks, Programming, Algorithm, Article\n"
     ]
    }
   ],
   "source": [
    "''' 68. '''\n",
    "geek = ['Geeks', 'Programming', 'Algorithm', 'Article']\n",
    "\n",
    "print(''.join(geek))\n",
    "print(' '.join(geek))\n",
    "print('---'.join(geek))\n",
    "print(', '.join(geek))"
   ]
  },
  {
   "cell_type": "markdown",
   "id": "5023f5c7",
   "metadata": {},
   "source": [
    "# zip"
   ]
  },
  {
   "cell_type": "code",
   "execution_count": null,
   "id": "997708fa",
   "metadata": {},
   "outputs": [
    {
     "name": "stdout",
     "output_type": "stream",
     "text": [
      "1 Ramesh\n",
      "3 Kishore\n",
      "5 Usha\n",
      "7 Srija\n"
     ]
    }
   ],
   "source": [
    "list1 = [1, 3, 5, 7]\n",
    "list2 = ['Ramesh', 'Kishore', 'Usha', 'Srija']\n",
    "\n",
    "for a,b in zip(list1, list2):\n",
    "    print(a,b)"
   ]
  },
  {
   "cell_type": "markdown",
   "id": "a3d6b7e8",
   "metadata": {},
   "source": [
    "# List comprehension"
   ]
  },
  {
   "cell_type": "code",
   "execution_count": null,
   "id": "959de164",
   "metadata": {},
   "outputs": [
    {
     "name": "stdout",
     "output_type": "stream",
     "text": [
      "[1, 3, 5, 7, 9]\n"
     ]
    }
   ],
   "source": [
    "x = [i for i in range(10) if i%2 !=0]\n",
    "print(x)"
   ]
  },
  {
   "cell_type": "code",
   "execution_count": null,
   "id": "6949ddfa",
   "metadata": {},
   "outputs": [
    {
     "name": "stdout",
     "output_type": "stream",
     "text": [
      "Negative numbers in the list:  -10 -21 -4 -66\n"
     ]
    }
   ],
   "source": [
    "list1 = [-10, -21, -4, 45, -66, 93]\n",
    "  \n",
    "# using list comprehension\n",
    "neg_nos = [num for num in list1 if num < 0]\n",
    "  \n",
    "print(\"Negative numbers in the list: \", *neg_nos)"
   ]
  },
  {
   "cell_type": "markdown",
   "id": "45f518b1",
   "metadata": {},
   "source": [
    "# Lambda Function"
   ]
  },
  {
   "cell_type": "markdown",
   "id": "633fda84",
   "metadata": {},
   "source": [
    "## Lambda Function with List Comprehension"
   ]
  },
  {
   "cell_type": "code",
   "execution_count": null,
   "id": "7ab0fc98",
   "metadata": {},
   "outputs": [
    {
     "name": "stdout",
     "output_type": "stream",
     "text": [
      "6\n",
      "12\n",
      "18\n",
      "24\n",
      "30\n",
      "36\n",
      "42\n",
      "48\n",
      "54\n",
      "60\n"
     ]
    }
   ],
   "source": [
    "tables = [lambda x=x: x*6 for x in range(1, 11)]\n",
    "\n",
    "\n",
    "for table in tables:\n",
    "\tprint(table())   ### We have to call  like this /// remember it \n",
    "\n",
    "# tables = [x*10 for x in range(1,11)]\n",
    "# print(tables)"
   ]
  },
  {
   "cell_type": "markdown",
   "id": "794b98ea",
   "metadata": {},
   "source": [
    "# Lambda function with map"
   ]
  },
  {
   "cell_type": "code",
   "execution_count": null,
   "id": "e2d3f5fe",
   "metadata": {},
   "outputs": [
    {
     "name": "stdout",
     "output_type": "stream",
     "text": [
      "[2, 4, 6, 8, 10]\n",
      "[2, 4, 6, 8, 10]\n"
     ]
    }
   ],
   "source": [
    "# Example 1: Doubling numbers in a list\n",
    "numbers = [1, 2, 3, 4, 5]\n",
    "\n",
    "# Using map with a regular function\n",
    "def double(x):\n",
    "    return x * 2\n",
    "\n",
    "doubled_numbers = list(map(double, numbers))\n",
    "print(doubled_numbers)\n",
    "\n",
    "\n",
    "# Same thing using lambda\n",
    "doubled_numbers_lambda = list(map(lambda x: x * 2, numbers))\n",
    "print(doubled_numbers_lambda)"
   ]
  },
  {
   "cell_type": "markdown",
   "id": "1af40a11",
   "metadata": {},
   "source": [
    "## Lambda Function with if-else"
   ]
  },
  {
   "cell_type": "code",
   "execution_count": null,
   "id": "a543fe67",
   "metadata": {},
   "outputs": [
    {
     "name": "stdout",
     "output_type": "stream",
     "text": [
      "2\n"
     ]
    }
   ],
   "source": [
    "Max = lambda a, b : a if a > b else b\n",
    "'''\n",
    "Note:\n",
    "Here we have to remember like this - \"lambda input: actual work\"\n",
    "\n",
    "input is a,b\n",
    "Actual work is \"a if a > b else b\"\n",
    "\n",
    "\n",
    "'''\n",
    "print(Max(1,2))  # It has to be called like this"
   ]
  },
  {
   "cell_type": "code",
   "execution_count": null,
   "id": "167d9862",
   "metadata": {},
   "outputs": [
    {
     "name": "stdout",
     "output_type": "stream",
     "text": [
      "<generator object <lambda>.<locals>.<genexpr> at 0x110658a00>\n"
     ]
    }
   ],
   "source": [
    "List = [[2,3,4],[1, 4, 16, 64],[3, 6, 9, 12]]\n",
    " \n",
    "# Sort each sublist\n",
    "sortList = lambda x: (sorted(i) for i in x)\n",
    "\n",
    "print(sortList(List))"
   ]
  },
  {
   "cell_type": "markdown",
   "id": "27b0279a",
   "metadata": {},
   "source": [
    "## Add 2 lists using lamda and map"
   ]
  },
  {
   "cell_type": "code",
   "execution_count": null,
   "id": "3261c1fe",
   "metadata": {},
   "outputs": [
    {
     "name": "stdout",
     "output_type": "stream",
     "text": [
      "[3, 6, 9, 11, 13]\n"
     ]
    }
   ],
   "source": [
    "list1 = [1,2,3,4,5]\n",
    "list2 = [2,4,6,7,8]\n",
    "\n",
    "list3 = map(lambda x,y:x+y, list1, list2)\n",
    "\n",
    "# print(type(list3))\n",
    "\n",
    "print(list(list3))"
   ]
  },
  {
   "cell_type": "code",
   "execution_count": null,
   "id": "fcab54d9",
   "metadata": {},
   "outputs": [
    {
     "name": "stdout",
     "output_type": "stream",
     "text": [
      "[['s', 'a', 't'], ['b', 'a', 't'], ['c', 'a', 't'], ['m', 'a', 't']]\n"
     ]
    }
   ],
   "source": [
    "l = ['sat', 'bat', 'cat', 'mat']\n",
    "\n",
    "test = list(map(list,l))\n",
    "print(test)"
   ]
  },
  {
   "cell_type": "markdown",
   "id": "e4afe0f4",
   "metadata": {},
   "source": [
    "# Dictionaries"
   ]
  },
  {
   "cell_type": "code",
   "execution_count": null,
   "id": "2b0dff88",
   "metadata": {},
   "outputs": [
    {
     "name": "stdout",
     "output_type": "stream",
     "text": [
      "Counter({'a': 4, 'r': 1, 'm': 1, 'e': 1, 's': 1, 'h': 1})\n",
      "a : 4\n",
      "e : 1\n"
     ]
    }
   ],
   "source": [
    "''' 1. Program to count the number of each vowel in a string.'''\n",
    "'Method1'\n",
    "from collections import Counter\n",
    "\n",
    "_str = \"rameshaaa\"\n",
    "\n",
    "myDict = Counter(_str)\n",
    "print(myDict)\n",
    "\n",
    "for item in myDict.keys():\n",
    "    if item in 'aeiou':\n",
    "        # print(item, myDict[item])\n",
    "        print(f\"{item} : {myDict[item]}\")        "
   ]
  },
  {
   "cell_type": "code",
   "execution_count": null,
   "id": "44c0f7a0",
   "metadata": {},
   "outputs": [
    {
     "name": "stdout",
     "output_type": "stream",
     "text": [
      "{'a': 0, 'e': 0, 'i': 0, 'o': 0, 'u': 0}\n",
      "{'a': 2, 'e': 5, 'i': 3, 'o': 5, 'u': 3}\n"
     ]
    }
   ],
   "source": [
    "'''1a. Program to count the number of each vowel in a string.'''\n",
    "'Method2'\n",
    "\n",
    "vowels = 'aeiou'\n",
    "ip_str = 'Hello, have you tried our tutorial section yet?'\n",
    "\n",
    "ip_str = ip_str.casefold()\n",
    "\n",
    "\n",
    "myDict = {}.fromkeys(vowels,0) # creating a dictionary with all keys(from string) with value as 0 \n",
    "print(myDict)\n",
    "\n",
    "for char in ip_str:\n",
    "    if char in myDict:\n",
    "        myDict[char] += 1\n",
    "\n",
    "print(myDict)"
   ]
  },
  {
   "cell_type": "code",
   "execution_count": 34,
   "id": "7c515c68",
   "metadata": {},
   "outputs": [
    {
     "name": "stdout",
     "output_type": "stream",
     "text": [
      "{'r': 1, 'a': 1, 'm': 1, 'e': 1, 's': 5, 'h': 1}\n"
     ]
    }
   ],
   "source": [
    "'''2. Count Character Occurrences\n",
    "Write a Python program that takes a string as input \n",
    "and uses a dictionary to count the number of occurrences of each character in the string '''\n",
    "\n",
    "input_string = input(\"Enter the string to find the number of characters: \").strip()\n",
    "input_string = input_string.casefold()\n",
    "\n",
    "myDict = {}\n",
    "\n",
    "for char in input_string:\n",
    "    if char in myDict.keys():\n",
    "        myDict[char] += 1\n",
    "    else:\n",
    "        myDict[char] = 1 \n",
    "\n",
    "print(myDict)"
   ]
  },
  {
   "cell_type": "code",
   "execution_count": 22,
   "id": "e58a7713",
   "metadata": {},
   "outputs": [
    {
     "name": "stdout",
     "output_type": "stream",
     "text": [
      "{'a': 100, 'b': 300, 'c': 400}\n"
     ]
    }
   ],
   "source": [
    "'''3. Merge Two Dictionaries '''\n",
    "dict1 = {'a': 100, 'b': 200}\n",
    "dict2 = {'b': 300, 'c': 400}\n",
    "\n",
    "merged = dict1.copy() # copy the dictionary\n",
    "merged.update(dict2)\n",
    "\n",
    "print(merged)"
   ]
  },
  {
   "cell_type": "code",
   "execution_count": 36,
   "id": "58e3894b",
   "metadata": {},
   "outputs": [
    {
     "name": "stdout",
     "output_type": "stream",
     "text": [
      "{'a': 100, 'b': 300, 'c': 700}\n"
     ]
    }
   ],
   "source": [
    "'''3a. Merge Two Dictionaries - Using Dictionary Unpacking (**)'''\n",
    "dict1 = {'a': 100, 'b': 200}\n",
    "dict2 = {'b': 300, 'c': 400}\n",
    "dict3 = {'a': 100, 'b': 600}\n",
    "dict4 = {'b': 300, 'c': 700}\n",
    "merged = {**dict1, **dict2, **dict3, **dict4}\n",
    "print(merged)\n",
    "\n"
   ]
  },
  {
   "cell_type": "code",
   "execution_count": 37,
   "id": "2306e1bd",
   "metadata": {},
   "outputs": [
    {
     "name": "stdout",
     "output_type": "stream",
     "text": [
      "{1: 'a', 2: 'b', 3: 'c'}\n"
     ]
    }
   ],
   "source": [
    "''' 4. Program to invert a dictionary, i.e., swap its keys and values. '''\n",
    "original_dict = {'a': 1, 'b': 2, 'c': 3}\n",
    "\n",
    "inverted_dict = {value : key for key, value in original_dict.items()}\n",
    "\n",
    "print(inverted_dict)"
   ]
  },
  {
   "cell_type": "code",
   "execution_count": null,
   "id": "0ce83dbc",
   "metadata": {},
   "outputs": [
    {
     "name": "stdout",
     "output_type": "stream",
     "text": [
      "{1: 1, 2: 4, 3: 9, 4: 16, 5: 25, 6: 36, 7: 49, 8: 64, 9: 81}\n"
     ]
    }
   ],
   "source": [
    "''' 5. Dictionary Comprehension '''\n",
    "squares = {x:x*x for x in range(1,10)}\n",
    "print(squares)"
   ]
  },
  {
   "cell_type": "code",
   "execution_count": 38,
   "id": "4b7a7cf3",
   "metadata": {},
   "outputs": [
    {
     "name": "stdout",
     "output_type": "stream",
     "text": [
      "s\n",
      "s\n"
     ]
    }
   ],
   "source": [
    "''' 6. Program to print the dict keys of maximum value'''\n",
    "newDict = {'e': 2, 's': 20, 'h': 2, 'R': 1, 'A': 1, 'm': 1, '3': 1, '4': 1, 'K': 1, 'i': 1, 'o': 1, 'r': 1}\n",
    "\n",
    "result = max(newDict, key=newDict.get)\n",
    "print(result)\n",
    "\n",
    "# other way\n",
    "max_value = max(newDict.values())\n",
    "\n",
    "for key , value in newDict.items():\n",
    "    if value == max_value:\n",
    "        print(key)"
   ]
  },
  {
   "cell_type": "code",
   "execution_count": null,
   "id": "7b5ef9a7",
   "metadata": {},
   "outputs": [
    {
     "name": "stdout",
     "output_type": "stream",
     "text": [
      "Counter({'e': 2, 's': 2, 'h': 2, 'R': 1, 'A': 1, 'm': 1, '3': 1, '4': 1, 'K': 1, 'i': 1, 'o': 1, 'r': 1})\n",
      "dict_values([1, 1, 1, 2, 2, 2, 1, 1, 1, 1, 1, 1])\n",
      "2\n",
      "e\n",
      "s\n",
      "h\n"
     ]
    }
   ],
   "source": [
    "''' 7. program to print the highest frequency characters...(From Strings)'''\n",
    "\n",
    "from collections import Counter\n",
    "\n",
    "myString = 'RAmesh34Kishore'\n",
    "\n",
    "myDict = Counter(myString)\n",
    "\n",
    "print(myDict)\n",
    "print(myDict.values())\n",
    "print(max(myDict.values()))\n",
    "max_ = max(myDict.values())\n",
    "\n",
    "for key in myDict:\n",
    "    if myDict[key] == max_:\n",
    "        print(key)\n"
   ]
  },
  {
   "cell_type": "code",
   "execution_count": null,
   "id": "09121d70",
   "metadata": {},
   "outputs": [
    {
     "name": "stdout",
     "output_type": "stream",
     "text": [
      "['s', 'm']\n",
      "s m\n"
     ]
    }
   ],
   "source": [
    "''' 8. program to print the dict keys of maximum value'''\n",
    "newDict = {'e': 2, 's': 20, 'h': 2, 'R': 1, 'A': 1, 'm': 20, '3': 1, '4': 1, 'K': 1, 'i': 1, 'o': 1, 'r': 1}\n",
    "\n",
    "max_value = max(newDict.values())\n",
    "\n",
    "max_key = [key for key, value in newDict.items() if value == max_value]\n",
    "\n",
    "print(max_key)\n",
    "\n",
    "print(' '.join(max_key))"
   ]
  },
  {
   "cell_type": "code",
   "execution_count": null,
   "id": "0b6ff2ce",
   "metadata": {},
   "outputs": [
    {
     "name": "stdout",
     "output_type": "stream",
     "text": [
      "Dictionary keys of maximum value are : s m\n"
     ]
    }
   ],
   "source": [
    "''' 8a. without using max - program to print the dict keys of maximum value'''\n",
    "\n",
    "newDict = {'e': -201, 's': 20, 'h': 2, 'R': 1, 'A': 1, 'm': 20, '3': 1, '4': 1, 'K': 1, 'i': 1, 'o': 1, 'r': 1}\n",
    "\n",
    "max_value = float('-inf')\n",
    "max_keys = []\n",
    "\n",
    "\n",
    "for key, value in newDict.items():\n",
    "    if value > max_value:\n",
    "        max_value = value\n",
    "        max_keys = [key]\n",
    "    elif value == max_value:\n",
    "        max_keys.append(key)\n",
    "\n",
    "\n",
    "print(\"Dictionary keys of maximum value are : \" + \" \".join(max_keys))"
   ]
  },
  {
   "cell_type": "code",
   "execution_count": 30,
   "id": "1badb51a",
   "metadata": {},
   "outputs": [
    {
     "name": "stdout",
     "output_type": "stream",
     "text": [
      "9\n",
      "45\n",
      "99\n"
     ]
    }
   ],
   "source": [
    "'''9. Program to find highest frequency element in an array'''\n",
    "\n",
    "myArr = [1,67,223,6,789,122,67,9,3,9,45,45,45,45,2,9,2,9,9,45,99,99,99,99,99]\n",
    "\n",
    "myDict = {}\n",
    "\n",
    "for num in myArr:\n",
    "    if num in myDict:\n",
    "        myDict[num] +=1\n",
    "    else:\n",
    "        myDict[num] = 1\n",
    "\n",
    "val = max(myDict.values())\n",
    "\n",
    "# for key, value in myDict.items():\n",
    "#     if value == val:\n",
    "#         print(key)\n",
    "\n",
    "for key in myDict:\n",
    "    if myDict[key] == val:\n",
    "        print(key)"
   ]
  },
  {
   "cell_type": "code",
   "execution_count": null,
   "id": "a87e0f5c",
   "metadata": {},
   "outputs": [
    {
     "name": "stdout",
     "output_type": "stream",
     "text": [
      "[9, 45]\n",
      "9, 45\n"
     ]
    }
   ],
   "source": [
    "''' 9a. Using Counter: Program to find highest frequency element in an array '''\n",
    "from collections import Counter\n",
    "\n",
    "myArr = [1,67,223,6,789,122,67,9,3,9,45,45,45,45,2,9,2,9,9,45]\n",
    "\n",
    "myDict = Counter(myArr)\n",
    "\n",
    "max_freq = max(myDict.values())\n",
    "\n",
    "max_keys = [key for key, value in myDict.items() if value == max_freq]\n",
    "\n",
    "print(max_keys)\n",
    "\n",
    "print(\", \".join(str(k) for k in max_keys))\n"
   ]
  },
  {
   "cell_type": "code",
   "execution_count": null,
   "id": "bf631389",
   "metadata": {},
   "outputs": [
    {
     "name": "stdout",
     "output_type": "stream",
     "text": [
      "Key exists!\n",
      "Key exists......\n"
     ]
    }
   ],
   "source": [
    "''' 10. Check if a Key Exists '''\n",
    "\n",
    "my_dict = {'name': 'Alice', 'age': 30}\n",
    "if 'age' in my_dict:\n",
    "    print(\"Key exists!\")\n",
    "\n",
    "# another way\n",
    "if 'age' in my_dict.keys():\n",
    "    print(\"Key exists......\")\n"
   ]
  },
  {
   "cell_type": "code",
   "execution_count": 39,
   "id": "959ea237",
   "metadata": {},
   "outputs": [
    {
     "name": "stdout",
     "output_type": "stream",
     "text": [
      "defaultdict(<class 'list'>, {})\n",
      "{'K': ['Kasi'], 'R': ['Rahul', 'Rajiv', 'Ramesh'], 'S': ['Sugandan', 'Suresh'], 'y': ['yuvin']}\n"
     ]
    }
   ],
   "source": [
    "'''11. Group Words by First Letter\n",
    "Given a list of words, write a program that groups them into a dictionary \n",
    "where each key is the first letter and the value is a list of words starting with that letter.'''\n",
    "\n",
    "from collections import defaultdict\n",
    "\n",
    "myList = ['Ramesh', 'Suresh', 'Rajiv', 'Kasi', 'Rahul', 'yuvin', 'Sugandan']\n",
    "\n",
    "myList.sort()\n",
    "# print(myList)\n",
    "\n",
    "myDict = defaultdict(list)\n",
    "print(myDict)\n",
    "\n",
    "for item in myList:\n",
    "    myDict[item[0]].append(item)\n",
    "\n",
    "print(dict(myDict))"
   ]
  },
  {
   "cell_type": "markdown",
   "id": "af7bc874",
   "metadata": {},
   "source": [
    "# datetime"
   ]
  },
  {
   "cell_type": "code",
   "execution_count": null,
   "id": "37e30fb4",
   "metadata": {},
   "outputs": [
    {
     "name": "stdout",
     "output_type": "stream",
     "text": [
      "2022-04-17\n",
      "Current year: 2022\n",
      "Current month: 4\n",
      "Current day: 17\n"
     ]
    }
   ],
   "source": [
    "''' DATE TIME exercises..........'''\n",
    "\n",
    "from datetime import date\n",
    "\n",
    "today = date.today() #'''Get Current Date'''\n",
    "print(today)\n",
    "\n",
    "print(\"Current year:\", today.year)\n",
    "print(\"Current month:\", today.month)\n",
    "print(\"Current day:\", today.day)\n"
   ]
  },
  {
   "cell_type": "code",
   "execution_count": null,
   "id": "2ff1a8c4",
   "metadata": {},
   "outputs": [
    {
     "name": "stdout",
     "output_type": "stream",
     "text": [
      "2025-01-02 19:07:57.721271\n",
      "19:07:57.721271\n"
     ]
    }
   ],
   "source": [
    "import datetime\n",
    "\n",
    "print(datetime.datetime.now())\n",
    "\n",
    "print(datetime.datetime.now().time())"
   ]
  },
  {
   "cell_type": "code",
   "execution_count": null,
   "id": "100f865d",
   "metadata": {},
   "outputs": [
    {
     "name": "stdout",
     "output_type": "stream",
     "text": [
      "['is', 'is', 'is']\n",
      "['is', 'is', 'it', 'is']\n",
      "['s', 's', 'a', 'a', 's', '@', 'a', 's', 'a']\n"
     ]
    }
   ],
   "source": [
    "'''\n",
    "\\w - Matches any single letter, number or under_score\n",
    "\\W - Matches any character not part of \\w\n",
    "\\d - Matches decimal digits 0-9\n",
    ".  - Matcheds any single character except new line character\n",
    "\\. - To match dot with dot only use '\\'\n",
    "^  - Start of the string\n",
    "$  - End of the string\n",
    "\n",
    "\n",
    "'''\n",
    "import re\n",
    "\n",
    "# findall\n",
    "text=\"This is a python and it is @ easy to learn\"\n",
    "my_pat=\"is\"\n",
    "print(re.findall(my_pat,text))\n",
    "['is', 'is', 'is']\n",
    "my_pat = \"i[st]\"\n",
    "print(re.findall(my_pat,text))\n",
    "['is', 'is', 'it', 'is']\n",
    "my_pat = \"[@as]\"\n",
    "print(re.findall(my_pat,text))\n"
   ]
  },
  {
   "cell_type": "markdown",
   "id": "33b72373",
   "metadata": {},
   "source": [
    "# regex"
   ]
  },
  {
   "cell_type": "code",
   "execution_count": null,
   "id": "843df0fc",
   "metadata": {},
   "outputs": [],
   "source": [
    "'''\n",
    "\\w - Matches any single letter, number or under_score\n",
    "\\W - Matches any character not part of \\w\n",
    "\\d - Matches decimal digits 0-9\n",
    ".  - Matcheds any single character except new line character\n",
    "\\. - To match dot with dot only use '\\'\n",
    "^  - Start of the string\n",
    "$  - End of the string\n",
    "\n",
    "'''"
   ]
  },
  {
   "cell_type": "markdown",
   "id": "ebbde39f",
   "metadata": {},
   "source": [
    "## re.findall"
   ]
  },
  {
   "cell_type": "code",
   "execution_count": null,
   "id": "39024d4c",
   "metadata": {},
   "outputs": [
    {
     "name": "stdout",
     "output_type": "stream",
     "text": [
      "['is', 'is', 'is']\n"
     ]
    }
   ],
   "source": [
    "import re\n",
    "text=\"This is a python and it is @ easy to learn\"\n",
    "my_pat=\"is\"\n",
    "\n",
    "print(re.findall(my_pat,text))"
   ]
  },
  {
   "cell_type": "code",
   "execution_count": null,
   "id": "5b6d467d",
   "metadata": {},
   "outputs": [
    {
     "name": "stdout",
     "output_type": "stream",
     "text": [
      "['is', 'is', 'it', 'is']\n"
     ]
    }
   ],
   "source": [
    "my_pat = \"i[st]\"\n",
    "print(re.findall(my_pat,text))"
   ]
  },
  {
   "cell_type": "code",
   "execution_count": null,
   "id": "8c210043",
   "metadata": {},
   "outputs": [
    {
     "name": "stdout",
     "output_type": "stream",
     "text": [
      "['s', 's', 'a', 'a', 's', '@', 'a', 's', 'a']\n"
     ]
    }
   ],
   "source": [
    "my_pat = \"[@as]\"\n",
    "print(re.findall(my_pat,text))"
   ]
  },
  {
   "cell_type": "code",
   "execution_count": null,
   "id": "c7fbed80",
   "metadata": {},
   "outputs": [
    {
     "name": "stdout",
     "output_type": "stream",
     "text": [
      "['h', 'i', 'i', 'a', 'y', 'h', 'a', 'd', 'i', 'i', 'a', 'y', 'l', 'a']\n"
     ]
    }
   ],
   "source": [
    "my_pat = \"[a-dh-lx-z]\"\n",
    "print(re.findall(my_pat,text))"
   ]
  },
  {
   "cell_type": "code",
   "execution_count": null,
   "id": "73887d6f",
   "metadata": {},
   "outputs": [
    {
     "name": "stdout",
     "output_type": "stream",
     "text": [
      "['a', 'a', 'd', 'a', 'a']\n"
     ]
    }
   ],
   "source": [
    "my_pat = \"[a-d]\"\n",
    "print(re.findall(my_pat,text))"
   ]
  },
  {
   "cell_type": "code",
   "execution_count": null,
   "id": "fb0df153",
   "metadata": {},
   "outputs": [
    {
     "name": "stdout",
     "output_type": "stream",
     "text": [
      "['a', 'a', 'd', 'a', 'a']\n"
     ]
    }
   ],
   "source": [
    "my_pat = \"[abcd]\"\n",
    "print(re.findall(my_pat,text))"
   ]
  },
  {
   "cell_type": "code",
   "execution_count": 41,
   "id": "30499ab0",
   "metadata": {},
   "outputs": [
    {
     "name": "stdout",
     "output_type": "stream",
     "text": [
      "['T', 'h', 'i', 's', 'i', 's', 'a', 'p', 'y', 't', 'h', 'o', 'n', 'a', 'n', 'd', 'i', 't', 'i', 's', 'e', 'a', 's', 'y', 't', 'o', 'l', 'e', 'a', 'r', 'n', 'O', '_', '_', 'O', 'T']\n"
     ]
    }
   ],
   "source": [
    "# \\w - Matches any single letter, number or under_score\n",
    "import re\n",
    "text=\"This is a python and it is @ easy to learn O__ OT\"\n",
    "my_pat = \"\\w\"\n",
    "print(re.findall(my_pat,text))"
   ]
  },
  {
   "cell_type": "code",
   "execution_count": null,
   "id": "a89f41dd",
   "metadata": {},
   "outputs": [
    {
     "name": "stdout",
     "output_type": "stream",
     "text": [
      "['Thi', 'pyt', 'hon', 'and', 'eas', 'lea', 'O__']\n"
     ]
    }
   ],
   "source": [
    "text=\"This is a python and it is @ easy to learn O__ OT\"\n",
    "my_pat = \"\\w\\w\\w\"\n",
    "print(re.findall(my_pat,text))"
   ]
  },
  {
   "cell_type": "code",
   "execution_count": null,
   "id": "aaf29196",
   "metadata": {},
   "outputs": [
    {
     "name": "stdout",
     "output_type": "stream",
     "text": [
      "[' ', ' ', ' ', ' ', ' ', ' ', ' ', '@', ' ', ' ', ' ', ' ', ' ', ' ', ')', '(', '*', '-', '-']\n"
     ]
    }
   ],
   "source": [
    "text=\"This is a python and it is @ easy to learn O__ OT )Ra(m*e-s-h\"\n",
    "my_pat = \"\\W\"\n",
    "print(re.findall(my_pat,text))"
   ]
  },
  {
   "cell_type": "code",
   "execution_count": null,
   "id": "893243e7",
   "metadata": {},
   "outputs": [
    {
     "name": "stdout",
     "output_type": "stream",
     "text": [
      "['2', '6', '9', '9', '3', '8']\n",
      "['python2', 'python3']\n",
      "['99']\n"
     ]
    }
   ],
   "source": [
    "text=\"This is a python2 and it is @ easy 6 to 99 python3 learn 8 O__ OT )Ra(m*e-s-h\"\n",
    "my_pat = \"\\d\"\n",
    "my_pat1 = \"python\\d\"\n",
    "my_pat2 = \"\\d\\d\"\n",
    "print(re.findall(my_pat,text))\n",
    "print(re.findall(my_pat1,text))\n",
    "print(re.findall(my_pat2,text))"
   ]
  },
  {
   "cell_type": "code",
   "execution_count": null,
   "id": "2c4e1325",
   "metadata": {},
   "outputs": [
    {
     "name": "stdout",
     "output_type": "stream",
     "text": [
      "['T', 'h', 'i', 's', ' ', 'i', 's', ' ', 'a', ' ', 'p', 'y', 't', 'h', 'o', 'n', '2', ' ', 'a', 'n', 'd', ' ', 'i', 't', ' ', 'i', 's', ' ', '@', ' ', 'e', 'a', 's', 'y', ' ', '6', ' ', 't', 'o', ' ', '9', '9', ' ', 'p', 'y', 't', 'h', 'o', 'n', '3', ' ', 'l', 'e', 'a', 'r', 'n', ' ', '8', ' ', 'O', '_', '_', ' ', 'O', 'T', ' ', ')', 'R', 'a', '(', 'm', '*', 'e', '-', 's', '-', 'h']\n",
      "['Thi', 's i', 's a', ' py', 'tho', 'n2 ', 'and', ' it', ' is', ' @ ', 'eas', 'y 6', ' to', ' 99', ' py', 'tho', 'n3 ', 'lea', 'rn ', '8 O', '__ ', 'OT ', ')Ra', '(m*', 'e-s']\n"
     ]
    }
   ],
   "source": [
    "my_pat = \".\"\n",
    "print(re.findall(my_pat,text))\n",
    "\n",
    "my_pat = \"...\"\n",
    "print(re.findall(my_pat,text))"
   ]
  },
  {
   "cell_type": "code",
   "execution_count": null,
   "id": "e2e6728e",
   "metadata": {},
   "outputs": [
    {
     "name": "stdout",
     "output_type": "stream",
     "text": [
      "['.', '.']\n"
     ]
    }
   ],
   "source": [
    "text=\"This is a python2 and it is @ easy 6.9 to 99.8 python3 learn 8 O__ OT )Ra(m*e-s-h\"\n",
    "my_pat = \"\\.\"\n",
    "print(re.findall(my_pat,text))"
   ]
  },
  {
   "cell_type": "code",
   "execution_count": 46,
   "id": "bab6c72d",
   "metadata": {},
   "outputs": [
    {
     "name": "stdout",
     "output_type": "stream",
     "text": [
      "['172.16.329.109']\n"
     ]
    }
   ],
   "source": [
    "import re\n",
    "text = \"This is my ip of a db server: 172.16.329.109 23415656565656\"\n",
    "# my_pat = \"\\d\\d\\d\\.\\d\\d\\d\\.\\d\\d\\d\\.\\d\\d\\d\"\n",
    "my_pat = \"\\d{1,3}\\.\\d{1,3}\\.\\d{1,3}\\.\\d{1,3}\"\n",
    "\n",
    "print(re.findall(my_pat,text))"
   ]
  },
  {
   "cell_type": "code",
   "execution_count": null,
   "id": "8b00384b",
   "metadata": {},
   "outputs": [
    {
     "name": "stdout",
     "output_type": "stream",
     "text": [
      "['it']\n"
     ]
    }
   ],
   "source": [
    "import re\n",
    "text = 'it is a python and it is easy to learn'\n",
    "my_pat = '^i[ts]'\n",
    "print(re.findall(my_pat,text))"
   ]
  },
  {
   "cell_type": "code",
   "execution_count": null,
   "id": "e2c26154",
   "metadata": {},
   "outputs": [
    {
     "name": "stdout",
     "output_type": "stream",
     "text": [
      "['learn']\n"
     ]
    }
   ],
   "source": [
    "import re\n",
    "text = 'it is a python and learn it is easy to learn'\n",
    "my_pat = 'learn$'\n",
    "print(re.findall(my_pat,text))"
   ]
  },
  {
   "cell_type": "code",
   "execution_count": null,
   "id": "efd47a5e",
   "metadata": {},
   "outputs": [
    {
     "name": "stdout",
     "output_type": "stream",
     "text": [
      "['123', '456']\n"
     ]
    }
   ],
   "source": [
    "import re\n",
    "text = \"abc123xyz456def\"\n",
    "pattern = r\"\\d+\"\n",
    "result = re.findall(pattern, text)\n",
    "print(result)  # Output: ['123', '456']"
   ]
  },
  {
   "cell_type": "code",
   "execution_count": null,
   "id": "a6c2e184",
   "metadata": {},
   "outputs": [
    {
     "name": "stdout",
     "output_type": "stream",
     "text": [
      "['https://example.com', 'http://test.org']\n"
     ]
    }
   ],
   "source": [
    "import re\n",
    "text = \"Visit https://example.com or http://test.org\"\n",
    "pattern = r\"https?://[^\\s]+\"\n",
    "result = re.findall(pattern, text)\n",
    "print(result)  # Output: ['https://example.com', 'http://test.org']"
   ]
  },
  {
   "cell_type": "code",
   "execution_count": null,
   "id": "b92b8bbf",
   "metadata": {},
   "outputs": [
    {
     "name": "stdout",
     "output_type": "stream",
     "text": [
      "['2023-01-01', '2024/02/02']\n"
     ]
    }
   ],
   "source": [
    "import re\n",
    "text = \"We met on 2023-01-01 and again on 2024/02/02\"\n",
    "pattern = r\"\\d{4}[-/]\\d{2}[-/]\\d{2}\"\n",
    "result = re.findall(pattern, text)\n",
    "print(result)  # Output: ['2023-01-01', '2024/02/02']"
   ]
  },
  {
   "cell_type": "code",
   "execution_count": null,
   "id": "63681634",
   "metadata": {},
   "outputs": [
    {
     "name": "stdout",
     "output_type": "stream",
     "text": [
      "['over', 'la_y', 'kiso']\n"
     ]
    }
   ],
   "source": [
    "import re\n",
    "text = \"The quick brown fox jumps over the la_y dog kiso\"\n",
    "pattern = r\"\\b\\w{4}\\b\"\n",
    "result = re.findall(pattern, text)\n",
    "print(result)  # Output: ['quick', 'jumps', 'over', 'lazy']"
   ]
  },
  {
   "cell_type": "code",
   "execution_count": null,
   "id": "99ecd3cc",
   "metadata": {},
   "outputs": [
    {
     "name": "stdout",
     "output_type": "stream",
     "text": [
      "['@twitter', '#Python']\n"
     ]
    }
   ],
   "source": [
    "import re\n",
    "text = \"Follow us on @twitter and #Python\"\n",
    "pattern = r\"[@#]\\w+\"\n",
    "# pattern = r\"\\b[@#]\\w+\\b\"\n",
    "result = re.findall(pattern, text)\n",
    "print(result)  # Output: ['@twitter', '#Python']"
   ]
  },
  {
   "cell_type": "markdown",
   "id": "76917020",
   "metadata": {},
   "source": [
    "## re.search"
   ]
  },
  {
   "cell_type": "code",
   "execution_count": null,
   "id": "947befa1",
   "metadata": {},
   "outputs": [
    {
     "name": "stdout",
     "output_type": "stream",
     "text": [
      "GeeksforGeeks: A computer science portal for geeks\n"
     ]
    }
   ],
   "source": [
    "import re\n",
    " \n",
    "s = 'GeeksforGeeks: A computer science portal for geeks'\n",
    " \n",
    "match = re.search(r'portal', s)\n",
    "\n",
    "print(match.string)"
   ]
  },
  {
   "cell_type": "code",
   "execution_count": null,
   "id": "275b61f5",
   "metadata": {},
   "outputs": [
    {
     "name": "stdout",
     "output_type": "stream",
     "text": [
      "5454b6511ee3cb44c46a5\n",
      "95022524-91a1-b1058b169e97\n"
     ]
    }
   ],
   "source": [
    "## regEx basics\n",
    "import re\n",
    "path = \"GET /sdc/v2/common/token?access_token=5454b6511ee3cb44c46a5&device_id=urn:uuid:95022524-91a1-b1058b169e97 HTTP/1.1\"\n",
    "\n",
    "pattern = re.search(r\"(\\w*)access_token=(\\w+)&device_id=urn:uuid:(.*) HTTP\\/1.1\", path)\n",
    "\n",
    "print(pattern.group(2))\n",
    "print(pattern.group(3))"
   ]
  },
  {
   "cell_type": "markdown",
   "id": "25f772b3",
   "metadata": {},
   "source": [
    "## re.compile\n"
   ]
  },
  {
   "cell_type": "code",
   "execution_count": null,
   "id": "b54cf41b",
   "metadata": {},
   "outputs": [
    {
     "name": "stdout",
     "output_type": "stream",
     "text": [
      "['1', '1', '4', '1', '8', '8', '6']\n",
      "['11', '4', '1886']\n",
      "['H', 'e', 's', 'a', 'i', 'd', 'i', 'n', 's', 'o', 'm', 'e', '_', 'l', 'a', 'n', 'g']\n",
      "['I', 'went', 'to', 'him', 'at', '11', 'A', 'M', 'he', 'said', 'in', 'some_language']\n",
      "[' ', ' ', '*', '*', '*', ' ', ' ', '.']\n"
     ]
    }
   ],
   "source": [
    "import re\n",
    " \n",
    "# \\d is equivalent to [0-9].\n",
    "p = re.compile('\\d')\n",
    "print(p.findall(\"I went to him at 11 A.M. on 4th July 1886\"))\n",
    " \n",
    "# \\d+ will match a group on [0-9], group\n",
    "# of one or greater size\n",
    "p = re.compile('\\d+')\n",
    "print(p.findall(\"I went to him at 11 A.M. on 4th July 1886\"))\n",
    "\n",
    "# \\w is equivalent to [a-zA-Z0-9_].\n",
    "p = re.compile('\\w')\n",
    "print(p.findall(\"He said * in some_lang.\"))\n",
    " \n",
    "# \\w+ matches to group of alphanumeric character.\n",
    "p = re.compile('\\w+')\n",
    "print(p.findall(\"I went to him at 11 A.M., he \\\n",
    "said *** in some_language.\"))\n",
    " \n",
    "# \\W matches to non alphanumeric characters.\n",
    "p = re.compile('\\W')\n",
    "print(p.findall(\"he said *** in some_language.\"))"
   ]
  },
  {
   "cell_type": "markdown",
   "id": "dad967ed",
   "metadata": {},
   "source": [
    "## re.split"
   ]
  },
  {
   "cell_type": "code",
   "execution_count": null,
   "id": "0628ff7a",
   "metadata": {},
   "outputs": [
    {
     "name": "stdout",
     "output_type": "stream",
     "text": [
      "['On ', 'th Jan 2016, at 11:02 AM']\n"
     ]
    }
   ],
   "source": [
    "import re\n",
    " \n",
    "# Splitting will occurs only once, at '12', returned list will have length 2\n",
    "print(re.split('\\d+', 'On 12th Jan 2016, at 11:02 AM', 1))"
   ]
  },
  {
   "cell_type": "code",
   "execution_count": null,
   "id": "e74a0f08",
   "metadata": {},
   "outputs": [
    {
     "name": "stdout",
     "output_type": "stream",
     "text": [
      "['', 'y, Boy oh boy, come here']\n",
      "['A', 'y, Boy oh ', 'oy, ', 'om', ' h', 'r', '']\n"
     ]
    }
   ],
   "source": [
    "# 'Boy' and 'boy' will be treated same when\n",
    "# flags = re.IGNORECASE\n",
    "print(re.split('[a-f]+', 'Aey, Boy oh boy, come here', 1,flags=re.IGNORECASE))\n",
    "print(re.split('[a-f]+', 'Aey, Boy oh boy, come here'))"
   ]
  },
  {
   "cell_type": "markdown",
   "id": "d1f214c8",
   "metadata": {},
   "source": [
    "## re.sub"
   ]
  },
  {
   "cell_type": "code",
   "execution_count": null,
   "id": "6a2005fe",
   "metadata": {},
   "outputs": [
    {
     "name": "stdout",
     "output_type": "stream",
     "text": [
      "S~*ject has ~*er booked already\n",
      "S~*ject has Uber booked already\n",
      "S~*ject has Uber booked already\n",
      "Baked Beans & Spam\n"
     ]
    }
   ],
   "source": [
    "import re\n",
    " \n",
    "# Regular Expression pattern 'ub' matches the\n",
    "# string at \"Subject\" and \"Uber\". As the CASE\n",
    "# has been ignored, using Flag, 'ub' should\n",
    "# match twice with the string Upon matching,\n",
    "# 'ub' is replaced by '~*' in \"Subject\", and\n",
    "# in \"Uber\", 'Ub' is replaced.\n",
    "print(re.sub('ub', '~*', 'Subject has Uber booked already',\n",
    "             flags=re.IGNORECASE))\n",
    " \n",
    "# Consider the Case Sensitivity, 'Ub' in\n",
    "# \"Uber\", will not be replaced.\n",
    "print(re.sub('ub', '~*', 'Subject has Uber booked already'))\n",
    " \n",
    "# As count has been given value 1, the maximum\n",
    "# times replacement occurs is 1\n",
    "print(re.sub('ub', '~*', 'Subject has Uber booked already',\n",
    "             count=1, flags=re.IGNORECASE))\n",
    " \n",
    "# 'r' before the pattern denotes RE, \\s is for\n",
    "# start and end of a String.\n",
    "print(re.sub(r'\\sAND\\s', ' & ', 'Baked Beans And Spam',\n",
    "             flags=re.IGNORECASE))"
   ]
  },
  {
   "cell_type": "code",
   "execution_count": null,
   "id": "538b3483",
   "metadata": {},
   "outputs": [
    {
     "name": "stdout",
     "output_type": "stream",
     "text": [
      "This is a test\n"
     ]
    }
   ],
   "source": [
    "import re\n",
    "text = \"This   is  a   test\"\n",
    "result = re.sub(r\"\\s+\", \" \", text)\n",
    "print(result)  # Output: \"This is a test\""
   ]
  },
  {
   "cell_type": "markdown",
   "id": "6da883fb",
   "metadata": {},
   "source": [
    "## re.match"
   ]
  },
  {
   "cell_type": "code",
   "execution_count": null,
   "id": "500a4655",
   "metadata": {},
   "outputs": [
    {
     "name": "stdout",
     "output_type": "stream",
     "text": [
      "True\n"
     ]
    }
   ],
   "source": [
    "''' Some more examples....'''\n",
    "\n",
    "import re\n",
    "myString = \"Hello World!\"\n",
    "\n",
    "pattern = r\"^H.*!$\"\n",
    "\n",
    "result = re.match(pattern,myString)\n",
    "\n",
    "print(bool(result))"
   ]
  },
  {
   "cell_type": "code",
   "execution_count": null,
   "id": "97ee60c4",
   "metadata": {},
   "outputs": [
    {
     "name": "stdout",
     "output_type": "stream",
     "text": [
      "True\n"
     ]
    }
   ],
   "source": [
    "import re\n",
    "email = \"example@test.com\"\n",
    "\n",
    "pattern = r\"^[a-zA-Z0-9$%._+-]+@[a-zA-Z0-9.-]+\\.[a-zA-Z]{2,}$\"\n",
    "# pattern = r\"^[a-zA-Z0-9._%+-]+@[a-zA-Z0-9.-]+\\.[a-zA-Z]{2,}$\"\n",
    "\n",
    "print(bool(re.match(pattern, email)))"
   ]
  },
  {
   "cell_type": "code",
   "execution_count": null,
   "id": "e3fa737a",
   "metadata": {},
   "outputs": [
    {
     "name": "stdout",
     "output_type": "stream",
     "text": [
      "True\n"
     ]
    }
   ],
   "source": [
    "import re\n",
    "phone = \"987-123-4567\"\n",
    "pattern = r\"^\\d{3}-\\d{3}-\\d{4}$\"\n",
    "result = bool(re.match(pattern, phone))\n",
    "print(result)  # Output: True"
   ]
  },
  {
   "cell_type": "code",
   "execution_count": null,
   "id": "abf900fd",
   "metadata": {},
   "outputs": [
    {
     "name": "stdout",
     "output_type": "stream",
     "text": [
      "True\n"
     ]
    }
   ],
   "source": [
    "import re\n",
    "password = \"Pass@123\"\n",
    "\n",
    "pattern = r\"^(?=.*[a-z])(?=.*[A-Z])(?=.*[0-9])(?=.*[!@#$%&*-_])[A-Za-z\\d!@#$%&*-_]{8,}\"\n",
    "\n",
    "print(bool(re.match(pattern,password)))"
   ]
  },
  {
   "cell_type": "markdown",
   "id": "2214956a",
   "metadata": {},
   "source": [
    "# *args"
   ]
  },
  {
   "cell_type": "code",
   "execution_count": null,
   "id": "ce04cb0f",
   "metadata": {},
   "outputs": [
    {
     "name": "stdout",
     "output_type": "stream",
     "text": [
      "10\n",
      "-10\n",
      "10\n"
     ]
    }
   ],
   "source": [
    "def biggest_number(*args):     # to pass many argument\n",
    "    print(max(args))\n",
    "   \n",
    "    \n",
    "def smallest_number(*args):\n",
    "    print(min(args))\n",
    "   \n",
    "\n",
    "def distance_from_zero(arg):\n",
    "    print(abs(arg))\n",
    "   \n",
    "\n",
    "biggest_number(-10, -5, 5, 10)\n",
    "smallest_number(-10, -5, 5, 10)\n",
    "distance_from_zero(-10)"
   ]
  },
  {
   "cell_type": "markdown",
   "id": "7d86a70b",
   "metadata": {},
   "source": [
    "# Miscelleneous"
   ]
  },
  {
   "cell_type": "code",
   "execution_count": null,
   "id": "75e0ac12",
   "metadata": {},
   "outputs": [
    {
     "name": "stdout",
     "output_type": "stream",
     "text": [
      "1\n",
      "2\n",
      "3\n"
     ]
    }
   ],
   "source": [
    "# Iter and next \n",
    "num = [1,2,3]\n",
    "\n",
    "i_nums = iter(num)\n",
    "\n",
    "print(next(i_nums))\n",
    "print(next(i_nums))\n",
    "print(next(i_nums))"
   ]
  },
  {
   "cell_type": "code",
   "execution_count": null,
   "id": "07e832f4",
   "metadata": {},
   "outputs": [
    {
     "name": "stdout",
     "output_type": "stream",
     "text": [
      "(5, 6) "
     ]
    }
   ],
   "source": [
    "# usage of map and print the output in same line\n",
    "import itertools\n",
    "\n",
    "# A = [1, 2]\n",
    "# B = [3, 4]\n",
    "A = map(int, input().split())    ## take the input and map into integer\n",
    "B = map(int, input().split())\n",
    "result = itertools.product(A,B)\n",
    "\n",
    "for item in result:\n",
    "    print(item, end=\" \") # print the output in the same line separated with comma, by default end will have '\\n' i.e., end ='\\n'"
   ]
  },
  {
   "cell_type": "code",
   "execution_count": null,
   "id": "efe803be",
   "metadata": {},
   "outputs": [
    {
     "name": "stdout",
     "output_type": "stream",
     "text": [
      "Your choices are:\n",
      "1 pizza\n",
      "2 pasta\n",
      "3 salad\n",
      "4 nachos\n"
     ]
    }
   ],
   "source": [
    "\"\"\" enumerate works by supplying a corresponding index to each element in the list \n",
    "that you pass it. Each time you go through the loop, index will be one greater, \n",
    "and item will be the next item in the sequence. It's very similar to using a normal for\n",
    " loop with a list, except this gives us an easy way to count how many items we've seen \n",
    " so far. \"\"\"\n",
    " \n",
    "choices = ['pizza', 'pasta', 'salad', 'nachos']\n",
    "\n",
    "print('Your choices are:')\n",
    "for index, item in enumerate(choices):   # enumerate prints with index. \n",
    "    print(index+1, item)\n",
    "\n",
    "# Each time you go through the loop, index will be one greater, \n",
    "# and item will be the next item in the sequence"
   ]
  },
  {
   "cell_type": "markdown",
   "id": "008e5393",
   "metadata": {},
   "source": [
    "# import os"
   ]
  },
  {
   "cell_type": "code",
   "execution_count": null,
   "id": "05585985",
   "metadata": {},
   "outputs": [
    {
     "data": {
      "text/plain": [
       "environ{'ALLUSERSPROFILE': 'C:\\\\ProgramData',\n",
       "        'APPDATA': 'C:\\\\Users\\\\Ramesh\\\\AppData\\\\Roaming',\n",
       "        'CHROME_CRASHPAD_PIPE_NAME': '\\\\\\\\.\\\\pipe\\\\crashpad_7540_DLZSLPDNSDWFDJHM',\n",
       "        'COMMONPROGRAMFILES': 'C:\\\\Program Files\\\\Common Files',\n",
       "        'COMMONPROGRAMFILES(X86)': 'C:\\\\Program Files (x86)\\\\Common Files',\n",
       "        'COMMONPROGRAMW6432': 'C:\\\\Program Files\\\\Common Files',\n",
       "        'COMPUTERNAME': 'KISHORE',\n",
       "        'COMSPEC': 'C:\\\\WINDOWS\\\\system32\\\\cmd.exe',\n",
       "        'DRIVERDATA': 'C:\\\\Windows\\\\System32\\\\Drivers\\\\DriverData',\n",
       "        'EFC_11236': '1',\n",
       "        'ELECTRON_RUN_AS_NODE': '1',\n",
       "        'HOMEDRIVE': 'C:',\n",
       "        'HOMEPATH': '\\\\Users\\\\Ramesh',\n",
       "        'IGCCSVC_DB': 'AQAAANCMnd8BFdERjHoAwE/Cl+sBAAAAvWXWnF5V50m/a4qoI866jAQAAAACAAAAAAAQZgAAAAEAACAAAAB7YBSjcpTr6XPGi9BuNe1HLSTXR+/bQOaZAvngf/VZ7wAAAAAOgAAAAAIAACAAAACsCmdQoFshAWAD8i01qZK+UrU+YhBRhvKLfOsSbG9MymAAAAAaMz6Y6vCS/zS5yM+GQBKRfgsJ3OM5ciLZimTR3Sz+RLB4bTjXRP0Fv4rGKb2DkmZynwOCbBpx9gOo737FqUIjGUxKJ7TeFhW6j4feeheStUQHueDwhwowD+FKiUZnL2BAAAAAqHzff4qeddPWa6U+fS5uP2IGH6hudqnNnzP6WBJRV7ibEk2bGhgCekY8zyyOFXPM34IQgQ3Bq3TJHUspOaHplQ==',\n",
       "        'JPY_INTERRUPT_EVENT': '156',\n",
       "        'LOCALAPPDATA': 'C:\\\\Users\\\\Ramesh\\\\AppData\\\\Local',\n",
       "        'LOGONSERVER': '\\\\\\\\KISHORE',\n",
       "        'NUMBER_OF_PROCESSORS': '12',\n",
       "        'ONEDRIVE': 'C:\\\\Users\\\\Ramesh\\\\OneDrive',\n",
       "        'ONEDRIVECONSUMER': 'C:\\\\Users\\\\Ramesh\\\\OneDrive',\n",
       "        'ONLINESERVICES': 'Online Services',\n",
       "        'ORIGINAL_XDG_CURRENT_DESKTOP': 'undefined',\n",
       "        'OS': 'Windows_NT',\n",
       "        'PATH': 'c:\\\\Users\\\\Ramesh\\\\AppData\\\\Local\\\\Microsoft\\\\WindowsApps;c:\\\\Users\\\\Ramesh\\\\AppData\\\\Local\\\\Packages\\\\PythonSoftwareFoundation.Python.3.10_qbz5n2kfra8p0\\\\LocalCache\\\\local-packages\\\\Python310\\\\Scripts;C:\\\\WINDOWS\\\\system32;C:\\\\WINDOWS;C:\\\\WINDOWS\\\\System32\\\\Wbem;C:\\\\WINDOWS\\\\System32\\\\WindowsPowerShell\\\\v1.0\\\\;C:\\\\WINDOWS\\\\System32\\\\OpenSSH\\\\;C:\\\\Program Files\\\\dotnet\\\\;C:\\\\Program Files\\\\HP\\\\HP One Agent;C:\\\\Program Files\\\\Docker\\\\Docker\\\\resources\\\\bin;C:\\\\WINDOWS\\\\system32;C:\\\\WINDOWS;C:\\\\WINDOWS\\\\System32\\\\Wbem;C:\\\\WINDOWS\\\\System32\\\\WindowsPowerShell\\\\v1.0\\\\;C:\\\\WINDOWS\\\\System32\\\\OpenSSH\\\\;C:\\\\Program Files\\\\Git\\\\cmd;C:\\\\windows\\\\system32;C:\\\\windows;C:\\\\windows\\\\System32\\\\Wbem;C:\\\\windows\\\\System32\\\\WindowsPowerShell\\\\v1.0\\\\;C:\\\\windows\\\\System32\\\\OpenSSH\\\\;C:\\\\Program Files\\\\dotnet\\\\;C:\\\\Users\\\\Ramesh\\\\AppData\\\\Local\\\\Packages\\\\PythonSoftwareFoundation.Python.3.10_qbz5n2kfra8p0\\\\LocalCache\\\\local-packages\\\\Python310\\\\Scripts;C:\\\\Users\\\\Ramesh\\\\AppData\\\\Local\\\\Microsoft\\\\WindowsApps;C:\\\\Users\\\\Ramesh\\\\AppData\\\\Local\\\\Turbo\\\\Cmd\\\\;C:\\\\Users\\\\Ramesh\\\\AppData\\\\Local\\\\Microsoft\\\\WindowsApps;;C:\\\\Users\\\\Ramesh\\\\AppData\\\\Local\\\\Programs\\\\Ollama;C:\\\\Users\\\\Ramesh\\\\AppData\\\\Local\\\\Programs\\\\Microsoft VS Code\\\\bin;C:\\\\WINDOWS\\\\system32;C:\\\\WINDOWS;C:\\\\WINDOWS\\\\System32\\\\Wbem;C:\\\\WINDOWS\\\\System32\\\\WindowsPowerShell\\\\v1.0\\\\;C:\\\\WINDOWS\\\\System32\\\\OpenSSH\\\\;C:\\\\Program Files\\\\dotnet\\\\;C:\\\\Program Files\\\\HP\\\\HP One Agent;C:\\\\Program Files\\\\Docker\\\\Docker\\\\resources\\\\bin;C:\\\\WINDOWS\\\\system32;C:\\\\WINDOWS;C:\\\\WINDOWS\\\\System32\\\\Wbem;C:\\\\WINDOWS\\\\System32\\\\WindowsPowerShell\\\\v1.0\\\\;C:\\\\WINDOWS\\\\System32\\\\OpenSSH\\\\;C:\\\\Program Files\\\\Git\\\\cmd;C:\\\\windows\\\\system32;C:\\\\windows;C:\\\\windows\\\\System32\\\\Wbem;C:\\\\windows\\\\System32\\\\WindowsPowerShell\\\\v1.0\\\\;C:\\\\windows\\\\System32\\\\OpenSSH\\\\;C:\\\\Program Files\\\\dotnet\\\\;C:\\\\Users\\\\Ramesh\\\\AppData\\\\Local\\\\Packages\\\\PythonSoftwareFoundation.Python.3.10_qbz5n2kfra8p0\\\\LocalCache\\\\local-packages\\\\Python310\\\\Scripts;C:\\\\Users\\\\Ramesh\\\\AppData\\\\Local\\\\Microsoft\\\\WindowsApps;C:\\\\Users\\\\Ramesh\\\\AppData\\\\Local\\\\Turbo\\\\Cmd\\\\;C:\\\\Users\\\\Ramesh\\\\AppData\\\\Local\\\\Microsoft\\\\WindowsApps;;C:\\\\Users\\\\Ramesh\\\\AppData\\\\Local\\\\Programs\\\\Ollama;C:\\\\Users\\\\Ramesh\\\\AppData\\\\Local\\\\Programs\\\\Microsoft VS Code\\\\bin',\n",
       "        'PATHEXT': '.COM;.EXE;.BAT;.CMD;.VBS;.VBE;.JS;.JSE;.WSF;.WSH;.MSC',\n",
       "        'PLATFORMCODE': 'KV',\n",
       "        'PROCESSOR_ARCHITECTURE': 'AMD64',\n",
       "        'PROCESSOR_IDENTIFIER': 'Intel64 Family 6 Model 154 Stepping 4, GenuineIntel',\n",
       "        'PROCESSOR_LEVEL': '6',\n",
       "        'PROCESSOR_REVISION': '9a04',\n",
       "        'PROGRAMDATA': 'C:\\\\ProgramData',\n",
       "        'PROGRAMFILES': 'C:\\\\Program Files',\n",
       "        'PROGRAMFILES(X86)': 'C:\\\\Program Files (x86)',\n",
       "        'PROGRAMW6432': 'C:\\\\Program Files',\n",
       "        'PSMODULEPATH': 'C:\\\\Program Files\\\\WindowsPowerShell\\\\Modules;C:\\\\WINDOWS\\\\system32\\\\WindowsPowerShell\\\\v1.0\\\\Modules',\n",
       "        'PUBLIC': 'C:\\\\Users\\\\Public',\n",
       "        'PYDEVD_IPYTHON_COMPATIBLE_DEBUGGING': '1',\n",
       "        'PYTHONIOENCODING': 'utf-8',\n",
       "        'PYTHONUNBUFFERED': '1',\n",
       "        'PYTHON_FROZEN_MODULES': 'on',\n",
       "        'REGIONCODE': 'APJ',\n",
       "        'SESSIONNAME': 'Console',\n",
       "        'SYSTEMDRIVE': 'C:',\n",
       "        'SYSTEMROOT': 'C:\\\\WINDOWS',\n",
       "        'TEMP': 'C:\\\\Users\\\\Ramesh\\\\AppData\\\\Local\\\\Temp',\n",
       "        'TMP': 'C:\\\\Users\\\\Ramesh\\\\AppData\\\\Local\\\\Temp',\n",
       "        'USERDOMAIN': 'kishore',\n",
       "        'USERDOMAIN_ROAMINGPROFILE': 'kishore',\n",
       "        'USERNAME': 'Ramesh',\n",
       "        'USERPROFILE': 'C:\\\\Users\\\\Ramesh',\n",
       "        'VBOX_MSI_INSTALL_PATH': 'C:\\\\Program Files\\\\Oracle\\\\VirtualBox\\\\',\n",
       "        'VSCODE_CODE_CACHE_PATH': 'C:\\\\Users\\\\Ramesh\\\\AppData\\\\Roaming\\\\Code\\\\CachedData\\\\fabdb6a30b49f79a7aba0f2ad9df9b399473380f',\n",
       "        'VSCODE_CRASH_REPORTER_PROCESS_TYPE': 'extensionHost',\n",
       "        'VSCODE_CWD': 'C:\\\\Users\\\\Ramesh\\\\AppData\\\\Local\\\\Programs\\\\Microsoft VS Code',\n",
       "        'VSCODE_ESM_ENTRYPOINT': 'vs/workbench/api/node/extensionHostProcess',\n",
       "        'VSCODE_HANDLES_UNCAUGHT_ERRORS': 'true',\n",
       "        'VSCODE_IPC_HOOK': '\\\\\\\\.\\\\pipe\\\\108fe8c4-1.96.2-main-sock',\n",
       "        'VSCODE_L10N_BUNDLE_LOCATION': '',\n",
       "        'VSCODE_NLS_CONFIG': '{\"userLocale\":\"en-us\",\"osLocale\":\"en-in\",\"resolvedLanguage\":\"en\",\"defaultMessagesFile\":\"C:\\\\\\\\Users\\\\\\\\Ramesh\\\\\\\\AppData\\\\\\\\Local\\\\\\\\Programs\\\\\\\\Microsoft VS Code\\\\\\\\resources\\\\\\\\app\\\\\\\\out\\\\\\\\nls.messages.json\",\"locale\":\"en-us\",\"availableLanguages\":{}}',\n",
       "        'VSCODE_PID': '7540',\n",
       "        'WINDIR': 'C:\\\\WINDOWS',\n",
       "        'ZES_ENABLE_SYSMAN': '1',\n",
       "        'PYTHONUSERBASE': 'C:\\\\Users\\\\Ramesh\\\\AppData\\\\Local\\\\Packages\\\\PythonSoftwareFoundation.Python.3.10_qbz5n2kfra8p0\\\\LocalCache\\\\local-packages',\n",
       "        'PYDEVD_USE_FRAME_EVAL': 'NO',\n",
       "        'TERM': 'xterm-color',\n",
       "        'CLICOLOR': '1',\n",
       "        'PAGER': 'cat',\n",
       "        'GIT_PAGER': 'cat',\n",
       "        'MPLBACKEND': 'module://matplotlib_inline.backend_inline'}"
      ]
     },
     "execution_count": 44,
     "metadata": {},
     "output_type": "execute_result"
    }
   ],
   "source": [
    "# https://python101.pythonlibrary.org/chapter16_os.html\n",
    "import os\n",
    "os.environ"
   ]
  },
  {
   "cell_type": "code",
   "execution_count": null,
   "id": "d2e5c886",
   "metadata": {},
   "outputs": [
    {
     "data": {
      "text/plain": [
       "'C:\\\\Users\\\\Ramesh\\\\AppData\\\\Local\\\\Temp'"
      ]
     },
     "execution_count": 45,
     "metadata": {},
     "output_type": "execute_result"
    }
   ],
   "source": [
    "os.environ[\"TMP\"]"
   ]
  },
  {
   "cell_type": "code",
   "execution_count": null,
   "id": "5ec826fc",
   "metadata": {},
   "outputs": [
    {
     "data": {
      "text/plain": [
       "'C:\\\\Users\\\\Ramesh\\\\AppData\\\\Local\\\\Temp'"
      ]
     },
     "execution_count": 46,
     "metadata": {},
     "output_type": "execute_result"
    }
   ],
   "source": [
    "os.getenv(\"TMP\")"
   ]
  },
  {
   "cell_type": "code",
   "execution_count": null,
   "id": "021737ff",
   "metadata": {},
   "outputs": [],
   "source": [
    "'''\"\"\"\n",
    "The benefit of using os.getenv() instead of the os.environ dictionary is that if you happen to try to access an environmental \n",
    "variable that doesn’t exist, the getenv function will just return None.\n",
    "If you did the same thing with os.environ, you would receive an error. \"\"\"'''\n",
    "os.getenv(\"Chumma\")\n",
    "\n",
    "## No error returned"
   ]
  },
  {
   "cell_type": "code",
   "execution_count": null,
   "id": "ab2bff53",
   "metadata": {},
   "outputs": [
    {
     "data": {
      "text/plain": [
       "'d:\\\\Docs\\\\scripting\\\\python-jupyter-notes\\\\OneDrive - Mavenir Ltd\\\\.ipynb_checkpoints'"
      ]
     },
     "execution_count": 52,
     "metadata": {},
     "output_type": "execute_result"
    }
   ],
   "source": [
    "os.getcwd()"
   ]
  },
  {
   "cell_type": "code",
   "execution_count": null,
   "id": "929f72d0",
   "metadata": {},
   "outputs": [
    {
     "data": {
      "text/plain": [
       "'D:\\\\Docs\\\\scripting'"
      ]
     },
     "execution_count": 56,
     "metadata": {},
     "output_type": "execute_result"
    }
   ],
   "source": [
    "os.chdir(r\"D:\\Docs\\scripting\")\n",
    "os.getcwd()"
   ]
  },
  {
   "cell_type": "code",
   "execution_count": null,
   "id": "41be1b26",
   "metadata": {},
   "outputs": [],
   "source": [
    "os.chdir(r\"C:\\Users\\Ramesh\\Desktop\\temp-new\")\n",
    "os.mkdir(\"new-folder-create\")"
   ]
  },
  {
   "cell_type": "code",
   "execution_count": null,
   "id": "7bef5a34",
   "metadata": {},
   "outputs": [],
   "source": [
    "\"\"\"The os.makedirs() function will create all the intermediate folders in a path if they don’t already exist. \n",
    "Basically this means that you can create a path that has nested folders in it. \n",
    "Let’s look at an example:\"\"\"\n",
    "\n",
    "path = r\"C:\\Users\\Ramesh\\Desktop\\temp-new\\pytest\\2021\\12\\08\\11\"\n",
    "os.makedirs(path)\n",
    "\n",
    "# folder got created - C:\\Users\\rsundaram\\Desktop\\temp-folder\\pytest\\2021\\12\\08\\11"
   ]
  },
  {
   "cell_type": "code",
   "execution_count": null,
   "id": "64f64fca",
   "metadata": {},
   "outputs": [],
   "source": [
    "\"\"\"\n",
    "os.remove() and os.rmdir() - The os.remove() and os.rmdir() functions are used for deleting files and directories respectively.\n",
    "\n",
    "os.removedirs() which can remove nested empty directories recursively.\n",
    "\n",
    "os.rename(src, dst) - ex: os.rename(\"test.txt\", \"pytest.txt\")\n",
    "\n",
    "os.startfile() - method allows us to “start” a file with its associated program. In other words, we can open a file with it’s associated program, just like when you double-click a PDF and it opens in Adobe Reader. Let’s give it a try!\n",
    ">>> os.startfile(r'C:\\Users\\mike\\Documents\\labels.pdf')\n",
    "\"\"\""
   ]
  },
  {
   "cell_type": "code",
   "execution_count": null,
   "id": "911c518a",
   "metadata": {},
   "outputs": [
    {
     "name": "stdout",
     "output_type": "stream",
     "text": [
      "C:\\Users\\Ramesh\\Desktop\\temp-new\n",
      "C:\\Users\\Ramesh\\Desktop\\temp-new\\new-folder-create\n",
      "C:\\Users\\Ramesh\\Desktop\\temp-new\\pytest\n",
      "C:\\Users\\Ramesh\\Desktop\\temp-new\\pytest\\2021\n",
      "C:\\Users\\Ramesh\\Desktop\\temp-new\\pytest\\2021\\12\n",
      "C:\\Users\\Ramesh\\Desktop\\temp-new\\pytest\\2021\\12\\08\n",
      "C:\\Users\\Ramesh\\Desktop\\temp-new\\pytest\\2021\\12\\08\\11\n"
     ]
    }
   ],
   "source": [
    "# os.walk\n",
    "\n",
    "path = r\"C:\\Users\\Ramesh\\Desktop\\temp-new\"\n",
    "\n",
    "for root, dirs, files in os.walk(path):\n",
    "    print(root)"
   ]
  },
  {
   "cell_type": "code",
   "execution_count": null,
   "id": "61568c29",
   "metadata": {},
   "outputs": [
    {
     "name": "stdout",
     "output_type": "stream",
     "text": [
      "Total number of pcap files in the given directory : 0\n"
     ]
    }
   ],
   "source": [
    "''' Program to find number of files in the given directory....Asked in plivo'''\n",
    "import os\n",
    "count = 0\n",
    "path = r'C:\\Users\\Ramesh\\Desktop\\temp-new'\n",
    "for files in os.walk(path):\n",
    "    for item in files[-1]:\n",
    "        # print(item)\n",
    "        if item.split('.')[-1] == \"pcap\":\n",
    "            # print(item)\n",
    "            count += 1\n",
    "print('Total number of pcap files in the given directory :', count)"
   ]
  },
  {
   "cell_type": "code",
   "execution_count": null,
   "id": "7ab846fc",
   "metadata": {},
   "outputs": [
    {
     "name": "stdout",
     "output_type": "stream",
     "text": [
      "C:\\Users\\Ramesh\\Desktop\\temp-new\n",
      "new-folder-create\n",
      "pytest\n",
      "C:\\Users\\Ramesh\\Desktop\\temp-new\\new-folder-create\n",
      "C:\\Users\\Ramesh\\Desktop\\temp-new\\pytest\n",
      "2021\n",
      "C:\\Users\\Ramesh\\Desktop\\temp-new\\pytest\\2021\n",
      "12\n",
      "C:\\Users\\Ramesh\\Desktop\\temp-new\\pytest\\2021\\12\n",
      "08\n",
      "C:\\Users\\Ramesh\\Desktop\\temp-new\\pytest\\2021\\12\\08\n",
      "11\n",
      "C:\\Users\\Ramesh\\Desktop\\temp-new\\pytest\\2021\\12\\08\\11\n",
      "New Text Document (2).txt\n",
      "New Text Document (3).txt\n",
      "New Text Document.txt\n"
     ]
    }
   ],
   "source": [
    "path = r\"C:\\Users\\Ramesh\\Desktop\\temp-new\"\n",
    "\n",
    "for root, dirs, files in os.walk(path):\n",
    "    print(root)\n",
    "    for _dir in dirs:\n",
    "        print(_dir)\n",
    "    for _file in files:\n",
    "        print(_file)"
   ]
  },
  {
   "cell_type": "code",
   "execution_count": null,
   "id": "f0822b21",
   "metadata": {},
   "outputs": [
    {
     "data": {
      "text/plain": [
       "'logfile.txt.txt'"
      ]
     },
     "execution_count": 69,
     "metadata": {},
     "output_type": "execute_result"
    }
   ],
   "source": [
    "# The basename function will return just the filename of a path.\n",
    "os.path.basename(r'C:\\Users\\rsundaram\\Desktop\\temp-folder\\pytest\\2021\\12\\08\\11\\logfile.txt.txt')"
   ]
  },
  {
   "cell_type": "code",
   "execution_count": null,
   "id": "713d1600",
   "metadata": {},
   "outputs": [
    {
     "data": {
      "text/plain": [
       "'C:\\\\Users\\\\rsundaram\\\\Desktop\\\\temp-folder\\\\pytest\\\\2021\\\\12\\\\08\\\\11'"
      ]
     },
     "execution_count": 73,
     "metadata": {},
     "output_type": "execute_result"
    }
   ],
   "source": [
    "\"\"\"The dirname function will return just the directory portion of the path. \n",
    "It’s easier to understand if we take a look at some code \"\"\"\n",
    "\n",
    "'''\"\"\"In this example, we just get the directory path back. \n",
    "This is also useful when you want to store other files next to the file you’re processing, like the aforementioned log file.\n",
    "\"\"\"'''\n",
    "os.path.dirname(r'C:\\Users\\rsundaram\\Desktop\\temp-folder\\pytest\\2021\\12\\08\\11\\logfile.txt.txt')\n",
    "\n"
   ]
  },
  {
   "cell_type": "code",
   "execution_count": null,
   "id": "e96f19ed",
   "metadata": {},
   "outputs": [],
   "source": [
    "# The exists function will tell you if a path exists or not. All you have to do is pass it a path.\n",
    "os.path.exists(r'C:\\Python27\\Tools\\pynche\\fake.py')"
   ]
  },
  {
   "cell_type": "code",
   "execution_count": null,
   "id": "fd6a0f50",
   "metadata": {},
   "outputs": [
    {
     "name": "stdout",
     "output_type": "stream",
     "text": [
      "C:\\Users\\rsundaram\\Desktop\\temp-folder\\pytest\\2021\\12\\08\\11\n",
      "logfile.txt.txt\n"
     ]
    }
   ],
   "source": [
    "# os.path.split  - splitting the directory and path separately\n",
    "dirname, fname = os.path.split(r'C:\\Users\\rsundaram\\Desktop\\temp-folder\\pytest\\2021\\12\\08\\11\\logfile.txt.txt')\n",
    "print(dirname)\n",
    "print(fname)"
   ]
  },
  {
   "cell_type": "markdown",
   "id": "9847ad2f",
   "metadata": {},
   "source": [
    "# logging"
   ]
  },
  {
   "cell_type": "code",
   "execution_count": 48,
   "id": "1b81e68b",
   "metadata": {},
   "outputs": [
    {
     "name": "stderr",
     "output_type": "stream",
     "text": [
      "WARNING:root:This is a warning message\n",
      "ERROR:root:This is an error message\n",
      "CRITICAL:root:This is a critical message\n"
     ]
    }
   ],
   "source": [
    "import logging\n",
    "\n",
    "logging.debug('This is a debug message')\n",
    "logging.info('This is an info message')\n",
    "logging.warning('This is a warning message')\n",
    "logging.error('This is an error message')\n",
    "logging.critical('This is a critical message')"
   ]
  },
  {
   "cell_type": "markdown",
   "id": "6434a433",
   "metadata": {},
   "source": [
    "# OOPS"
   ]
  },
  {
   "cell_type": "markdown",
   "id": "9cb2f372",
   "metadata": {},
   "source": [
    "## oops-1\n"
   ]
  },
  {
   "cell_type": "code",
   "execution_count": null,
   "id": "052f7bfe",
   "metadata": {},
   "outputs": [
    {
     "name": "stdout",
     "output_type": "stream",
     "text": [
      "<class '__main__.Computer'>\n",
      "<class '__main__.Computer'>\n"
     ]
    }
   ],
   "source": [
    "# Class - Design - Blueprint\n",
    "# Object - Instance\n",
    "\n",
    "# Attributes - Variable\n",
    "# Behaviour - Methods(Functions)\n",
    "\n",
    "class Computer:\n",
    "    def config(self):            # Here, self means passing object itself as a parameter\n",
    "        print(\"i5, 16gb, 1TB\")\n",
    "    \n",
    "com1 = Computer()  # object1 of class 'Computer'\n",
    "com2 = Computer()  # object2 of class 'Computer'\n",
    "\n",
    "print(type(com1))\n",
    "print(type(com2))\n",
    "\n"
   ]
  },
  {
   "cell_type": "code",
   "execution_count": null,
   "id": "58bd7457",
   "metadata": {},
   "outputs": [
    {
     "name": "stdout",
     "output_type": "stream",
     "text": [
      "i5, 16gb, 1TB\n",
      "i5, 16gb, 1TB\n"
     ]
    }
   ],
   "source": [
    "Computer.config(com1)  # one of the way of calling class method \n",
    "Computer.config(com2)"
   ]
  },
  {
   "cell_type": "code",
   "execution_count": null,
   "id": "ce82411e",
   "metadata": {},
   "outputs": [
    {
     "name": "stdout",
     "output_type": "stream",
     "text": [
      "i5, 16gb, 1TB\n",
      "i5, 16gb, 1TB\n"
     ]
    }
   ],
   "source": [
    "com1.config()      # It means com1(object) is considered as parameter for config method\n",
    "                    # thats why 'self'\n",
    "com2.config()"
   ]
  },
  {
   "cell_type": "markdown",
   "id": "72fb5978",
   "metadata": {},
   "source": [
    "## OOPS-2"
   ]
  },
  {
   "cell_type": "code",
   "execution_count": null,
   "id": "f2e76aa7",
   "metadata": {},
   "outputs": [
    {
     "name": "stdout",
     "output_type": "stream",
     "text": [
      "Config is  i5 16\n",
      "Config is  Ryzen3 32\n"
     ]
    }
   ],
   "source": [
    "class Computer:\n",
    "    def __init__(self, cpu, ram):      # constructor\n",
    "        self.cpu = cpu              # passed arguments should be assigned to the object. Here, object is self itself\n",
    "        self.ram = ram\n",
    "    \n",
    "    def config(self):  # here self means, passing object itself as a parameter\n",
    "        print(\"Config is \", self.cpu, self.ram) # cpu & ram are not local variable. It belongs to object. thats why we \n",
    "                                                # should use as 'self.cpu' \n",
    "\n",
    "com1 = Computer('i5', 16)           # constructor\n",
    "com2 = Computer('Ryzen3', 32)       # constructor  \n",
    "\n",
    "com1.config()\n",
    "com2.config()\n"
   ]
  },
  {
   "cell_type": "markdown",
   "id": "47778dcb",
   "metadata": {},
   "source": [
    "## OOPS-3"
   ]
  },
  {
   "cell_type": "code",
   "execution_count": null,
   "id": "ed75279c",
   "metadata": {},
   "outputs": [
    {
     "name": "stdout",
     "output_type": "stream",
     "text": [
      "Rashi 20\n",
      "Rashi 40\n",
      "Navin 20\n"
     ]
    }
   ],
   "source": [
    "# Size of an object \n",
    "# It depends on number of varaibles and size of each variable\n",
    "\n",
    "# who allocates size to object ? - Its constructor\n",
    "\n",
    "class Computer:\n",
    "    def __init__(self):\n",
    "        self.name = \"Navin\"\n",
    "        self.age = 20\n",
    "    \n",
    "    def update(self):       # here self referring to the object\n",
    "        self.age = 40\n",
    "\n",
    "c1 = Computer()\n",
    "c2 = Computer()\n",
    "\n",
    "c1.name = \"Rashi\"\n",
    "print(c1.name,c1.age)\n",
    "\n",
    "c1.update()             # here changing the c1's age by calling update method. Note: no change in c2's age\n",
    "print(c1.name,c1.age)   # updated age\n",
    "\n",
    "print(c2.name,c2.age)   # no change\n",
    "\n"
   ]
  },
  {
   "cell_type": "markdown",
   "id": "65f0bd27",
   "metadata": {},
   "source": [
    "## OOPS-4"
   ]
  },
  {
   "cell_type": "code",
   "execution_count": null,
   "id": "ae29d318",
   "metadata": {},
   "outputs": [
    {
     "name": "stdout",
     "output_type": "stream",
     "text": [
      "they are different\n"
     ]
    }
   ],
   "source": [
    "# Size of an object \n",
    "# It depends on number of varaibles and size of each variable\n",
    "\n",
    "# who allocates size to object ? - Its constructor\n",
    "\n",
    "class Computer:\n",
    "    def __init__(self):\n",
    "        self.name = \"Navin\"\n",
    "        self.age = 20\n",
    "    \n",
    "    def update(self):       # here self referring to the object\n",
    "        self.age = 40\n",
    "\n",
    "    def compare(self,other):\n",
    "        if self.age == other.age:\n",
    "            return True\n",
    "        else:\n",
    "            return False\n",
    "    \n",
    "\n",
    "c1 = Computer()\n",
    "c1.update()             # here changing the c1's age by calling update method\n",
    "\n",
    "c2 = Computer()\n",
    "\n",
    "if c1.compare(c2):      # here c1 becomes self, c2 becomes other\n",
    "    print(\"they are same\")\n",
    "else:\n",
    "    print(\"they are different\")\n"
   ]
  },
  {
   "cell_type": "markdown",
   "id": "d7a0285d",
   "metadata": {},
   "source": [
    "## OOPS-5"
   ]
  },
  {
   "cell_type": "code",
   "execution_count": null,
   "id": "2d8bf47a",
   "metadata": {},
   "outputs": [
    {
     "name": "stdout",
     "output_type": "stream",
     "text": [
      "BMW 10\n",
      "BMW 10\n",
      "BMW 8\n",
      "BMW 10\n",
      "5 5\n",
      "6 6\n"
     ]
    }
   ],
   "source": [
    "# Instance variable : inside the __init__\n",
    "# Class variable: outside the __init__, but inside the class\n",
    "# class variable is also called as static variable\n",
    "\n",
    "class Car:\n",
    "    wheels = 5 # class variable\n",
    "\n",
    "    def __init__(self):\n",
    "        self.mileage = 10\n",
    "        self.company = \"BMW\"\n",
    "\n",
    "c1 = Car()\n",
    "c2 = Car()\n",
    "\n",
    "print(c1.company, c1.mileage)\n",
    "print(c2.company,c2.mileage)\n",
    "\n",
    "c1.mileage = 8 # updating c1's mileage\n",
    "\n",
    "print(c1.company, c1.mileage)\n",
    "print(c2.company,c2.mileage) # so there is no change in the c2's mileage\n",
    "\n",
    "print(c1.wheels, c2.wheels)  # wheels value same for both the c1 & c2 objects. \n",
    "Car.wheels = 6         # change in the class variable's value. so it means, it is applicable for both the objects value\n",
    "\n",
    "print(c1.wheels, c2.wheels)\n",
    "\n",
    "# note : class variable is common for all the objects "
   ]
  },
  {
   "cell_type": "markdown",
   "id": "6821f1bc",
   "metadata": {},
   "source": [
    "## OOPS-6"
   ]
  },
  {
   "cell_type": "code",
   "execution_count": null,
   "id": "4924ac36",
   "metadata": {},
   "outputs": [
    {
     "name": "stdout",
     "output_type": "stream",
     "text": [
      "63.666666666666664\n",
      "70.33333333333333\n",
      "79.0\n",
      "RameshSchool\n"
     ]
    }
   ],
   "source": [
    "# Instance method:\n",
    "    # It works with object (self)\n",
    "    # Two types:\n",
    "        # a) Accessor Methods\n",
    "        # b) Mutator Methods\n",
    "\n",
    "class Student:\n",
    "    school = 'RameshSchool'    # class variable\n",
    "\n",
    "    def __init__(self,m1,m2,m3):\n",
    "        self.m1 = m1\n",
    "        self.m2 = m2\n",
    "        self.m3 = m3\n",
    "\n",
    "    def avg(self):       # instance method, because we are calling with self. it works with object\n",
    "        return (self.m1+self.m2+self.m3)/3\n",
    "    \n",
    "    def get_m1(self):   # accessor method. just accessing instance variables\n",
    "        return self.m1\n",
    "    \n",
    "    def set_m1(self,value): # mutator method. changing the instance variable\n",
    "        self.m1 = value\n",
    "\n",
    "s1 = Student(53,59,79)\n",
    "s2 = Student(45,67,99)\n",
    "\n",
    "print(s1.avg())\n",
    "print(s2.avg())\n",
    "\n",
    "s1.set_m1(99)    # changing the m1 marks of s1 object / mutators method\n",
    "print(s1.avg())  # changed average\n",
    "\n",
    "print(Student.school) # class variable can be accessed directly (without object)"
   ]
  },
  {
   "cell_type": "markdown",
   "id": "9a22f7e4",
   "metadata": {},
   "source": [
    "## OOPS-7"
   ]
  },
  {
   "cell_type": "code",
   "execution_count": null,
   "id": "92702f5d",
   "metadata": {},
   "outputs": [
    {
     "name": "stdout",
     "output_type": "stream",
     "text": [
      "20.0\n",
      "RameshSchoolFactory\n"
     ]
    }
   ],
   "source": [
    "# class method : it is used to access class variable. \n",
    "\n",
    "class Student:\n",
    "    school = 'RameshSchoolFactory'\n",
    "\n",
    "    def __init__(self,m1,m2,m3):\n",
    "        self.m1 = m1\n",
    "        self.m2 = m2\n",
    "        self.m3 = m3\n",
    "\n",
    "    def avg(self):       # instance method, because we are calling with self. it works with object\n",
    "        return (self.m1+self.m2+self.m3)/3\n",
    "    \n",
    "\n",
    "    @classmethod            # decorator for using class method\n",
    "    def info(cls):          # class method\n",
    "        return cls.school   # way to use class variable\n",
    "\n",
    "s1 = Student(10,20,30)\n",
    "s2 = Student(20,30,40)\n",
    "\n",
    "print(s1.avg())\n",
    "print(Student.info())       # way to call class method. class method should be called with class name(Student)"
   ]
  },
  {
   "cell_type": "markdown",
   "id": "0f0aa4ac",
   "metadata": {},
   "source": [
    "## OOPS-8"
   ]
  },
  {
   "cell_type": "code",
   "execution_count": null,
   "id": "fddc97fc",
   "metadata": {},
   "outputs": [
    {
     "name": "stdout",
     "output_type": "stream",
     "text": [
      "20.0\n",
      "RameshSchoolFactory\n",
      "This is student class ... inside static method\n"
     ]
    }
   ],
   "source": [
    "# static method :\n",
    "#       This method is used when we have nothing to do with instance or class variables. completely independant tasks\n",
    "#       To do something extra without concerning instance or class variables\n",
    "#       Its like a normal method. doesn't depends on instance or class variable.\n",
    "#       So, we can call directly with class. (no need to create object)\n",
    "\n",
    "#       Independent utility functions\n",
    "#       Pure functionality related to class domain\n",
    "\n",
    "class Student:\n",
    "    school = 'RameshSchoolFactory'      # class variable\n",
    "\n",
    "    def __init__(self,m1,m2,m3):\n",
    "        self.m1 = m1\n",
    "        self.m2 = m2\n",
    "        self.m3 = m3\n",
    "\n",
    "    def avg(self):       # instance method, because we are calling with self. it works with object\n",
    "        return (self.m1+self.m2+self.m3)/3\n",
    "    \n",
    "\n",
    "    @classmethod            # decorator for using class method\n",
    "    def getSchoolName(cls):          # class method\n",
    "        return cls.school   # way to use class variable\n",
    "    \n",
    "    @staticmethod           # decorator for using static method\n",
    "    def info():             # neither self nor cls. keep it empty as this is static method.\n",
    "        print(\"This is student class ... inside static method\")\n",
    "\n",
    "s1 = Student(10,20,30)\n",
    "s2 = Student(20,30,40)\n",
    "\n",
    "print(s1.avg())\n",
    "print(Student.getSchoolName())     # way to call class method. class method should be called with class name(Student)\n",
    "\n",
    "Student.info()         # way to call static method. "
   ]
  },
  {
   "cell_type": "markdown",
   "id": "b6e35beb",
   "metadata": {},
   "source": [
    "## OOPS-10\n"
   ]
  },
  {
   "cell_type": "code",
   "execution_count": null,
   "id": "d3ad1b2c",
   "metadata": {},
   "outputs": [
    {
     "name": "stdout",
     "output_type": "stream",
     "text": [
      "Feature1 is working\n",
      "Feature3 is working\n"
     ]
    }
   ],
   "source": [
    "# Inheritance: Basically it means, if we want to use methods of one class to another class, we can inherit them\n",
    "# this way, no need to write repeated codes\n",
    "\n",
    "class A:            # parent class / super class\n",
    "    def feature1(self):\n",
    "        print(\"Feature1 is working\")\n",
    "    \n",
    "    def feature2(self):\n",
    "        print(\"Feature2 is working\")\n",
    "    \n",
    "class B(A):         # child class of A / sub class\n",
    "    def feature3(self):\n",
    "        print(\"Feature3 is working\")\n",
    "\n",
    "    def feature4(self):\n",
    "        print(\"Feature4 is working\")\n",
    "\n",
    "\n",
    "a1 = A()\n",
    "b1 = B()\n",
    "\n",
    "b1.feature1()  # b1 object can use methods of class A as it is inherited\n",
    "b1.feature3()\n",
    "\n",
    "\n"
   ]
  },
  {
   "cell_type": "markdown",
   "id": "797434b0",
   "metadata": {},
   "source": [
    "## OOPS-11"
   ]
  },
  {
   "cell_type": "code",
   "execution_count": null,
   "id": "9b14174a",
   "metadata": {},
   "outputs": [
    {
     "name": "stdout",
     "output_type": "stream",
     "text": [
      "Feature1 is working\n",
      "Feature2 is working\n",
      "********\n",
      "Feature1 is working\n",
      "Feature2 is working\n",
      "Feature3 is working\n"
     ]
    }
   ],
   "source": [
    "# Multilevel inheritance\n",
    "\n",
    "class A:            # parent class / super class\n",
    "    def feature1(self):\n",
    "        print(\"Feature1 is working\")\n",
    "    \n",
    "\n",
    "    \n",
    "class B(A):         # child class of A / sub class\n",
    "    def feature2(self):\n",
    "        print(\"Feature2 is working\")\n",
    "\n",
    "\n",
    "class C(B):         # child class of B / sub class\n",
    "    def feature3(self):\n",
    "        print(\"Feature3 is working\")\n",
    "\n",
    "\n",
    "b1 = B()\n",
    "c1 = C()\n",
    "\n",
    "b1.feature1()\n",
    "b1.feature2()\n",
    "print(\"********\")\n",
    "\n",
    "c1.feature1()  # c1 object can use features of B & A class \n",
    "c1.feature2()\n",
    "c1.feature3()"
   ]
  },
  {
   "cell_type": "markdown",
   "id": "a5d82c71",
   "metadata": {},
   "source": [
    "## OOPS-12"
   ]
  },
  {
   "cell_type": "code",
   "execution_count": null,
   "id": "f3fa274b",
   "metadata": {},
   "outputs": [
    {
     "name": "stdout",
     "output_type": "stream",
     "text": [
      "Feature1 is working\n",
      "Feature2 is working\n",
      "Feature3 is working\n",
      "----------------\n",
      "Feature2 is working\n"
     ]
    }
   ],
   "source": [
    "# Multiple inheritance\n",
    "# sub class can use all the features of super class. But super class cannot use sub class features\n",
    "\n",
    "class A:            # parent class / super class\n",
    "    def feature1(self):\n",
    "        print(\"Feature1 is working\")\n",
    "    \n",
    "\n",
    "    \n",
    "class B():        \n",
    "    def feature2(self):\n",
    "        print(\"Feature2 is working\")\n",
    "\n",
    "\n",
    "class C(A,B):         # child class of A & B. Inheriting both A & B \n",
    "    def feature3(self):\n",
    "        print(\"Feature3 is working\")\n",
    "\n",
    "\n",
    "c1 = C() # since C is the child class of both A & B. It can use both A & B's feature\n",
    "c1.feature1()\n",
    "c1.feature2()\n",
    "c1.feature3()\n",
    "\n",
    "print(\"----------------\")\n",
    "b1 = B() # since B class not inheriting any class, it cannot use other class feature\n",
    "b1.feature2()\n",
    "\n"
   ]
  },
  {
   "cell_type": "markdown",
   "id": "c99125e0",
   "metadata": {},
   "source": [
    "## OOPS-13"
   ]
  },
  {
   "cell_type": "code",
   "execution_count": null,
   "id": "b0764d2a",
   "metadata": {},
   "outputs": [
    {
     "name": "stdout",
     "output_type": "stream",
     "text": [
      "In A init ...\n",
      "---------\n",
      "In B1 init\n",
      "*******\n",
      "In A init ...\n"
     ]
    }
   ],
   "source": [
    "# Constructor in Inheritance\n",
    "## when you create object of Sub class , it will call the init of sub class first\n",
    "## if you want to call super class init, then we can super function ...\n",
    "\n",
    "class A:            # parent class / super class\n",
    "    def __init__(self):\n",
    "        print(\"In A init ...\")\n",
    "    def feature1(self):\n",
    "        print(\"Feature1 is working\")   \n",
    "\n",
    "    \n",
    "class B(A):        # class B is inheriting class A\n",
    "    def feature2(self):\n",
    "        print(\"Feature2 is working\")\n",
    "\n",
    "\n",
    "class B1(A):        # class B1 is also inheriting class A \n",
    "    def __init__(self):\n",
    "        print(\"In B1 init\")\n",
    "    \n",
    "    def feature4(self):\n",
    "        print(\"Feature4 is working\")\n",
    "\n",
    "class B2(A):        # class B1 is also inheriting class A \n",
    "    def __init__(self):\n",
    "        super().__init__()  ## Invoking super class init as well\n",
    "\n",
    "    def feature5(self):\n",
    "        print(\"Feature5 is working\")\n",
    "\n",
    "b1 = B()   # since B class is not having init , its executing parent's class init\n",
    "print('---------')\n",
    "\n",
    "b2 = B1()  # since class B1 is having its own init, it is executing...\n",
    "print(\"*******\")\n",
    "\n",
    "b3 = B2()  # since B2 class having init , and it has super function...super class init is executed"
   ]
  },
  {
   "cell_type": "markdown",
   "id": "e7b0ea1b",
   "metadata": {},
   "source": [
    "## OOPS-14"
   ]
  },
  {
   "cell_type": "code",
   "execution_count": null,
   "id": "39070a1d",
   "metadata": {},
   "outputs": [
    {
     "name": "stdout",
     "output_type": "stream",
     "text": [
      "In A Init....\n",
      "In C init ...\n",
      "feature1-A is working...\n",
      "********\n",
      "feature1-A is working...\n"
     ]
    }
   ],
   "source": [
    "# Method Resolution Order \n",
    "# Order always left to right \n",
    "\n",
    "class A:        # Parent class / super class\n",
    "    def __init__(self):\n",
    "        print(\"In A Init....\")\n",
    "    \n",
    "    def feature1(self):\n",
    "        print(\"feature1-A is working...\")\n",
    "\n",
    "\n",
    "class B:        \n",
    "    def __init__(self):\n",
    "        print(\"In B Init....\")\n",
    "    \n",
    "    def feature1(self):\n",
    "        print(\"feature1-B is working...\")\n",
    "\n",
    "\n",
    "class C(A,B):           # class C is inheriting both A & B.  Both A & B class are having init\n",
    "    def __init__(self):\n",
    "        super().__init__()   # MRO - left to right \n",
    "        print(\"In C init ...\")\n",
    "\n",
    "    def feat(self):\n",
    "        super().feature1()  ## with the help of super function, we can call method of super class as well\n",
    "    \n",
    "\n",
    "c1 = C()\n",
    "c1.feature1()       # Always executes left method first. Order --> its own, left, right\n",
    "print(\"********\")\n",
    "c1.feat()\n"
   ]
  },
  {
   "cell_type": "markdown",
   "id": "e7f3b037",
   "metadata": {},
   "source": [
    "## OOPS-15"
   ]
  },
  {
   "cell_type": "code",
   "execution_count": null,
   "id": "c37a2e19",
   "metadata": {},
   "outputs": [
    {
     "name": "stdout",
     "output_type": "stream",
     "text": [
      "11\n",
      "30\n"
     ]
    }
   ],
   "source": [
    "# Polymorphism \n",
    "# Poly - many , morph - Forms ===> Many forms\n",
    "\n",
    "# Duck Typing ===> Planning to revisit later\n",
    "# Operator Overloading\n",
    "# Method Overloading\n",
    "# Method Overriding\n",
    "\n",
    "# Operator Overloading:\n",
    "#\n",
    "# Operator overloading in Python allows customizing the behaviour of standard operators(+,-,*, etc.,) for user-define classes\n",
    "# This is achieved using magic methods like __add__, __mul__ and __sub__\n",
    "# By implementing these methods in a class, we can refine how operators behave for objects of that class\n",
    "\n",
    "# This is useful when you want to define how mathematical operators should work with objects of your custom class\n",
    "\n",
    "class Value:\n",
    "    def __init__(self,val):  # Constructor to initialize the value\n",
    "        self.val = val\n",
    "            \n",
    "    def __add__(self,other):            # Overloading the operator\n",
    "        return self.val + other.val     \n",
    "    \n",
    "    def __mul__(self,other):            # Overloading the operator\n",
    "        return self.val * other.val\n",
    "    \n",
    "\n",
    "num1 = Value(5)     # object1\n",
    "num2 = Value(6)     # object2 \n",
    "\n",
    "result = num1 + num2  # when you do obj1 + obj2, python calls obj1.__add__(obj2)\n",
    "print(result)\n",
    "\n",
    "result2 = num1 * num2\n",
    "print(result2)"
   ]
  },
  {
   "cell_type": "markdown",
   "id": "208c979c",
   "metadata": {},
   "source": [
    "## OOPS-16"
   ]
  },
  {
   "cell_type": "code",
   "execution_count": null,
   "id": "1575e875",
   "metadata": {},
   "outputs": [
    {
     "name": "stdout",
     "output_type": "stream",
     "text": [
      "25\n",
      "30\n"
     ]
    }
   ],
   "source": [
    "# Method overloading\n",
    "#       Basically it can handle variable number of arguments in the method\n",
    "#       This can be used when we dont know how many number of arguments would be passed \n",
    "\n",
    "class Calculator:\n",
    "    def multiply(self, a, b=None):\n",
    "        if b is not None:\n",
    "            return a * b \n",
    "        else:\n",
    "            return a ** 2\n",
    "        \n",
    "calc = Calculator()\n",
    "print(calc.multiply(5))\n",
    "print(calc.multiply(5,6))\n"
   ]
  },
  {
   "cell_type": "code",
   "execution_count": null,
   "id": "a7ec2a4b",
   "metadata": {},
   "outputs": [
    {
     "name": "stdout",
     "output_type": "stream",
     "text": [
      "5\n",
      "11\n",
      "24\n"
     ]
    }
   ],
   "source": [
    "class Calculator:\n",
    "    def addition(self, *args):\n",
    "        if len(args) == 1:\n",
    "            return args[0] \n",
    "        else:\n",
    "            return sum(args)\n",
    "        \n",
    "        \n",
    "calc = Calculator()\n",
    "print(calc.addition(5))\n",
    "print(calc.addition(5,6))\n",
    "print(calc.addition(7,8,9))"
   ]
  },
  {
   "cell_type": "markdown",
   "id": "4da3c019",
   "metadata": {},
   "source": [
    "## OOPS-17"
   ]
  },
  {
   "cell_type": "code",
   "execution_count": 49,
   "id": "a554db3e",
   "metadata": {},
   "outputs": [
    {
     "name": "stdout",
     "output_type": "stream",
     "text": [
      "Greetings from Parent class!\n",
      "*******\n",
      "Greetings from Parent class!\n",
      "Greetings from Child class!\n"
     ]
    }
   ],
   "source": [
    "## Method overriding\n",
    "\n",
    "class Parent:\n",
    "    def greet(self):\n",
    "        print(\"Greetings from Parent class!\")\n",
    "\n",
    "class Child(Parent):\n",
    "    def greet(self):\n",
    "        super().greet()\n",
    "        print(\"Greetings from Child class!\")\n",
    "\n",
    "P1 = Parent()\n",
    "P1.greet()\n",
    "print(\"*******\")\n",
    "\n",
    "C1 = Child()\n",
    "C1.greet()"
   ]
  }
 ],
 "metadata": {
  "kernelspec": {
   "display_name": ".venv",
   "language": "python",
   "name": "python3"
  },
  "language_info": {
   "codemirror_mode": {
    "name": "ipython",
    "version": 3
   },
   "file_extension": ".py",
   "mimetype": "text/x-python",
   "name": "python",
   "nbconvert_exporter": "python",
   "pygments_lexer": "ipython3",
   "version": "3.9.6"
  }
 },
 "nbformat": 4,
 "nbformat_minor": 5
}
