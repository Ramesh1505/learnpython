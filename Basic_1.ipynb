{
 "cells": [
  {
   "cell_type": "markdown",
   "id": "b6861b45",
   "metadata": {},
   "source": [
    "# Basics(Strings,list,etc.,)"
   ]
  },
  {
   "cell_type": "code",
   "execution_count": 34,
   "id": "9bfb3888",
   "metadata": {},
   "outputs": [
    {
     "name": "stdout",
     "output_type": "stream",
     "text": [
      "[60000]\n"
     ]
    }
   ],
   "source": [
    "''' 1. Given two integer numbers return their product only if the product is greater than 1000, else return their sum.'''\n",
    "x = 200\n",
    "y = 300\n",
    "result = [x*y if x*y > 1000 else x+y]\n",
    "\n",
    "print(result)"
   ]
  },
  {
   "cell_type": "code",
   "execution_count": 35,
   "id": "c78414d2",
   "metadata": {},
   "outputs": [
    {
     "name": "stdout",
     "output_type": "stream",
     "text": [
      "g\n",
      "g\n",
      "g\n"
     ]
    }
   ],
   "source": [
    "'''2. Write a program to accept a string from the user and display characters that are present at an even index number.'''\n",
    "str1 = input()\n",
    "\n",
    "print(str1[::2])\n",
    "newString = \"\"\n",
    "\n",
    "for char in str1[::2]:\n",
    "    print(char)\n",
    "\n",
    "for char in str1[::2]:\n",
    "    newString += char\n",
    "\n",
    "print(newString)\n"
   ]
  },
  {
   "cell_type": "code",
   "execution_count": 36,
   "id": "eec7b30d",
   "metadata": {},
   "outputs": [
    {
     "name": "stdout",
     "output_type": "stream",
     "text": [
      "3\n"
     ]
    }
   ],
   "source": [
    "'''3. Write a program to find how many times substring “Emma” appears in the given string.'''\n",
    "\n",
    "str_x = \"Emma is good developer. Emma is a writer. Emma \"\n",
    "\n",
    "count = str_x.count(\"Emma\")\n",
    "\n",
    "print(count)"
   ]
  },
  {
   "cell_type": "code",
   "execution_count": 37,
   "id": "3f85af81",
   "metadata": {},
   "outputs": [
    {
     "name": "stdout",
     "output_type": "stream",
     "text": [
      "[10, 20, 55]\n"
     ]
    }
   ],
   "source": [
    "'''4. Display numbers divisible by 5 from a list'''\n",
    "\n",
    "_list = [10, 20, 33, 46, 55]\n",
    "\n",
    "result = [x for x in _list if x%5 == 0 ]\n",
    "print(result)"
   ]
  },
  {
   "cell_type": "code",
   "execution_count": 38,
   "id": "2e3bb4ec",
   "metadata": {},
   "outputs": [
    {
     "ename": "ValueError",
     "evalue": "invalid literal for int() with base 10: 'g'",
     "output_type": "error",
     "traceback": [
      "\u001b[1;31m---------------------------------------------------------------------------\u001b[0m",
      "\u001b[1;31mValueError\u001b[0m                                Traceback (most recent call last)",
      "Input \u001b[1;32mIn [38]\u001b[0m, in \u001b[0;36m<cell line: 10>\u001b[1;34m()\u001b[0m\n\u001b[0;32m      1\u001b[0m \u001b[38;5;124;03m'''5. Print the following pattern'''\u001b[39;00m\n\u001b[0;32m      2\u001b[0m \u001b[38;5;124;03m''' \u001b[39;00m\n\u001b[0;32m      3\u001b[0m \u001b[38;5;124;03m1 \u001b[39;00m\n\u001b[0;32m      4\u001b[0m \u001b[38;5;124;03m2 2 \u001b[39;00m\n\u001b[1;32m   (...)\u001b[0m\n\u001b[0;32m      7\u001b[0m \u001b[38;5;124;03m5 5 5 5 5\u001b[39;00m\n\u001b[0;32m      8\u001b[0m \u001b[38;5;124;03m'''\u001b[39;00m\n\u001b[1;32m---> 10\u001b[0m n \u001b[38;5;241m=\u001b[39m \u001b[38;5;28;43mint\u001b[39;49m\u001b[43m(\u001b[49m\u001b[38;5;28;43minput\u001b[39;49m\u001b[43m(\u001b[49m\u001b[38;5;124;43m\"\u001b[39;49m\u001b[38;5;124;43mEnter number: \u001b[39;49m\u001b[38;5;124;43m\"\u001b[39;49m\u001b[43m)\u001b[49m\u001b[43m)\u001b[49m\n\u001b[0;32m     12\u001b[0m \u001b[38;5;28;01mfor\u001b[39;00m i \u001b[38;5;129;01min\u001b[39;00m \u001b[38;5;28mrange\u001b[39m(\u001b[38;5;241m1\u001b[39m,n\u001b[38;5;241m+\u001b[39m\u001b[38;5;241m1\u001b[39m):\n\u001b[0;32m     13\u001b[0m     \u001b[38;5;28;01mfor\u001b[39;00m j \u001b[38;5;129;01min\u001b[39;00m \u001b[38;5;28mrange\u001b[39m(i):\n",
      "\u001b[1;31mValueError\u001b[0m: invalid literal for int() with base 10: 'g'"
     ]
    }
   ],
   "source": [
    "'''5. Print the following pattern'''\n",
    "''' \n",
    "1 \n",
    "2 2 \n",
    "3 3 3 \n",
    "4 4 4 4 \n",
    "5 5 5 5 5\n",
    "'''\n",
    "\n",
    "n = int(input(\"Enter number: \"))\n",
    "\n",
    "for i in range(1,n+1):\n",
    "    for j in range(i):\n",
    "        print(i, end=\" \")\n",
    "    print(\"\\n\")"
   ]
  },
  {
   "cell_type": "code",
   "execution_count": 22,
   "id": "6c062892",
   "metadata": {},
   "outputs": [
    {
     "name": "stdout",
     "output_type": "stream",
     "text": [
      "[25, 35, 40, 60, 90]\n"
     ]
    }
   ],
   "source": [
    "''' 6.\n",
    "Given a two list of numbers, write a program to create a new list such that the new list should contain odd numbers \n",
    "from the first list and even numbers from the second list.\n",
    "'''\n",
    "\n",
    "list1 = [10, 20, 25, 30, 35]\n",
    "list2 = [40, 45, 60, 75, 90]\n",
    "\n",
    "list3 = [x for x in list1 if x%2 !=0] + [x for x in list2 if x%2 ==0]\n",
    "\n",
    "print(list3)"
   ]
  },
  {
   "cell_type": "code",
   "execution_count": 25,
   "id": "5f9fa34a",
   "metadata": {},
   "outputs": [
    {
     "name": "stdout",
     "output_type": "stream",
     "text": [
      "Enter num:7536\n",
      "6 3 5 7\n"
     ]
    }
   ],
   "source": [
    "'''7. Write a Program to extract each digit from an integer in the reverse order.\n",
    "For example, If the given int is 7536, the output shall be “6 3 5 7“, with a space separating the digits.\n",
    "'''\n",
    "\n",
    "x = input(\"Enter num:\")\n",
    "\n",
    "print(' '.join(x[::-1]))\n",
    "\n"
   ]
  },
  {
   "cell_type": "code",
   "execution_count": 16,
   "id": "472f3932",
   "metadata": {},
   "outputs": [
    {
     "name": "stdout",
     "output_type": "stream",
     "text": [
      "1 2 3 4 5 6 7 8 9 10  \n",
      "2 4 6 8 10 12 14 16 18 20  \n",
      "3 6 9 12 15 18 21 24 27 30  \n",
      "4 8 12 16 20 24 28 32 36 40  \n",
      "5 10 15 20 25 30 35 40 45 50  \n",
      "6 12 18 24 30 36 42 48 54 60  \n",
      "7 14 21 28 35 42 49 56 63 70  \n",
      "8 16 24 32 40 48 56 64 72 80  \n",
      "9 18 27 36 45 54 63 72 81 90  \n",
      "10 20 30 40 50 60 70 80 90 100  \n"
     ]
    }
   ],
   "source": [
    "'''8. ##Print multiplication table form 1 to 10'''\n",
    "\n",
    "for i in range(1,11):\n",
    "    for j in range(1,11):\n",
    "        print(j*i, end= \" \")\n",
    "    print(' ')\n",
    "        "
   ]
  },
  {
   "cell_type": "code",
   "execution_count": 31,
   "id": "cac4209e",
   "metadata": {},
   "outputs": [
    {
     "name": "stdout",
     "output_type": "stream",
     "text": [
      "* * * * * \t\t\n",
      "* * * * \t\t\n",
      "* * * \t\t\n",
      "* * \t\t\n",
      "* \t\t\n",
      "\t\t\n"
     ]
    }
   ],
   "source": [
    "'''9. Print downward Half-Pyramid Pattern with Star (asterisk)'''\n",
    "for i in range(6, 0, -1):\n",
    "    for j in range(0, i - 1):\n",
    "        print(\"*\", end=' ')\n",
    "    print(\"\\t\\t\")"
   ]
  },
  {
   "cell_type": "code",
   "execution_count": 17,
   "id": "a6afc827",
   "metadata": {},
   "outputs": [
    {
     "name": "stdout",
     "output_type": "stream",
     "text": [
      "1 \t\t\n",
      "1 2 \t\t\n",
      "1 2 3 \t\t\n",
      "1 2 3 4 \t\t\n",
      "1 2 3 4 5 \t\t\n"
     ]
    }
   ],
   "source": [
    "'''10.\n",
    "Write a program to print the following number pattern using a loop.\n",
    "\n",
    "1 \n",
    "1 2 \n",
    "1 2 3 \n",
    "1 2 3 4 \n",
    "1 2 3 4 5\n",
    "'''\n",
    "\n",
    "n = 5\n",
    "\n",
    "for i in range(1,n+1):\n",
    "    for num in range(1,i+1):\n",
    "        print(num, end=' ')\n",
    "    print('\\t\\t')\n",
    "        \n"
   ]
  },
  {
   "cell_type": "code",
   "execution_count": 20,
   "id": "4648171f",
   "metadata": {},
   "outputs": [
    {
     "name": "stdout",
     "output_type": "stream",
     "text": [
      "Enter number:10\n",
      "55\n"
     ]
    }
   ],
   "source": [
    "''' 11.\n",
    "Calculate the sum of all numbers from 1 to a given number\n",
    "Write a program to accept a number from a user and calculate the sum of all numbers from 1 to a given number\n",
    "'''\n",
    "\n",
    "num = int(input(\"Enter number:\"))\n",
    "\n",
    "sum = 0\n",
    "\n",
    "for i in range(1,num+1):\n",
    "    sum += i\n",
    "    \n",
    "print(sum)"
   ]
  },
  {
   "cell_type": "code",
   "execution_count": 20,
   "id": "347369f7",
   "metadata": {},
   "outputs": [
    {
     "name": "stdout",
     "output_type": "stream",
     "text": [
      "7 * 1 =  7\n",
      "7 * 2 =  14\n",
      "7 * 3 =  21\n",
      "7 * 4 =  28\n",
      "7 * 5 =  35\n",
      "7 * 6 =  42\n",
      "7 * 7 =  49\n",
      "7 * 8 =  56\n",
      "7 * 9 =  63\n",
      "7 * 10 =  70\n",
      "\t\t\t\n"
     ]
    }
   ],
   "source": [
    "''' 12.\n",
    "Write a program to print multiplication table of a given number\n",
    "'''\n",
    "\n",
    "num = int(input(\"Enter number:\"))\n",
    "\n",
    "for i in range(1,11):\n",
    "    print(f\"{num} * {i} =  {num*i}\", end='\\n')\n",
    "print('\\t\\t\\t')\n"
   ]
  },
  {
   "cell_type": "code",
   "execution_count": 28,
   "id": "03455bb8",
   "metadata": {},
   "outputs": [
    {
     "name": "stdout",
     "output_type": "stream",
     "text": [
      "5 4 3 2 1 \t\t\n",
      "4 3 2 1 \t\t\n",
      "3 2 1 \t\t\n",
      "2 1 \t\t\n",
      "1 \t\t\n"
     ]
    }
   ],
   "source": [
    "''' 13.\n",
    "Write a program to use for loop to print the following reverse number pattern\n",
    "\n",
    "5 4 3 2 1 \n",
    "4 3 2 1 \n",
    "3 2 1 \n",
    "2 1 \n",
    "1\n",
    "'''\n",
    "n = 5\n",
    "\n",
    "for i in range(5,0,-1):\n",
    "    for j in range(i,0,-1):\n",
    "        print(j, end=' ')\n",
    "    print('\\t\\t')\n",
    "        "
   ]
  },
  {
   "cell_type": "code",
   "execution_count": 3,
   "id": "872390d5",
   "metadata": {},
   "outputs": [
    {
     "name": "stdout",
     "output_type": "stream",
     "text": [
      "29\n",
      "31\n",
      "37\n",
      "41\n",
      "43\n",
      "47\n"
     ]
    }
   ],
   "source": [
    "'''14. Write a program to display all prime numbers within a range'''\n",
    "\n",
    "start = 25\n",
    "end = 50\n",
    "\n",
    "for num in range(start, end+1):\n",
    "    if num > 1:  # all prime numbers are greater than 1 \n",
    "        for i in range(2,int(num/2)):\n",
    "            if num % i == 0:\n",
    "                break\n",
    "        else:\n",
    "            print(num)"
   ]
  },
  {
   "cell_type": "code",
   "execution_count": 34,
   "id": "d8716bb1",
   "metadata": {},
   "outputs": [
    {
     "name": "stdout",
     "output_type": "stream",
     "text": [
      "0 1 1 2 3 5 8 13 21 34 "
     ]
    }
   ],
   "source": [
    "''' 15. Display Fibonacci series up to 10 terms '''\n",
    "\n",
    "num1, num2 = 0,1\n",
    "\n",
    "for i in range(1, 11):\n",
    "    print(num1, end=\" \")\n",
    "    result = num1+num2\n",
    "    \n",
    "    num1 = num2\n",
    "    num2 = result"
   ]
  },
  {
   "cell_type": "code",
   "execution_count": 20,
   "id": "c623373e",
   "metadata": {},
   "outputs": [
    {
     "name": "stdout",
     "output_type": "stream",
     "text": [
      "Enter number:0\n",
      "1\n"
     ]
    }
   ],
   "source": [
    "''' 16. Find the factorial of a given number'''\n",
    "\n",
    "num = int(input('Enter number:'))\n",
    "sum = 1\n",
    "\n",
    "for i in range(num,1,-1):\n",
    "    sum *= i\n",
    "    \n",
    "print(sum)"
   ]
  },
  {
   "cell_type": "code",
   "execution_count": 1,
   "id": "228a1130",
   "metadata": {},
   "outputs": [
    {
     "name": "stdout",
     "output_type": "stream",
     "text": [
      "1\n"
     ]
    }
   ],
   "source": [
    "''' 17. Find the factorial of a given number using recursive'''\n",
    "\n",
    "n = 0\n",
    "\n",
    "def factorial(num):\n",
    "    if num == 1 or num == 0:\n",
    "        return 1\n",
    "    return (num * factorial(num-1))\n",
    "\n",
    "\n",
    "x = factorial(n)\n",
    "print(x)"
   ]
  },
  {
   "cell_type": "code",
   "execution_count": 2,
   "id": "9fb3caa8",
   "metadata": {},
   "outputs": [
    {
     "name": "stdout",
     "output_type": "stream",
     "text": [
      "24690\n"
     ]
    }
   ],
   "source": [
    "'''18. Find the sum of the series upto n terms\n",
    "Write a program to calculate the sum of series up to n term. \n",
    "For example, if n =5 the series will become 2 + 22 + 222 + 2222 + 22222 = 24690'''\n",
    "\n",
    "temp = ''\n",
    "n = 5\n",
    "sum = 0\n",
    "\n",
    "for i in range(1,n+1):\n",
    "    temp += '2'\n",
    "    sum += int(temp)\n",
    "    \n",
    "print(sum)\n",
    "    \n",
    "\n"
   ]
  },
  {
   "cell_type": "code",
   "execution_count": 21,
   "id": "a87c94fe",
   "metadata": {},
   "outputs": [
    {
     "name": "stdout",
     "output_type": "stream",
     "text": [
      "55\n"
     ]
    }
   ],
   "source": [
    "''' 19.\n",
    "Write a program to create a recursive function to calculate the sum of numbers from 0 to 10.\n",
    "'''\n",
    "\n",
    "def SumOfNum(num):\n",
    "    if num:\n",
    "        return num + SumOfNum(num-1)\n",
    "    else:\n",
    "        return 0\n",
    "\n",
    "res = SumOfNum(10)\n",
    "print(res)\n",
    "    "
   ]
  },
  {
   "cell_type": "code",
   "execution_count": 43,
   "id": "e3b418c9",
   "metadata": {},
   "outputs": [
    {
     "name": "stdout",
     "output_type": "stream",
     "text": [
      "Jms\n"
     ]
    }
   ],
   "source": [
    "'''20.\n",
    "Write a program to create a new string made of an input string’s first, middle, and last character.\n",
    "'''\n",
    "\n",
    "str1 = \"James\"\n",
    "\n",
    "x = len(str1)//2 \n",
    "\n",
    "new_word = str1[0] + str1[x] + str1[-1]\n",
    "\n",
    "print(new_word)"
   ]
  },
  {
   "cell_type": "code",
   "execution_count": 44,
   "id": "33b4fc52",
   "metadata": {},
   "outputs": [
    {
     "name": "stdout",
     "output_type": "stream",
     "text": [
      "Original String is JhonDipPeta\n",
      "Middle three chars are: Dip\n",
      "Original String is JaSonAy\n",
      "Middle three chars are: Son\n"
     ]
    }
   ],
   "source": [
    "'''21.\n",
    "Write a program to create a new string made of the middle three characters of an input string.\n",
    "'''\n",
    "def get_middle_three_chars(str1):\n",
    "    print(\"Original String is\", str1)\n",
    "\n",
    "    # first get middle index number\n",
    "    mi = int(len(str1) / 2)\n",
    "\n",
    "    # use string slicing to get result characters\n",
    "    res = str1[mi - 1:mi + 2]\n",
    "    print(\"Middle three chars are:\", res)\n",
    "\n",
    "get_middle_three_chars(\"JhonDipPeta\")\n",
    "get_middle_three_chars(\"JaSonAy\")"
   ]
  },
  {
   "cell_type": "code",
   "execution_count": 50,
   "id": "c1e2be7e",
   "metadata": {},
   "outputs": [
    {
     "name": "stdout",
     "output_type": "stream",
     "text": [
      "False\n"
     ]
    }
   ],
   "source": [
    "'''22.\n",
    "Write a program to check if two strings are balanced. \n",
    "For example, strings s1 and s2 are balanced if all the characters in the s1 are present in s2. \n",
    "The character’s position doesn’t matter.\n",
    "'''\n",
    "s1 = \"Yn\"\n",
    "s2 = \"PYnative\"\n",
    "\n",
    "s1 = \"Ynf\"\n",
    "s2 = \"PYnative\"\n",
    "\n",
    "if s1 in s2:\n",
    "    print('True')\n",
    "else:\n",
    "    print('False')"
   ]
  },
  {
   "cell_type": "code",
   "execution_count": 52,
   "id": "69b3c0d4",
   "metadata": {},
   "outputs": [
    {
     "name": "stdout",
     "output_type": "stream",
     "text": [
      "Counter({'p': 2, 'A': 1, 'l': 1, 'e': 1, 'a': 1})\n"
     ]
    }
   ],
   "source": [
    "'''23. Write a program to count occurrences of all characters within a string'''\n",
    "\n",
    "from collections import Counter\n",
    "\n",
    "str1 = \"Applea\"\n",
    "\n",
    "myDict = Counter(str1)\n",
    "\n",
    "print(myDict)"
   ]
  },
  {
   "cell_type": "code",
   "execution_count": 53,
   "id": "a3b5366a",
   "metadata": {},
   "outputs": [
    {
     "name": "stdout",
     "output_type": "stream",
     "text": [
      "2510\n"
     ]
    }
   ],
   "source": [
    "'''24.  Removal all characters from a string except integers'''\n",
    "\n",
    "str1 = 'I am 25 years and 10 months old'\n",
    "\n",
    "newString = \"\".join([char for char in str1 if char.isdigit()])\n",
    "print(newString)"
   ]
  },
  {
   "cell_type": "code",
   "execution_count": 57,
   "id": "5cf71b7b",
   "metadata": {},
   "outputs": [
    {
     "name": "stdout",
     "output_type": "stream",
     "text": [
      "[11, 45, 8]\n"
     ]
    }
   ],
   "source": [
    "'''25. Slice list into 3 equal chunks and reverse each chunk '''\n",
    "\n",
    "sample_list = [11, 45, 8, 23, 14, 12, 78, 45, 89]\n",
    "\n",
    "print(sample_list[slice(0,3)])"
   ]
  },
  {
   "cell_type": "code",
   "execution_count": null,
   "id": "f479792b",
   "metadata": {},
   "outputs": [
    {
     "name": "stdout",
     "output_type": "stream",
     "text": [
      "4a3b2c3a\n"
     ]
    }
   ],
   "source": [
    "'''26. Program to find the number of characters  '''\n",
    "myStr = \"aaaabbbccaaa\"\n",
    "count = 1\n",
    "for i in range(len(myStr)-1):\n",
    "    if myStr[i] == myStr[i+1]:\n",
    "        count += 1\n",
    "    else:\n",
    "        print(str(count)+ myStr[i], end='')\n",
    "        count = 1\n",
    "print(str(count)+ myStr[-1])\n",
    "        "
   ]
  },
  {
   "cell_type": "code",
   "execution_count": null,
   "id": "bcee3fc0",
   "metadata": {},
   "outputs": [
    {
     "name": "stdout",
     "output_type": "stream",
     "text": [
      "['an', 'cased', 'example', 'hello', 'is', 'letters', 'this', 'with']\n"
     ]
    }
   ],
   "source": [
    "'''27. Program to sort alphabetically the words form a string provided by the user.'''\n",
    "\n",
    "_str = \"Hello this Is an Example With cased letters\"\n",
    "\n",
    "_str = _str.casefold()\n",
    "\n",
    "myList = _str.split()\n",
    "\n",
    "myList.sort()\n",
    "\n",
    "print(myList)"
   ]
  },
  {
   "cell_type": "code",
   "execution_count": null,
   "id": "62fe89fe",
   "metadata": {},
   "outputs": [
    {
     "name": "stdout",
     "output_type": "stream",
     "text": [
      "\n",
      "1ffge3r6jj883ff0033gggramesh3\n"
     ]
    }
   ],
   "source": [
    "''' 28. program to remove integers from string'''\n",
    "\n",
    "_str = \"1ffge3r6jj883ff0033gggramesh3\"\n",
    "_newStr = \"\"\n",
    "\n",
    "for item in _str:\n",
    "    if not item.isdigit:\n",
    "        _newStr += item\n",
    "\n",
    "print(_newStr)\n",
    "print(_str)\n",
    "    "
   ]
  },
  {
   "cell_type": "code",
   "execution_count": null,
   "id": "b6154279",
   "metadata": {},
   "outputs": [
    {
     "name": "stdout",
     "output_type": "stream",
     "text": [
      "Enter item to check: 0\n",
      "occurances:  0\n"
     ]
    }
   ],
   "source": [
    "''' 29. Count occurrences of an element in a list'''\n",
    "\n",
    "lst = [15, 6, 7, 10, 12, 20, 10, 28, 10]\n",
    "count = 0\n",
    "\n",
    "try:\n",
    "    x = int(input('Enter item to check: '))\n",
    "    for i in lst:\n",
    "        if i == x:\n",
    "            count += 1\n",
    "    print('occurances: ', count)\n",
    "except:\n",
    "    print('its not an integer!!!') "
   ]
  },
  {
   "cell_type": "code",
   "execution_count": 13,
   "id": "c3198108",
   "metadata": {},
   "outputs": [
    {
     "name": "stdout",
     "output_type": "stream",
     "text": [
      "[-20, 20, 60, 30]\n"
     ]
    }
   ],
   "source": [
    "'''30. Program to print duplicates from a list of integers'''\n",
    "list1 = [10, 20, 30, 20, 20, 30, 40, 50, -20, 60, 60, -20, -20]\n",
    "\n",
    "uniqueList = list(set(list1))\n",
    "\n",
    "newList = []\n",
    "\n",
    "for item in uniqueList:\n",
    "    if list1.count(item) > 1:\n",
    "        newList.append(item)\n",
    "\n",
    "\n",
    "print(newList)"
   ]
  },
  {
   "cell_type": "code",
   "execution_count": 18,
   "id": "a2a2e203",
   "metadata": {},
   "outputs": [
    {
     "name": "stdout",
     "output_type": "stream",
     "text": [
      "Enter number to reverse: 3456789\n",
      "reversed number is : 9876543\n"
     ]
    }
   ],
   "source": [
    "''' 31. Program to reverse an integer '''\n",
    "\n",
    "try:\n",
    "    num = int(input('Enter number to reverse: '))\n",
    "    reverse = 0\n",
    "\n",
    "    while num!=0:\n",
    "        reverse = reverse*10 + num%10\n",
    "        num = num//10\n",
    "\n",
    "    print(\"reversed number is :\", reverse)\n",
    "except:\n",
    "    print(\"please enter only numbers!!!\")"
   ]
  },
  {
   "cell_type": "code",
   "execution_count": 24,
   "id": "848bb950",
   "metadata": {},
   "outputs": [
    {
     "name": "stdout",
     "output_type": "stream",
     "text": [
      "343\n",
      "559\n",
      "684\n",
      "684\n",
      "Its Not an Armstrong number....\n"
     ]
    }
   ],
   "source": [
    "''' 32. To check Armstrong number....'''\n",
    "\n",
    "num = int(input('Enter number : '))\n",
    "\n",
    "num1 = num\n",
    "newNum = 0\n",
    "while num1 > 0:\n",
    "    temp = num1%10\n",
    "    newNum += (temp**3)\n",
    "    print(newNum)\n",
    "    num1 = num1//10\n",
    "\n",
    "print(newNum)\n",
    "if newNum == num:\n",
    "    print('Its an Armstrong number....')\n",
    "else:\n",
    "    print('Its Not an Armstrong number....')\n",
    "    \n",
    "    "
   ]
  },
  {
   "cell_type": "code",
   "execution_count": 31,
   "id": "10f0101b",
   "metadata": {},
   "outputs": [
    {
     "name": "stdout",
     "output_type": "stream",
     "text": [
      "Its a prime number\n"
     ]
    }
   ],
   "source": [
    "''' 33. To check prime number'''\n",
    "\n",
    "num = int(input('Enter number : '))\n",
    "\n",
    "temp = 0\n",
    "\n",
    "for i in range(2,(num//2)+1):\n",
    "    if num % i == 0:\n",
    "        temp = 1\n",
    "        print(i)\n",
    "        break\n",
    "\n",
    "if temp == 1 or num <2:\n",
    "    print('Its not a prime number')\n",
    "else:\n",
    "    print('Its a prime number')\n",
    "        \n",
    "\n",
    "        \n",
    "            "
   ]
  },
  {
   "cell_type": "code",
   "execution_count": 1,
   "id": "42f66069",
   "metadata": {},
   "outputs": [
    {
     "name": "stdout",
     "output_type": "stream",
     "text": [
      "please give a number for fibonacci series : 10\n",
      "0\n",
      "1\n",
      "1\n",
      "2\n",
      "3\n",
      "5\n",
      "8\n",
      "13\n",
      "21\n",
      "34\n"
     ]
    }
   ],
   "source": [
    "''' 34. fibonacci series'''\n",
    "first,second=0,1\n",
    "n = int(input(\"please give a number for fibonacci series : \"))\n",
    "\n",
    "for i in range(n):\n",
    "    if i <= 1:\n",
    "        result = i\n",
    "    else:\n",
    "        result = first+second\n",
    "        first = second\n",
    "        second = result\n",
    "    print(result)"
   ]
  },
  {
   "cell_type": "code",
   "execution_count": 32,
   "id": "744bc3ed",
   "metadata": {},
   "outputs": [
    {
     "name": "stdout",
     "output_type": "stream",
     "text": [
      "fibonacci series are : \n",
      "0 1 1 2 3 5 8 13 21 34 "
     ]
    }
   ],
   "source": [
    "'''35. fibonacci series using recursive method'''\n",
    "\n",
    "# first,second=0,1\n",
    "n = int(input(\"please give a number for fibonacci series : \"))\n",
    "def fibonacci(num):\n",
    "    if num == 0:\n",
    "        return 0\n",
    "    elif num == 1:\n",
    "        return 1\n",
    "    else:\n",
    "        return fibonacci(num-1)+fibonacci(num-2)\n",
    "print(\"fibonacci series are : \")\n",
    "for i in range(0,n):\n",
    "    print(fibonacci(i), end=\" \")"
   ]
  },
  {
   "cell_type": "code",
   "execution_count": 12,
   "id": "cc59efa3",
   "metadata": {},
   "outputs": [
    {
     "name": "stdout",
     "output_type": "stream",
     "text": [
      "Enter number : 123321\n",
      "its palindrome\n"
     ]
    }
   ],
   "source": [
    "'''36. Palindrom using Iterative method'''\n",
    "\n",
    "num = int(input('Enter number : '))\n",
    "newNum= 0\n",
    "num1 = num\n",
    "\n",
    "while num1 > 0:\n",
    "    y = num1 % 10\n",
    "    newNum = newNum*10 + y\n",
    "    num1 = num1//10\n",
    "\n",
    "if newNum == num:\n",
    "    print('its palindrome')\n",
    "else:\n",
    "    print('its not palindrome')"
   ]
  },
  {
   "cell_type": "code",
   "execution_count": 13,
   "id": "c817e4df",
   "metadata": {},
   "outputs": [
    {
     "name": "stdout",
     "output_type": "stream",
     "text": [
      "Enter number : 123321\n",
      "its palindrome\n"
     ]
    }
   ],
   "source": [
    "'''37. Palindrom using Recursive method'''\n",
    "\n",
    "num = int(input('Enter number : '))\n",
    "\n",
    "def reverse(n):\n",
    "    if n < 10:\n",
    "        return n\n",
    "    else:\n",
    "        return int(str(n%10) + str(reverse(n//10)))\n",
    "\n",
    "if num == reverse(num):\n",
    "    print('its palindrome')\n",
    "else:\n",
    "    print('its not palindrome')"
   ]
  },
  {
   "cell_type": "code",
   "execution_count": 1,
   "id": "c014bf01",
   "metadata": {},
   "outputs": [
    {
     "name": "stdout",
     "output_type": "stream",
     "text": [
      "Enter number : 1234\n",
      "Sum of digits in 1234 is 10\n"
     ]
    }
   ],
   "source": [
    "''' 38. sum of digits using recursion '''\n",
    "num = int(input('Enter number : '))\n",
    "\n",
    "\n",
    "def sum_of_digit(n):\n",
    "    if n == 0:\n",
    "        return 0\n",
    "    return (n % 10 + sum_of_digit(int(n / 10)))\n",
    "\n",
    "result = sum_of_digit(num)\n",
    "print(\"Sum of digits in\", num, \"is\", result)"
   ]
  },
  {
   "cell_type": "code",
   "execution_count": 5,
   "id": "9dd6ca66",
   "metadata": {},
   "outputs": [
    {
     "name": "stdout",
     "output_type": "stream",
     "text": [
      "Rmesh\n"
     ]
    }
   ],
   "source": [
    "'''39. Remove given character from string....'''\n",
    "\n",
    "myString = \"Ramesh\"\n",
    "char = 'a'\n",
    "\n",
    "myString = myString.replace(char, '')\n",
    "\n",
    "print(myString)"
   ]
  },
  {
   "cell_type": "code",
   "execution_count": 9,
   "id": "0394978e",
   "metadata": {},
   "outputs": [
    {
     "name": "stdout",
     "output_type": "stream",
     "text": [
      "72\n"
     ]
    }
   ],
   "source": [
    "''' 40. Count the numbers in the string...'''\n",
    "\n",
    "myString = 'abc1def234fgt7890m12ghty5h6h7h8h9'\n",
    "\n",
    "Sum = 0\n",
    "\n",
    "for item in myString:\n",
    "    if item.isdigit():\n",
    "        Sum += int(item)\n",
    "        \n",
    "print(Sum)"
   ]
  },
  {
   "cell_type": "code",
   "execution_count": 12,
   "id": "10ca0369",
   "metadata": {},
   "outputs": [
    {
     "name": "stdout",
     "output_type": "stream",
     "text": [
      "Rmsh\n"
     ]
    }
   ],
   "source": [
    "''' 41. program to delete the vowels in a string'''\n",
    "\n",
    "myString = 'RAmesh'\n",
    "\n",
    "myVowels = 'aeiouAEIOU'\n",
    "\n",
    "newString = ''\n",
    "\n",
    "for char in myString:\n",
    "    if char not in myVowels:\n",
    "        newString += char\n",
    "\n",
    "print(newString)"
   ]
  },
  {
   "cell_type": "code",
   "execution_count": 13,
   "id": "1d1b41a7",
   "metadata": {},
   "outputs": [
    {
     "name": "stdout",
     "output_type": "stream",
     "text": [
      "5 8\n"
     ]
    }
   ],
   "source": [
    "''' 42. program to count the vowels and consonents in a string'''\n",
    "\n",
    "myString = 'RAmesh34Kishore'\n",
    "\n",
    "myVowels = 'aeiouAEIOU'\n",
    "\n",
    "VowelsCount, ConsonentCount = 0,0\n",
    "\n",
    "for char in myString:\n",
    "    if char.isalpha():\n",
    "        if char in myVowels:\n",
    "            VowelsCount += 1\n",
    "        else:\n",
    "            ConsonentCount += 1\n",
    "\n",
    "print(VowelsCount,ConsonentCount)       \n",
    "        \n"
   ]
  },
  {
   "cell_type": "code",
   "execution_count": 35,
   "id": "e74b29cf",
   "metadata": {},
   "outputs": [
    {
     "name": "stdout",
     "output_type": "stream",
     "text": [
      "R-mesh34Kishore\n"
     ]
    }
   ],
   "source": [
    "''' 43. Program to replace the 1st occurance of vowel wiuth '-' .  '''\n",
    "\n",
    "myString = 'RAmesh34Kishore'\n",
    "\n",
    "Vowels = 'aeiouAEIOU'\n",
    "\n",
    "for char in myString:\n",
    "    if char in Vowels:\n",
    "        myString = myString.replace(char,'-',1)\n",
    "        break\n",
    "\n",
    "print(myString)"
   ]
  },
  {
   "cell_type": "code",
   "execution_count": 25,
   "id": "3bed6a7d",
   "metadata": {},
   "outputs": [
    {
     "name": "stdout",
     "output_type": "stream",
     "text": [
      "R A m e s h 3 4 K i s h o r e\n"
     ]
    }
   ],
   "source": [
    "''' 44. program to seperate characters in a string'''\n",
    "\n",
    "myString = 'RAmesh34Kishore'\n",
    "\n",
    "print(\" \".join(myString))"
   ]
  },
  {
   "cell_type": "code",
   "execution_count": 26,
   "id": "5c1a928d",
   "metadata": {},
   "outputs": [
    {
     "name": "stdout",
     "output_type": "stream",
     "text": [
      "RAmesh34KishoreGood\n"
     ]
    }
   ],
   "source": [
    "''' 45. program to remove blank spaces in a string'''\n",
    "\n",
    "myString = 'RAmesh 34 Kishore Good '\n",
    "\n",
    "myString = myString.replace(' ', '')\n",
    "print(myString)"
   ]
  },
  {
   "cell_type": "code",
   "execution_count": 36,
   "id": "9187e651",
   "metadata": {},
   "outputs": [
    {
     "name": "stdout",
     "output_type": "stream",
     "text": [
      "RAmhiKore 34dGs\n"
     ]
    }
   ],
   "source": [
    "''' 46. program to remove repeated characters in a string'''\n",
    "\n",
    "myString = 'RAmesh 34 Kishore Good '\n",
    "\n",
    "print(\"\".join(set(myString)))"
   ]
  },
  {
   "cell_type": "code",
   "execution_count": 30,
   "id": "2c5bf761",
   "metadata": {},
   "outputs": [
    {
     "name": "stdout",
     "output_type": "stream",
     "text": [
      "11\n"
     ]
    }
   ],
   "source": [
    "''' 47. program to calculate sum of integers in a string....'''\n",
    "\n",
    "myString = 'RAmesh 34 Kishore Good4 '\n",
    "\n",
    "Numbers = ['1','2','3','4','5','6','7','8','9']\n",
    "Sum = 0\n",
    "\n",
    "for char in myString:\n",
    "    if char in Numbers:\n",
    "        Sum += int(char)\n",
    "\n",
    "print(Sum)\n",
    "        "
   ]
  },
  {
   "cell_type": "code",
   "execution_count": 34,
   "id": "837088a8",
   "metadata": {},
   "outputs": [
    {
     "name": "stdout",
     "output_type": "stream",
     "text": [
      "R A m e s h 3 G d "
     ]
    }
   ],
   "source": [
    "''' 48. program to print all non-repeating characters in a string\" '''\n",
    "\n",
    "myString = 'RAmesh 34 Good4 '\n",
    "\n",
    "for char in myString:\n",
    "    if myString.count(char) == 1:\n",
    "        print(char, end=\" \")"
   ]
  },
  {
   "cell_type": "code",
   "execution_count": 39,
   "id": "a2626465",
   "metadata": {},
   "outputs": [
    {
     "name": "stdout",
     "output_type": "stream",
     "text": [
      "1\n",
      "3\n",
      "66\n"
     ]
    }
   ],
   "source": [
    "''' 49. program to find the duplicates in an array...'''\n",
    "\n",
    "from collections import Counter\n",
    "myArr = [1,1,3,4,5,66,66,7,3]\n",
    "\n",
    "myDict = Counter(myArr)\n",
    "\n",
    "for item in myDict:\n",
    "    if myDict[item] > 1:\n",
    "        print(item)\n"
   ]
  },
  {
   "cell_type": "code",
   "execution_count": 41,
   "id": "81ed6654",
   "metadata": {},
   "outputs": [
    {
     "name": "stdout",
     "output_type": "stream",
     "text": [
      "1\n",
      "3\n",
      "66\n"
     ]
    }
   ],
   "source": [
    "''' 50. METHOD2(without Counter module) --- program to find the duplicates in an array...'''\n",
    "\n",
    "myArr = [1,1,3,4,5,66,66,7,3]\n",
    "myDict = {}\n",
    "\n",
    "\n",
    "for item in myArr:\n",
    "    if item in myDict:\n",
    "        myDict[item] += 1\n",
    "    else:\n",
    "        myDict[item] = 1\n",
    "\n",
    "for item in myDict:\n",
    "    if myDict[item] > 1:\n",
    "        print(item)"
   ]
  },
  {
   "cell_type": "code",
   "execution_count": 45,
   "id": "188fc00c",
   "metadata": {},
   "outputs": [
    {
     "name": "stdout",
     "output_type": "stream",
     "text": [
      "Pairs  [1, 2] Index : 0\n",
      "Pairs  [3, 0] Index : 2\n",
      "Pairs  [1, 1, 1] Index : 3\n"
     ]
    }
   ],
   "source": [
    "''' 51. Program to find all pairs of integers(with index) whose sum is equal to given number'''\n",
    "\n",
    "myArr = [[1,2],[4,5,6],[3,0],[1,1,1]]\n",
    "Num = 3\n",
    "\n",
    "for index,item in enumerate(myArr):\n",
    "    if sum(item) == Num:\n",
    "        print('Pairs ',item, 'Index :', index)"
   ]
  },
  {
   "cell_type": "code",
   "execution_count": 46,
   "id": "a05f3641",
   "metadata": {},
   "outputs": [
    {
     "name": "stdout",
     "output_type": "stream",
     "text": [
      "789\n"
     ]
    }
   ],
   "source": [
    "''' 52. Program to find the 2nd highest number in an array'''\n",
    "\n",
    "myArr = [1,67,223,6,789,122,67,99999]\n",
    "\n",
    "myArr = sorted(myArr)\n",
    "\n",
    "print(myArr[-2])"
   ]
  },
  {
   "cell_type": "code",
   "execution_count": 49,
   "id": "c8e848b5",
   "metadata": {},
   "outputs": [
    {
     "name": "stdout",
     "output_type": "stream",
     "text": [
      "789\n"
     ]
    }
   ],
   "source": [
    "''' 53. METHOD2: ---Program to find the 2nd highest number in an array'''\n",
    "\n",
    "myArr = [1,67,223,6,789,122,67,99999]\n",
    "\n",
    "myArr.remove(max(myArr))\n",
    "\n",
    "print(max(myArr))"
   ]
  },
  {
   "cell_type": "code",
   "execution_count": 43,
   "id": "dedd2c9d",
   "metadata": {},
   "outputs": [
    {
     "name": "stdout",
     "output_type": "stream",
     "text": [
      "[789, 99999]\n"
     ]
    }
   ],
   "source": [
    "''' 54. Program to find top two maximum number in an array'''\n",
    "\n",
    "myArr = [1,67,223,6,789,122,67,99999]\n",
    "\n",
    "myArr = sorted(myArr)\n",
    "# myArr.sort()\n",
    "\n",
    "print(myArr[-2:])"
   ]
  },
  {
   "cell_type": "code",
   "execution_count": 60,
   "id": "7d7c3bf1",
   "metadata": {},
   "outputs": [
    {
     "name": "stdout",
     "output_type": "stream",
     "text": [
      "[1, 497, 67, 223, 6, 789, 122, 67, 99999]\n"
     ]
    }
   ],
   "source": [
    "''' 55. Program to find insert element at a given location in an array'''\n",
    "myArr = [1,67,223,6,789,122,67,99999]\n",
    "\n",
    "myArr.insert(1,497)\n",
    "\n",
    "print(myArr)"
   ]
  },
  {
   "cell_type": "code",
   "execution_count": 61,
   "id": "55d59db6",
   "metadata": {},
   "outputs": [
    {
     "name": "stdout",
     "output_type": "stream",
     "text": [
      "[1, 67, 223, 6, 789, 122, 67]\n"
     ]
    }
   ],
   "source": [
    "''' 56. Program to delete an element at end of an array'''\n",
    "myArr = [1,67,223,6,789,122,67,99999]\n",
    "\n",
    "print(myArr[:-1])"
   ]
  },
  {
   "cell_type": "code",
   "execution_count": 39,
   "id": "f71740d8",
   "metadata": {},
   "outputs": [
    {
     "name": "stdout",
     "output_type": "stream",
     "text": [
      "True\n",
      "True\n",
      "False\n"
     ]
    }
   ],
   "source": [
    "''' 57. to check its a word : isalpha()  '''\n",
    "Name = \"Ramesh\"\n",
    "print(Name.isalpha())\n",
    "\n",
    "x = '9943'\n",
    "print(x.isalnum())\n",
    "print(x.isalpha())"
   ]
  },
  {
   "cell_type": "code",
   "execution_count": 75,
   "id": "5c730c88",
   "metadata": {},
   "outputs": [
    {
     "data": {
      "text/plain": [
       "[4, 5, 1, 2, 3]"
      ]
     },
     "execution_count": 75,
     "metadata": {},
     "output_type": "execute_result"
    }
   ],
   "source": [
    "'''58. Array rotation samples '''\n",
    "arr = [1,2,3,4,5]\n",
    "i = 3\n",
    "arr[i:] + arr[:i]"
   ]
  },
  {
   "cell_type": "code",
   "execution_count": 76,
   "id": "16346a53",
   "metadata": {},
   "outputs": [
    {
     "name": "stdout",
     "output_type": "stream",
     "text": [
      "4 3\n"
     ]
    }
   ],
   "source": [
    "''' 59.  swap 2 numbers '''\n",
    "x = 3\n",
    "y = 4\n",
    "\n",
    "x = x ^ y\n",
    "y = x ^ y\n",
    "x = x ^ y\n",
    "\n",
    "print(x,y)"
   ]
  },
  {
   "cell_type": "code",
   "execution_count": 78,
   "id": "f9ab8c94",
   "metadata": {},
   "outputs": [
    {
     "name": "stdout",
     "output_type": "stream",
     "text": [
      "5 4\n"
     ]
    }
   ],
   "source": [
    "''' 60. another way '''\n",
    "x = 4\n",
    "y = 5\n",
    "\n",
    "x,y = y,x\n",
    "print(x,y)"
   ]
  },
  {
   "cell_type": "code",
   "execution_count": 79,
   "id": "20fe7f33",
   "metadata": {},
   "outputs": [
    {
     "name": "stdout",
     "output_type": "stream",
     "text": [
      "[0, 1, 2, 3, 4, 5, 6, 7]\n"
     ]
    }
   ],
   "source": [
    "''' 61.  Array element modify '''\n",
    "q = [1,2,3,4,5,6,7,8]\n",
    "q = [i-1 for i in q] \n",
    "\n",
    "print(q)"
   ]
  },
  {
   "cell_type": "code",
   "execution_count": 81,
   "id": "3f0896e8",
   "metadata": {},
   "outputs": [
    {
     "name": "stdout",
     "output_type": "stream",
     "text": [
      "0\n"
     ]
    }
   ],
   "source": [
    "''' 62. to find the array index '''\n",
    "arr = [4,3,1,2]\n",
    "\n",
    "print(arr.index(4))"
   ]
  },
  {
   "cell_type": "code",
   "execution_count": 82,
   "id": "4af6b21b",
   "metadata": {},
   "outputs": [
    {
     "name": "stdout",
     "output_type": "stream",
     "text": [
      "[1, 2, 3, 4]\n"
     ]
    }
   ],
   "source": [
    "''' 63. sorting the array '''\n",
    "arr = [4,3,1,2]\n",
    "arr.sort()\n",
    "print(arr)"
   ]
  },
  {
   "cell_type": "code",
   "execution_count": 84,
   "id": "879c6a37",
   "metadata": {},
   "outputs": [
    {
     "name": "stdout",
     "output_type": "stream",
     "text": [
      "779943\n"
     ]
    }
   ],
   "source": [
    "''' 64. # to extract only digits in the string '''\n",
    "text = \"7R7a9m9e4s3h\"\n",
    "# num = []\n",
    "\n",
    "for char in text:\n",
    "    num = \"\".join([char for char in text if char.isdigit()])\n",
    "\n",
    "\n",
    "print(num)  "
   ]
  },
  {
   "cell_type": "code",
   "execution_count": 85,
   "id": "f05253b9",
   "metadata": {},
   "outputs": [
    {
     "name": "stdout",
     "output_type": "stream",
     "text": [
      "[1, 2, 3, 4]\n"
     ]
    }
   ],
   "source": [
    "''' 65. set & list '''\n",
    "myList = [1,1,2,3,3,4,4]\n",
    "mySet = set(myList)\n",
    "\n",
    "print(list(mySet))"
   ]
  },
  {
   "cell_type": "code",
   "execution_count": 86,
   "id": "67a12e1d",
   "metadata": {},
   "outputs": [
    {
     "name": "stdout",
     "output_type": "stream",
     "text": [
      "Code mentor Python Developer\n"
     ]
    }
   ],
   "source": [
    "''' 66. list & string '''\n",
    "a = [\"Code\", \"mentor\", \"Python\", \"Developer\"]\n",
    "print(\" \".join(a))"
   ]
  },
  {
   "cell_type": "code",
   "execution_count": 93,
   "id": "db866814",
   "metadata": {},
   "outputs": [
    {
     "name": "stdout",
     "output_type": "stream",
     "text": [
      "[1, 2, 3, 4]\n"
     ]
    }
   ],
   "source": [
    "''' 67. array  '''\n",
    "arr = [1,2,3,4,5]\n",
    "\n",
    "arr.remove(max(arr))\n",
    "print(arr)"
   ]
  },
  {
   "cell_type": "code",
   "execution_count": 95,
   "id": "69d04c1f",
   "metadata": {},
   "outputs": [
    {
     "name": "stdout",
     "output_type": "stream",
     "text": [
      "GeeksProgrammingAlgorithmArticle\n",
      "Geeks Programming Algorithm Article\n",
      "Geeks---Programming---Algorithm---Article\n",
      "Geeks, Programming, Algorithm, Article\n"
     ]
    }
   ],
   "source": [
    "''' 68. '''\n",
    "geek = ['Geeks', 'Programming', 'Algorithm', 'Article']\n",
    "\n",
    "print(''.join(geek))\n",
    "print(' '.join(geek))\n",
    "print('---'.join(geek))\n",
    "print(', '.join(geek))"
   ]
  },
  {
   "cell_type": "markdown",
   "id": "5023f5c7",
   "metadata": {},
   "source": [
    "# zip"
   ]
  },
  {
   "cell_type": "code",
   "execution_count": 96,
   "id": "997708fa",
   "metadata": {},
   "outputs": [
    {
     "name": "stdout",
     "output_type": "stream",
     "text": [
      "1 Ramesh\n",
      "3 Kishore\n",
      "5 Usha\n",
      "7 Srija\n"
     ]
    }
   ],
   "source": [
    "list1 = [1, 3, 5, 7]\n",
    "list2 = ['Ramesh', 'Kishore', 'Usha', 'Srija']\n",
    "\n",
    "for a,b in zip(list1, list2):\n",
    "    print(a,b)"
   ]
  },
  {
   "cell_type": "markdown",
   "id": "a3d6b7e8",
   "metadata": {},
   "source": [
    "# List comprehension"
   ]
  },
  {
   "cell_type": "code",
   "execution_count": 83,
   "id": "959de164",
   "metadata": {},
   "outputs": [
    {
     "name": "stdout",
     "output_type": "stream",
     "text": [
      "[1, 3, 5, 7, 9]\n"
     ]
    }
   ],
   "source": [
    "x = [i for i in range(10) if i%2 !=0]\n",
    "print(x)"
   ]
  },
  {
   "cell_type": "code",
   "execution_count": 91,
   "id": "6949ddfa",
   "metadata": {},
   "outputs": [
    {
     "name": "stdout",
     "output_type": "stream",
     "text": [
      "Negative numbers in the list:  -10 -21 -4 -66\n"
     ]
    }
   ],
   "source": [
    "list1 = [-10, -21, -4, 45, -66, 93]\n",
    "  \n",
    "# using list comprehension\n",
    "neg_nos = [num for num in list1 if num < 0]\n",
    "  \n",
    "print(\"Negative numbers in the list: \", *neg_nos)"
   ]
  },
  {
   "cell_type": "markdown",
   "id": "45f518b1",
   "metadata": {},
   "source": [
    "# Lambda Function"
   ]
  },
  {
   "cell_type": "markdown",
   "id": "633fda84",
   "metadata": {},
   "source": [
    "## Lambda Function with List Comprehension"
   ]
  },
  {
   "cell_type": "code",
   "execution_count": 87,
   "id": "7ab0fc98",
   "metadata": {},
   "outputs": [
    {
     "name": "stdout",
     "output_type": "stream",
     "text": [
      "10\n",
      "20\n",
      "30\n",
      "40\n",
      "50\n",
      "60\n",
      "70\n",
      "80\n",
      "90\n",
      "100\n"
     ]
    }
   ],
   "source": [
    "tables = [lambda x=x: x*10 for x in range(1, 11)]\n",
    "\n",
    "\n",
    "for table in tables:\n",
    "\tprint(table())   ### We have to call  like this /// remember it \n",
    "\n",
    "# tables = [x*10 for x in range(1,11)]\n",
    "# print(tables)"
   ]
  },
  {
   "cell_type": "markdown",
   "id": "1af40a11",
   "metadata": {},
   "source": [
    "## Lambda Function with if-else"
   ]
  },
  {
   "cell_type": "code",
   "execution_count": 88,
   "id": "a543fe67",
   "metadata": {},
   "outputs": [
    {
     "name": "stdout",
     "output_type": "stream",
     "text": [
      "2\n"
     ]
    }
   ],
   "source": [
    "Max = lambda a, b : a if a > b else b\n",
    "'''\n",
    "Note:\n",
    "Here we have to remember like this - \"lambda input: actual work\"\n",
    "\n",
    "input is a,b\n",
    "Actual work is \"a if a > b else b\"\n",
    "\n",
    "\n",
    "'''\n",
    "print(Max(1,2))  # It has to be called like this"
   ]
  },
  {
   "cell_type": "code",
   "execution_count": 90,
   "id": "167d9862",
   "metadata": {},
   "outputs": [
    {
     "name": "stdout",
     "output_type": "stream",
     "text": [
      "<generator object <lambda>.<locals>.<genexpr> at 0x0000018DEB1F5FC0>\n"
     ]
    }
   ],
   "source": [
    "List = [[2,3,4],[1, 4, 16, 64],[3, 6, 9, 12]]\n",
    " \n",
    "# Sort each sublist\n",
    "sortList = lambda x: (sorted(i) for i in x)\n",
    "\n",
    "print(sortList(List))"
   ]
  },
  {
   "cell_type": "markdown",
   "id": "27b0279a",
   "metadata": {},
   "source": [
    "## Add 2 lists using lamda and map"
   ]
  },
  {
   "cell_type": "code",
   "execution_count": 97,
   "id": "3261c1fe",
   "metadata": {},
   "outputs": [
    {
     "name": "stdout",
     "output_type": "stream",
     "text": [
      "[3, 6, 9, 11, 13]\n"
     ]
    }
   ],
   "source": [
    "list1 = [1,2,3,4,5]\n",
    "list2 = [2,4,6,7,8]\n",
    "\n",
    "list3 = map(lambda x,y:x+y, list1, list2)\n",
    "\n",
    "# print(type(list3))\n",
    "\n",
    "print(list(list3))"
   ]
  },
  {
   "cell_type": "code",
   "execution_count": 98,
   "id": "fcab54d9",
   "metadata": {},
   "outputs": [
    {
     "name": "stdout",
     "output_type": "stream",
     "text": [
      "[['s', 'a', 't'], ['b', 'a', 't'], ['c', 'a', 't'], ['m', 'a', 't']]\n"
     ]
    }
   ],
   "source": [
    "l = ['sat', 'bat', 'cat', 'mat']\n",
    "\n",
    "test = list(map(list,l))\n",
    "print(test)"
   ]
  },
  {
   "cell_type": "markdown",
   "id": "e4afe0f4",
   "metadata": {},
   "source": [
    "# Dictionaries"
   ]
  },
  {
   "cell_type": "code",
   "execution_count": 7,
   "id": "2b0dff88",
   "metadata": {},
   "outputs": [
    {
     "name": "stdout",
     "output_type": "stream",
     "text": [
      "Counter({'r': 1, 'a': 1, 'm': 1, 'e': 1, 's': 1, 'h': 1})\n",
      "a 1\n",
      "e 1\n"
     ]
    }
   ],
   "source": [
    "''' Program to count the number of each vowel in a string.'''\n",
    "'Method1'\n",
    "from collections import Counter\n",
    "\n",
    "_str = \"ramesh\"\n",
    "\n",
    "myDict = Counter(_str)\n",
    "print(myDict)\n",
    "\n",
    "for item in myDict.keys():\n",
    "    if item in 'aeiou':\n",
    "        print(item, myDict[item])        "
   ]
  },
  {
   "cell_type": "code",
   "execution_count": 8,
   "id": "44c0f7a0",
   "metadata": {},
   "outputs": [
    {
     "name": "stdout",
     "output_type": "stream",
     "text": [
      "{'a': 2, 'e': 5, 'i': 3, 'o': 5, 'u': 3}\n"
     ]
    }
   ],
   "source": [
    "''' Program to count the number of each vowel in a string.'''\n",
    "'Method2'\n",
    "\n",
    "vowels = 'aeiou'\n",
    "ip_str = 'Hello, have you tried our tutorial section yet?'\n",
    "\n",
    "ip_str = ip_str.casefold()\n",
    "\n",
    "\n",
    "myDict = {}.fromkeys(vowels,0)\n",
    "\n",
    "for char in ip_str:\n",
    "    if char in myDict:\n",
    "        myDict[char] += 1\n",
    "\n",
    "print(myDict)"
   ]
  },
  {
   "cell_type": "code",
   "execution_count": 9,
   "id": "7b5ef9a7",
   "metadata": {},
   "outputs": [
    {
     "name": "stdout",
     "output_type": "stream",
     "text": [
      "Counter({'e': 2, 's': 2, 'h': 2, 'R': 1, 'A': 1, 'm': 1, '3': 1, '4': 1, 'K': 1, 'i': 1, 'o': 1, 'r': 1})\n",
      "dict_values([1, 1, 1, 2, 2, 2, 1, 1, 1, 1, 1, 1])\n",
      "2\n",
      "e\n",
      "s\n",
      "h\n"
     ]
    }
   ],
   "source": [
    "''' program to print the highest frequency characters...'''\n",
    "\n",
    "from collections import Counter\n",
    "\n",
    "myString = 'RAmesh34Kishore'\n",
    "\n",
    "myDict = Counter(myString)\n",
    "\n",
    "print(myDict)\n",
    "print(myDict.values())\n",
    "print(max(myDict.values()))\n",
    "max_ = max(myDict.values())\n",
    "\n",
    "for key in myDict:\n",
    "    if myDict[key] == max_:\n",
    "        print(key)\n"
   ]
  },
  {
   "cell_type": "code",
   "execution_count": 10,
   "id": "cb7f2a96",
   "metadata": {},
   "outputs": [
    {
     "name": "stdout",
     "output_type": "stream",
     "text": [
      "s\n"
     ]
    }
   ],
   "source": [
    "''' program to print the dict keys of maximum value'''\n",
    "newDict = {'e': 2, 's': 20, 'h': 2, 'R': 1, 'A': 1, 'm': 1, '3': 1, '4': 1, 'K': 1, 'i': 1, 'o': 1, 'r': 1}\n",
    "\n",
    "result = max(newDict, key=newDict.get)\n",
    "print(result)"
   ]
  },
  {
   "cell_type": "code",
   "execution_count": 11,
   "id": "1badb51a",
   "metadata": {},
   "outputs": [
    {
     "name": "stdout",
     "output_type": "stream",
     "text": [
      "9\n",
      "45\n"
     ]
    }
   ],
   "source": [
    "'''Program to find highest frequency element in an array'''\n",
    "\n",
    "myArr = [1,67,223,6,789,122,67,9,3,9,45,45,45,45,2,9,2,9,9,45]\n",
    "\n",
    "myDict = {}\n",
    "\n",
    "for num in myArr:\n",
    "    if num in myDict:\n",
    "        myDict[num] +=1\n",
    "    else:\n",
    "        myDict[num] = 1\n",
    "\n",
    "val = max(myDict.values())\n",
    "\n",
    "# for key, value in myDict.items():\n",
    "#     if value == val:\n",
    "#         print(key)\n",
    "\n",
    "for key in myDict:\n",
    "    if myDict[key] == val:\n",
    "        print(key)"
   ]
  },
  {
   "cell_type": "markdown",
   "id": "af7bc874",
   "metadata": {},
   "source": [
    "# datetime"
   ]
  },
  {
   "cell_type": "code",
   "execution_count": null,
   "id": "37e30fb4",
   "metadata": {},
   "outputs": [
    {
     "name": "stdout",
     "output_type": "stream",
     "text": [
      "2022-04-17\n",
      "Current year: 2022\n",
      "Current month: 4\n",
      "Current day: 17\n"
     ]
    }
   ],
   "source": [
    "''' DATE TIME exercises..........'''\n",
    "\n",
    "from datetime import date\n",
    "\n",
    "today = date.today() #'''Get Current Date'''\n",
    "print(today)\n",
    "\n",
    "print(\"Current year:\", today.year)\n",
    "print(\"Current month:\", today.month)\n",
    "print(\"Current day:\", today.day)\n"
   ]
  },
  {
   "cell_type": "code",
   "execution_count": null,
   "id": "2ff1a8c4",
   "metadata": {},
   "outputs": [
    {
     "name": "stdout",
     "output_type": "stream",
     "text": [
      "2025-01-02 19:07:57.721271\n",
      "19:07:57.721271\n"
     ]
    }
   ],
   "source": [
    "import datetime\n",
    "\n",
    "print(datetime.datetime.now())\n",
    "\n",
    "print(datetime.datetime.now().time())"
   ]
  },
  {
   "cell_type": "code",
   "execution_count": 12,
   "id": "100f865d",
   "metadata": {},
   "outputs": [
    {
     "name": "stdout",
     "output_type": "stream",
     "text": [
      "['is', 'is', 'is']\n",
      "['is', 'is', 'it', 'is']\n",
      "['s', 's', 'a', 'a', 's', '@', 'a', 's', 'a']\n"
     ]
    }
   ],
   "source": [
    "'''\n",
    "\\w - Matches any single letter, number or under_score\n",
    "\\W - Matches any character not part of \\w\n",
    "\\d - Matches decimal digits 0-9\n",
    ".  - Matcheds any single character except new line character\n",
    "\\. - To match dot with dot only use '\\'\n",
    "^  - Start of the string\n",
    "$  - End of the string\n",
    "\n",
    "\n",
    "'''\n",
    "import re\n",
    "\n",
    "# findall\n",
    "text=\"This is a python and it is @ easy to learn\"\n",
    "my_pat=\"is\"\n",
    "print(re.findall(my_pat,text))\n",
    "['is', 'is', 'is']\n",
    "my_pat = \"i[st]\"\n",
    "print(re.findall(my_pat,text))\n",
    "['is', 'is', 'it', 'is']\n",
    "my_pat = \"[@as]\"\n",
    "print(re.findall(my_pat,text))\n"
   ]
  },
  {
   "cell_type": "markdown",
   "id": "33b72373",
   "metadata": {},
   "source": [
    "# regex"
   ]
  },
  {
   "cell_type": "code",
   "execution_count": null,
   "id": "843df0fc",
   "metadata": {},
   "outputs": [],
   "source": [
    "'''\n",
    "\\w - Matches any single letter, number or under_score\n",
    "\\W - Matches any character not part of \\w\n",
    "\\d - Matches decimal digits 0-9\n",
    ".  - Matcheds any single character except new line character\n",
    "\\. - To match dot with dot only use '\\'\n",
    "^  - Start of the string\n",
    "$  - End of the string\n",
    "\n",
    "'''"
   ]
  },
  {
   "cell_type": "markdown",
   "id": "ebbde39f",
   "metadata": {},
   "source": [
    "## re.findall"
   ]
  },
  {
   "cell_type": "code",
   "execution_count": 1,
   "id": "39024d4c",
   "metadata": {},
   "outputs": [
    {
     "name": "stdout",
     "output_type": "stream",
     "text": [
      "['is', 'is', 'is']\n"
     ]
    }
   ],
   "source": [
    "import re\n",
    "text=\"This is a python and it is @ easy to learn\"\n",
    "my_pat=\"is\"\n",
    "\n",
    "print(re.findall(my_pat,text))"
   ]
  },
  {
   "cell_type": "code",
   "execution_count": 2,
   "id": "5b6d467d",
   "metadata": {},
   "outputs": [
    {
     "name": "stdout",
     "output_type": "stream",
     "text": [
      "['is', 'is', 'it', 'is']\n"
     ]
    }
   ],
   "source": [
    "my_pat = \"i[st]\"\n",
    "print(re.findall(my_pat,text))"
   ]
  },
  {
   "cell_type": "code",
   "execution_count": 3,
   "id": "8c210043",
   "metadata": {},
   "outputs": [
    {
     "name": "stdout",
     "output_type": "stream",
     "text": [
      "['s', 's', 'a', 'a', 's', '@', 'a', 's', 'a']\n"
     ]
    }
   ],
   "source": [
    "my_pat = \"[@as]\"\n",
    "print(re.findall(my_pat,text))"
   ]
  },
  {
   "cell_type": "code",
   "execution_count": 4,
   "id": "c7fbed80",
   "metadata": {},
   "outputs": [
    {
     "name": "stdout",
     "output_type": "stream",
     "text": [
      "['h', 'i', 'i', 'a', 'y', 'h', 'a', 'd', 'i', 'i', 'a', 'y', 'l', 'a']\n"
     ]
    }
   ],
   "source": [
    "my_pat = \"[a-dh-lx-z]\"\n",
    "print(re.findall(my_pat,text))"
   ]
  },
  {
   "cell_type": "code",
   "execution_count": 5,
   "id": "73887d6f",
   "metadata": {},
   "outputs": [
    {
     "name": "stdout",
     "output_type": "stream",
     "text": [
      "['a', 'a', 'd', 'a', 'a']\n"
     ]
    }
   ],
   "source": [
    "my_pat = \"[a-d]\"\n",
    "print(re.findall(my_pat,text))"
   ]
  },
  {
   "cell_type": "code",
   "execution_count": 6,
   "id": "fb0df153",
   "metadata": {},
   "outputs": [
    {
     "name": "stdout",
     "output_type": "stream",
     "text": [
      "['a', 'a', 'd', 'a', 'a']\n"
     ]
    }
   ],
   "source": [
    "my_pat = \"[abcd]\"\n",
    "print(re.findall(my_pat,text))"
   ]
  },
  {
   "cell_type": "code",
   "execution_count": 7,
   "id": "30499ab0",
   "metadata": {},
   "outputs": [
    {
     "name": "stdout",
     "output_type": "stream",
     "text": [
      "['T', 'h', 'i', 's', 'i', 's', 'a', 'p', 'y', 't', 'h', 'o', 'n', 'a', 'n', 'd', 'i', 't', 'i', 's', 'e', 'a', 's', 'y', 't', 'o', 'l', 'e', 'a', 'r', 'n', 'O', '_', '_', 'O', 'T']\n"
     ]
    }
   ],
   "source": [
    "# \\w - Matches any single letter, number or under_score\n",
    "text=\"This is a python and it is @ easy to learn O__ OT\"\n",
    "my_pat = \"\\w\"\n",
    "print(re.findall(my_pat,text))"
   ]
  },
  {
   "cell_type": "code",
   "execution_count": 8,
   "id": "a89f41dd",
   "metadata": {},
   "outputs": [
    {
     "name": "stdout",
     "output_type": "stream",
     "text": [
      "['Thi', 'pyt', 'hon', 'and', 'eas', 'lea', 'O__']\n"
     ]
    }
   ],
   "source": [
    "text=\"This is a python and it is @ easy to learn O__ OT\"\n",
    "my_pat = \"\\w\\w\\w\"\n",
    "print(re.findall(my_pat,text))"
   ]
  },
  {
   "cell_type": "code",
   "execution_count": 9,
   "id": "aaf29196",
   "metadata": {},
   "outputs": [
    {
     "name": "stdout",
     "output_type": "stream",
     "text": [
      "[' ', ' ', ' ', ' ', ' ', ' ', ' ', '@', ' ', ' ', ' ', ' ', ' ', ' ', ')', '(', '*', '-', '-']\n"
     ]
    }
   ],
   "source": [
    "text=\"This is a python and it is @ easy to learn O__ OT )Ra(m*e-s-h\"\n",
    "my_pat = \"\\W\"\n",
    "print(re.findall(my_pat,text))"
   ]
  },
  {
   "cell_type": "code",
   "execution_count": 10,
   "id": "893243e7",
   "metadata": {},
   "outputs": [
    {
     "name": "stdout",
     "output_type": "stream",
     "text": [
      "['2', '6', '9', '9', '3', '8']\n",
      "['python2', 'python3']\n",
      "['99']\n"
     ]
    }
   ],
   "source": [
    "text=\"This is a python2 and it is @ easy 6 to 99 python3 learn 8 O__ OT )Ra(m*e-s-h\"\n",
    "my_pat = \"\\d\"\n",
    "my_pat1 = \"python\\d\"\n",
    "my_pat2 = \"\\d\\d\"\n",
    "print(re.findall(my_pat,text))\n",
    "print(re.findall(my_pat1,text))\n",
    "print(re.findall(my_pat2,text))"
   ]
  },
  {
   "cell_type": "code",
   "execution_count": 11,
   "id": "2c4e1325",
   "metadata": {},
   "outputs": [
    {
     "name": "stdout",
     "output_type": "stream",
     "text": [
      "['T', 'h', 'i', 's', ' ', 'i', 's', ' ', 'a', ' ', 'p', 'y', 't', 'h', 'o', 'n', '2', ' ', 'a', 'n', 'd', ' ', 'i', 't', ' ', 'i', 's', ' ', '@', ' ', 'e', 'a', 's', 'y', ' ', '6', ' ', 't', 'o', ' ', '9', '9', ' ', 'p', 'y', 't', 'h', 'o', 'n', '3', ' ', 'l', 'e', 'a', 'r', 'n', ' ', '8', ' ', 'O', '_', '_', ' ', 'O', 'T', ' ', ')', 'R', 'a', '(', 'm', '*', 'e', '-', 's', '-', 'h']\n",
      "['Thi', 's i', 's a', ' py', 'tho', 'n2 ', 'and', ' it', ' is', ' @ ', 'eas', 'y 6', ' to', ' 99', ' py', 'tho', 'n3 ', 'lea', 'rn ', '8 O', '__ ', 'OT ', ')Ra', '(m*', 'e-s']\n"
     ]
    }
   ],
   "source": [
    "my_pat = \".\"\n",
    "print(re.findall(my_pat,text))\n",
    "\n",
    "my_pat = \"...\"\n",
    "print(re.findall(my_pat,text))"
   ]
  },
  {
   "cell_type": "code",
   "execution_count": 12,
   "id": "e2e6728e",
   "metadata": {},
   "outputs": [
    {
     "name": "stdout",
     "output_type": "stream",
     "text": [
      "['.', '.']\n"
     ]
    }
   ],
   "source": [
    "text=\"This is a python2 and it is @ easy 6.9 to 99.8 python3 learn 8 O__ OT )Ra(m*e-s-h\"\n",
    "my_pat = \"\\.\"\n",
    "print(re.findall(my_pat,text))"
   ]
  },
  {
   "cell_type": "code",
   "execution_count": 13,
   "id": "bab6c72d",
   "metadata": {},
   "outputs": [
    {
     "name": "stdout",
     "output_type": "stream",
     "text": [
      "['172.169.329.109']\n"
     ]
    }
   ],
   "source": [
    "text = \"This is my ip of a db server: 172.169.329.109 23415656565656\"\n",
    "my_pat = \"\\d\\d\\d\\.\\d\\d\\d\\.\\d\\d\\d\\.\\d\\d\\d\"\n",
    "\n",
    "print(re.findall(my_pat,text))"
   ]
  },
  {
   "cell_type": "code",
   "execution_count": 14,
   "id": "8b00384b",
   "metadata": {},
   "outputs": [
    {
     "name": "stdout",
     "output_type": "stream",
     "text": [
      "['it']\n"
     ]
    }
   ],
   "source": [
    "import re\n",
    "text = 'it is a python and it is easy to learn'\n",
    "my_pat = '^i[ts]'\n",
    "print(re.findall(my_pat,text))"
   ]
  },
  {
   "cell_type": "code",
   "execution_count": 15,
   "id": "e2c26154",
   "metadata": {},
   "outputs": [
    {
     "name": "stdout",
     "output_type": "stream",
     "text": [
      "['learn']\n"
     ]
    }
   ],
   "source": [
    "import re\n",
    "text = 'it is a python and learn it is easy to learn'\n",
    "my_pat = 'learn$'\n",
    "print(re.findall(my_pat,text))"
   ]
  },
  {
   "cell_type": "code",
   "execution_count": 23,
   "id": "efd47a5e",
   "metadata": {},
   "outputs": [
    {
     "name": "stdout",
     "output_type": "stream",
     "text": [
      "['123', '456']\n"
     ]
    }
   ],
   "source": [
    "import re\n",
    "text = \"abc123xyz456def\"\n",
    "pattern = r\"\\d+\"\n",
    "result = re.findall(pattern, text)\n",
    "print(result)  # Output: ['123', '456']"
   ]
  },
  {
   "cell_type": "code",
   "execution_count": 27,
   "id": "a6c2e184",
   "metadata": {},
   "outputs": [
    {
     "name": "stdout",
     "output_type": "stream",
     "text": [
      "['https://example.com', 'http://test.org']\n"
     ]
    }
   ],
   "source": [
    "import re\n",
    "text = \"Visit https://example.com or http://test.org\"\n",
    "pattern = r\"https?://[^\\s]+\"\n",
    "result = re.findall(pattern, text)\n",
    "print(result)  # Output: ['https://example.com', 'http://test.org']"
   ]
  },
  {
   "cell_type": "code",
   "execution_count": 28,
   "id": "b92b8bbf",
   "metadata": {},
   "outputs": [
    {
     "name": "stdout",
     "output_type": "stream",
     "text": [
      "['2023-01-01', '2024/02/02']\n"
     ]
    }
   ],
   "source": [
    "import re\n",
    "text = \"We met on 2023-01-01 and again on 2024/02/02\"\n",
    "pattern = r\"\\d{4}[-/]\\d{2}[-/]\\d{2}\"\n",
    "result = re.findall(pattern, text)\n",
    "print(result)  # Output: ['2023-01-01', '2024/02/02']"
   ]
  },
  {
   "cell_type": "code",
   "execution_count": 29,
   "id": "63681634",
   "metadata": {},
   "outputs": [
    {
     "name": "stdout",
     "output_type": "stream",
     "text": [
      "['over', 'la_y', 'kiso']\n"
     ]
    }
   ],
   "source": [
    "import re\n",
    "text = \"The quick brown fox jumps over the la_y dog kiso\"\n",
    "pattern = r\"\\b\\w{4}\\b\"\n",
    "result = re.findall(pattern, text)\n",
    "print(result)  # Output: ['quick', 'jumps', 'over', 'lazy']"
   ]
  },
  {
   "cell_type": "code",
   "execution_count": 31,
   "id": "99ecd3cc",
   "metadata": {},
   "outputs": [
    {
     "name": "stdout",
     "output_type": "stream",
     "text": [
      "['@twitter', '#Python']\n"
     ]
    }
   ],
   "source": [
    "import re\n",
    "text = \"Follow us on @twitter and #Python\"\n",
    "pattern = r\"[@#]\\w+\"\n",
    "# pattern = r\"\\b[@#]\\w+\\b\"\n",
    "result = re.findall(pattern, text)\n",
    "print(result)  # Output: ['@twitter', '#Python']"
   ]
  },
  {
   "cell_type": "markdown",
   "id": "76917020",
   "metadata": {},
   "source": [
    "## re.search"
   ]
  },
  {
   "cell_type": "code",
   "execution_count": 16,
   "id": "947befa1",
   "metadata": {},
   "outputs": [
    {
     "name": "stdout",
     "output_type": "stream",
     "text": [
      "GeeksforGeeks: A computer science portal for geeks\n"
     ]
    }
   ],
   "source": [
    "import re\n",
    " \n",
    "s = 'GeeksforGeeks: A computer science portal for geeks'\n",
    " \n",
    "match = re.search(r'portal', s)\n",
    "\n",
    "print(match.string)"
   ]
  },
  {
   "cell_type": "code",
   "execution_count": 42,
   "id": "275b61f5",
   "metadata": {},
   "outputs": [
    {
     "name": "stdout",
     "output_type": "stream",
     "text": [
      "5454b6511ee3cb44c46a5\n",
      "95022524-91a1-b1058b169e97\n"
     ]
    }
   ],
   "source": [
    "## regEx basics\n",
    "import re\n",
    "path = \"GET /sdc/v2/common/token?access_token=5454b6511ee3cb44c46a5&device_id=urn:uuid:95022524-91a1-b1058b169e97 HTTP/1.1\"\n",
    "\n",
    "pattern = re.search(r\"(\\w*)access_token=(\\w+)&device_id=urn:uuid:(.*) HTTP\\/1.1\", path)\n",
    "\n",
    "print(pattern.group(2))\n",
    "print(pattern.group(3))"
   ]
  },
  {
   "cell_type": "markdown",
   "id": "25f772b3",
   "metadata": {},
   "source": [
    "## re.compile\n"
   ]
  },
  {
   "cell_type": "code",
   "execution_count": 17,
   "id": "b54cf41b",
   "metadata": {},
   "outputs": [
    {
     "name": "stdout",
     "output_type": "stream",
     "text": [
      "['1', '1', '4', '1', '8', '8', '6']\n",
      "['11', '4', '1886']\n",
      "['H', 'e', 's', 'a', 'i', 'd', 'i', 'n', 's', 'o', 'm', 'e', '_', 'l', 'a', 'n', 'g']\n",
      "['I', 'went', 'to', 'him', 'at', '11', 'A', 'M', 'he', 'said', 'in', 'some_language']\n",
      "[' ', ' ', '*', '*', '*', ' ', ' ', '.']\n"
     ]
    }
   ],
   "source": [
    "import re\n",
    " \n",
    "# \\d is equivalent to [0-9].\n",
    "p = re.compile('\\d')\n",
    "print(p.findall(\"I went to him at 11 A.M. on 4th July 1886\"))\n",
    " \n",
    "# \\d+ will match a group on [0-9], group\n",
    "# of one or greater size\n",
    "p = re.compile('\\d+')\n",
    "print(p.findall(\"I went to him at 11 A.M. on 4th July 1886\"))\n",
    "\n",
    "# \\w is equivalent to [a-zA-Z0-9_].\n",
    "p = re.compile('\\w')\n",
    "print(p.findall(\"He said * in some_lang.\"))\n",
    " \n",
    "# \\w+ matches to group of alphanumeric character.\n",
    "p = re.compile('\\w+')\n",
    "print(p.findall(\"I went to him at 11 A.M., he \\\n",
    "said *** in some_language.\"))\n",
    " \n",
    "# \\W matches to non alphanumeric characters.\n",
    "p = re.compile('\\W')\n",
    "print(p.findall(\"he said *** in some_language.\"))"
   ]
  },
  {
   "cell_type": "markdown",
   "id": "dad967ed",
   "metadata": {},
   "source": [
    "## re.split"
   ]
  },
  {
   "cell_type": "code",
   "execution_count": 19,
   "id": "0628ff7a",
   "metadata": {},
   "outputs": [
    {
     "name": "stdout",
     "output_type": "stream",
     "text": [
      "['On ', 'th Jan 2016, at 11:02 AM']\n"
     ]
    }
   ],
   "source": [
    "import re\n",
    " \n",
    "# Splitting will occurs only once, at '12', returned list will have length 2\n",
    "print(re.split('\\d+', 'On 12th Jan 2016, at 11:02 AM', 1))"
   ]
  },
  {
   "cell_type": "code",
   "execution_count": 20,
   "id": "e74a0f08",
   "metadata": {},
   "outputs": [
    {
     "name": "stdout",
     "output_type": "stream",
     "text": [
      "['', 'y, Boy oh boy, come here']\n",
      "['A', 'y, Boy oh ', 'oy, ', 'om', ' h', 'r', '']\n"
     ]
    }
   ],
   "source": [
    "# 'Boy' and 'boy' will be treated same when\n",
    "# flags = re.IGNORECASE\n",
    "print(re.split('[a-f]+', 'Aey, Boy oh boy, come here', 1,flags=re.IGNORECASE))\n",
    "print(re.split('[a-f]+', 'Aey, Boy oh boy, come here'))"
   ]
  },
  {
   "cell_type": "markdown",
   "id": "d1f214c8",
   "metadata": {},
   "source": [
    "## re.sub"
   ]
  },
  {
   "cell_type": "code",
   "execution_count": 21,
   "id": "6a2005fe",
   "metadata": {},
   "outputs": [
    {
     "name": "stdout",
     "output_type": "stream",
     "text": [
      "S~*ject has ~*er booked already\n",
      "S~*ject has Uber booked already\n",
      "S~*ject has Uber booked already\n",
      "Baked Beans & Spam\n"
     ]
    }
   ],
   "source": [
    "import re\n",
    " \n",
    "# Regular Expression pattern 'ub' matches the\n",
    "# string at \"Subject\" and \"Uber\". As the CASE\n",
    "# has been ignored, using Flag, 'ub' should\n",
    "# match twice with the string Upon matching,\n",
    "# 'ub' is replaced by '~*' in \"Subject\", and\n",
    "# in \"Uber\", 'Ub' is replaced.\n",
    "print(re.sub('ub', '~*', 'Subject has Uber booked already',\n",
    "             flags=re.IGNORECASE))\n",
    " \n",
    "# Consider the Case Sensitivity, 'Ub' in\n",
    "# \"Uber\", will not be replaced.\n",
    "print(re.sub('ub', '~*', 'Subject has Uber booked already'))\n",
    " \n",
    "# As count has been given value 1, the maximum\n",
    "# times replacement occurs is 1\n",
    "print(re.sub('ub', '~*', 'Subject has Uber booked already',\n",
    "             count=1, flags=re.IGNORECASE))\n",
    " \n",
    "# 'r' before the pattern denotes RE, \\s is for\n",
    "# start and end of a String.\n",
    "print(re.sub(r'\\sAND\\s', ' & ', 'Baked Beans And Spam',\n",
    "             flags=re.IGNORECASE))"
   ]
  },
  {
   "cell_type": "code",
   "execution_count": 30,
   "id": "538b3483",
   "metadata": {},
   "outputs": [
    {
     "name": "stdout",
     "output_type": "stream",
     "text": [
      "This is a test\n"
     ]
    }
   ],
   "source": [
    "import re\n",
    "text = \"This   is  a   test\"\n",
    "result = re.sub(r\"\\s+\", \" \", text)\n",
    "print(result)  # Output: \"This is a test\""
   ]
  },
  {
   "cell_type": "markdown",
   "id": "6da883fb",
   "metadata": {},
   "source": [
    "## re.match"
   ]
  },
  {
   "cell_type": "code",
   "execution_count": 22,
   "id": "500a4655",
   "metadata": {},
   "outputs": [
    {
     "name": "stdout",
     "output_type": "stream",
     "text": [
      "True\n"
     ]
    }
   ],
   "source": [
    "''' Some more examples....'''\n",
    "\n",
    "import re\n",
    "myString = \"Hello World!\"\n",
    "\n",
    "pattern = r\"^H.*!$\"\n",
    "\n",
    "result = re.match(pattern,myString)\n",
    "\n",
    "print(bool(result))"
   ]
  },
  {
   "cell_type": "code",
   "execution_count": 24,
   "id": "97ee60c4",
   "metadata": {},
   "outputs": [
    {
     "name": "stdout",
     "output_type": "stream",
     "text": [
      "True\n"
     ]
    }
   ],
   "source": [
    "import re\n",
    "email = \"example@test.com\"\n",
    "\n",
    "pattern = r\"^[a-zA-Z0-9$%._+-]+@[a-zA-Z0-9.-]+\\.[a-zA-Z]{2,}$\"\n",
    "# pattern = r\"^[a-zA-Z0-9._%+-]+@[a-zA-Z0-9.-]+\\.[a-zA-Z]{2,}$\"\n",
    "\n",
    "print(bool(re.match(pattern, email)))"
   ]
  },
  {
   "cell_type": "code",
   "execution_count": 25,
   "id": "e3fa737a",
   "metadata": {},
   "outputs": [
    {
     "name": "stdout",
     "output_type": "stream",
     "text": [
      "True\n"
     ]
    }
   ],
   "source": [
    "import re\n",
    "phone = \"987-123-4567\"\n",
    "pattern = r\"^\\d{3}-\\d{3}-\\d{4}$\"\n",
    "result = bool(re.match(pattern, phone))\n",
    "print(result)  # Output: True"
   ]
  },
  {
   "cell_type": "code",
   "execution_count": 26,
   "id": "abf900fd",
   "metadata": {},
   "outputs": [
    {
     "name": "stdout",
     "output_type": "stream",
     "text": [
      "True\n"
     ]
    }
   ],
   "source": [
    "import re\n",
    "password = \"Pass@123\"\n",
    "\n",
    "pattern = r\"^(?=.*[a-z])(?=.*[A-Z])(?=.*[0-9])(?=.*[!@#$%&*-_])[A-Za-z\\d!@#$%&*-_]{8,}\"\n",
    "\n",
    "print(bool(re.match(pattern,password)))"
   ]
  },
  {
   "cell_type": "markdown",
   "id": "2214956a",
   "metadata": {},
   "source": [
    "# *args"
   ]
  },
  {
   "cell_type": "code",
   "execution_count": 40,
   "id": "ce04cb0f",
   "metadata": {},
   "outputs": [
    {
     "name": "stdout",
     "output_type": "stream",
     "text": [
      "10\n",
      "-10\n",
      "10\n"
     ]
    }
   ],
   "source": [
    "def biggest_number(*args):     # to pass many argument\n",
    "    print(max(args))\n",
    "   \n",
    "    \n",
    "def smallest_number(*args):\n",
    "    print(min(args))\n",
    "   \n",
    "\n",
    "def distance_from_zero(arg):\n",
    "    print(abs(arg))\n",
    "   \n",
    "\n",
    "biggest_number(-10, -5, 5, 10)\n",
    "smallest_number(-10, -5, 5, 10)\n",
    "distance_from_zero(-10)"
   ]
  },
  {
   "cell_type": "markdown",
   "id": "7d86a70b",
   "metadata": {},
   "source": [
    "# Miscelleneous"
   ]
  },
  {
   "cell_type": "code",
   "execution_count": 33,
   "id": "75e0ac12",
   "metadata": {},
   "outputs": [
    {
     "name": "stdout",
     "output_type": "stream",
     "text": [
      "1\n",
      "2\n",
      "3\n"
     ]
    }
   ],
   "source": [
    "# Iter and next \n",
    "num = [1,2,3]\n",
    "\n",
    "i_nums = iter(num)\n",
    "\n",
    "print(next(i_nums))\n",
    "print(next(i_nums))\n",
    "print(next(i_nums))"
   ]
  },
  {
   "cell_type": "code",
   "execution_count": 41,
   "id": "07e832f4",
   "metadata": {},
   "outputs": [
    {
     "name": "stdout",
     "output_type": "stream",
     "text": [
      "(5, 6) "
     ]
    }
   ],
   "source": [
    "# usage of map and print the output in same line\n",
    "import itertools\n",
    "\n",
    "# A = [1, 2]\n",
    "# B = [3, 4]\n",
    "A = map(int, input().split())    ## take the input and map into integer\n",
    "B = map(int, input().split())\n",
    "result = itertools.product(A,B)\n",
    "\n",
    "for item in result:\n",
    "    print(item, end=\" \") # print the output in the same line separated with comma, by default end will have '\\n' i.e., end ='\\n'"
   ]
  },
  {
   "cell_type": "code",
   "execution_count": 43,
   "id": "efe803be",
   "metadata": {},
   "outputs": [
    {
     "name": "stdout",
     "output_type": "stream",
     "text": [
      "Your choices are:\n",
      "1 pizza\n",
      "2 pasta\n",
      "3 salad\n",
      "4 nachos\n"
     ]
    }
   ],
   "source": [
    "\"\"\" enumerate works by supplying a corresponding index to each element in the list \n",
    "that you pass it. Each time you go through the loop, index will be one greater, \n",
    "and item will be the next item in the sequence. It's very similar to using a normal for\n",
    " loop with a list, except this gives us an easy way to count how many items we've seen \n",
    " so far. \"\"\"\n",
    " \n",
    "choices = ['pizza', 'pasta', 'salad', 'nachos']\n",
    "\n",
    "print('Your choices are:')\n",
    "for index, item in enumerate(choices):   # enumerate prints with index. \n",
    "    print(index+1, item)\n",
    "\n",
    "# Each time you go through the loop, index will be one greater, \n",
    "# and item will be the next item in the sequence"
   ]
  },
  {
   "cell_type": "markdown",
   "id": "008e5393",
   "metadata": {},
   "source": [
    "# import os"
   ]
  },
  {
   "cell_type": "code",
   "execution_count": 44,
   "id": "05585985",
   "metadata": {},
   "outputs": [
    {
     "data": {
      "text/plain": [
       "environ{'ALLUSERSPROFILE': 'C:\\\\ProgramData',\n",
       "        'APPDATA': 'C:\\\\Users\\\\Ramesh\\\\AppData\\\\Roaming',\n",
       "        'CHROME_CRASHPAD_PIPE_NAME': '\\\\\\\\.\\\\pipe\\\\crashpad_7540_DLZSLPDNSDWFDJHM',\n",
       "        'COMMONPROGRAMFILES': 'C:\\\\Program Files\\\\Common Files',\n",
       "        'COMMONPROGRAMFILES(X86)': 'C:\\\\Program Files (x86)\\\\Common Files',\n",
       "        'COMMONPROGRAMW6432': 'C:\\\\Program Files\\\\Common Files',\n",
       "        'COMPUTERNAME': 'KISHORE',\n",
       "        'COMSPEC': 'C:\\\\WINDOWS\\\\system32\\\\cmd.exe',\n",
       "        'DRIVERDATA': 'C:\\\\Windows\\\\System32\\\\Drivers\\\\DriverData',\n",
       "        'EFC_11236': '1',\n",
       "        'ELECTRON_RUN_AS_NODE': '1',\n",
       "        'HOMEDRIVE': 'C:',\n",
       "        'HOMEPATH': '\\\\Users\\\\Ramesh',\n",
       "        'IGCCSVC_DB': 'AQAAANCMnd8BFdERjHoAwE/Cl+sBAAAAvWXWnF5V50m/a4qoI866jAQAAAACAAAAAAAQZgAAAAEAACAAAAB7YBSjcpTr6XPGi9BuNe1HLSTXR+/bQOaZAvngf/VZ7wAAAAAOgAAAAAIAACAAAACsCmdQoFshAWAD8i01qZK+UrU+YhBRhvKLfOsSbG9MymAAAAAaMz6Y6vCS/zS5yM+GQBKRfgsJ3OM5ciLZimTR3Sz+RLB4bTjXRP0Fv4rGKb2DkmZynwOCbBpx9gOo737FqUIjGUxKJ7TeFhW6j4feeheStUQHueDwhwowD+FKiUZnL2BAAAAAqHzff4qeddPWa6U+fS5uP2IGH6hudqnNnzP6WBJRV7ibEk2bGhgCekY8zyyOFXPM34IQgQ3Bq3TJHUspOaHplQ==',\n",
       "        'JPY_INTERRUPT_EVENT': '156',\n",
       "        'LOCALAPPDATA': 'C:\\\\Users\\\\Ramesh\\\\AppData\\\\Local',\n",
       "        'LOGONSERVER': '\\\\\\\\KISHORE',\n",
       "        'NUMBER_OF_PROCESSORS': '12',\n",
       "        'ONEDRIVE': 'C:\\\\Users\\\\Ramesh\\\\OneDrive',\n",
       "        'ONEDRIVECONSUMER': 'C:\\\\Users\\\\Ramesh\\\\OneDrive',\n",
       "        'ONLINESERVICES': 'Online Services',\n",
       "        'ORIGINAL_XDG_CURRENT_DESKTOP': 'undefined',\n",
       "        'OS': 'Windows_NT',\n",
       "        'PATH': 'c:\\\\Users\\\\Ramesh\\\\AppData\\\\Local\\\\Microsoft\\\\WindowsApps;c:\\\\Users\\\\Ramesh\\\\AppData\\\\Local\\\\Packages\\\\PythonSoftwareFoundation.Python.3.10_qbz5n2kfra8p0\\\\LocalCache\\\\local-packages\\\\Python310\\\\Scripts;C:\\\\WINDOWS\\\\system32;C:\\\\WINDOWS;C:\\\\WINDOWS\\\\System32\\\\Wbem;C:\\\\WINDOWS\\\\System32\\\\WindowsPowerShell\\\\v1.0\\\\;C:\\\\WINDOWS\\\\System32\\\\OpenSSH\\\\;C:\\\\Program Files\\\\dotnet\\\\;C:\\\\Program Files\\\\HP\\\\HP One Agent;C:\\\\Program Files\\\\Docker\\\\Docker\\\\resources\\\\bin;C:\\\\WINDOWS\\\\system32;C:\\\\WINDOWS;C:\\\\WINDOWS\\\\System32\\\\Wbem;C:\\\\WINDOWS\\\\System32\\\\WindowsPowerShell\\\\v1.0\\\\;C:\\\\WINDOWS\\\\System32\\\\OpenSSH\\\\;C:\\\\Program Files\\\\Git\\\\cmd;C:\\\\windows\\\\system32;C:\\\\windows;C:\\\\windows\\\\System32\\\\Wbem;C:\\\\windows\\\\System32\\\\WindowsPowerShell\\\\v1.0\\\\;C:\\\\windows\\\\System32\\\\OpenSSH\\\\;C:\\\\Program Files\\\\dotnet\\\\;C:\\\\Users\\\\Ramesh\\\\AppData\\\\Local\\\\Packages\\\\PythonSoftwareFoundation.Python.3.10_qbz5n2kfra8p0\\\\LocalCache\\\\local-packages\\\\Python310\\\\Scripts;C:\\\\Users\\\\Ramesh\\\\AppData\\\\Local\\\\Microsoft\\\\WindowsApps;C:\\\\Users\\\\Ramesh\\\\AppData\\\\Local\\\\Turbo\\\\Cmd\\\\;C:\\\\Users\\\\Ramesh\\\\AppData\\\\Local\\\\Microsoft\\\\WindowsApps;;C:\\\\Users\\\\Ramesh\\\\AppData\\\\Local\\\\Programs\\\\Ollama;C:\\\\Users\\\\Ramesh\\\\AppData\\\\Local\\\\Programs\\\\Microsoft VS Code\\\\bin;C:\\\\WINDOWS\\\\system32;C:\\\\WINDOWS;C:\\\\WINDOWS\\\\System32\\\\Wbem;C:\\\\WINDOWS\\\\System32\\\\WindowsPowerShell\\\\v1.0\\\\;C:\\\\WINDOWS\\\\System32\\\\OpenSSH\\\\;C:\\\\Program Files\\\\dotnet\\\\;C:\\\\Program Files\\\\HP\\\\HP One Agent;C:\\\\Program Files\\\\Docker\\\\Docker\\\\resources\\\\bin;C:\\\\WINDOWS\\\\system32;C:\\\\WINDOWS;C:\\\\WINDOWS\\\\System32\\\\Wbem;C:\\\\WINDOWS\\\\System32\\\\WindowsPowerShell\\\\v1.0\\\\;C:\\\\WINDOWS\\\\System32\\\\OpenSSH\\\\;C:\\\\Program Files\\\\Git\\\\cmd;C:\\\\windows\\\\system32;C:\\\\windows;C:\\\\windows\\\\System32\\\\Wbem;C:\\\\windows\\\\System32\\\\WindowsPowerShell\\\\v1.0\\\\;C:\\\\windows\\\\System32\\\\OpenSSH\\\\;C:\\\\Program Files\\\\dotnet\\\\;C:\\\\Users\\\\Ramesh\\\\AppData\\\\Local\\\\Packages\\\\PythonSoftwareFoundation.Python.3.10_qbz5n2kfra8p0\\\\LocalCache\\\\local-packages\\\\Python310\\\\Scripts;C:\\\\Users\\\\Ramesh\\\\AppData\\\\Local\\\\Microsoft\\\\WindowsApps;C:\\\\Users\\\\Ramesh\\\\AppData\\\\Local\\\\Turbo\\\\Cmd\\\\;C:\\\\Users\\\\Ramesh\\\\AppData\\\\Local\\\\Microsoft\\\\WindowsApps;;C:\\\\Users\\\\Ramesh\\\\AppData\\\\Local\\\\Programs\\\\Ollama;C:\\\\Users\\\\Ramesh\\\\AppData\\\\Local\\\\Programs\\\\Microsoft VS Code\\\\bin',\n",
       "        'PATHEXT': '.COM;.EXE;.BAT;.CMD;.VBS;.VBE;.JS;.JSE;.WSF;.WSH;.MSC',\n",
       "        'PLATFORMCODE': 'KV',\n",
       "        'PROCESSOR_ARCHITECTURE': 'AMD64',\n",
       "        'PROCESSOR_IDENTIFIER': 'Intel64 Family 6 Model 154 Stepping 4, GenuineIntel',\n",
       "        'PROCESSOR_LEVEL': '6',\n",
       "        'PROCESSOR_REVISION': '9a04',\n",
       "        'PROGRAMDATA': 'C:\\\\ProgramData',\n",
       "        'PROGRAMFILES': 'C:\\\\Program Files',\n",
       "        'PROGRAMFILES(X86)': 'C:\\\\Program Files (x86)',\n",
       "        'PROGRAMW6432': 'C:\\\\Program Files',\n",
       "        'PSMODULEPATH': 'C:\\\\Program Files\\\\WindowsPowerShell\\\\Modules;C:\\\\WINDOWS\\\\system32\\\\WindowsPowerShell\\\\v1.0\\\\Modules',\n",
       "        'PUBLIC': 'C:\\\\Users\\\\Public',\n",
       "        'PYDEVD_IPYTHON_COMPATIBLE_DEBUGGING': '1',\n",
       "        'PYTHONIOENCODING': 'utf-8',\n",
       "        'PYTHONUNBUFFERED': '1',\n",
       "        'PYTHON_FROZEN_MODULES': 'on',\n",
       "        'REGIONCODE': 'APJ',\n",
       "        'SESSIONNAME': 'Console',\n",
       "        'SYSTEMDRIVE': 'C:',\n",
       "        'SYSTEMROOT': 'C:\\\\WINDOWS',\n",
       "        'TEMP': 'C:\\\\Users\\\\Ramesh\\\\AppData\\\\Local\\\\Temp',\n",
       "        'TMP': 'C:\\\\Users\\\\Ramesh\\\\AppData\\\\Local\\\\Temp',\n",
       "        'USERDOMAIN': 'kishore',\n",
       "        'USERDOMAIN_ROAMINGPROFILE': 'kishore',\n",
       "        'USERNAME': 'Ramesh',\n",
       "        'USERPROFILE': 'C:\\\\Users\\\\Ramesh',\n",
       "        'VBOX_MSI_INSTALL_PATH': 'C:\\\\Program Files\\\\Oracle\\\\VirtualBox\\\\',\n",
       "        'VSCODE_CODE_CACHE_PATH': 'C:\\\\Users\\\\Ramesh\\\\AppData\\\\Roaming\\\\Code\\\\CachedData\\\\fabdb6a30b49f79a7aba0f2ad9df9b399473380f',\n",
       "        'VSCODE_CRASH_REPORTER_PROCESS_TYPE': 'extensionHost',\n",
       "        'VSCODE_CWD': 'C:\\\\Users\\\\Ramesh\\\\AppData\\\\Local\\\\Programs\\\\Microsoft VS Code',\n",
       "        'VSCODE_ESM_ENTRYPOINT': 'vs/workbench/api/node/extensionHostProcess',\n",
       "        'VSCODE_HANDLES_UNCAUGHT_ERRORS': 'true',\n",
       "        'VSCODE_IPC_HOOK': '\\\\\\\\.\\\\pipe\\\\108fe8c4-1.96.2-main-sock',\n",
       "        'VSCODE_L10N_BUNDLE_LOCATION': '',\n",
       "        'VSCODE_NLS_CONFIG': '{\"userLocale\":\"en-us\",\"osLocale\":\"en-in\",\"resolvedLanguage\":\"en\",\"defaultMessagesFile\":\"C:\\\\\\\\Users\\\\\\\\Ramesh\\\\\\\\AppData\\\\\\\\Local\\\\\\\\Programs\\\\\\\\Microsoft VS Code\\\\\\\\resources\\\\\\\\app\\\\\\\\out\\\\\\\\nls.messages.json\",\"locale\":\"en-us\",\"availableLanguages\":{}}',\n",
       "        'VSCODE_PID': '7540',\n",
       "        'WINDIR': 'C:\\\\WINDOWS',\n",
       "        'ZES_ENABLE_SYSMAN': '1',\n",
       "        'PYTHONUSERBASE': 'C:\\\\Users\\\\Ramesh\\\\AppData\\\\Local\\\\Packages\\\\PythonSoftwareFoundation.Python.3.10_qbz5n2kfra8p0\\\\LocalCache\\\\local-packages',\n",
       "        'PYDEVD_USE_FRAME_EVAL': 'NO',\n",
       "        'TERM': 'xterm-color',\n",
       "        'CLICOLOR': '1',\n",
       "        'PAGER': 'cat',\n",
       "        'GIT_PAGER': 'cat',\n",
       "        'MPLBACKEND': 'module://matplotlib_inline.backend_inline'}"
      ]
     },
     "execution_count": 44,
     "metadata": {},
     "output_type": "execute_result"
    }
   ],
   "source": [
    "# https://python101.pythonlibrary.org/chapter16_os.html\n",
    "import os\n",
    "os.environ"
   ]
  },
  {
   "cell_type": "code",
   "execution_count": 45,
   "id": "d2e5c886",
   "metadata": {},
   "outputs": [
    {
     "data": {
      "text/plain": [
       "'C:\\\\Users\\\\Ramesh\\\\AppData\\\\Local\\\\Temp'"
      ]
     },
     "execution_count": 45,
     "metadata": {},
     "output_type": "execute_result"
    }
   ],
   "source": [
    "os.environ[\"TMP\"]"
   ]
  },
  {
   "cell_type": "code",
   "execution_count": 46,
   "id": "5ec826fc",
   "metadata": {},
   "outputs": [
    {
     "data": {
      "text/plain": [
       "'C:\\\\Users\\\\Ramesh\\\\AppData\\\\Local\\\\Temp'"
      ]
     },
     "execution_count": 46,
     "metadata": {},
     "output_type": "execute_result"
    }
   ],
   "source": [
    "os.getenv(\"TMP\")"
   ]
  },
  {
   "cell_type": "code",
   "execution_count": 51,
   "id": "021737ff",
   "metadata": {},
   "outputs": [],
   "source": [
    "'''\"\"\"\n",
    "The benefit of using os.getenv() instead of the os.environ dictionary is that if you happen to try to access an environmental \n",
    "variable that doesn’t exist, the getenv function will just return None.\n",
    "If you did the same thing with os.environ, you would receive an error. \"\"\"'''\n",
    "os.getenv(\"Chumma\")\n",
    "\n",
    "## No error returned"
   ]
  },
  {
   "cell_type": "code",
   "execution_count": 52,
   "id": "ab2bff53",
   "metadata": {},
   "outputs": [
    {
     "data": {
      "text/plain": [
       "'d:\\\\Docs\\\\scripting\\\\python-jupyter-notes\\\\OneDrive - Mavenir Ltd\\\\.ipynb_checkpoints'"
      ]
     },
     "execution_count": 52,
     "metadata": {},
     "output_type": "execute_result"
    }
   ],
   "source": [
    "os.getcwd()"
   ]
  },
  {
   "cell_type": "code",
   "execution_count": 56,
   "id": "929f72d0",
   "metadata": {},
   "outputs": [
    {
     "data": {
      "text/plain": [
       "'D:\\\\Docs\\\\scripting'"
      ]
     },
     "execution_count": 56,
     "metadata": {},
     "output_type": "execute_result"
    }
   ],
   "source": [
    "os.chdir(r\"D:\\Docs\\scripting\")\n",
    "os.getcwd()"
   ]
  },
  {
   "cell_type": "code",
   "execution_count": 58,
   "id": "41be1b26",
   "metadata": {},
   "outputs": [],
   "source": [
    "os.chdir(r\"C:\\Users\\Ramesh\\Desktop\\temp-new\")\n",
    "os.mkdir(\"new-folder-create\")"
   ]
  },
  {
   "cell_type": "code",
   "execution_count": 59,
   "id": "7bef5a34",
   "metadata": {},
   "outputs": [],
   "source": [
    "\"\"\"The os.makedirs() function will create all the intermediate folders in a path if they don’t already exist. \n",
    "Basically this means that you can create a path that has nested folders in it. \n",
    "Let’s look at an example:\"\"\"\n",
    "\n",
    "path = r\"C:\\Users\\Ramesh\\Desktop\\temp-new\\pytest\\2021\\12\\08\\11\"\n",
    "os.makedirs(path)\n",
    "\n",
    "# folder got created - C:\\Users\\rsundaram\\Desktop\\temp-folder\\pytest\\2021\\12\\08\\11"
   ]
  },
  {
   "cell_type": "code",
   "execution_count": null,
   "id": "64f64fca",
   "metadata": {},
   "outputs": [],
   "source": [
    "\"\"\"\n",
    "os.remove() and os.rmdir() - The os.remove() and os.rmdir() functions are used for deleting files and directories respectively.\n",
    "\n",
    "os.removedirs() which can remove nested empty directories recursively.\n",
    "\n",
    "os.rename(src, dst) - ex: os.rename(\"test.txt\", \"pytest.txt\")\n",
    "\n",
    "os.startfile() - method allows us to “start” a file with its associated program. In other words, we can open a file with it’s associated program, just like when you double-click a PDF and it opens in Adobe Reader. Let’s give it a try!\n",
    ">>> os.startfile(r'C:\\Users\\mike\\Documents\\labels.pdf')\n",
    "\"\"\""
   ]
  },
  {
   "cell_type": "code",
   "execution_count": 61,
   "id": "911c518a",
   "metadata": {},
   "outputs": [
    {
     "name": "stdout",
     "output_type": "stream",
     "text": [
      "C:\\Users\\Ramesh\\Desktop\\temp-new\n",
      "C:\\Users\\Ramesh\\Desktop\\temp-new\\new-folder-create\n",
      "C:\\Users\\Ramesh\\Desktop\\temp-new\\pytest\n",
      "C:\\Users\\Ramesh\\Desktop\\temp-new\\pytest\\2021\n",
      "C:\\Users\\Ramesh\\Desktop\\temp-new\\pytest\\2021\\12\n",
      "C:\\Users\\Ramesh\\Desktop\\temp-new\\pytest\\2021\\12\\08\n",
      "C:\\Users\\Ramesh\\Desktop\\temp-new\\pytest\\2021\\12\\08\\11\n"
     ]
    }
   ],
   "source": [
    "# os.walk\n",
    "\n",
    "path = r\"C:\\Users\\Ramesh\\Desktop\\temp-new\"\n",
    "\n",
    "for root, dirs, files in os.walk(path):\n",
    "    print(root)"
   ]
  },
  {
   "cell_type": "code",
   "execution_count": 67,
   "id": "61568c29",
   "metadata": {},
   "outputs": [
    {
     "name": "stdout",
     "output_type": "stream",
     "text": [
      "Total number of pcap files in the given directory : 0\n"
     ]
    }
   ],
   "source": [
    "''' Program to find number of files in the given directory....Asked in plivo'''\n",
    "import os\n",
    "count = 0\n",
    "path = r'C:\\Users\\Ramesh\\Desktop\\temp-new'\n",
    "for files in os.walk(path):\n",
    "    for item in files[-1]:\n",
    "        # print(item)\n",
    "        if item.split('.')[-1] == \"pcap\":\n",
    "            # print(item)\n",
    "            count += 1\n",
    "print('Total number of pcap files in the given directory :', count)"
   ]
  },
  {
   "cell_type": "code",
   "execution_count": 68,
   "id": "7ab846fc",
   "metadata": {},
   "outputs": [
    {
     "name": "stdout",
     "output_type": "stream",
     "text": [
      "C:\\Users\\Ramesh\\Desktop\\temp-new\n",
      "new-folder-create\n",
      "pytest\n",
      "C:\\Users\\Ramesh\\Desktop\\temp-new\\new-folder-create\n",
      "C:\\Users\\Ramesh\\Desktop\\temp-new\\pytest\n",
      "2021\n",
      "C:\\Users\\Ramesh\\Desktop\\temp-new\\pytest\\2021\n",
      "12\n",
      "C:\\Users\\Ramesh\\Desktop\\temp-new\\pytest\\2021\\12\n",
      "08\n",
      "C:\\Users\\Ramesh\\Desktop\\temp-new\\pytest\\2021\\12\\08\n",
      "11\n",
      "C:\\Users\\Ramesh\\Desktop\\temp-new\\pytest\\2021\\12\\08\\11\n",
      "New Text Document (2).txt\n",
      "New Text Document (3).txt\n",
      "New Text Document.txt\n"
     ]
    }
   ],
   "source": [
    "path = r\"C:\\Users\\Ramesh\\Desktop\\temp-new\"\n",
    "\n",
    "for root, dirs, files in os.walk(path):\n",
    "    print(root)\n",
    "    for _dir in dirs:\n",
    "        print(_dir)\n",
    "    for _file in files:\n",
    "        print(_file)"
   ]
  },
  {
   "cell_type": "code",
   "execution_count": 69,
   "id": "f0822b21",
   "metadata": {},
   "outputs": [
    {
     "data": {
      "text/plain": [
       "'logfile.txt.txt'"
      ]
     },
     "execution_count": 69,
     "metadata": {},
     "output_type": "execute_result"
    }
   ],
   "source": [
    "# The basename function will return just the filename of a path.\n",
    "os.path.basename(r'C:\\Users\\rsundaram\\Desktop\\temp-folder\\pytest\\2021\\12\\08\\11\\logfile.txt.txt')"
   ]
  },
  {
   "cell_type": "code",
   "execution_count": 73,
   "id": "713d1600",
   "metadata": {},
   "outputs": [
    {
     "data": {
      "text/plain": [
       "'C:\\\\Users\\\\rsundaram\\\\Desktop\\\\temp-folder\\\\pytest\\\\2021\\\\12\\\\08\\\\11'"
      ]
     },
     "execution_count": 73,
     "metadata": {},
     "output_type": "execute_result"
    }
   ],
   "source": [
    "\"\"\"The dirname function will return just the directory portion of the path. \n",
    "It’s easier to understand if we take a look at some code \"\"\"\n",
    "\n",
    "'''\"\"\"In this example, we just get the directory path back. \n",
    "This is also useful when you want to store other files next to the file you’re processing, like the aforementioned log file.\n",
    "\"\"\"'''\n",
    "os.path.dirname(r'C:\\Users\\rsundaram\\Desktop\\temp-folder\\pytest\\2021\\12\\08\\11\\logfile.txt.txt')\n",
    "\n"
   ]
  },
  {
   "cell_type": "code",
   "execution_count": null,
   "id": "e96f19ed",
   "metadata": {},
   "outputs": [],
   "source": [
    "# The exists function will tell you if a path exists or not. All you have to do is pass it a path.\n",
    "os.path.exists(r'C:\\Python27\\Tools\\pynche\\fake.py')"
   ]
  },
  {
   "cell_type": "code",
   "execution_count": 74,
   "id": "fd6a0f50",
   "metadata": {},
   "outputs": [
    {
     "name": "stdout",
     "output_type": "stream",
     "text": [
      "C:\\Users\\rsundaram\\Desktop\\temp-folder\\pytest\\2021\\12\\08\\11\n",
      "logfile.txt.txt\n"
     ]
    }
   ],
   "source": [
    "# os.path.split  - splitting the directory and path separately\n",
    "dirname, fname = os.path.split(r'C:\\Users\\rsundaram\\Desktop\\temp-folder\\pytest\\2021\\12\\08\\11\\logfile.txt.txt')\n",
    "print(dirname)\n",
    "print(fname)"
   ]
  },
  {
   "cell_type": "markdown",
   "id": "9847ad2f",
   "metadata": {},
   "source": [
    "# logging"
   ]
  },
  {
   "cell_type": "code",
   "execution_count": 94,
   "id": "1b81e68b",
   "metadata": {},
   "outputs": [
    {
     "name": "stderr",
     "output_type": "stream",
     "text": [
      "WARNING:root:This is a warning message\n",
      "ERROR:root:This is an error message\n",
      "CRITICAL:root:This is a critical message\n"
     ]
    }
   ],
   "source": [
    "import logging\n",
    "\n",
    "logging.debug('This is a debug message')\n",
    "logging.info('This is an info message')\n",
    "logging.warning('This is a warning message')\n",
    "logging.error('This is an error message')\n",
    "logging.critical('This is a critical message')"
   ]
  }
 ],
 "metadata": {
  "kernelspec": {
   "display_name": "Python 3",
   "language": "python",
   "name": "python3"
  },
  "language_info": {
   "codemirror_mode": {
    "name": "ipython",
    "version": 3
   },
   "file_extension": ".py",
   "mimetype": "text/x-python",
   "name": "python",
   "nbconvert_exporter": "python",
   "pygments_lexer": "ipython3",
   "version": "3.10.11"
  }
 },
 "nbformat": 4,
 "nbformat_minor": 5
}
